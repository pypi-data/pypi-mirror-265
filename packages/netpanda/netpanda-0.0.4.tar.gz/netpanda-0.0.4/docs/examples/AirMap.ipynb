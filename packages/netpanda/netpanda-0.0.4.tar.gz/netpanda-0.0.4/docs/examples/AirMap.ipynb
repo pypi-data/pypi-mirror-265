{
 "cells": [
  {
   "cell_type": "markdown",
   "metadata": {},
   "source": [
    "[![image](https://colab.research.google.com/assets/colab-badge.svg)](https://colab.research.google.com/github/OmiimO05/netpanda/blob/main/docs/examples/AirMap.ipynb)"
   ]
  },
  {
   "cell_type": "code",
   "execution_count": 1,
   "metadata": {},
   "outputs": [],
   "source": [
    "from netpanda import AirplaneRouteMap"
   ]
  },
  {
   "cell_type": "code",
   "execution_count": 10,
   "metadata": {},
   "outputs": [
    {
     "data": {
      "application/vnd.jupyter.widget-view+json": {
       "model_id": "bb9dd0cd22c749efab70c3de45ff6de6",
       "version_major": 2,
       "version_minor": 0
      },
      "text/plain": [
       "AirplaneRouteMap(center=[35.0, -84.0], controls=(ZoomControl(options=['position', 'zoom_in_text', 'zoom_in_tit…"
      ]
     },
     "metadata": {},
     "output_type": "display_data"
    }
   ],
   "source": [
    "m = AirplaneRouteMap(center=[35.0, -84.0], zoom=5)\n",
    "m.add_route(start=[35.9633, -83.9267], end=[33.7490, -84.3880], color=\"red\", weight=3) \n",
    "m.add_marker([35.9633, -83.9267], \"Knoxville\")\n",
    "m.add_marker([33.7490, -84.3880], \"Atlanta\")\n",
    "m.draw_routes()\n",
    "m "
   ]
  }
 ],
 "metadata": {
  "kernelspec": {
   "display_name": "geo",
   "language": "python",
   "name": "geo"
  },
  "language_info": {
   "codemirror_mode": {
    "name": "ipython",
    "version": 3
   },
   "file_extension": ".py",
   "mimetype": "text/x-python",
   "name": "python",
   "nbconvert_exporter": "python",
   "pygments_lexer": "ipython3",
   "version": "3.11.7"
  }
 },
 "nbformat": 4,
 "nbformat_minor": 2
}
