{
 "cells": [
  {
   "attachments": {},
   "cell_type": "markdown",
   "id": "0",
   "metadata": {},
   "source": [
    "# Lab-4\n",
    "\n",
    "[![image](https://colab.research.google.com/assets/colab-badge.svg)](https://colab.research.google.com/github/OmIImO05/netpanda/blob/main/docs/Labs/lab4.ipynb)\n"
   ]
  },
  {
   "cell_type": "code",
   "execution_count": 1,
   "id": "1",
   "metadata": {},
   "outputs": [
    {
     "name": "stdout",
     "output_type": "stream",
     "text": [
      "Submitted time: 2024-03-07 21:23:51.001050\n"
     ]
    }
   ],
   "source": [
    "from datetime import datetime\n",
    "\n",
    "now = datetime.now()\n",
    "print(f\"Submitted time: {now}\")"
   ]
  },
  {
   "cell_type": "markdown",
   "id": "2",
   "metadata": {},
   "source": [
    "## Question 1\n",
    "\n",
    "**Personal Message:** Use a variable to represent a person’s name, and print a message to that person. Your message should be simple, such as, “Hello Eric, would you like to learn some Python today?”"
   ]
  },
  {
   "cell_type": "code",
   "execution_count": 2,
   "id": "3",
   "metadata": {},
   "outputs": [
    {
     "name": "stdout",
     "output_type": "stream",
     "text": [
      "Hello Bekub, you have no future.\n"
     ]
    }
   ],
   "source": [
    "person_name = \"Bekub\"\n",
    "print(f\"Hello {person_name}, you have no future.\")"
   ]
  },
  {
   "cell_type": "markdown",
   "id": "4",
   "metadata": {},
   "source": [
    "## Question 2\n",
    "\n",
    "**Name Cases:** Use a variable to represent a person’s name, and then print that person’s name in lowercase, uppercase, and title case."
   ]
  },
  {
   "cell_type": "code",
   "execution_count": 3,
   "id": "5",
   "metadata": {},
   "outputs": [
    {
     "name": "stdout",
     "output_type": "stream",
     "text": [
      "Lowercase: codliver shakib\n",
      "Uppercase: CODLIVER SHAKIB\n",
      "Title Case: Codliver Shakib\n"
     ]
    }
   ],
   "source": [
    "person_name = \"Codliver Shakib\"\n",
    "print(f\"Lowercase: {person_name.lower()}\")\n",
    "print(f\"Uppercase: {person_name.upper()}\")\n",
    "print(f\"Title Case: {person_name.title()}\")"
   ]
  },
  {
   "cell_type": "markdown",
   "id": "6",
   "metadata": {},
   "source": [
    "## Question 3\n",
    "\n",
    "**Famous Quote:** Find a quote from a famous person you admire. Print the quote and the name of its author. Your output should look something like the following, including the quotation marks:\n",
    "\n",
    "```\n",
    "Albert Einstein once said, “A person who never made a mistake never tried anything new.”\n",
    "```"
   ]
  },
  {
   "cell_type": "code",
   "execution_count": 4,
   "id": "7",
   "metadata": {},
   "outputs": [
    {
     "name": "stdout",
     "output_type": "stream",
     "text": [
      "Professor Snape replied to Professor Dumbledor question as, \"After all these time? Always\"\n"
     ]
    }
   ],
   "source": [
    "Professor_Snape = \"After all these time? Always\"\n",
    "print(f\"Professor Snape replied to Professor Dumbledor question as, \\\"{Professor_Snape}\\\"\")"
   ]
  },
  {
   "cell_type": "markdown",
   "id": "8",
   "metadata": {},
   "source": [
    "## Question 4\n",
    "\n",
    "**Stripping Names:** Use a variable to represent a person’s name, and include some whitespace characters at the beginning and end of the name. Make sure you use each character combination, \"\\t\" and \"\\n\", at least once.\n",
    "Print the name once, so the whitespace around the name is displayed. Then print the name using each of the three stripping functions, lstrip(), rstrip(), and strip()."
   ]
  },
  {
   "cell_type": "code",
   "execution_count": 5,
   "id": "9",
   "metadata": {},
   "outputs": [
    {
     "name": "stdout",
     "output_type": "stream",
     "text": [
      "Original Name: ' Shabiha \t Hossain \n",
      "Major:\tGeography \t '\n",
      "lstrip(): 'Shabiha \t Hossain \n",
      "Major:\tGeography \t '\n",
      "rstrip(): ' Shabiha \t Hossain \n",
      "Major:\tGeography'\n",
      "strip(): 'Shabiha \t Hossain \n",
      "Major:\tGeography'\n"
     ]
    }
   ],
   "source": [
    "person_name =\" Shabiha \\t Hossain \\nMajor:\\tGeography \\t \"\n",
    "print(f\"Original Name: '{person_name}'\")\n",
    "print(f\"lstrip(): '{person_name.lstrip()}'\")\n",
    "print(f\"rstrip(): '{person_name.rstrip()}'\")\n",
    "print(f\"strip(): '{person_name.strip()}'\")\n"
   ]
  },
  {
   "cell_type": "markdown",
   "id": "10",
   "metadata": {},
   "source": [
    "## Question 5\n",
    "\n",
    "**Names:** Store the names of a few of your friends in a list called names. Print\n",
    "each person’s name by accessing each element in the list, one at a time."
   ]
  },
  {
   "cell_type": "code",
   "execution_count": 6,
   "id": "11",
   "metadata": {},
   "outputs": [
    {
     "name": "stdout",
     "output_type": "stream",
     "text": [
      "Maisha\n",
      "Tanbi\n",
      "Sraboni\n"
     ]
    }
   ],
   "source": [
    "Names = ['Maisha','Tanbi', 'Sraboni']\n",
    "print(Names[0])\n",
    "print(Names[1])\n",
    "print(Names[2])"
   ]
  },
  {
   "cell_type": "markdown",
   "id": "12",
   "metadata": {},
   "source": [
    "## Question 6\n",
    "\n",
    "**Your Own List:** Think of your favorite mode of transportation, such as a motorcycle or a car, and make a list that stores several examples. Use your list to print a series of statements about these items, such as “I would like to own a Honda motorcycle.”"
   ]
  },
  {
   "cell_type": "code",
   "execution_count": 7,
   "id": "13",
   "metadata": {},
   "outputs": [
    {
     "name": "stdout",
     "output_type": "stream",
     "text": [
      "I would like to travel by train\n",
      "But one day I wish to buy a Tesla car\n"
     ]
    }
   ],
   "source": [
    "Vehicles=['car', 'bike', 'train', 'bicycle']\n",
    "print('I would like to travel by', Vehicles[2])\n",
    "print('But one day I wish to buy a Tesla', Vehicles[0])"
   ]
  },
  {
   "cell_type": "markdown",
   "id": "14",
   "metadata": {},
   "source": [
    "## Question 7\n",
    "\n",
    "**Pizzas:** Think of at least three kinds of your favorite pizza. Store these pizza names in a list, and then use a for loop to print the name of each pizza.\n",
    "\n",
    "Modify your for loop to print a sentence using the name of the pizza instead of printing just the name of the pizza. For each pizza you should have one line of output containing a simple statement like _I like pepperoni pizza._"
   ]
  },
  {
   "cell_type": "code",
   "execution_count": 8,
   "id": "6b80855c",
   "metadata": {},
   "outputs": [
    {
     "name": "stdout",
     "output_type": "stream",
     "text": [
      "pepperoni\n",
      "mushroom\n",
      "chicken alfredo\n",
      "deep dish\n"
     ]
    }
   ],
   "source": [
    "pizza=['pepperoni', 'mushroom', 'chicken alfredo', 'deep dish']\n",
    "for i in pizza:\n",
    "  print(i)"
   ]
  },
  {
   "cell_type": "code",
   "execution_count": 9,
   "id": "15",
   "metadata": {},
   "outputs": [
    {
     "name": "stdout",
     "output_type": "stream",
     "text": [
      "I hate pepperoni pizza\n",
      "I kinda like mushroom pizza\n",
      "I love chicken alfredo pizza\n",
      "I absolutely love deep dish pizza\n"
     ]
    }
   ],
   "source": [
    "verb=['hate', 'kinda like','love','absolutely love']\n",
    "for verb, pizza in zip(verb,pizza):\n",
    "  print(\"I\", verb, pizza, \"pizza\")"
   ]
  },
  {
   "cell_type": "markdown",
   "id": "16",
   "metadata": {},
   "source": [
    "Add a line at the end of your program, outside the for loop, that states how much you like pizza. The output should consist of three or more lines about the kinds of pizza you like and then an additional sentence, such as _I really love pizza!_"
   ]
  },
  {
   "cell_type": "code",
   "execution_count": 10,
   "id": "beee83ba",
   "metadata": {},
   "outputs": [],
   "source": [
    "pizza=['pepperoni', 'mushroom', 'chicken alfredo', 'deep dish']\n",
    "verb=['hate', 'kinda like','love','absolutely love']\n",
    "Message='I can never get bored of eating pizza. My kind of adrenaline.'"
   ]
  },
  {
   "cell_type": "code",
   "execution_count": 11,
   "id": "17",
   "metadata": {},
   "outputs": [
    {
     "name": "stdout",
     "output_type": "stream",
     "text": [
      "I hate pepperoni pizza\n",
      "I kinda like mushroom pizza\n",
      "I love chicken alfredo pizza\n",
      "I absolutely love deep dish pizza\n",
      "I can never get bored of eating pizza. My kind of adrenaline.\n"
     ]
    }
   ],
   "source": [
    "for verb, pizza in zip(verb,pizza):\n",
    "    print(\"I\", verb, pizza, \"pizza\")\n",
    "print(Message)"
   ]
  },
  {
   "cell_type": "markdown",
   "id": "18",
   "metadata": {},
   "source": [
    "## Question 8\n",
    "\n",
    "**Animals:** Think of at least three different animals that have a common characteristic. Store the names of these animals in a list, and then use a for loop to print out the name of each animal.\n",
    "\n",
    "Modify your program to print a statement about each animal, such as _A dog would make a great pet._"
   ]
  },
  {
   "cell_type": "code",
   "execution_count": 12,
   "id": "19",
   "metadata": {},
   "outputs": [
    {
     "name": "stdout",
     "output_type": "stream",
     "text": [
      "dog\n",
      "cat\n",
      "bird\n",
      "rabbit\n"
     ]
    }
   ],
   "source": [
    "animals=['dog', 'cat', 'bird', 'rabbit']\n",
    "for i in animals:print(i)"
   ]
  },
  {
   "cell_type": "code",
   "execution_count": 13,
   "id": "c6e50525",
   "metadata": {},
   "outputs": [
    {
     "name": "stdout",
     "output_type": "stream",
     "text": [
      "dog is fluffy\n",
      "cat is cute\n",
      "bird is sweet\n",
      "rabbit is adorable\n"
     ]
    }
   ],
   "source": [
    "Line=['fluffy','cute','sweet','adorable']\n",
    "for Line, animals in zip(Line,animals):\n",
    "    print(animals,\"is\", Line)"
   ]
  },
  {
   "cell_type": "markdown",
   "id": "20",
   "metadata": {},
   "source": [
    "Add a line at the end of your program stating what these animals have in common. You could print a sentence such as _Any of these animals would make a great pet!_"
   ]
  },
  {
   "cell_type": "code",
   "execution_count": 14,
   "id": "21",
   "metadata": {},
   "outputs": [
    {
     "name": "stdout",
     "output_type": "stream",
     "text": [
      "dog is fluffy and they are all designed to obey humans.\n",
      "cat is cute and they are all designed to obey humans.\n",
      "bird is sweet and they are all designed to obey humans.\n",
      "rabbit is adorable and they are all designed to obey humans.\n"
     ]
    }
   ],
   "source": [
    "animals=['dog', 'cat', 'bird', 'rabbit']\n",
    "Line=['fluffy','cute','sweet','adorable']\n",
    "for Line, animals in zip(Line,animals):\n",
    "    print(animals,\"is\", Line,\"and they are all designed to obey humans.\")"
   ]
  },
  {
   "cell_type": "markdown",
   "id": "22",
   "metadata": {},
   "source": [
    "## Question 9\n",
    "\n",
    "**Summing a Hundred:** Make a list of the numbers from one to one hundred, and then use `min()` and `max()` to make sure your list actually starts at one and ends at one hundred. Also, use the sum() function to see how quickly Python can add a hundred numbers."
   ]
  },
  {
   "cell_type": "code",
   "execution_count": 15,
   "id": "23",
   "metadata": {},
   "outputs": [],
   "source": [
    "Num=list(range(1,101))"
   ]
  },
  {
   "cell_type": "code",
   "execution_count": 16,
   "id": "1bbadaf9",
   "metadata": {},
   "outputs": [
    {
     "name": "stdout",
     "output_type": "stream",
     "text": [
      "1 100\n"
     ]
    }
   ],
   "source": [
    "print(min(Num), max(Num))"
   ]
  },
  {
   "cell_type": "code",
   "execution_count": 17,
   "id": "17388062",
   "metadata": {},
   "outputs": [
    {
     "name": "stdout",
     "output_type": "stream",
     "text": [
      "5050\n"
     ]
    }
   ],
   "source": [
    "print(sum(Num))"
   ]
  },
  {
   "cell_type": "markdown",
   "id": "24",
   "metadata": {},
   "source": [
    "## Question 10\n",
    "\n",
    "**Odd Numbers:** Use the third argument of the `range()` function to make a list of the odd numbers from 1 to 20. Use a `for` loop to print each number."
   ]
  },
  {
   "cell_type": "code",
   "execution_count": 18,
   "id": "25",
   "metadata": {},
   "outputs": [
    {
     "name": "stdout",
     "output_type": "stream",
     "text": [
      "1 3 5 7 9 11 13 15 17 19 "
     ]
    }
   ],
   "source": [
    "start = 1\n",
    "end = 20\n",
    "\n",
    "if start % 2 != 0:\n",
    "\n",
    "    for num in range(start, end + 1, 2):\n",
    "        print(num, end=\" \")\n",
    "else:\n",
    "\n",
    "    for num in range(start+1, end + 1, 2):\n",
    "        print(num, end=\" \")"
   ]
  },
  {
   "cell_type": "markdown",
   "id": "26",
   "metadata": {},
   "source": [
    "## Question 11\n",
    "\n",
    "**Threes:** Make a list of the multiples of 3 from 3 to 30. Use a `for` loop to print the numbers in your list."
   ]
  },
  {
   "cell_type": "code",
   "execution_count": 19,
   "id": "27",
   "metadata": {},
   "outputs": [
    {
     "name": "stdout",
     "output_type": "stream",
     "text": [
      "[3, 6, 9, 12, 15, 18, 21, 24, 27]\n"
     ]
    }
   ],
   "source": [
    "Threes = [i for i in range(3, 30) if i % 3 == 0]\n",
    "print(Threes)"
   ]
  },
  {
   "cell_type": "markdown",
   "id": "28",
   "metadata": {},
   "source": [
    "## Question 12\n",
    "\n",
    "**Cube Comprehension:** Use a list comprehension to generate a list of the first 10 cubes."
   ]
  },
  {
   "cell_type": "code",
   "execution_count": 20,
   "id": "29",
   "metadata": {},
   "outputs": [
    {
     "name": "stdout",
     "output_type": "stream",
     "text": [
      "1\n",
      "8\n",
      "27\n",
      "64\n",
      "125\n",
      "216\n",
      "343\n",
      "512\n",
      "729\n",
      "1000\n"
     ]
    }
   ],
   "source": [
    "Z = [number**3 for number in range(1,11)]\n",
    "\n",
    "for T in Z:\n",
    "    print(T)"
   ]
  },
  {
   "cell_type": "markdown",
   "id": "30",
   "metadata": {},
   "source": [
    "## Question 13\n",
    "\n",
    "**Slices:** Using one of the programs you wrote in this lab, add several lines to the end of the program that do the following:\n",
    "\n",
    "Print the message _The first three items in the list are:_. Then use a slice to print the first three items from that program’s list."
   ]
  },
  {
   "cell_type": "code",
   "execution_count": 21,
   "id": "31",
   "metadata": {},
   "outputs": [],
   "source": [
    "pizza=['pepperoni', 'mushroom', 'chicken alfredo', 'deep dish', 'sausage', 'seafood', 'shrimp']"
   ]
  },
  {
   "cell_type": "code",
   "execution_count": 22,
   "id": "dd20d64b",
   "metadata": {},
   "outputs": [
    {
     "name": "stdout",
     "output_type": "stream",
     "text": [
      "The first three items in the list are: ['pepperoni', 'mushroom', 'chicken alfredo']\n"
     ]
    }
   ],
   "source": [
    "print('The first three items in the list are:', (pizza[:3]))"
   ]
  },
  {
   "cell_type": "markdown",
   "id": "32",
   "metadata": {},
   "source": [
    "Print the message _Three items from the middle of the list are:_. Use a slice to print three items from the middle of the list."
   ]
  },
  {
   "cell_type": "code",
   "execution_count": 23,
   "id": "33",
   "metadata": {},
   "outputs": [
    {
     "name": "stdout",
     "output_type": "stream",
     "text": [
      "The three items from the middle in the list are: ['chicken alfredo', 'deep dish', 'sausage']\n"
     ]
    }
   ],
   "source": [
    "middle_start = len(pizza) // 2 - 1 \n",
    "middle_end = middle_start + 3 \n",
    "print('The three items from the middle in the list are:', (pizza[middle_start:middle_end]))\n"
   ]
  },
  {
   "cell_type": "markdown",
   "id": "34",
   "metadata": {},
   "source": [
    "Print the message _The last three items in the list are:_. Use a slice to print the last three items in the list."
   ]
  },
  {
   "cell_type": "code",
   "execution_count": 24,
   "id": "35",
   "metadata": {},
   "outputs": [
    {
     "name": "stdout",
     "output_type": "stream",
     "text": [
      "The last three items in the list are: ['sausage', 'seafood', 'shrimp']\n"
     ]
    }
   ],
   "source": [
    "print('The last three items in the list are:', (pizza[-3:]))"
   ]
  },
  {
   "cell_type": "markdown",
   "id": "36",
   "metadata": {},
   "source": [
    "## Question 14\n",
    "\n",
    "**Buffet:** A buffet-style restaurant offers only five basic foods. Think of five simple foods, and store them in a tuple.\n",
    "\n",
    "Use a for loop to print each food the restaurant offers."
   ]
  },
  {
   "cell_type": "code",
   "execution_count": 25,
   "id": "37",
   "metadata": {},
   "outputs": [
    {
     "name": "stdout",
     "output_type": "stream",
     "text": [
      "Our menu offers:\n",
      "- pasta\n",
      "- chowmein\n",
      "- curry\n",
      "- mousse\n",
      "- lemonade\n"
     ]
    }
   ],
   "source": [
    "Our_foods = (\n",
    "    'pasta', 'chowmein', 'curry','mousse', 'lemonade',\n",
    "    )\n",
    "\n",
    "print(\"Our menu offers:\")\n",
    "for food in Our_foods:\n",
    "    print(f\"- {food}\")"
   ]
  },
  {
   "cell_type": "markdown",
   "id": "38",
   "metadata": {},
   "source": [
    "The restaurant changes its menu, replacing two of the items with different foods. Add a line that rewrites the tuple, and then use a for loop to print each of the items on the revised menu."
   ]
  },
  {
   "cell_type": "code",
   "execution_count": 26,
   "id": "39",
   "metadata": {},
   "outputs": [
    {
     "name": "stdout",
     "output_type": "stream",
     "text": [
      "Little change in our menu has been authorized.\n",
      "\n",
      "Our revised menu offers now:\n",
      "- vegetables\n",
      "- chowmein\n",
      "- chicken curry\n",
      "- mousse\n",
      "- lemonade\n"
     ]
    }
   ],
   "source": [
    "Revised_foods = (\n",
    "    'vegetables', 'chowmein', 'chicken curry','mousse', 'lemonade',\n",
    "    )\n",
    "\n",
    "print(\"Little change in our menu has been authorized.\")\n",
    "print(\"\\nOur revised menu offers now:\")\n",
    "for food in Revised_foods:\n",
    "    print(f\"- {food}\")"
   ]
  },
  {
   "cell_type": "markdown",
   "id": "40",
   "metadata": {},
   "source": [
    "## Question 15\n",
    "\n",
    "**Alien Colors:** Imagine an alien was just shot down in a game. Create a variable called `alien_color` and assign it a value of `green, yellow,` or `red`.\n",
    "\n",
    "-   Write an if statement to test whether the alien’s color is green. If it is, print a message that the player just earned 5 points.\n",
    "-   Write one version of this program that passes the if test and another that fails. (The version that fails will have no output.)"
   ]
  },
  {
   "cell_type": "code",
   "execution_count": 27,
   "id": "41",
   "metadata": {},
   "outputs": [
    {
     "name": "stdout",
     "output_type": "stream",
     "text": [
      "You just earned 5 points!\n"
     ]
    }
   ],
   "source": [
    "alien_color = 'green'\n",
    "\n",
    "if alien_color == 'green':\n",
    "    print(\"You just earned 5 points!\")"
   ]
  },
  {
   "cell_type": "code",
   "execution_count": 28,
   "id": "5d98c2f9",
   "metadata": {},
   "outputs": [],
   "source": [
    "alien_color = 'red'\n",
    "\n",
    "if alien_color == 'green':\n",
    "    print(\"You just earned 5 points!\")"
   ]
  },
  {
   "cell_type": "markdown",
   "id": "42",
   "metadata": {},
   "source": [
    "## Question 16\n",
    "\n",
    "**Stages of Life:** Write an `if-elif-else` chain that determines a person’s stage of life. Set a value for the variable `age`, and then:\n",
    "\n",
    "-   If the person is less than 2 years old, print a message that the person is a baby.\n",
    "-   If the person is at least 2 years old but less than 4, print a message that the person is a toddler.\n",
    "-   If the person is at least 4 years old but less than 13, print a message that the person is a kid.\n",
    "-   If the person is at least 13 years old but less than 20, print a message that the person is a teenager.\n",
    "-   If the person is at least 20 years old but less than 65, print a message that the person is an adult."
   ]
  },
  {
   "cell_type": "code",
   "execution_count": 29,
   "id": "43",
   "metadata": {},
   "outputs": [
    {
     "name": "stdout",
     "output_type": "stream",
     "text": [
      "You're an adult\n"
     ]
    }
   ],
   "source": [
    "age = 21\n",
    "\n",
    "if age < 2:\n",
    "    print(\"You're a baby\")\n",
    "elif age < 4:\n",
    "    print(\"You're a toddler\")\n",
    "elif age < 13:\n",
    "    print(\"You're a kid\")\n",
    "elif age < 20:\n",
    "    print(\"You're a teenager\")\n",
    "elif age < 65:\n",
    "    print(\"You're an adult\")\n",
    "else:\n",
    "    print(\"You're an elder\")"
   ]
  },
  {
   "cell_type": "markdown",
   "id": "44",
   "metadata": {},
   "source": [
    "## Question 17\n",
    "\n",
    "**Favorite Fruit:** Make a list of your favorite fruits, and then write a series of independent `if` statements that check for certain fruits in your list.\n",
    "\n",
    "-   Make a list of your three favorite fruits and call it favorite_fruits.\n",
    "-   Write five if statements. Each should check whether a certain kind of fruit is in your list. If the fruit is in your list, the if block should print a statement, such as You really like bananas!"
   ]
  },
  {
   "cell_type": "code",
   "execution_count": 30,
   "id": "45",
   "metadata": {},
   "outputs": [
    {
     "name": "stdout",
     "output_type": "stream",
     "text": [
      "You really like bananas!\n",
      "apples are not your fav!\n",
      "You really like oranges!\n",
      "blueberries are not your fav!\n",
      "You really like mangoes!\n"
     ]
    }
   ],
   "source": [
    "favorite_fruits = ['mangoes', 'bananas', 'oranges']\n",
    "\n",
    "if 'bananas' in favorite_fruits:\n",
    "    print(\"You really like bananas!\")\n",
    "if 'apples' in favorite_fruits:\n",
    "    print(\"You really like apples!\")\n",
    "else:\n",
    "    print(\"apples are not your fav!\")\n",
    "if 'oranges' in favorite_fruits:\n",
    "    print(\"You really like oranges!\")\n",
    "if 'blueberries' in favorite_fruits:\n",
    "    print(\"You really like blueberries!\")\n",
    "else: \n",
    "    print(\"blueberries are not your fav!\")\n",
    "if 'mangoes' in favorite_fruits:\n",
    "    print(\"You really like mangoes!\")"
   ]
  },
  {
   "cell_type": "markdown",
   "id": "46",
   "metadata": {},
   "source": [
    "## Question 18\n",
    "\n",
    "**Hello Admin:** Make a list of five or more usernames, including the name `admin`. Imagine you are writing code that will print a greeting to each user after they log in to a website. Loop through the list, and print a greeting to each user:\n",
    "\n",
    "-   If the username is 'admin', print a special greeting, such as _Hello admin, would you like to see a status report?_\n",
    "-   Otherwise, print a generic greeting, such as _Hello Jaden, thank you for logging in again_."
   ]
  },
  {
   "cell_type": "code",
   "execution_count": 31,
   "id": "47",
   "metadata": {},
   "outputs": [
    {
     "name": "stdout",
     "output_type": "stream",
     "text": [
      "Hello admin, would you like to see a status report?\n",
      "Hello meem, thank you for logging in again!\n",
      "Hello nazifa, thank you for logging in again!\n",
      "Hello max, thank you for logging in again!\n",
      "Hello lucas, thank you for logging in again!\n"
     ]
    }
   ],
   "source": [
    "username =['admin', 'meem', 'nazifa', 'max','lucas']\n",
    "for name in username:\n",
    "  if name =='admin':\n",
    "    print('Hello admin, would you like to see a status report?')\n",
    "  else:\n",
    "    print(f\"Hello {name}, thank you for logging in again!\")"
   ]
  },
  {
   "cell_type": "markdown",
   "id": "48",
   "metadata": {},
   "source": [
    "## Question 19\n",
    "\n",
    "**Checking Usernames:** Do the following to create a program that simulates how websites ensure that everyone has a unique username.\n",
    "\n",
    "-   Make a list of five or more usernames called `current_users`.\n",
    "-   Make another list of five usernames called `new_users`. Make sure one or two of the new usernames are also in the `current_users` list.\n",
    "-   Loop through the `new_users` list to see if each new username has already been used. If it has, print a message that the person will need to enter a new username. If a username has not been used, print a message saying that the username is available.\n",
    "-   Make sure your comparison is case insensitive. If 'John' has been used, 'JOHN' should not be accepted. (To do this, you’ll need to make a copy of `current_users` containing the lowercase versions of all existing users.)"
   ]
  },
  {
   "cell_type": "code",
   "execution_count": 32,
   "id": "49",
   "metadata": {},
   "outputs": [],
   "source": [
    "current_users =['admin', 'meem', 'nazifa', 'max','lucas']\n",
    "new_users=['matt', 'Nazifa', 'Jeff', 'ken', 'MAX']"
   ]
  },
  {
   "cell_type": "code",
   "execution_count": 33,
   "id": "a9c47023",
   "metadata": {},
   "outputs": [
    {
     "name": "stdout",
     "output_type": "stream",
     "text": [
      "Great, matt is available.\n",
      "Sorry Nazifa, the name is taken.\n",
      "Great, Jeff is available.\n",
      "Great, ken is available.\n",
      "Sorry MAX, the name is taken.\n"
     ]
    }
   ],
   "source": [
    "current_users_lower = [user.lower() for user in current_users]\n",
    "\n",
    "for new_user in new_users:\n",
    "    if new_user.lower() in current_users_lower:\n",
    "        print(f\"Sorry {new_user}, the name is taken.\")\n",
    "    else:\n",
    "        print(f\"Great, {new_user} is available.\")"
   ]
  },
  {
   "cell_type": "markdown",
   "id": "50",
   "metadata": {},
   "source": [
    "## Question 20\n",
    "\n",
    "**Ordinal Numbers:** Ordinal numbers indicate their position in a list, such as _1st_ or _2nd_. Most ordinal numbers end in _th_, except 1, 2, and 3.\n",
    "\n",
    "-   Store the numbers 1 through 9 in a list.\n",
    "-   Loop through the list.\n",
    "-   Use an `if-elif-else` chain inside the loop to print the proper ordinal ending for each number. Your output should read \"1st 2nd 3rd 4th 5th 6th 7th 8th 9th\", and each result should be on a separate line."
   ]
  },
  {
   "cell_type": "code",
   "execution_count": 34,
   "id": "51",
   "metadata": {},
   "outputs": [
    {
     "name": "stdout",
     "output_type": "stream",
     "text": [
      "1st\n",
      "2nd\n",
      "3rd\n",
      "4th\n",
      "5th\n",
      "6th\n",
      "7th\n",
      "8th\n",
      "9th\n"
     ]
    }
   ],
   "source": [
    "numbers = list(range(1,10))\n",
    "\n",
    "for number in numbers:\n",
    "    if number == 1:\n",
    "        print(\"1st\")\n",
    "    elif number == 2:\n",
    "        print(\"2nd\")\n",
    "    elif number == 3:\n",
    "        print(\"3rd\")\n",
    "    else:\n",
    "        print(f\"{number}th\")"
   ]
  }
 ],
 "metadata": {
  "kernelspec": {
   "display_name": "Python 3",
   "language": "python",
   "name": "python3"
  },
  "language_info": {
   "codemirror_mode": {
    "name": "ipython",
    "version": 3
   },
   "file_extension": ".py",
   "mimetype": "text/x-python",
   "name": "python",
   "nbconvert_exporter": "python",
   "pygments_lexer": "ipython3",
   "version": "3.11.7"
  }
 },
 "nbformat": 4,
 "nbformat_minor": 5
}
