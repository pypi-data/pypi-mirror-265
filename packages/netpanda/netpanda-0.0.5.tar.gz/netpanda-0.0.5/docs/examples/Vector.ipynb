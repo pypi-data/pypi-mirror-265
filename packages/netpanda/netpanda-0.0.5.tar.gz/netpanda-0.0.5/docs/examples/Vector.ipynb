{
 "cells": [
  {
   "cell_type": "markdown",
   "metadata": {},
   "source": [
    "[![image](https://colab.research.google.com/assets/colab-badge.svg)](https://colab.research.google.com/github/OmiimO05/netpanda/blob/main/docs/examples/Vector.ipynb)\n",
    "#Make sure you download all the necessary countries.geojson file and countries.shp files from the docs/example folder! "
   ]
  },
  {
   "cell_type": "code",
   "execution_count": null,
   "metadata": {},
   "outputs": [],
   "source": [
    "pip install netpanda"
   ]
  },
  {
   "cell_type": "code",
   "execution_count": 3,
   "metadata": {},
   "outputs": [],
   "source": [
    "from netpanda import AirplaneRouteMap"
   ]
  },
  {
   "cell_type": "code",
   "execution_count": 4,
   "metadata": {},
   "outputs": [
    {
     "data": {
      "application/vnd.jupyter.widget-view+json": {
       "model_id": "b574281e3517432ca6ea40abc42edc1e",
       "version_major": 2,
       "version_minor": 0
      },
      "text/plain": [
       "AirplaneRouteMap(center=[20, 0], controls=(ZoomControl(options=['position', 'zoom_in_text', 'zoom_in_title', '…"
      ]
     },
     "metadata": {},
     "output_type": "display_data"
    }
   ],
   "source": [
    "m = AirplaneRouteMap()\n",
    "\n",
    "# Add NASAGIBS.ViirsEarthAtNight2012 basemap\n",
    "m.add_basemap_viirs_earth_at_night()\n",
    "\n",
    "# Add GeoJSON layer\n",
    "m.add_geojson(\"C:/Users/Shabiha/netpanda/docs/countries.geojson\")\n",
    "\n",
    "# Add shapefile\n",
    "m.add_shp(\"C:/Users/Shabiha/netpanda/docs/countries/countries.shp\")\n",
    "m\n"
   ]
  }
 ],
 "metadata": {
  "kernelspec": {
   "display_name": "geo",
   "language": "python",
   "name": "geo"
  },
  "language_info": {
   "codemirror_mode": {
    "name": "ipython",
    "version": 3
   },
   "file_extension": ".py",
   "mimetype": "text/x-python",
   "name": "python",
   "nbconvert_exporter": "python",
   "pygments_lexer": "ipython3",
   "version": "3.11.7"
  }
 },
 "nbformat": 4,
 "nbformat_minor": 2
}
