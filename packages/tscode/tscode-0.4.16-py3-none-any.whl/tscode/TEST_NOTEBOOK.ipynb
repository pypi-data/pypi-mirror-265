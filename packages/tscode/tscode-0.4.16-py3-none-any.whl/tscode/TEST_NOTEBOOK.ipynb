{
 "cells": [
  {
   "cell_type": "code",
   "execution_count": null,
   "metadata": {},
   "outputs": [],
   "source": [
    "from tscode.utils import read_xyz, graphize, scramble_check, write_xyz\n",
    "import os\n",
    "\n",
    "os.chdir('/mnt/c/Users/Nick/Desktop/winscp_temp')\n",
    "\n",
    "mol1 = read_xyz('MsNO2.xyz')\n",
    "mol2 = read_xyz('propip.xyz')\n",
    "mol3 = read_xyz('maybe_scrambled.xyz')\n",
    "print(len(mol1.atomcoords[0]), len(mol2.atomcoords[0]),len(mol3.atomcoords[0]))"
   ]
  },
  {
   "cell_type": "code",
   "execution_count": null,
   "metadata": {},
   "outputs": [],
   "source": [
    "graph1 = graphize(mol1.atomcoords[0], mol1.atomnos)\n",
    "graph2 = graphize(mol2.atomcoords[0], mol2.atomnos)\n",
    "graph3 = graphize(mol3.atomcoords[0], mol3.atomnos)\n",
    "print(len(graph1.nodes), len(graph2.nodes),len(graph3.nodes))"
   ]
  },
  {
   "cell_type": "code",
   "execution_count": null,
   "metadata": {},
   "outputs": [],
   "source": [
    "import numpy as np"
   ]
  },
  {
   "cell_type": "code",
   "execution_count": null,
   "metadata": {},
   "outputs": [],
   "source": [
    "mols_graphs = [graph1, graph2]\n",
    "constrained_indices = np.array([\n",
    "    [4, 35],\n",
    "    [36, 153], [37, 149]])\n",
    "excluded_atoms = constrained_indices.ravel()\n",
    "excluded_atoms"
   ]
  },
  {
   "cell_type": "code",
   "execution_count": null,
   "metadata": {},
   "outputs": [],
   "source": [
    "from tscode.calculators._xtb import xtb_opt\n",
    "opt_coords, energy, success = xtb_opt(\n",
    "                mol3.atomcoords[0],\n",
    "                # opt_coords,\n",
    "                mol3.atomnos,\n",
    "                # constrained_indices=constrained_indices,\n",
    "                # constrained_distances=[None, 1.6, 1.6],\n",
    "                constrained_indices=[constrained_indices[0]],\n",
    "                constrained_distances=[None,],\n",
    "                method='GFN2-XTB')\n",
    "success"
   ]
  },
  {
   "cell_type": "code",
   "execution_count": null,
   "metadata": {},
   "outputs": [],
   "source": [
    "energy"
   ]
  },
  {
   "cell_type": "code",
   "execution_count": null,
   "metadata": {},
   "outputs": [],
   "source": [
    "bonds = set()\n",
    "for i, graph in enumerate(mols_graphs):\n",
    "\n",
    "    # pos = 0\n",
    "    # while i != 0:\n",
    "    #     pos += len(mols_graphs[i-1].nodes)\n",
    "    #     i -= 1\n",
    "    pos = sum([len(other_graph.nodes) for j, other_graph in enumerate(mols_graphs) if j < i])\n",
    "\n",
    "    for bond in [tuple(sorted((a+pos, b+pos))) for a, b in list(graph.edges) if a != b]:\n",
    "        bonds.add(bond)\n",
    "# creating bond set containing all bonds present in the desired transition state\n",
    "\n",
    "new_bonds = {tuple(sorted((a, b))) for a, b in list(graphize(opt_coords, mol3.atomnos).edges) if a != b}\n",
    "delta_bonds = (bonds | new_bonds) - (bonds & new_bonds)\n",
    "# delta_bonds -= {tuple(sorted(pair)) for pair in constrained_indices}\n",
    "\n",
    "for bond in delta_bonds.copy():\n",
    "    for a in excluded_atoms:\n",
    "        if a in bond:\n",
    "            delta_bonds -= {bond}\n",
    "# removing bonds involving constrained atoms: they are not counted as scrambled bonds\n"
   ]
  },
  {
   "cell_type": "code",
   "execution_count": null,
   "metadata": {},
   "outputs": [],
   "source": [
    "delta_bonds"
   ]
  },
  {
   "cell_type": "code",
   "execution_count": null,
   "metadata": {},
   "outputs": [],
   "source": [
    "with open('optimized.xyz', 'w') as _f:\n",
    "    write_xyz(opt_coords, mol3.atomnos, _f)"
   ]
  },
  {
   "cell_type": "code",
   "execution_count": null,
   "metadata": {},
   "outputs": [],
   "source": [
    "with open('force_field_refining_tight_constraints.dat', 'r') as f:\n",
    "    data = f.read()"
   ]
  },
  {
   "cell_type": "code",
   "execution_count": null,
   "metadata": {},
   "outputs": [],
   "source": [
    "lines = [line.split(' : ')[1] for line in data.replace('\\n [', ', [').split('\\n') if len(line.split(' : ')) > 1]"
   ]
  },
  {
   "cell_type": "code",
   "execution_count": null,
   "metadata": {},
   "outputs": [],
   "source": [
    "lines = [line.replace('[','').replace(',', '').replace(']','').split() for line in lines]"
   ]
  },
  {
   "cell_type": "code",
   "execution_count": null,
   "metadata": {},
   "outputs": [],
   "source": [
    "lines = [[int(n) for n in line] for line in lines]"
   ]
  },
  {
   "cell_type": "code",
   "execution_count": null,
   "metadata": {},
   "outputs": [],
   "source": [
    "ens_constr = np.array([[[l[0], l[1]], [l[2], l[3]]] for l in lines])\n",
    "ens_constr[0]"
   ]
  },
  {
   "cell_type": "code",
   "execution_count": null,
   "metadata": {},
   "outputs": [],
   "source": [
    "ens_structs = read_xyz('force_field_refining_tight_structures.xyz')\n",
    "print(len(ens_structs.atomcoords), len(ens_constr))"
   ]
  },
  {
   "cell_type": "code",
   "execution_count": null,
   "metadata": {},
   "outputs": [],
   "source": [
    "from tscode.utils import norm_of\n",
    "import matplotlib.pyplot as plt\n",
    "errors = []\n",
    "for constraint, structure in zip(ens_constr, ens_structs.atomcoords):\n",
    "    (a, b), (c, d) = constraint\n",
    "    d1 = norm_of(\n",
    "        structure[a]-\n",
    "        structure[b]\n",
    "    ) - 1.6\n",
    "    d2 = norm_of(\n",
    "        structure[c]-\n",
    "        structure[d]\n",
    "    ) - 1.6\n",
    "    errors.append(d1+d2)\n",
    "plt.hist(errors)"
   ]
  },
  {
   "cell_type": "markdown",
   "metadata": {},
   "source": [
    "## LOADING EMBEDDER"
   ]
  },
  {
   "cell_type": "code",
   "execution_count": null,
   "metadata": {},
   "outputs": [],
   "source": [
    "import os\n",
    "import pickle\n",
    "import numpy as np\n",
    "from tscode.numba_functions import _score_embed_poses\n",
    "os.chdir('/mnt/c/Users/Nick/Desktop/Computations/debug')"
   ]
  },
  {
   "cell_type": "code",
   "execution_count": null,
   "metadata": {},
   "outputs": [],
   "source": [
    "with open('generate_candidates_runembedding.pickle', 'rb') as f:\n",
    "    d = pickle.load(f)"
   ]
  },
  {
   "cell_type": "code",
   "execution_count": null,
   "metadata": {},
   "outputs": [],
   "source": [
    "d['structures'].shape"
   ]
  },
  {
   "cell_type": "code",
   "execution_count": null,
   "metadata": {},
   "outputs": [],
   "source": [
    "d['constrained_indices'][0]"
   ]
  },
  {
   "cell_type": "code",
   "execution_count": null,
   "metadata": {},
   "outputs": [],
   "source": [
    "c_dists = np.array([[2.275, 2.275] for _ in d['structures']])"
   ]
  },
  {
   "cell_type": "code",
   "execution_count": null,
   "metadata": {},
   "outputs": [],
   "source": [
    "scores = _score_embed_poses(\n",
    "    d['structures'],\n",
    "    d['constrained_indices'],\n",
    "    c_dists,\n",
    ")\n",
    "scores[0:10]"
   ]
  },
  {
   "cell_type": "code",
   "execution_count": null,
   "metadata": {},
   "outputs": [],
   "source": [
    "np.where(0.4 < scores and scores < np.max(scores))"
   ]
  },
  {
   "cell_type": "code",
   "execution_count": null,
   "metadata": {},
   "outputs": [],
   "source": [
    "import matplotlib.pyplot as plt\n",
    "plt.hist(scores)"
   ]
  },
  {
   "cell_type": "code",
   "execution_count": null,
   "metadata": {},
   "outputs": [],
   "source": [
    "coords, _ = zip(*sorted(zip(d['structures'], scores), key=lambda x:x[1]))"
   ]
  },
  {
   "cell_type": "code",
   "execution_count": null,
   "metadata": {},
   "outputs": [],
   "source": [
    "atomnos = read_xyz('worst.xyz').atomnos"
   ]
  },
  {
   "cell_type": "code",
   "execution_count": null,
   "metadata": {},
   "outputs": [],
   "source": [
    "from tscode.utils import write_xyz, read_xyz\n",
    "with open('sorted.xyz', 'w') as f:\n",
    "    for c in coords[0:10]:\n",
    "        write_xyz(c, atomnos, f)"
   ]
  },
  {
   "cell_type": "code",
   "execution_count": null,
   "metadata": {},
   "outputs": [],
   "source": [
    "from tscode.utils import timing_wrapper\n",
    "from concurrent.futures import ProcessPoolExecutor, as_completed\n",
    "\n",
    "def func(a, b=None):\n",
    "    return 2*a, 2*b\n",
    "\n",
    "processes = []\n",
    "\n",
    "with ProcessPoolExecutor(max_workers=1) as ex:\n",
    "    p = ex.submit(\n",
    "                    # payload_wrapper,\n",
    "                    timing_wrapper,\n",
    "                    func,\n",
    "                    1,\n",
    "                    b=2,\n",
    "                    payload=(3,),\n",
    "                )\n",
    "    processes.append(p)\n",
    "    \n",
    "    for i, process in enumerate(as_completed(processes)):\n",
    "        (a, b), (c,), t = p.result()"
   ]
  },
  {
   "cell_type": "code",
   "execution_count": null,
   "metadata": {},
   "outputs": [],
   "source": [
    "print(a)\n",
    "print(b)\n",
    "print(c)\n",
    "print(t)"
   ]
  },
  {
   "cell_type": "markdown",
   "metadata": {},
   "source": [
    "## RMSD performance"
   ]
  },
  {
   "cell_type": "code",
   "execution_count": 1,
   "metadata": {},
   "outputs": [
    {
     "data": {
      "text/plain": [
       "(10000, 156, 3)"
      ]
     },
     "execution_count": 1,
     "metadata": {},
     "output_type": "execute_result"
    }
   ],
   "source": [
    "from tscode.utils import read_xyz\n",
    "\n",
    "data = read_xyz(f\"/mnt/c/Users/Nick/Desktop/Computations/debug/TSCoDe_embedded_soft_ff_springs.xyz\")\n",
    "data.atomcoords.shape"
   ]
  },
  {
   "cell_type": "code",
   "execution_count": 2,
   "metadata": {},
   "outputs": [],
   "source": [
    "n = 10000\n",
    "test_set = data.atomcoords[1:n]"
   ]
  },
  {
   "cell_type": "code",
   "execution_count": 3,
   "metadata": {},
   "outputs": [
    {
     "data": {
      "text/plain": [
       "(0.47513346810783985, 1.4835703657594594)"
      ]
     },
     "execution_count": 3,
     "metadata": {},
     "output_type": "execute_result"
    }
   ],
   "source": [
    "import numba as nb\n",
    "from numba import prange\n",
    "import numpy as np\n",
    "from tscode.algebra import norm_of\n",
    "\n",
    "@nb.njit\n",
    "def rmsd_and_max_numba(p, q):\n",
    "    '''\n",
    "    Returns a tuple with the RMSD between p and q\n",
    "    and the maximum deviation of their positions\n",
    "\n",
    "    '''\n",
    "    \n",
    "    # calculate the covariance matrix\n",
    "    cov_mat = np.ascontiguousarray(p.T) @ q\n",
    "    # cov_mat = np.transpose(p) * q\n",
    "    \n",
    "    # Compute the SVD\n",
    "    v, _, w = np.linalg.svd(cov_mat)\n",
    "    d = (np.linalg.det(v) * np.linalg.det(w)) < 0.0\n",
    "\n",
    "    if d:\n",
    "        v[:, -1] = -v[:, -1]\n",
    "\n",
    "    # Create Rotation matrix u\n",
    "    rot_mat = np.dot(v, w)\n",
    "\n",
    "    # Apply it to p\n",
    "    p = np.ascontiguousarray(p) @ rot_mat\n",
    "\n",
    "    # Calculate deviations\n",
    "    diff = p - q\n",
    "\n",
    "    # Calculate RMSD\n",
    "    rmsd = np.sqrt((diff * diff).sum() / len(diff))\n",
    "\n",
    "    # # Calculate max deviation\n",
    "    # max_delta = np.linalg.norm(diff, axis=1).max()\n",
    "    max_delta = max([norm_of(v) for v in diff])\n",
    "\n",
    "    return rmsd, max_delta\n",
    "\n",
    "rmsd_and_max_numba(data.atomcoords[0], data.atomcoords[1])"
   ]
  },
  {
   "cell_type": "code",
   "execution_count": 4,
   "metadata": {},
   "outputs": [],
   "source": [
    "@nb.njit\n",
    "def rmsd_similarity(ref, structures, in_mask, rmsd_thr, maxdev_thr):\n",
    "    '''\n",
    "    Returns True (as the int 1) if ref is similar to any\n",
    "    structure in structures, returning at the first instance.\n",
    "    Ignores structures that are False (0) in in_mask.\n",
    "\n",
    "    '''\n",
    "\n",
    "    for i in range(len(structures)):\n",
    "        if in_mask[i]:\n",
    "            rmsd_value, maxdev_value = rmsd_and_max_numba(ref, structures[i])\n",
    "            if rmsd_value < rmsd_thr and maxdev_value < maxdev_thr:\n",
    "                return 1\n",
    "    return 0\n",
    "\n",
    "@nb.njit\n",
    "def similarity_mask_rmsd(structures, in_mask, rmsd_thr=0.25):\n",
    "    '''\n",
    "    '''\n",
    "    maxdev_thr = 2 * rmsd_thr\n",
    "\n",
    "    # initialize the result container\n",
    "    out_mask = np.empty(shape=in_mask.shape, dtype=np.bool_)\n",
    "\n",
    "    # loop over the structures\n",
    "    for i, ref in enumerate(structures):\n",
    "\n",
    "        # only check for similarity if the structure is active\n",
    "        if in_mask[i]:\n",
    "\n",
    "            # reject structure i if it is similar to any other after itself\n",
    "            out_mask[i] = not rmsd_similarity(ref, structures[i+1:], in_mask[i+1:], rmsd_thr=rmsd_thr, maxdev_thr=maxdev_thr)\n",
    "\n",
    "        else:\n",
    "            out_mask[i] = 0\n",
    "\n",
    "    return out_mask\n",
    "\n",
    "@nb.njit(parallel=True)\n",
    "def similarity_mask_rmsd_group(structures, in_mask, k, rmsd_thr=0.25):\n",
    "    '''\n",
    "    '''\n",
    "\n",
    "    out_mask = np.empty(shape=structures.shape[0], dtype=np.bool_)\n",
    "    chunksize = int(len(structures) // k)\n",
    "\n",
    "    for chunk in prange(int(k)):\n",
    "        first = chunk*chunksize\n",
    "        if chunk == k-1:\n",
    "            last = len(structures)\n",
    "        else:\n",
    "            last = chunksize*(chunk+1)\n",
    "\n",
    "        # get the structure chunk\n",
    "        structures_chunk = structures[first:last]\n",
    "        # print(f\"k={k}, {len(structures)} structs, chunk {chunk}: [{first}:{last}]\")\n",
    "\n",
    "        # compare structures within that chunk and save results to mask\n",
    "        out_mask[first:last] = similarity_mask_rmsd(structures_chunk, in_mask[first:last], rmsd_thr=rmsd_thr)\n",
    "\n",
    "    # print(len(chunks_pruned_structs), chunks_pruned_structs)\n",
    "    return out_mask\n",
    "\n",
    "def prune_conformers_rmsd_routine(structures, atomnos, rmsd_thr=0.25):\n",
    "    '''\n",
    "    '''\n",
    "    heavy_atoms = (atomnos != 1)\n",
    "    heavy_structures = np.array([structure[heavy_atoms] for structure in structures])\n",
    "    out_mask = np.ones(shape=structures.shape[0], dtype=np.bool_)\n",
    "\n",
    "    # split the structure array in subgroups and prune those\n",
    "    for k in (5e5, 2e5, 1e5, 5e4, 2e4, 1e4,\n",
    "              5000, 2000, 1000, 500, 200, 100,\n",
    "              50, 20, 10, 5, 2, 1):\n",
    "        \n",
    "        # choose only k values such that every group\n",
    "        # has at least five structures \n",
    "        if k == 1 or 5*k < len(structures):\n",
    "\n",
    "            out_mask = similarity_mask_rmsd_group(heavy_structures, out_mask, k=k, rmsd_thr=rmsd_thr)\n",
    "\n",
    "    return structures[out_mask], out_mask\n",
    "\n",
    "_, mask = prune_conformers_rmsd_routine(data.atomcoords[0:30], data.atomnos, rmsd_thr=0.25)"
   ]
  },
  {
   "cell_type": "code",
   "execution_count": 5,
   "metadata": {},
   "outputs": [
    {
     "data": {
      "text/plain": [
       "(28, 156, 3)"
      ]
     },
     "execution_count": 5,
     "metadata": {},
     "output_type": "execute_result"
    }
   ],
   "source": [
    "data.atomcoords[0:30][mask].shape"
   ]
  },
  {
   "cell_type": "code",
   "execution_count": 6,
   "metadata": {},
   "outputs": [
    {
     "data": {
      "text/plain": [
       "(0.24564874510697127, 0.45953796871284486)"
      ]
     },
     "execution_count": 6,
     "metadata": {},
     "output_type": "execute_result"
    }
   ],
   "source": [
    "rmsd_and_max_numba(data.atomcoords[24], data.atomcoords[27])"
   ]
  },
  {
   "cell_type": "code",
   "execution_count": 7,
   "metadata": {},
   "outputs": [
    {
     "name": "stdout",
     "output_type": "stream",
     "text": [
      "CPU times: user 10.2 s, sys: 308 ms, total: 10.5 s\n",
      "Wall time: 5.29 s\n"
     ]
    }
   ],
   "source": [
    "%%time\n",
    "n = 1000\n",
    "rmsds = (0.25, 0.5, 0.75, 1, 1.5, 2, 2.5)\n",
    "for rmsd in rmsds:\n",
    "    prune_conformers_rmsd_routine(data.atomcoords[0:n], data.atomnos, rmsd_thr=rmsd)"
   ]
  },
  {
   "cell_type": "markdown",
   "metadata": {},
   "source": [
    "### trying to implement a cache to speed up things - it works!"
   ]
  },
  {
   "cell_type": "code",
   "execution_count": 7,
   "metadata": {},
   "outputs": [],
   "source": [
    "\n",
    "from numba.core import types\n",
    "from numba.typed import List, Dict\n",
    "\n",
    "@nb.njit\n",
    "def rmsd_similarity_cache(ref, structures, in_mask, cache, first_abs_index, rmsd_thr, maxdev_thr):\n",
    "    '''\n",
    "    Returns True (as the int 1) if ref is similar to any\n",
    "    structure in structures, returning at the first instance of a match.\n",
    "    Ignores structures that are False (0) in in_mask.\n",
    "\n",
    "    '''\n",
    "\n",
    "    computed_pairs = List()\n",
    "\n",
    "    for i in range(len(structures)):\n",
    "\n",
    "        # only compare active structures\n",
    "        if in_mask[i]:\n",
    "\n",
    "            # check if we have performed this computation already,\n",
    "            # and in that case we know the structures were not similar,\n",
    "            # since the in_mask attribute is not False for ref nor i\n",
    "            hash_value = (first_abs_index, first_abs_index+1+i)\n",
    "            if hash_value in cache:\n",
    "                return 0, computed_pairs\n",
    "            \n",
    "            # if not compute the value and store the result in cache\n",
    "            rmsd_value, maxdev_value = rmsd_and_max_numba(ref, structures[i])\n",
    "\n",
    "            if rmsd_value < rmsd_thr and maxdev_value < maxdev_thr:\n",
    "                computed_pairs.append(hash_value)\n",
    "                return 1, computed_pairs\n",
    "    return 0, computed_pairs\n",
    "\n",
    "@nb.njit\n",
    "def similarity_mask_rmsd_cache(structures, in_mask, cache, first_abs_index, rmsd_thr=0.25):\n",
    "    '''\n",
    "    '''\n",
    "    maxdev_thr = 2 * rmsd_thr\n",
    "    computed_pairs = List()\n",
    "\n",
    "    # initialize the result container\n",
    "    out_mask = np.empty(shape=in_mask.shape, dtype=np.bool_)\n",
    "\n",
    "    # loop over the structures\n",
    "    for i, ref in enumerate(structures):\n",
    "\n",
    "        # only check for similarity if the structure is active\n",
    "        if in_mask[i]:\n",
    "\n",
    "            # reject structure i if it is similar to any other after itself\n",
    "            similar, temp_computed_pairs = rmsd_similarity_cache(ref, structures[i+1:], in_mask[i+1:], cache=cache, first_abs_index=first_abs_index, rmsd_thr=rmsd_thr, maxdev_thr=maxdev_thr)\n",
    "            out_mask[i] = not similar\n",
    "            computed_pairs.extend(temp_computed_pairs)\n",
    "\n",
    "        else:\n",
    "            out_mask[i] = 0\n",
    "\n",
    "    return out_mask, computed_pairs\n",
    "\n",
    "@nb.njit\n",
    "def similarity_mask_rmsd_group_cache(structures, in_mask, cache, k, rmsd_thr=0.25):\n",
    "    '''\n",
    "    '''\n",
    "    computed_pairs = List()\n",
    "    out_mask = np.empty(shape=structures.shape[0], dtype=np.bool_)\n",
    "    chunksize = int(len(structures) // k)\n",
    "\n",
    "    for chunk in range(int(k)):\n",
    "        first = chunk*chunksize\n",
    "        if chunk == k-1:\n",
    "            last = len(structures)\n",
    "        else:\n",
    "            last = chunksize*(chunk+1)\n",
    "\n",
    "        # get the structure chunk\n",
    "        structures_chunk = structures[first:last]\n",
    "        # print(f\"k={k}, {len(structures)} structs, chunk {chunk}: [{first}:{last}]\")\n",
    "\n",
    "        # compare structures within that chunk and save results to mask\n",
    "        out_mask[first:last], temp_computed_pairs = similarity_mask_rmsd_cache(structures_chunk, in_mask[first:last], cache=cache, first_abs_index=first, rmsd_thr=rmsd_thr)\n",
    "        computed_pairs.extend(temp_computed_pairs)\n",
    "    # print(len(chunks_pruned_structs), chunks_pruned_structs)\n",
    "    return out_mask, computed_pairs\n",
    "\n",
    "def prune_conformers_rmsd_routine_cache(structures, atomnos, rmsd_thr=0.25):\n",
    "    '''\n",
    "    '''\n",
    "    heavy_atoms = (atomnos != 1)\n",
    "    heavy_structures = np.array([structure[heavy_atoms] for structure in structures])\n",
    "    out_mask = np.ones(shape=structures.shape[0], dtype=np.bool_)\n",
    "    cache = List([(-1,-1)])\n",
    "\n",
    "    # split the structure array in subgroups and prune those\n",
    "    for k in (5e5, 2e5, 1e5, 5e4, 2e4, 1e4,\n",
    "              5000, 2000, 1000, 500, 200, 100,\n",
    "              50, 20, 10, 5, 2, 1):\n",
    "        \n",
    "        # choose only k values such that every group\n",
    "        # has at least five structures \n",
    "        if k == 1 or 5*k < len(structures):\n",
    "\n",
    "            out_mask, computed_pairs = similarity_mask_rmsd_group_cache(heavy_structures, out_mask, cache=cache, k=k, rmsd_thr=rmsd_thr)\n",
    "            cache.extend(computed_pairs)\n",
    "            # print(k, computed_pairs)\n",
    "\n",
    "    return structures[out_mask], out_mask\n",
    "\n",
    "_, mask = prune_conformers_rmsd_routine_cache(data.atomcoords[0:30], data.atomnos, rmsd_thr=0.25)"
   ]
  },
  {
   "cell_type": "code",
   "execution_count": 12,
   "metadata": {},
   "outputs": [
    {
     "name": "stdout",
     "output_type": "stream",
     "text": [
      "CPU times: user 441 ms, sys: 8.86 ms, total: 450 ms\n",
      "Wall time: 487 ms\n"
     ]
    }
   ],
   "source": [
    "%%time\n",
    "n = 1000\n",
    "rmsds = (0.25, 0.5, 0.75, 1, 1.5, 2, 2.5)\n",
    "for rmsd in rmsds:\n",
    "    prune_conformers_rmsd_routine_cache(data.atomcoords[0:n], data.atomnos, rmsd_thr=rmsd)"
   ]
  },
  {
   "cell_type": "code",
   "execution_count": null,
   "metadata": {},
   "outputs": [],
   "source": [
    "# %%time\n",
    "# n = 1000\n",
    "# rmsds = (0.25, 0.5, 0.75, 1, 1.5, 2, 2.5)\n",
    "# for rmsd in rmsds:\n",
    "#     prune_conformers_rmsd_routine_cache_par(data.atomcoords[0:n], data.atomnos, rmsd_thr=rmsd)"
   ]
  },
  {
   "cell_type": "code",
   "execution_count": 14,
   "metadata": {},
   "outputs": [
    {
     "name": "stdout",
     "output_type": "stream",
     "text": [
      "CPU times: user 7.62 s, sys: 304 ms, total: 7.92 s\n",
      "Wall time: 2.69 s\n"
     ]
    }
   ],
   "source": [
    "%%time\n",
    "n = 1000\n",
    "rmsds = (0.25, 0.5, 0.75, 1, 1.5, 2, 2.5)\n",
    "for rmsd in rmsds:\n",
    "    prune_conformers_rmsd_routine(data.atomcoords[0:n], data.atomnos, rmsd_thr=rmsd)"
   ]
  },
  {
   "cell_type": "code",
   "execution_count": 15,
   "metadata": {},
   "outputs": [
    {
     "data": {
      "text/plain": [
       "True"
      ]
     },
     "execution_count": 15,
     "metadata": {},
     "output_type": "execute_result"
    }
   ],
   "source": [
    "_, mask1 = prune_conformers_rmsd_routine_cache(data.atomcoords[0:100], data.atomnos, rmsd_thr=0.5)\n",
    "_, mask2 = prune_conformers_rmsd_routine_cache(data.atomcoords[0:100], data.atomnos, rmsd_thr=0.5)\n",
    "all(m1 == m2 for m1, m2 in zip(mask1, mask2))"
   ]
  },
  {
   "cell_type": "code",
   "execution_count": 35,
   "metadata": {},
   "outputs": [],
   "source": [
    "from tscode.numba_functions import prune_conformers_rmsd"
   ]
  },
  {
   "cell_type": "code",
   "execution_count": null,
   "metadata": {},
   "outputs": [
    {
     "name": "stdout",
     "output_type": "stream",
     "text": [
      "CPU times: user 8.98 s, sys: 0 ns, total: 8.98 s\n",
      "Wall time: 9.73 s\n"
     ]
    }
   ],
   "source": [
    "%%time\n",
    "n = 1000\n",
    "rmsds = (0.25, 0.5, 0.75, 1, 1.5, 2, 2.5)\n",
    "for rmsd in rmsds:\n",
    "    prune_conformers_rmsd(data.atomcoords[0:n], data.atomnos, max_rmsd=rmsd)"
   ]
  },
  {
   "cell_type": "code",
   "execution_count": null,
   "metadata": {},
   "outputs": [
    {
     "name": "stdout",
     "output_type": "stream",
     "text": [
      "0.25 A, kept 644/1000\n",
      "0.5 A, kept 463/1000\n",
      "0.75 A, kept 208/1000\n",
      "1 A, kept 163/1000\n",
      "1.5 A, kept 31/1000\n",
      "0.25 A, kept 413/1000\n",
      "0.5 A, kept 173/1000\n",
      "0.75 A, kept 46/1000\n",
      "1 A, kept 21/1000\n",
      "1.5 A, kept 15/1000\n"
     ]
    },
    {
     "data": {
      "text/plain": [
       "<matplotlib.legend.Legend at 0x7fa1a2990e20>"
      ]
     },
     "execution_count": 18,
     "metadata": {},
     "output_type": "execute_result"
    },
    {
     "data": {
      "image/png": "[encoded data removed]",
      "text/plain": [
       "<Figure size 640x480 with 1 Axes>"
      ]
     },
     "metadata": {},
     "output_type": "display_data"
    }
   ],
   "source": [
    "n = 1000\n",
    "kept = []\n",
    "rmsds = (0.25, 0.5, 0.75, 1, 1.5)\n",
    "for rmsd in rmsds:\n",
    "    kp = np.count_nonzero(prune_conformers_rmsd_routine_cache(data.atomcoords[0:n], data.atomnos, rmsd_thr=rmsd)[1] == True)\n",
    "    kept.append(kp/n*100)\n",
    "    print(f\"{rmsd} A, kept {kp}/{n}\")\n",
    "\n",
    "plt.plot(rmsds, kept, label=\"new\")\n",
    "\n",
    "kept = []\n",
    "for rmsd in rmsds:\n",
    "    kp = np.count_nonzero(prune_conformers_rmsd(data.atomcoords[0:n], data.atomnos, max_rmsd=rmsd)[1] == True)\n",
    "    kept.append(kp/n*100)\n",
    "    print(f\"{rmsd} A, kept {kp}/{n}\")\n",
    "\n",
    "plt.plot(rmsds, kept, label=\"old\")\n",
    "\n",
    "plt.ylabel(\"% kept\")\n",
    "plt.legend()"
   ]
  },
  {
   "cell_type": "code",
   "execution_count": 8,
   "metadata": {},
   "outputs": [],
   "source": [
    "@nb.njit(parallel=True)\n",
    "def similarity_mask_rmsd_group_cache_par(structures, in_mask, cache, k, rmsd_thr=0.25):\n",
    "    '''\n",
    "    '''\n",
    "    computed_pairs = List([List([(-1,-1)]) for _ in range(k)])\n",
    "    final_computed_pairs = List()\n",
    "    out_mask = np.empty(shape=structures.shape[0], dtype=np.bool_)\n",
    "    chunksize = int(len(structures) // k)\n",
    "\n",
    "    for chunk in prange(int(k)):\n",
    "        first = chunk*chunksize\n",
    "        if chunk == k-1:\n",
    "            last = len(structures)\n",
    "        else:\n",
    "            last = chunksize*(chunk+1)\n",
    "\n",
    "        # get the structure chunk\n",
    "        structures_chunk = structures[first:last]\n",
    "        # print(f\"k={k}, {len(structures)} structs, chunk {chunk}: [{first}:{last}]\")\n",
    "\n",
    "        # compare structures within that chunk and save results to mask\n",
    "        out_mask[first:last], computed_pairs[chunk] = similarity_mask_rmsd_cache(structures_chunk, in_mask[first:last], cache=cache, first_abs_index=first, rmsd_thr=rmsd_thr)\n",
    "        # out_mask[first:last], temp_computed_pairs = similarity_mask_rmsd_cache(structures_chunk, in_mask[first:last], cache=cache, first_abs_index=first, rmsd_thr=rmsd_thr)\n",
    "        # computed_pairs.extend(temp_computed_pairs)\n",
    "        # computed_pairs[] = ([(-1,-1)])\n",
    "    # print(len(chunks_pruned_structs), chunks_pruned_structs)\n",
    "    for L in computed_pairs:\n",
    "        final_computed_pairs.extend(L)\n",
    "    return out_mask, final_computed_pairs\n",
    "\n",
    "def prune_conformers_rmsd_routine_cache_par(structures, atomnos, rmsd_thr=0.25):\n",
    "    '''\n",
    "    '''\n",
    "\n",
    "    # only consider non-hydrogen atoms\n",
    "    heavy_atoms = (atomnos != 1)\n",
    "    heavy_structures = np.array([structure[heavy_atoms] for structure in structures])\n",
    "\n",
    "    # initialize the output mask\n",
    "    out_mask = np.ones(shape=structures.shape[0], dtype=np.bool_)\n",
    "    cache = List([(-1,-1)])\n",
    "\n",
    "    # split the structure array in subgroups and prune them internally\n",
    "    for k in (5e5, 2e5, 1e5, 5e4, 2e4, 1e4,\n",
    "              5000, 2000, 1000, 500, 200, 100,\n",
    "              50, 20, 10, 5, 2, 1):\n",
    "        \n",
    "        # choose only k values such that every subgroup\n",
    "        # has at least five structures in it\n",
    "        if k == 1 or 5*k < len(structures):\n",
    "\n",
    "            # compute similarities and get back the out_mask\n",
    "            # and the pairings to be added to cache\n",
    "            out_mask, computed_pairs = similarity_mask_rmsd_group_cache_par(\n",
    "                                                                            heavy_structures,\n",
    "                                                                            out_mask,\n",
    "                                                                            cache=cache,\n",
    "                                                                            k=k,\n",
    "                                                                            rmsd_thr=rmsd_thr,\n",
    "                                                                            )\n",
    "            # extend the cache set with the new pairings we computed\n",
    "            cache.extend(computed_pairs)\n",
    "\n",
    "    return structures[out_mask], out_mask\n",
    "\n",
    "_, mask = prune_conformers_rmsd_routine_cache_par(data.atomcoords[0:50], data.atomnos, rmsd_thr=0.25)"
   ]
  },
  {
   "cell_type": "code",
   "execution_count": 23,
   "metadata": {},
   "outputs": [
    {
     "name": "stdout",
     "output_type": "stream",
     "text": [
      "CPU times: user 33.7 s, sys: 2.68 s, total: 36.4 s\n",
      "Wall time: 6.96 s\n"
     ]
    }
   ],
   "source": [
    "%%time\n",
    "n = 10000\n",
    "rmsds = (0.25, 0.5, 0.75, 1, 1.5, 2, 2.5)\n",
    "for rmsd in rmsds:\n",
    "    prune_conformers_rmsd_routine_cache_par(data.atomcoords[0:n], data.atomnos, rmsd_thr=rmsd)"
   ]
  },
  {
   "cell_type": "code",
   "execution_count": 22,
   "metadata": {},
   "outputs": [
    {
     "name": "stdout",
     "output_type": "stream",
     "text": [
      "CPU times: user 7.47 s, sys: 0 ns, total: 7.47 s\n",
      "Wall time: 8.1 s\n"
     ]
    }
   ],
   "source": [
    "%%time\n",
    "n = 10000\n",
    "rmsds = (0.25, 0.5, 0.75, 1, 1.5, 2, 2.5)\n",
    "for rmsd in rmsds:\n",
    "    prune_conformers_rmsd_routine_cache(data.atomcoords[0:n], data.atomnos, rmsd_thr=rmsd)"
   ]
  },
  {
   "cell_type": "code",
   "execution_count": 15,
   "metadata": {},
   "outputs": [
    {
     "data": {
      "text/plain": [
       "True"
      ]
     },
     "execution_count": 15,
     "metadata": {},
     "output_type": "execute_result"
    }
   ],
   "source": [
    "_, mask1 = prune_conformers_rmsd_routine_cache(data.atomcoords[0:100], data.atomnos, rmsd_thr=0.5)\n",
    "_, mask2 = prune_conformers_rmsd_routine_cache_par(data.atomcoords[0:100], data.atomnos, rmsd_thr=0.5)\n",
    "all(m1 == m2 for m1, m2 in zip(mask1, mask2))"
   ]
  },
  {
   "cell_type": "code",
   "execution_count": 24,
   "metadata": {},
   "outputs": [
    {
     "name": "stdout",
     "output_type": "stream",
     "text": [
      "1.02 s ± 36.3 ms per loop (mean ± std. dev. of 7 runs, 1 loop each)\n"
     ]
    }
   ],
   "source": [
    "%%timeit\n",
    "prune_conformers_rmsd_routine_cache(data.atomcoords, data.atomnos, rmsd_thr=1.0)"
   ]
  },
  {
   "cell_type": "code",
   "execution_count": 38,
   "metadata": {},
   "outputs": [
    {
     "name": "stdout",
     "output_type": "stream",
     "text": [
      "607 ms ± 22.8 ms per loop (mean ± std. dev. of 7 runs, 1 loop each)\n"
     ]
    }
   ],
   "source": [
    "%%timeit\n",
    "prune_conformers_rmsd_routine_cache_par(data.atomcoords, data.atomnos, rmsd_thr=1.0)"
   ]
  },
  {
   "cell_type": "code",
   "execution_count": 40,
   "metadata": {},
   "outputs": [
    {
     "name": "stdout",
     "output_type": "stream",
     "text": [
      "20.8 s ± 459 ms per loop (mean ± std. dev. of 7 runs, 1 loop each)\n"
     ]
    }
   ],
   "source": [
    "%%timeit\n",
    "prune_conformers_rmsd(data.atomcoords, data.atomnos, max_rmsd=1.0)"
   ]
  },
  {
   "cell_type": "code",
   "execution_count": 41,
   "metadata": {},
   "outputs": [
    {
     "data": {
      "text/plain": [
       "34.2668863261944"
      ]
     },
     "execution_count": 41,
     "metadata": {},
     "output_type": "execute_result"
    }
   ],
   "source": [
    "20.8/0.607"
   ]
  },
  {
   "cell_type": "code",
   "execution_count": 27,
   "metadata": {},
   "outputs": [],
   "source": [
    "%load_ext memory_profiler"
   ]
  },
  {
   "cell_type": "code",
   "execution_count": 29,
   "metadata": {},
   "outputs": [
    {
     "name": "stdout",
     "output_type": "stream",
     "text": [
      "peak memory: 464.88 MiB, increment: 0.00 MiB\n"
     ]
    }
   ],
   "source": [
    "%%memit\n",
    "prune_conformers_rmsd_routine_cache(data.atomcoords, data.atomnos, rmsd_thr=1.0)"
   ]
  },
  {
   "cell_type": "code",
   "execution_count": 33,
   "metadata": {},
   "outputs": [
    {
     "name": "stdout",
     "output_type": "stream",
     "text": [
      "peak memory: 497.38 MiB, increment: 0.00 MiB\n"
     ]
    }
   ],
   "source": [
    "%%memit\n",
    "prune_conformers_rmsd_routine_cache_par(data.atomcoords, data.atomnos, rmsd_thr=1.0)"
   ]
  },
  {
   "cell_type": "code",
   "execution_count": 2,
   "metadata": {},
   "outputs": [
    {
     "data": {
      "text/plain": [
       "(4, 21, 3)"
      ]
     },
     "execution_count": 2,
     "metadata": {},
     "output_type": "execute_result"
    }
   ],
   "source": [
    "from tscode.utils import read_xyz\n",
    "cy = read_xyz(f\"/mnt/c/Users/Nick/Desktop/Computations/debug/MeCy_confs.xyz\")\n",
    "cy.atomcoords.shape"
   ]
  },
  {
   "cell_type": "code",
   "execution_count": 4,
   "metadata": {},
   "outputs": [
    {
     "name": "stdout",
     "output_type": "stream",
     "text": [
      "RMSD_THR 0.25, kept 4/4\n",
      "RMSD_THR 0.5, kept 4/4\n",
      "RMSD_THR 0.75, kept 3/4\n",
      "RMSD_THR 1, kept 2/4\n",
      "RMSD_THR 1.25, kept 2/4\n",
      "RMSD_THR 1.5, kept 2/4\n"
     ]
    }
   ],
   "source": [
    "from tscode.rmsd_pruning import prune_conformers_rmsd\n",
    "import numpy as np\n",
    "\n",
    "for rmsd in (0.25, 0.5, 0.75, 1, 1.25, 1.5):\n",
    "    _, mask = prune_conformers_rmsd(cy.atomcoords, cy.atomnos, rmsd_thr=rmsd)\n",
    "    print(f\"RMSD_THR {rmsd}, kept {np.count_nonzero(mask)}/4\")"
   ]
  },
  {
   "cell_type": "markdown",
   "metadata": {},
   "source": [
    "### CENSO cpu test"
   ]
  },
  {
   "cell_type": "code",
   "execution_count": 25,
   "metadata": {},
   "outputs": [
    {
     "data": {
      "text/plain": [
       "<matplotlib.legend.Legend at 0x7f842dc47a30>"
      ]
     },
     "execution_count": 25,
     "metadata": {},
     "output_type": "execute_result"
    },
    {
     "data": {
      "image/png": "[encoded data removed]",
      "text/plain": [
       "<Figure size 640x480 with 1 Axes>"
      ]
     },
     "metadata": {},
     "output_type": "display_data"
    }
   ],
   "source": [
    "import matplotlib.pyplot as plt\n",
    "c = [1,2,3,4,5,6]\n",
    "t = [9*60+33, 6*60+3, 4*60+25, 3*60+21, 3*60+2, 2*60+13]\n",
    "s = [t_*c_ for t_, c_ in zip(t,c)]\n",
    "plt.plot(c,s, label=\"Comput. efficiency (lower is better)\")\n",
    "plt.plot(c,t, label=\"Time (lower is better)\")\n",
    "plt.xlabel(\"Cores\")\n",
    "plt.ylabel(\"Wall time (s)\")\n",
    "plt.legend()"
   ]
  },
  {
   "cell_type": "code",
   "execution_count": 22,
   "metadata": {},
   "outputs": [
    {
     "name": "stdout",
     "output_type": "stream",
     "text": [
      "1 cores, 36 concurrent: 1 h 46 m 6.7 s\n",
      "2 cores, 18 concurrent: 2 h 14 m 26.7 s\n",
      "3 cores, 12 concurrent: 2 h 27 m 13.3 s\n",
      "4 cores, 9 concurrent: 2 h 28 m 53.3 s\n",
      "5 cores, 7 concurrent: 2 h 48 m 31.1 s\n",
      "6 cores, 6 concurrent: 2 h 27 m 46.7 s\n"
     ]
    }
   ],
   "source": [
    "from tscode.utils import time_to_string\n",
    "\n",
    "n_structs = 400\n",
    "procs = 36\n",
    "\n",
    "for procs_per_job in range(1,7):\n",
    "    n_concurrent = procs/procs_per_job\n",
    "    print(f\"{procs_per_job} cores, {int(n_concurrent)} concurrent: {time_to_string(t[procs_per_job-1]*n_structs/(n_concurrent))}\")"
   ]
  },
  {
   "cell_type": "markdown",
   "metadata": {},
   "source": [
    "### XTB cpu test"
   ]
  },
  {
   "cell_type": "code",
   "execution_count": 39,
   "metadata": {},
   "outputs": [
    {
     "data": {
      "text/plain": [
       "<matplotlib.legend.Legend at 0x7f842ca08fd0>"
      ]
     },
     "execution_count": 39,
     "metadata": {},
     "output_type": "execute_result"
    },
    {
     "data": {
      "image/png": "[encoded data removed]",
      "text/plain": [
       "<Figure size 640x480 with 1 Axes>"
      ]
     },
     "metadata": {},
     "output_type": "display_data"
    }
   ],
   "source": [
    "import matplotlib.pyplot as plt\n",
    "import numpy as np\n",
    "c = [1,2,4]\n",
    "t = [30.3, 39.2, 100]\n",
    "s = [t_*c_ for t_, c_ in zip(t,c)]\n",
    "plt.plot(c,s, label=\"Comput. efficiency (lower is better)\")\n",
    "plt.plot(c,t, label=\"Time (lower is better)\")\n",
    "plt.xlabel(\"Cores\")\n",
    "plt.ylabel(\"Wall time (s)\")\n",
    "plt.legend()"
   ]
  },
  {
   "cell_type": "code",
   "execution_count": 32,
   "metadata": {},
   "outputs": [
    {
     "data": {
      "text/plain": [
       "'10 h 13 m 38.2 s'"
      ]
     },
     "execution_count": 32,
     "metadata": {},
     "output_type": "execute_result"
    }
   ],
   "source": [
    "time_to_string(45_000*45_000*1/55000)"
   ]
  },
  {
   "cell_type": "code",
   "execution_count": 35,
   "metadata": {},
   "outputs": [
    {
     "data": {
      "text/plain": [
       "18.18181818181818"
      ]
     },
     "execution_count": 35,
     "metadata": {},
     "output_type": "execute_result"
    }
   ],
   "source": [
    "1/55000*1000*1000"
   ]
  },
  {
   "cell_type": "code",
   "execution_count": 48,
   "metadata": {},
   "outputs": [
    {
     "data": {
      "text/plain": [
       "<matplotlib.legend.Legend at 0x7f842c612d30>"
      ]
     },
     "execution_count": 48,
     "metadata": {},
     "output_type": "execute_result"
    },
    {
     "data": {
      "image/png": "[encoded data removed]",
      "text/plain": [
       "<Figure size 640x480 with 1 Axes>"
      ]
     },
     "metadata": {},
     "output_type": "display_data"
    }
   ],
   "source": [
    "t_rmsd = 18E-6\n",
    "t_opt = 0.1\n",
    "t_opt2 = 7\n",
    "\n",
    "x = np.arange(3E4)\n",
    "y_rmsd_100 = x**2 * t_rmsd\n",
    "y_rmsd_50 = y_rmsd_100 / 2**2\n",
    "y_opt = x * t_opt\n",
    "y_opt2 = x * t_opt2\n",
    "\n",
    "# plt.plot(x, y_rmsd_100, label=\"rmsd, 100%\")\n",
    "plt.plot(x, y_rmsd_50, label=\"rmsd, 50%\")\n",
    "plt.plot(x, y_opt, label=\"ff opt\")\n",
    "plt.legend()"
   ]
  },
  {
   "cell_type": "code",
   "execution_count": 5,
   "metadata": {},
   "outputs": [
    {
     "data": {
      "text/plain": [
       "(4, 21, 3)"
      ]
     },
     "execution_count": 5,
     "metadata": {},
     "output_type": "execute_result"
    }
   ],
   "source": [
    "from tscode.utils import read_xyz\n",
    "from tscode.rmsd_pruning import prune_conformers_rmsd\n",
    "import numpy as np\n",
    "\n",
    "sample = read_xyz(f\"/mnt/c/Users/Nick/Desktop/Computations/debug/MeCy_confs.xyz\")\n",
    "sample.atomcoords.shape"
   ]
  },
  {
   "cell_type": "code",
   "execution_count": 6,
   "metadata": {},
   "outputs": [
    {
     "name": "stdout",
     "output_type": "stream",
     "text": [
      "RMSD_THR 0.5, kept 4/10\n",
      "RMSD_THR 0.75, kept 3/10\n",
      "RMSD_THR 1, kept 2/10\n",
      "RMSD_THR 1.25, kept 2/10\n",
      "RMSD_THR 1.5, kept 2/10\n",
      "RMSD_THR 2, kept 2/10\n",
      "RMSD_THR 2.5, kept 2/10\n",
      "RMSD_THR 3, kept 2/10\n",
      "RMSD_THR 3.5, kept 1/10\n",
      "RMSD_THR 4, kept 1/10\n"
     ]
    }
   ],
   "source": [
    "for rmsd in (0.5, 0.75, 1, 1.25, 1.5, 2, 2.5, 3, 3.5, 4):\n",
    "    _, mask = prune_conformers_rmsd(sample.atomcoords, sample.atomnos, rmsd_thr=rmsd)\n",
    "    print(f\"RMSD_THR {rmsd}, kept {np.count_nonzero(mask)}/10\")"
   ]
  },
  {
   "cell_type": "code",
   "execution_count": 23,
   "metadata": {},
   "outputs": [
    {
     "data": {
      "text/plain": [
       "['F1.xyz',\n",
       " 'F10.xyz',\n",
       " 'F11.xyz',\n",
       " 'F12.xyz',\n",
       " 'F13.xyz',\n",
       " 'F2.xyz',\n",
       " 'F3.xyz',\n",
       " 'F4.xyz',\n",
       " 'F5.xyz',\n",
       " 'F6.xyz',\n",
       " 'F7.xyz',\n",
       " 'F8.xyz',\n",
       " 'F9.xyz',\n",
       " 'S1.xyz',\n",
       " 'S1prime.xyz',\n",
       " 'S1prime_trans.xyz',\n",
       " 'S2.xyz',\n",
       " 'S2prime.xyz',\n",
       " 'S2prime_trans.xyz',\n",
       " 'S3.xyz',\n",
       " 'S3prime.xyz',\n",
       " 'S3prime_trans.xyz',\n",
       " 'S4.xyz',\n",
       " 'S4prime.xyz',\n",
       " 'S4prime_trans.xyz',\n",
       " 'S5.xyz',\n",
       " 'S5prime.xyz',\n",
       " 'S5_ent.xyz',\n",
       " 'S5_mep.xyz',\n",
       " 'S5_ts_guess.xyz',\n",
       " 'S5_tub.xyz',\n",
       " 'S6.xyz',\n",
       " 'S6prime.xyz',\n",
       " 'S7.xyz',\n",
       " 'S7prime.xyz']"
      ]
     },
     "execution_count": 23,
     "metadata": {},
     "output_type": "execute_result"
    }
   ],
   "source": [
    "from tscode.utils import read_xyz\n",
    "import os\n",
    "os.chdir(\"/mnt/c/Users/Nick/Desktop/Computations/7_mem_targets/strain_energy\")\n",
    "filenames = []\n",
    "for file in os.listdir():\n",
    "    if file.endswith(\".xyz\"):\n",
    "        filenames.append(file)\n",
    "\n",
    "filenames"
   ]
  },
  {
   "cell_type": "code",
   "execution_count": 24,
   "metadata": {},
   "outputs": [],
   "source": [
    "mols = [read_xyz(filename) for filename in filenames]"
   ]
  },
  {
   "cell_type": "code",
   "execution_count": 19,
   "metadata": {},
   "outputs": [],
   "source": [
    "from tscode.pt import pt"
   ]
  },
  {
   "cell_type": "code",
   "execution_count": 31,
   "metadata": {},
   "outputs": [
    {
     "data": {
      "text/plain": [
       "'passed 35/35'"
      ]
     },
     "execution_count": 31,
     "metadata": {},
     "output_type": "execute_result"
    }
   ],
   "source": [
    "import numpy as np\n",
    "\n",
    "def _saturation_index(atomnos):\n",
    "        # does not work with P/S(?) - they can be either hypervalent or not\n",
    "        C = np.count_nonzero(atomnos == 6)\n",
    "        H = np.count_nonzero(atomnos == 1)\n",
    "        N = np.count_nonzero(atomnos == 7)\n",
    "        O = np.count_nonzero(atomnos == 8)\n",
    "        F = np.count_nonzero(atomnos == 9)\n",
    "        Cl = np.count_nonzero(atomnos == 17)\n",
    "        Br = np.count_nonzero(atomnos == 35)\n",
    "        I = np.count_nonzero(atomnos == 53)\n",
    "\n",
    "        SI = C - (H + F + Cl + Br + I)/2 + N/2 + 1\n",
    "\n",
    "        proper = True if C + N + O != 0 else False\n",
    "\n",
    "        if proper:\n",
    "            return SI\n",
    "\n",
    "        return 0.5\n",
    "\n",
    "\n",
    "def _saturation_check(atomnos, charge=0, embedder=None):\n",
    "\n",
    "    transition_metals = [\n",
    "                    \"Sc\", \"Ti\", \"V\", \"Cr\", \"Mn\", \"Fe\",\n",
    "                    \"Co\", \"Ni\", \"Cu\", \"Zn\", \"Y\", \"Zr\",\n",
    "                    \"Nb\", \"Mo\", \"Tc\", \"Ru\", \"Rh\", \"Pd\",\n",
    "                    \"Ag\", \"Cd\", \"La\", \"Ce\", \"Pr\", \"Nd\",\n",
    "                    \"Pm\", \"Sm\", \"Eu\", \"Gd\", \"Tb\", \"Dy\",\n",
    "                    \"Ho\", \"Er\", \"Tm\", \"Yb\", \"Lu\", \"Hf\",\n",
    "                    \"Ta\", \"W\", \"Re\", \"Os\", \"Ir\", \"Pt\",\n",
    "                    \"Au\", \"Hg\", \"Th\", \"Pa\", \"U\", \"Np\",\n",
    "                    \"Pu\", \"Am\", \n",
    "    ]\n",
    "\n",
    "    # if we have any transition metal, it's hard to tell\n",
    "    # if the structure looks ok: in this case we assume it is.\n",
    "    organometallic = any([pt[a].symbol in transition_metals for a in atomnos])\n",
    "\n",
    "    odd_valent = [  #1 valent\n",
    "                    \"H\", \"Li\", \"Na\", \"K\", \"Rb\", \"Cs\",\n",
    "                    \"F\", \"Cl\", \"Br\", \"I\", \"At\",\n",
    "\n",
    "                    # 3/5 valent\n",
    "                    \"N\", \"P\", \"As\", \"Sb\", \"Bi\",\n",
    "                    \"B\", \"Al\", \"Ga\", \"In\", \"Tl\",\n",
    "                 ]\n",
    "\n",
    "    n_odd_valent = sum([1 for a in atomnos if pt[a].symbol in odd_valent])\n",
    "    looks_ok = ((n_odd_valent + charge) / 2) % 1 < 0.001 if not organometallic else True\n",
    "\n",
    "    if embedder is not None:\n",
    "        if looks_ok:\n",
    "            embedder.log(f\"--> Molecular check passed: input structure has an even saturation index\")\n",
    "\n",
    "        else:\n",
    "            s = f\"--> WARNING! Molecular check failed: input structure has an odd saturation index (charge={charge}). Radical or bad input geometry?\"\n",
    "            embedder.log(s)\n",
    "            embedder.warnings.append(s)\n",
    "\n",
    "    return looks_ok\n",
    "\n",
    "\n",
    "passed = np.count_nonzero([_saturation_check(mol.atomnos) for mol in mols])\n",
    "f\"passed {passed}/{len(mols)}\""
   ]
  },
  {
   "cell_type": "code",
   "execution_count": 27,
   "metadata": {},
   "outputs": [
    {
     "data": {
      "text/plain": [
       "0.5"
      ]
     },
     "execution_count": 27,
     "metadata": {},
     "output_type": "execute_result"
    }
   ],
   "source": [
    "46.5 % 1"
   ]
  },
  {
   "cell_type": "markdown",
   "metadata": {},
   "source": [
    "## safest opt"
   ]
  },
  {
   "cell_type": "code",
   "execution_count": 1,
   "metadata": {},
   "outputs": [
    {
     "data": {
      "text/plain": [
       "[195]"
      ]
     },
     "execution_count": 1,
     "metadata": {},
     "output_type": "execute_result"
    }
   ],
   "source": [
    "from tscode.utils import read_xyz, write_xyz\n",
    "from tscode.numba_functions import compenetration_check\n",
    "import numpy as np\n",
    "\n",
    "mol = read_xyz('/mnt/c/Users/Nick/Downloads/report_mtd_confs.xyz')\n",
    "comp = [c for c, coords in enumerate(mol.atomcoords) if not compenetration_check(coords)]\n",
    "comp"
   ]
  },
  {
   "cell_type": "code",
   "execution_count": 28,
   "metadata": {},
   "outputs": [
    {
     "name": "stdout",
     "output_type": "stream",
     "text": [
      "Comp are 0/1140\n"
     ]
    }
   ],
   "source": [
    "mol2 = read_xyz('/mnt/c/Users/Nick/Downloads/dixon_mtd_confs.xyz')\n",
    "comp = [c for c, coords in enumerate(mol2.atomcoords) if not compenetration_check(coords)]\n",
    "print(f\"Comp are {len(comp)}/{len(mol2.atomcoords)}\")"
   ]
  },
  {
   "cell_type": "code",
   "execution_count": 3,
   "metadata": {},
   "outputs": [
    {
     "name": "stdout",
     "output_type": "stream",
     "text": [
      "\n"
     ]
    }
   ],
   "source": [
    "from tscode.calculators._xtb import xtb_pre_opt, xtb_opt\n",
    "from tscode.utils import graphize\n",
    "\n",
    "graph = graphize(mol.atomcoords[0], mol.atomnos)\n",
    "opt_coords, _, _ = xtb_pre_opt(mol.atomcoords[195], mol.atomnos, [graph], method=\"GFN-FF\", solvent=\"CH2Cl2\")\n",
    "\n",
    "with open('/mnt/c/Users/Nick/Downloads/safe.xyz', 'w') as f:\n",
    "    write_xyz(opt_coords, mol.atomnos, f)"
   ]
  },
  {
   "cell_type": "code",
   "execution_count": 5,
   "metadata": {},
   "outputs": [
    {
     "name": "stdout",
     "output_type": "stream",
     "text": [
      "\n"
     ]
    }
   ],
   "source": [
    "opt_coords, _, _ = xtb_opt(mol.atomcoords[195], mol.atomnos, method=\"GFN-FF\", solvent=\"CH2Cl2\")\n",
    "\n",
    "with open('/mnt/c/Users/Nick/Downloads/free.xyz', 'w') as f:\n",
    "    write_xyz(opt_coords, mol.atomnos, f)"
   ]
  },
  {
   "cell_type": "code",
   "execution_count": 26,
   "metadata": {},
   "outputs": [
    {
     "name": "stdout",
     "output_type": "stream",
     "text": [
      "\n"
     ]
    }
   ],
   "source": [
    "opt_coords, _, _ = xtb_opt(mol.atomcoords[195], mol.atomnos, method=\"GFN2-XTB\", solvent=\"CH2Cl2\")\n",
    "\n",
    "with open('/mnt/c/Users/Nick/Downloads/free_gfn2.xyz', 'w') as f:\n",
    "    write_xyz(opt_coords, mol.atomnos, f)"
   ]
  },
  {
   "cell_type": "code",
   "execution_count": 10,
   "metadata": {},
   "outputs": [
    {
     "data": {
      "text/plain": [
       "[]"
      ]
     },
     "execution_count": 10,
     "metadata": {},
     "output_type": "execute_result"
    }
   ],
   "source": [
    "graph0 = graphize(mol.atomcoords[0], mol.atomnos)\n",
    "graph195 = graphize(mol.atomcoords[195], mol.atomnos)\n",
    "get_extra_bonds(graph195, graph0)"
   ]
  },
  {
   "cell_type": "code",
   "execution_count": 23,
   "metadata": {},
   "outputs": [
    {
     "data": {
      "text/plain": [
       "0.8509350561494103"
      ]
     },
     "execution_count": 23,
     "metadata": {},
     "output_type": "execute_result"
    }
   ],
   "source": [
    "from tscode.algebra import norm_of\n",
    "norm_of(mol.atomcoords[195][24]-mol.atomcoords[195][71])"
   ]
  },
  {
   "cell_type": "code",
   "execution_count": 17,
   "metadata": {},
   "outputs": [
    {
     "data": {
      "text/plain": [
       "245"
      ]
     },
     "execution_count": 17,
     "metadata": {},
     "output_type": "execute_result"
    }
   ],
   "source": [
    "len(graph195.edges)"
   ]
  },
  {
   "cell_type": "code",
   "execution_count": 25,
   "metadata": {},
   "outputs": [
    {
     "data": {
      "text/plain": [
       "0.744"
      ]
     },
     "execution_count": 25,
     "metadata": {},
     "output_type": "execute_result"
    }
   ],
   "source": [
    "d_min_bond(1,1)"
   ]
  },
  {
   "cell_type": "code",
   "execution_count": 24,
   "metadata": {},
   "outputs": [],
   "source": [
    "from tscode.graph_manipulations import get_sum_graph, d_min_bond\n",
    "\n",
    "def get_extra_bonds(graph, ref_graph):\n",
    "    '''\n",
    "    returns a list of atomic pairs that appear at a bonding\n",
    "    distance even though they should not based on the \n",
    "    reference molecular graph.\n",
    "\n",
    "    '''\n",
    "    return [edge for edge in graph.edges if edge not in ref_graph.edges]\n",
    "\n",
    "def xtb_safe_opt(\n",
    "                coords,\n",
    "                atomnos, \n",
    "                graphs,\n",
    "                constrained_indices=None,\n",
    "                constrained_distances=None, \n",
    "                **kwargs,\n",
    "                ):\n",
    "    '''\n",
    "    Wrapper for xtb_opt that:\n",
    "    - preserves the distance of every bond present in each subgraph provided.\n",
    "    - repels atoms that should not be bonded if they are too close.\n",
    "\n",
    "    graphs: list of subgraphs that make up coords, in order\n",
    "\n",
    "    '''\n",
    "    sum_graph = get_sum_graph(graphs, extra_edges=constrained_indices)\n",
    "\n",
    "    # we have to check through a list this way, as I have not found\n",
    "    # an analogous way to check through an array for subarrays in a nice way\n",
    "    list_of_constr_ids = [[a,b] for a, b in constrained_indices] if constrained_indices is not None else []\n",
    "\n",
    "    constrain_string = \"$constrain\\n\"\n",
    "    for constraint in [[a, b] for (a, b) in sum_graph.edges if a!=b]:\n",
    "\n",
    "        if constrained_distances is None:\n",
    "            distance = 'auto'\n",
    "\n",
    "        elif constraint in list_of_constr_ids:\n",
    "            distance = constrained_distances[list_of_constr_ids.index(constraint)]\n",
    "\n",
    "        else:\n",
    "            distance = 'auto'\n",
    "\n",
    "        indices_string = str([i+1 for i in constraint]).strip(\"[\").strip(\"]\")\n",
    "        constrain_string += f\"  distance: {indices_string}, {distance}\\n\"\n",
    "    constrain_string += \"\\n$end\"\n",
    "\n",
    "    return xtb_opt(\n",
    "                    coords,\n",
    "                    atomnos,\n",
    "                    constrained_indices=constrained_indices,\n",
    "                    constrained_distances=constrained_distances,\n",
    "                    constrain_string=constrain_string,\n",
    "                    **kwargs,\n",
    "                )"
   ]
  },
  {
   "cell_type": "code",
   "execution_count": null,
   "metadata": {},
   "outputs": [],
   "source": []
  }
 ],
 "metadata": {
  "kernelspec": {
   "display_name": "tscode",
   "language": "python",
   "name": "python3"
  },
  "language_info": {
   "codemirror_mode": {
    "name": "ipython",
    "version": 3
   },
   "file_extension": ".py",
   "mimetype": "text/x-python",
   "name": "python",
   "nbconvert_exporter": "python",
   "pygments_lexer": "ipython3",
   "version": "3.8.18"
  }
 },
 "nbformat": 4,
 "nbformat_minor": 2
}
