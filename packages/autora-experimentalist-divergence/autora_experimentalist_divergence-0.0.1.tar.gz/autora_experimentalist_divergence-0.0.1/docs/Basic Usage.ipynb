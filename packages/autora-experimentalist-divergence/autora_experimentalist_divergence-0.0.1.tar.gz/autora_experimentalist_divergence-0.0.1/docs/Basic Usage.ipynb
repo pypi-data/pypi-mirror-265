{
 "cells": [
  {
   "attachments": {},
   "cell_type": "markdown",
   "metadata": {
    "collapsed": false
   },
   "source": [
    "# Basic Usage\n",
    "\n",
    "This sampler aims to combine novelty of conditions and uncertainty into a single distance metric. To use it, we need both: an existing model (for example the best one so far) and existing experimental data. Here, we show a toy example with a linear regressor as model and random experiment data.\n",
    "\n",
    "## Imports"
   ]
  },
  {
   "cell_type": "code",
   "execution_count": null,
   "metadata": {
    "collapsed": false,
    "pycharm": {
     "is_executing": true
    }
   },
   "outputs": [],
   "source": [
    "import numpy as np\n",
    "\n",
    "from sklearn.linear_model import LinearRegression\n",
    "\n",
    "from autora.variable import Variable, VariableCollection\n",
    "from autora.experimentalist.autora_experimentalist_divergence import sample\n",
    "from autora.experimentalist import grid, random"
   ]
  },
  {
   "cell_type": "markdown",
   "source": [
    "Declare the variables"
   ],
   "metadata": {
    "collapsed": false
   }
  },
  {
   "cell_type": "code",
   "execution_count": null,
   "outputs": [],
   "source": [
    "x_1 = Variable(name='x_1', value_range=(0, 100), allowed_values=np.linspace(0, 100, 10))\n",
    "x_2 = Variable(name='x_2', value_range=(0, 1), allowed_values=np.linspace(0, 1, 10))\n",
    "y = Variable(name='y', value_range=(0,2))\n",
    "v_collection = VariableCollection(independent_variables=[x_1, x_2], dependent_variables=[y])"
   ],
   "metadata": {
    "collapsed": false
   }
  },
  {
   "cell_type": "markdown",
   "source": [
    " Create a pool"
   ],
   "metadata": {
    "collapsed": false
   }
  },
  {
   "cell_type": "code",
   "execution_count": null,
   "outputs": [],
   "source": [
    "pool = grid.pool(v_collection)\n",
    "print(pool)"
   ],
   "metadata": {
    "collapsed": false
   }
  },
  {
   "cell_type": "markdown",
   "source": [
    "We create a random set for the experiment data. First randomly sample conditiont"
   ],
   "metadata": {
    "collapsed": false
   }
  },
  {
   "cell_type": "code",
   "execution_count": null,
   "outputs": [],
   "source": [
    "experiment_data_random = random.sample(pool, 5, 42)\n",
    "print(experiment_data_random)"
   ],
   "metadata": {
    "collapsed": false
   }
  },
  {
   "cell_type": "markdown",
   "source": [
    "Randomly add y's to the sample as experiment data"
   ],
   "metadata": {
    "collapsed": false
   }
  },
  {
   "cell_type": "code",
   "execution_count": null,
   "outputs": [],
   "source": [
    "np.random.seed(42)\n",
    "experiment_data_random['y'] = 2 * np.random.random(size=len(experiment_data_random))\n",
    "print(experiment_data_random)"
   ],
   "metadata": {
    "collapsed": false
   }
  },
  {
   "cell_type": "markdown",
   "source": [
    "As a model, we use a linear regressor"
   ],
   "metadata": {
    "collapsed": false
   }
  },
  {
   "cell_type": "code",
   "execution_count": null,
   "outputs": [],
   "source": [
    "model = LinearRegression()\n",
    "X = np.array(experiment_data_random[['x_1', 'x_2']])\n",
    "Y = np.array(experiment_data_random[['y']])\n",
    "print(X, Y)"
   ],
   "metadata": {
    "collapsed": false
   }
  },
  {
   "cell_type": "markdown",
   "source": [
    " Fit the model"
   ],
   "metadata": {
    "collapsed": false
   }
  },
  {
   "cell_type": "code",
   "execution_count": null,
   "outputs": [],
   "source": [
    "model.fit(X, Y)"
   ],
   "metadata": {
    "collapsed": false
   }
  },
  {
   "cell_type": "markdown",
   "source": [
    "Now, we can sample new conditions based on the exiting experiment data and predictions from the model."
   ],
   "metadata": {
    "collapsed": false
   }
  },
  {
   "cell_type": "code",
   "execution_count": null,
   "outputs": [],
   "source": [
    "new_conditions =sample(variables=v_collection, conditions=pool,experiment_data=experiment_data_random, models=[model],num_samples=5)\n",
    "print(new_conditions)"
   ],
   "metadata": {
    "collapsed": false
   }
  },
  {
   "cell_type": "markdown",
   "source": [
    "It is advised to use normalization. This normalizes the variables so that each iv and dv has the same impact on the distance but we can also sample without normalization:"
   ],
   "metadata": {
    "collapsed": false
   }
  },
  {
   "cell_type": "code",
   "execution_count": null,
   "outputs": [],
   "source": [
    "new_conditions = sample(variables=v_collection, conditions=pool,experiment_data=experiment_data_random, models=[model], num_samples=5, normalize=False)\n",
    "print(new_conditions)"
   ],
   "metadata": {
    "collapsed": false
   }
  }
 ],
 "metadata": {
  "kernelspec": {
   "display_name": "Python 3",
   "language": "python",
   "name": "python3"
  },
  "language_info": {
   "codemirror_mode": {
    "name": "ipython",
    "version": 2
   },
   "file_extension": ".py",
   "mimetype": "text/x-python",
   "name": "python",
   "nbconvert_exporter": "python",
   "pygments_lexer": "ipython2",
   "version": "2.7.6"
  }
 },
 "nbformat": 4,
 "nbformat_minor": 0
}
