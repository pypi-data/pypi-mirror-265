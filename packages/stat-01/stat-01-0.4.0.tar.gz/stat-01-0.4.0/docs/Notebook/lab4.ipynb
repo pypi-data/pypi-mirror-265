{
  "cells": [
    {
      "cell_type": "markdown",
      "id": "cb033d0d",
      "metadata": {},
      "source": [
        "# Lab 4\n",
        "\n",
        "[![image](https://colab.research.google.com/assets/colab-badge.svg)](https://colab.research.google.com/github/TMD233/stat-01/blob/main/docs/Notebook/lab4.ipynb)\n",
        "\n",
        "## Submission instructions\n",
        "\n",
        "1. Download the notebook from https://geohey.gishub.org/labs/lab4\n",
        "2. Complete the lab questions\n",
        "3. Restart Kernel and Run All Cells\n",
        "4. Upload the notebook to your GitHub repository\n",
        "5. Make sure the notebook has an `Open In Colab` badge. Click on the badge to make sure your notebook can be opened in Colab.\n",
        "6. Submit the link to the notebook on your GitHub repository to Canvas"
      ]
    },
    {
      "cell_type": "code",
      "execution_count": null,
      "id": "1",
      "metadata": {
        "id": "1"
      },
      "outputs": [],
      "source": [
        "from datetime import datetime\n",
        "\n",
        "now = datetime.now()\n",
        "print(f\"Submitted time: {now}\")"
      ]
    },
    {
      "cell_type": "markdown",
      "id": "2",
      "metadata": {
        "id": "2"
      },
      "source": [
        "## Question 1\n",
        "\n",
        "**Personal Message:** Use a variable to represent a person’s name, and print a message to that person. Your message should be simple, such as, “Hello Eric, would you like to learn some Python today?”"
      ]
    },
    {
      "cell_type": "code",
      "execution_count": null,
      "id": "3",
      "metadata": {
        "id": "3"
      },
      "outputs": [],
      "source": [
        "name = \"Jing\"\n",
        "\n",
        "print(f\"hello{name}, would you like to learn some Python today?\")"
      ]
    },
    {
      "cell_type": "markdown",
      "id": "4",
      "metadata": {
        "id": "4"
      },
      "source": [
        "## Question 2\n",
        "\n",
        "**Name Cases:** Use a variable to represent a person’s name, and then print that person’s name in lowercase, uppercase, and title case."
      ]
    },
    {
      "cell_type": "code",
      "execution_count": null,
      "id": "5",
      "metadata": {
        "id": "5"
      },
      "outputs": [],
      "source": [
        "name = \"Jing\" \n",
        "print(name.lower())\n",
        "print(name.upper())\n",
        "print(name.title())"
      ]
    },
    {
      "cell_type": "markdown",
      "id": "6",
      "metadata": {
        "id": "6"
      },
      "source": [
        "## Question 3\n",
        "\n",
        "**Famous Quote:** Find a quote from a famous person you admire. Print the quote and the name of its author. Your output should look something like the following, including the quotation marks:\n",
        "\n",
        "```\n",
        "Albert Einstein once said, “A person who never made a mistake never tried anything new.”\n",
        "```"
      ]
    },
    {
      "cell_type": "code",
      "execution_count": null,
      "id": "7",
      "metadata": {
        "id": "7"
      },
      "outputs": [],
      "source": [
        "quote = \"A person who never made a mistake never tried anything new.\"\n",
        "author = \"Albert Einstein\"\n",
        "print(f\"{author} once said, \\\"{quote}\\\"\")"
      ]
    },
    {
      "cell_type": "markdown",
      "id": "8",
      "metadata": {
        "id": "8"
      },
      "source": [
        "## Question 4\n",
        "\n",
        "**Stripping Names:** Use a variable to represent a person’s name, and include some whitespace characters at the beginning and end of the name. Make sure you use each character combination, \"\\t\" and \"\\n\", at least once.\n",
        "Print the name once, so the whitespace around the name is displayed. Then print the name using each of the three stripping functions, lstrip(), rstrip(), and strip()."
      ]
    },
    {
      "cell_type": "code",
      "execution_count": null,
      "id": "9",
      "metadata": {
        "id": "9"
      },
      "outputs": [],
      "source": [
        "name = \"\\t\\n Yueqi Jing \\n\\t\"\n",
        "print(name)\n",
        "print(name.lstrip())\n",
        "print(name.rstrip())\n",
        "print(name.strip())"
      ]
    },
    {
      "cell_type": "markdown",
      "id": "10",
      "metadata": {
        "id": "10"
      },
      "source": [
        "## Question 5\n",
        "\n",
        "**Names:** Store the names of a few of your friends in a list called names. Print\n",
        "each person’s name by accessing each element in the list, one at a time."
      ]
    },
    {
      "cell_type": "code",
      "execution_count": null,
      "id": "11",
      "metadata": {
        "id": "11"
      },
      "outputs": [],
      "source": [
        "names = [\"Li\",\"Gao\",\"Zhang\",\"Jing\",\"sheng\"]\n",
        "for name in names:\n",
        "    print(name)"
      ]
    },
    {
      "cell_type": "markdown",
      "id": "12",
      "metadata": {
        "id": "12"
      },
      "source": [
        "## Question 6\n",
        "\n",
        "**Your Own List:** Think of your favorite mode of transportation, such as a motorcycle or a car, and make a list that stores several examples. Use your list to print a series of statements about these items, such as “I would like to own a Honda motorcycle.”"
      ]
    },
    {
      "cell_type": "code",
      "execution_count": null,
      "id": "13",
      "metadata": {
        "id": "13"
      },
      "outputs": [],
      "source": [
        "Cars = [\"Bmw\",\"Buick\",\"Honda\"]\n",
        "for car in Cars:\n",
        "    print(f\"I would like to own a {car}.\")"
      ]
    },
    {
      "cell_type": "markdown",
      "id": "14",
      "metadata": {
        "id": "14"
      },
      "source": [
        "## Question 7\n",
        "\n",
        "**Pizzas:** Think of at least three kinds of your favorite pizza. Store these pizza names in a list, and then use a for loop to print the name of each pizza.\n",
        "\n",
        "Modify your for loop to print a sentence using the name of the pizza instead of printing just the name of the pizza. For each pizza you should have one line of output containing a simple statement like _I like pepperoni pizza._"
      ]
    },
    {
      "cell_type": "code",
      "execution_count": null,
      "id": "15",
      "metadata": {
        "id": "15"
      },
      "outputs": [],
      "source": [
        "Pizzas = [\"Pepperoni\",\"Cheese\",\"Sausage\",\"Meatball\"]\n",
        "print(\"Names of my favorite pizzas:\")\n",
        "for pizza in Pizzas:\n",
        "    print(pizza)\n",
        "print(\"\\nSentences about my favorite pizzas:\")\n",
        "for pizza in Pizzas:\n",
        "    print(\"I like\", pizza, \"pizza.\")"
      ]
    },
    {
      "cell_type": "markdown",
      "id": "16",
      "metadata": {
        "id": "16"
      },
      "source": [
        "Add a line at the end of your program, outside the for loop, that states how much you like pizza. The output should consist of three or more lines about the kinds of pizza you like and then an additional sentence, such as _I really love pizza!_"
      ]
    },
    {
      "cell_type": "code",
      "execution_count": null,
      "id": "17",
      "metadata": {
        "id": "17"
      },
      "outputs": [],
      "source": [
        "print(\"\\nI really love pizza!\")"
      ]
    },
    {
      "cell_type": "markdown",
      "id": "18",
      "metadata": {
        "id": "18"
      },
      "source": [
        "## Question 8\n",
        "\n",
        "**Animals:** Think of at least three different animals that have a common characteristic. Store the names of these animals in a list, and then use a for loop to print out the name of each animal.\n",
        "\n",
        "Modify your program to print a statement about each animal, such as _A dog would make a great pet._"
      ]
    },
    {
      "cell_type": "code",
      "execution_count": null,
      "id": "19",
      "metadata": {
        "id": "19"
      },
      "outputs": [],
      "source": [
        "Pets = [\"Dog\",\"Cat\",\"Bird\"]\n",
        "print(\"Names of Pets:\")\n",
        "for animal in Pets:\n",
        "    print(animal)\n",
        "print(\"\\nStatements about Pets:\")\n",
        "for animal in Pets:\n",
        "    print(f\"A {animal.lower()} would make a great pet.\")"
      ]
    },
    {
      "cell_type": "markdown",
      "id": "20",
      "metadata": {
        "id": "20"
      },
      "source": [
        "Add a line at the end of your program stating what these animals have in common. You could print a sentence such as _Any of these animals would make a great pet!_"
      ]
    },
    {
      "cell_type": "code",
      "execution_count": null,
      "id": "21",
      "metadata": {
        "id": "21"
      },
      "outputs": [],
      "source": [
        "print(\"\\nAny of these animals would make a great pet!!\")"
      ]
    },
    {
      "cell_type": "markdown",
      "id": "22",
      "metadata": {
        "id": "22"
      },
      "source": [
        "## Question 9\n",
        "\n",
        "**Summing a Hundred:** Make a list of the numbers from one to one hundred, and then use `min()` and `max()` to make sure your list actually starts at one and ends at one hundred. Also, use the sum() function to see how quickly Python can add a hundred numbers."
      ]
    },
    {
      "cell_type": "code",
      "execution_count": null,
      "id": "23",
      "metadata": {
        "id": "23"
      },
      "outputs": [],
      "source": [
        "numbers = list(range(1, 101))\n",
        "print(\"Minimum number in the list:\", min(numbers))\n",
        "print(\"Maximum number in the list:\", max(numbers))\n",
        "print(\"Sum of numbers from 1 to 100:\", sum(numbers))\n"
      ]
    },
    {
      "cell_type": "markdown",
      "id": "24",
      "metadata": {
        "id": "24"
      },
      "source": [
        "## Question 10\n",
        "\n",
        "**Odd Numbers:** Use the third argument of the `range()` function to make a list of the odd numbers from 1 to 20. Use a `for` loop to print each number."
      ]
    },
    {
      "cell_type": "code",
      "execution_count": null,
      "id": "25",
      "metadata": {
        "id": "25"
      },
      "outputs": [],
      "source": [
        "odd_numbers = list(range(1, 21, 2))\n",
        "print(\"Odd numbers from 1 to 20:\")\n",
        "for number in odd_numbers:\n",
        "    print(number)"
      ]
    },
    {
      "cell_type": "markdown",
      "id": "26",
      "metadata": {
        "id": "26"
      },
      "source": [
        "## Question 11\n",
        "\n",
        "**Threes:** Make a list of the multiples of 3 from 3 to 30. Use a `for` loop to print the numbers in your list."
      ]
    },
    {
      "cell_type": "code",
      "execution_count": null,
      "id": "27",
      "metadata": {
        "id": "27"
      },
      "outputs": [],
      "source": [
        "multiples_of_3 = [num for num in range(3, 31, 3)]\n",
        "print(\"Multiples of 3 from 3 to 30:\")\n",
        "for number in multiples_of_3:\n",
        "    print(number)"
      ]
    },
    {
      "cell_type": "markdown",
      "id": "28",
      "metadata": {
        "id": "28"
      },
      "source": [
        "## Question 12\n",
        "\n",
        "**Cube Comprehension:** Use a list comprehension to generate a list of the first 10 cubes."
      ]
    },
    {
      "cell_type": "code",
      "execution_count": null,
      "id": "29",
      "metadata": {
        "id": "29"
      },
      "outputs": [],
      "source": [
        "cubes = [num ** 3 for num in range(1, 11)]\n",
        "print(\"List of the first 10 cubes:\")\n",
        "print(cubes)"
      ]
    },
    {
      "cell_type": "markdown",
      "id": "30",
      "metadata": {
        "id": "30"
      },
      "source": [
        "## Question 13\n",
        "\n",
        "**Slices:** Using one of the programs you wrote in this lab, add several lines to the end of the program that do the following:\n",
        "\n",
        "Print the message _The first three items in the list are:_. Then use a slice to print the first three items from that program’s list."
      ]
    },
    {
      "cell_type": "code",
      "execution_count": null,
      "id": "31",
      "metadata": {
        "id": "31"
      },
      "outputs": [],
      "source": [
        "odd_numbers = list(range(1, 21, 2))\n",
        "print(\"Odd numbers from 1 to 20:\")\n",
        "for number in odd_numbers:\n",
        "    print(number)\n",
        "print(\"\\nThe first three items in the list are:\")\n",
        "print(odd_numbers[:3])"
      ]
    },
    {
      "cell_type": "markdown",
      "id": "32",
      "metadata": {
        "id": "32"
      },
      "source": [
        "Print the message _Three items from the middle of the list are:_. Use a slice to print three items from the middle of the list."
      ]
    },
    {
      "cell_type": "code",
      "execution_count": null,
      "id": "33",
      "metadata": {
        "id": "33"
      },
      "outputs": [],
      "source": [
        "print(\"\\nThree items from the middle of the list are:\")\n",
        "middle_index = len(odd_numbers) // 2\n",
        "print(odd_numbers[middle_index:middle_index + 3])\n"
      ]
    },
    {
      "cell_type": "markdown",
      "id": "34",
      "metadata": {
        "id": "34"
      },
      "source": [
        "Print the message _The last three items in the list are:_. Use a slice to print the last three items in the list."
      ]
    },
    {
      "cell_type": "code",
      "execution_count": null,
      "id": "35",
      "metadata": {
        "id": "35"
      },
      "outputs": [],
      "source": [
        "print(\"\\nThe last three items in the list are:\")\n",
        "print(odd_numbers[-3:])"
      ]
    },
    {
      "cell_type": "markdown",
      "id": "36",
      "metadata": {
        "id": "36"
      },
      "source": [
        "## Question 14\n",
        "\n",
        "**Buffet:** A buffet-style restaurant offers only five basic foods. Think of five simple foods, and store them in a tuple.\n",
        "\n",
        "Use a for loop to print each food the restaurant offers."
      ]
    },
    {
      "cell_type": "code",
      "execution_count": null,
      "id": "37",
      "metadata": {
        "id": "37"
      },
      "outputs": [],
      "source": [
        "foods_offered = (\"Pizza\", \"Burger\", \"Salad\", \"Pasta\", \"Soup\")\n",
        "print(\"Foods offered by the restaurant:\")\n",
        "for food in foods_offered:\n",
        "    print(food)"
      ]
    },
    {
      "cell_type": "markdown",
      "id": "38",
      "metadata": {
        "id": "38"
      },
      "source": [
        "The restaurant changes its menu, replacing two of the items with different foods. Add a line that rewrites the tuple, and then use a for loop to print each of the items on the revised menu."
      ]
    },
    {
      "cell_type": "code",
      "execution_count": null,
      "id": "39",
      "metadata": {
        "id": "39"
      },
      "outputs": [],
      "source": [
        "original_foods_offered = (\"Pizza\", \"Burger\", \"Salad\", \"Pasta\", \"Soup\")\n",
        "\n",
        "print(\"Original menu:\")\n",
        "for food in original_foods_offered:\n",
        "    print(food)\n",
        "\n",
        "revised_foods_offered = (\"Pizza\", \"Sandwich\", \"Caesar Salad\", \"Spaghetti\", \"Soup\")\n",
        "\n",
        "print(\"\\nRevised menu:\")\n",
        "for food in revised_foods_offered:\n",
        "    print(food)"
      ]
    },
    {
      "cell_type": "markdown",
      "id": "40",
      "metadata": {
        "id": "40"
      },
      "source": [
        "## Question 15\n",
        "\n",
        "**Alien Colors:** Imagine an alien was just shot down in a game. Create a variable called `alien_color` and assign it a value of `green, yellow,` or `red`.\n",
        "\n",
        "-   Write an if statement to test whether the alien’s color is green. If it is, print a message that the player just earned 5 points.\n",
        "-   Write one version of this program that passes the if test and another that fails. (The version that fails will have no output.)"
      ]
    },
    {
      "cell_type": "code",
      "execution_count": null,
      "id": "41",
      "metadata": {
        "id": "41"
      },
      "outputs": [],
      "source": [
        "alien_color = \"red\"\n",
        "if alien_color == \"green\":\n",
        "    print(\"Congratulations! You just earned 5 points.\")"
      ]
    },
    {
      "cell_type": "markdown",
      "id": "42",
      "metadata": {
        "id": "42"
      },
      "source": [
        "## Question 16\n",
        "\n",
        "**Stages of Life:** Write an `if-elif-else` chain that determines a person’s stage of life. Set a value for the variable `age`, and then:\n",
        "\n",
        "-   If the person is less than 2 years old, print a message that the person is a baby.\n",
        "-   If the person is at least 2 years old but less than 4, print a message that the person is a toddler.\n",
        "-   If the person is at least 4 years old but less than 13, print a message that the person is a kid.\n",
        "-   If the person is at least 13 years old but less than 20, print a message that the person is a teenager.\n",
        "-   If the person is at least 20 years old but less than 65, print a message that the person is an adult."
      ]
    },
    {
      "cell_type": "code",
      "execution_count": null,
      "id": "43",
      "metadata": {
        "id": "43"
      },
      "outputs": [],
      "source": [
        "age = 30\n",
        "if age < 2:\n",
        "    print(\"The person is a baby.\")\n",
        "elif age < 4:\n",
        "    print(\"The person is a toddler.\")\n",
        "elif age < 13:\n",
        "    print(\"The person is a kid.\")\n",
        "elif age < 20:\n",
        "    print(\"The person is a teenager.\")\n",
        "elif age < 65:\n",
        "    print(\"The person is an adult.\")\n",
        "else:\n",
        "    print(\"The person is a senior.\")\n"
      ]
    },
    {
      "cell_type": "markdown",
      "id": "44",
      "metadata": {
        "id": "44"
      },
      "source": [
        "## Question 17\n",
        "\n",
        "**Favorite Fruit:** Make a list of your favorite fruits, and then write a series of independent `if` statements that check for certain fruits in your list.\n",
        "\n",
        "-   Make a list of your three favorite fruits and call it favorite_fruits.\n",
        "-   Write five if statements. Each should check whether a certain kind of fruit is in your list. If the fruit is in your list, the if block should print a statement, such as You really like bananas!"
      ]
    },
    {
      "cell_type": "code",
      "execution_count": null,
      "id": "45",
      "metadata": {
        "id": "45"
      },
      "outputs": [],
      "source": [
        "favorite_fruits = [\"apple\", \"banana\", \"mango\"]\n",
        "if \"apple\" in favorite_fruits:\n",
        "    print(\"You really like apples!\")\n",
        "if \"banana\" in favorite_fruits:\n",
        "    print(\"You really like bananas!\")\n",
        "if \"orange\" in favorite_fruits:\n",
        "    print(\"You really like oranges!\")\n",
        "if \"mango\" in favorite_fruits:\n",
        "    print(\"You really like mangoes!\")\n",
        "if \"strawberry\" in favorite_fruits:\n",
        "    print(\"You really like strawberries!\")\n"
      ]
    },
    {
      "cell_type": "markdown",
      "id": "46",
      "metadata": {
        "id": "46"
      },
      "source": [
        "## Question 18\n",
        "\n",
        "**Hello Admin:** Make a list of five or more usernames, including the name `admin`. Imagine you are writing code that will print a greeting to each user after they log in to a website. Loop through the list, and print a greeting to each user:\n",
        "\n",
        "-   If the username is 'admin', print a special greeting, such as _Hello admin, would you like to see a status report?_\n",
        "-   Otherwise, print a generic greeting, such as _Hello Jaden, thank you for logging in again_."
      ]
    },
    {
      "cell_type": "code",
      "execution_count": null,
      "id": "47",
      "metadata": {
        "id": "47"
      },
      "outputs": [],
      "source": [
        "usernames = [\"admin\", \"jaden\", \"alice\", \"bob\", \"emma\"]\n",
        "for username in usernames:\n",
        "    if username == \"admin\":\n",
        "        print(\"Hello admin, would you like to see a status report?\")\n",
        "    else:\n",
        "        print(f\"Hello {username.title()}, thank you for logging in again.\")\n"
      ]
    },
    {
      "cell_type": "markdown",
      "id": "48",
      "metadata": {
        "id": "48"
      },
      "source": [
        "## Question 19\n",
        "\n",
        "**Checking Usernames:** Do the following to create a program that simulates how websites ensure that everyone has a unique username.\n",
        "\n",
        "-   Make a list of five or more usernames called `current_users`.\n",
        "-   Make another list of five usernames called `new_users`. Make sure one or two of the new usernames are also in the `current_users` list.\n",
        "-   Loop through the `new_users` list to see if each new username has already been used. If it has, print a message that the person will need to enter a new username. If a username has not been used, print a message saying that the username is available.\n",
        "-   Make sure your comparison is case insensitive. If 'John' has been used, 'JOHN' should not be accepted. (To do this, you’ll need to make a copy of `current_users` containing the lowercase versions of all existing users.)"
      ]
    },
    {
      "cell_type": "code",
      "execution_count": null,
      "id": "49",
      "metadata": {
        "id": "49"
      },
      "outputs": [],
      "source": [
        "current_users = [\"john\", \"jane\", \"alice\", \"bob\", \"emma\"]\n",
        "\n",
        "new_users = [\"jaden\", \"emily\", \"JANE\", \"alex\", \"JOHN\"]\n",
        "\n",
        "current_users_lower = [user.lower() for user in current_users]\n",
        "\n",
        "for new_user in new_users:\n",
        "    new_user_lower = new_user.lower()\n",
        "    if new_user_lower in current_users_lower:\n",
        "        print(f\"Sorry, the username '{new_user}' is already taken. Please enter a new username.\")\n",
        "    else:\n",
        "        print(f\"The username '{new_user}' is available.\")"
      ]
    },
    {
      "cell_type": "markdown",
      "id": "50",
      "metadata": {
        "id": "50"
      },
      "source": [
        "## Question 20\n",
        "\n",
        "**Ordinal Numbers:** Ordinal numbers indicate their position in a list, such as _1st_ or _2nd_. Most ordinal numbers end in _th_, except 1, 2, and 3.\n",
        "\n",
        "-   Store the numbers 1 through 9 in a list.\n",
        "-   Loop through the list.\n",
        "-   Use an `if-elif-else` chain inside the loop to print the proper ordinal ending for each number. Your output should read \"1st 2nd 3rd 4th 5th 6th 7th 8th 9th\", and each result should be on a separate line."
      ]
    },
    {
      "cell_type": "code",
      "execution_count": 2,
      "id": "51",
      "metadata": {
        "id": "51"
      },
      "outputs": [
        {
          "name": "stdout",
          "output_type": "stream",
          "text": [
            "1st\n",
            "2and, 2nd\n",
            "3rd\n",
            "4th\n",
            "5th\n",
            "6th\n",
            "7th\n",
            "8th\n",
            "9th\n"
          ]
        }
      ],
      "source": [
        "numbers = list(range(1, 10))\n",
        "\n",
        "for number in numbers:\n",
        "    if number == 1:\n",
        "        ordinal = \"st\"\n",
        "    elif number == 2:\n",
        "        ordinal = \"and, 2nd\"\n",
        "    elif number == 3:\n",
        "        ordinal = \"rd\"\n",
        "    else:\n",
        "        ordinal = \"th\"\n",
        "    print(f\"{number}{ordinal}\")\n"
      ]
    }
  ],
  "metadata": {
    "colab": {
      "provenance": []
    },
    "kernelspec": {
      "display_name": "Python 3",
      "language": "python",
      "name": "python3"
    },
    "language_info": {
      "codemirror_mode": {
        "name": "ipython",
        "version": 3
      },
      "file_extension": ".py",
      "mimetype": "text/x-python",
      "name": "python",
      "nbconvert_exporter": "python",
      "pygments_lexer": "ipython3",
      "version": "3.11.7"
    }
  },
  "nbformat": 4,
  "nbformat_minor": 5
}
