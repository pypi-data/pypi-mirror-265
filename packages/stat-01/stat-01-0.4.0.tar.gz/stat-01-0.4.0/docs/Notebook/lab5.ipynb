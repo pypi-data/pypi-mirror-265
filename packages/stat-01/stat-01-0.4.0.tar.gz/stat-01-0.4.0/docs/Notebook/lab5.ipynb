{
  "cells": [
    {
      "cell_type": "markdown",
      "id": "0",
      "metadata": {
        "id": "0"
      },
      "source": [
        "# Lab 5\n",
        "\n",
        "[![image](https://colab.research.google.com/assets/colab-badge.svg)](https://colab.research.google.com/github/TMD233/stat-01/blob/main/docs/Notebook/lab5.ipynb)\n",
        "\n",
        "## Submission instructions\n",
        "\n",
        "1. Download the notebook from https://geohey.gishub.org/labs/lab5\n",
        "2. Complete the lab questions\n",
        "3. Restart Kernel and Run All Cells\n",
        "4. Upload the notebook to your GitHub repository\n",
        "5. Make sure the notebook has an `Open In Colab` badge. Click on the badge to make sure your notebook can be opened in Colab.\n",
        "6. Submit the link to the notebook on your GitHub repository to Canvas"
      ]
    },
    {
      "cell_type": "markdown",
      "id": "1",
      "metadata": {
        "id": "1"
      },
      "source": [
        "## Question 1\n",
        "\n",
        "**Person:** Use a dictionary to store information about a person you know. Store their first name, last name, age, and the city in which they live. You should have keys such as first_name, last_name, age, and city. Print each piece of information stored in your dictionary."
      ]
    },
    {
      "cell_type": "code",
      "execution_count": null,
      "id": "2",
      "metadata": {
        "id": "2"
      },
      "outputs": [],
      "source": [
        "person_info = {\n",
        "    \"first_name\": \"yuze\",\n",
        "    \"last_name\": \"Li\",\n",
        "    \"age\": 30,\n",
        "    \"city\": \"New York\"\n",
        "}\n",
        "print(\"First Name:\", person_info[\"first_name\"])\n",
        "print(\"Last Name:\", person_info[\"last_name\"])\n",
        "print(\"Age:\", person_info[\"age\"])\n",
        "print(\"City:\", person_info[\"city\"])"
      ]
    },
    {
      "cell_type": "markdown",
      "id": "3",
      "metadata": {
        "id": "3"
      },
      "source": [
        "## Question 2\n",
        "\n",
        "**Favorite Numbers:** Use a dictionary to store people’s favorite numbers. Think of five names, and use them as keys in your dictionary. Think of a favorite number for each person, and store each as a value in your dictionary. Print each person’s name and their favorite number. For even more fun, poll a few friends and get some actual data for your program."
      ]
    },
    {
      "cell_type": "code",
      "execution_count": null,
      "id": "4",
      "metadata": {
        "id": "4"
      },
      "outputs": [],
      "source": [
        "favorite_numbers = {\n",
        "    \"John\": 7,\n",
        "    \"Han\": 4,\n",
        "    \"Sarah\": 11,\n",
        "    \"Thomas\": 14,\n",
        "    \"Li\": 6\n",
        "}\n",
        "\n",
        "\n",
        "for person, number in favorite_numbers.items():\n",
        "    print(person + \"'s favorite number is:\", number)"
      ]
    },
    {
      "cell_type": "markdown",
      "id": "5",
      "metadata": {
        "id": "5"
      },
      "source": [
        "## Question 3\n",
        "\n",
        "**Glossary:** A Python dictionary can be used to model an actual dictionary. However, to avoid confusion, let’s call it a glossary.\n",
        "\n",
        "- Think of five programming words you’ve learned about in the previous chapters. Use these words as the keys in your glossary, and store their meanings as values.\n",
        "- Print each word and its meaning as neatly formatted output. You might print the word followed by a colon and then its meaning, or print the word on one line and then print its meaning indented on a second line. Use the newline character (\\n) to insert a blank line between each word-meaning pair in your output."
      ]
    },
    {
      "cell_type": "code",
      "execution_count": null,
      "id": "6",
      "metadata": {
        "id": "6"
      },
      "outputs": [],
      "source": [
        "glossary = {\n",
        "    \"variable\": \"A container for storing data value.\",\n",
        "    \"function\": \"A block of code that only runs when it is called.\",\n",
        "    \"method\": \"A function that is associated with an object in Object-Oriented Programming (OOP).\",\n",
        "    \"loop\": \"A control flow statement for specifying iteration.\",\n",
        "    \"module\": \"A file containing Python definitions and statements intended for use in other Python programs.\"\n",
        "}\n",
        "\n",
        "\n",
        "for word, meaning in glossary.items():\n",
        "    print(word + \":\")\n",
        "    print(meaning + \"\\n\")\n"
      ]
    },
    {
      "cell_type": "markdown",
      "id": "7",
      "metadata": {
        "id": "7"
      },
      "source": [
        "## Question 4\n",
        "\n",
        "**Glossary 2:** Now that you know how to loop through a dictionary, clean up the code from Question 3 by replacing your series of print() calls with a loop that runs through the dictionary’s keys and values. When you’re sure that your loop works, add five more Python terms to your glossary. When you run your program again, these new words and meanings should automatically be included in the output."
      ]
    },
    {
      "cell_type": "code",
      "execution_count": null,
      "id": "8",
      "metadata": {
        "id": "8"
      },
      "outputs": [],
      "source": [
        "glossary = {\n",
        "    \"variable\": \"A container for storing data value.\",\n",
        "    \"function\": \"A block of code that only runs when it is called.\",\n",
        "    \"method\": \"A function that is associated with an object in Object-Oriented Programming (OOP).\",\n",
        "    \"loop\": \"A control flow statement for specifying iteration.\",\n",
        "    \"module\": \"A file containing Python definitions and statements intended for use in other Python programs.\"\n",
        "}\n",
        "\n",
        "\n",
        "glossary.update({\n",
        "    \"class\": \"A blueprint for creating objects, providing initial values for state (member variables), and implementations of behavior (member functions or methods).\",\n",
        "    \"object\": \"An instance of a class. It is a basic unit of Object-Oriented Programming (OOP).\",\n",
        "    \"list\": \"A collection which is ordered and changeable.\",\n",
        "    \"inheritance\": \"A mechanism in which one class inherits the properties and behaviors of another class.\",\n",
        "    \"dictionary\": \"A collection which is unordered, changeable, and indexed.\"\n",
        "})\n",
        "\n",
        "# Loop through the glossary to print each word and its meaning\n",
        "for word, meaning in glossary.items():\n",
        "    print(word + \":\")\n",
        "    print(meaning + \"\\n\")"
      ]
    },
    {
      "cell_type": "markdown",
      "id": "9",
      "metadata": {
        "id": "9"
      },
      "source": [
        "## Question 5\n",
        "\n",
        "**Rivers:** Make a dictionary containing three major rivers and the country each river runs through. One key-value pair might be 'nile': 'egypt'.\n",
        "\n",
        "- Use a loop to print a sentence about each river, such as _The Nile runs through Egypt._\n",
        "- Use a loop to print the name of each river included in the dictionary.\n",
        "- Use a loop to print the name of each country included in the dictionary."
      ]
    },
    {
      "cell_type": "code",
      "execution_count": null,
      "id": "10",
      "metadata": {
        "id": "10"
      },
      "outputs": [],
      "source": [
        "rivers = {\n",
        "    \"Nile\": \"Egypt\",\n",
        "    \"Amazon\": \"Brazil\",\n",
        "    \"Yangtze\": \"China\"\n",
        "}\n",
        "\n",
        "for river, country in rivers.items():\n",
        "    print(f\"The {river} runs through {country}.\")\n",
        "\n",
        "print(\"\\nRivers:\")\n",
        "for river in rivers.keys():\n",
        "    print(river)\n",
        "\n",
        "print(\"\\nCountries:\")\n",
        "for country in rivers.values():\n",
        "    print(country)\n"
      ]
    },
    {
      "cell_type": "markdown",
      "id": "11",
      "metadata": {
        "id": "11"
      },
      "source": [
        "## Question 6\n",
        "\n",
        "**Cities:** Make a dictionary called `cities`. Use the names of three cities as keys in your dictionary. Create a dictionary of information about each city and include the country that the city is in, its approximate population, and one fact about that city. The keys for each city’s dictionary should be something like `country`, `population`, and `fact`. Print the name of each city and all of the information you have stored about it."
      ]
    },
    {
      "cell_type": "code",
      "execution_count": null,
      "id": "12",
      "metadata": {
        "id": "12"
      },
      "outputs": [],
      "source": [
        "cities = {\n",
        "    \"Tokyo\": {\n",
        "        \"country\": \"Japan\",\n",
        "        \"population\": \"approximately 14 million\",\n",
        "        \"fact\": \"Tokyo is the largest metropolitan area in the world.\"\n",
        "    },\n",
        "    \"New York City\": {\n",
        "        \"country\": \"United States\",\n",
        "        \"population\": \"approximately 8.4 million\",\n",
        "        \"fact\": \"New York City is often referred to as the cultural, financial, and media capital of the world.\"\n",
        "    },\n",
        "    \"London\": {\n",
        "        \"country\": \"United Kingdom\",\n",
        "        \"population\": \"approximately 9 million\",\n",
        "        \"fact\": \"London has four UNESCO World Heritage Sites: The Palace of Westminster, Westminster Abbey, the Tower of London, and Maritime Greenwich.\"\n",
        "    }\n",
        "}\n",
        "\n",
        "\n",
        "for city, info in cities.items():\n",
        "    print(city + \":\")\n",
        "    for key, value in info.items():\n",
        "        print(f\"{key.capitalize()}: {value}\")\n",
        "    print()  "
      ]
    },
    {
      "cell_type": "markdown",
      "id": "13",
      "metadata": {
        "id": "13"
      },
      "source": [
        "## Question 7\n",
        "\n",
        "**Rental Car:** Write a program that asks the user what kind of rental car they would like. Print a message about that car, such as “Let me see if I can find you a Subaru.”"
      ]
    },
    {
      "cell_type": "code",
      "execution_count": null,
      "id": "14",
      "metadata": {
        "id": "14"
      },
      "outputs": [],
      "source": [
        "car_preference = \"SUV\"\n",
        "\n",
        "print(f\"Let me see if I can find you a {car_preference}.\")\n"
      ]
    },
    {
      "cell_type": "markdown",
      "id": "15",
      "metadata": {
        "id": "15"
      },
      "source": [
        "## Question 8\n",
        "\n",
        "**Restaurant Seating:** Write a program that asks the user how many people are in their dinner group. If the answer is more than eight, print a message saying they’ll have to wait for a table. Otherwise, report that their table is ready."
      ]
    },
    {
      "cell_type": "code",
      "execution_count": 12,
      "id": "16",
      "metadata": {
        "id": "16"
      },
      "outputs": [
        {
          "name": "stdout",
          "output_type": "stream",
          "text": [
            "I'm sorry, but you'll have to wait for a table.\n"
          ]
        }
      ],
      "source": [
        "num_people = 9\n",
        "\n",
        "if num_people > 8:\n",
        "    print(\"I'm sorry, but you'll have to wait for a table.\")\n",
        "else:\n",
        "    print(\"Your table is ready.\")\n",
        "\n"
      ]
    },
    {
      "cell_type": "markdown",
      "id": "17",
      "metadata": {
        "id": "17"
      },
      "source": [
        "## Question 9\n",
        "\n",
        "**Multiples of Ten:** Ask the user for a number, and then report whether the number is a multiple of 10 or not."
      ]
    },
    {
      "cell_type": "code",
      "execution_count": 13,
      "id": "18",
      "metadata": {
        "id": "18"
      },
      "outputs": [
        {
          "name": "stdout",
          "output_type": "stream",
          "text": [
            "11 is not a multiple of 10.\n"
          ]
        }
      ],
      "source": [
        "number = 11\n",
        "\n",
        "if number % 10 == 0:\n",
        "    print(f\"{number} is a multiple of 10.\")\n",
        "else:\n",
        "    print(f\"{number} is not a multiple of 10.\")\n"
      ]
    },
    {
      "cell_type": "markdown",
      "id": "19",
      "metadata": {
        "id": "19"
      },
      "source": [
        "## Question 10\n",
        "\n",
        "**Pizza Toppings:** Write a loop that prompts the user to enter a series of pizza toppings until they enter a 'quit' value. As they enter each topping, print a message saying you’ll add that topping to their pizza."
      ]
    },
    {
      "cell_type": "code",
      "execution_count": 14,
      "id": "20",
      "metadata": {
        "id": "20"
      },
      "outputs": [
        {
          "name": "stdout",
          "output_type": "stream",
          "text": [
            "Adding Pepperoni to your pizza.\n",
            "Adding Mushrooms to your pizza.\n",
            "Adding Onions to your pizza.\n",
            "Adding Sausage to your pizza.\n",
            "Adding Bacon to your pizza.\n",
            "Your pizza will have the following toppings:\n",
            "- Pepperoni\n",
            "- Mushrooms\n",
            "- Onions\n",
            "- Sausage\n",
            "- Bacon\n"
          ]
        }
      ],
      "source": [
        "pizza_toppings = [\"Pepperoni\", \"Mushrooms\", \"Onions\", \"Sausage\", \"Bacon\"]\n",
        "\n",
        "for topping in pizza_toppings:\n",
        "    print(f\"Adding {topping} to your pizza.\")\n",
        "\n",
        "print(\"Your pizza will have the following toppings:\")\n",
        "for topping in pizza_toppings:\n",
        "    print(\"- \" + topping)\n",
        "\n"
      ]
    },
    {
      "cell_type": "markdown",
      "id": "21",
      "metadata": {
        "id": "21"
      },
      "source": [
        "## Question 11\n",
        "\n",
        "**Message:** Write a function called `display_message()` that prints one sentence telling everyone what you are learning about in this chapter. Call the function, and make sure the message displays correctly."
      ]
    },
    {
      "cell_type": "code",
      "execution_count": null,
      "id": "22",
      "metadata": {
        "id": "22"
      },
      "outputs": [],
      "source": [
        "def display_message():\n",
        "    print(\"In this chapter, we are learning about Python basic and more functions.\")\n",
        "\n",
        "display_message()\n"
      ]
    },
    {
      "cell_type": "markdown",
      "id": "23",
      "metadata": {
        "id": "23"
      },
      "source": [
        "## Question 12\n",
        "\n",
        "**Favorite Book:** Write a function called `favorite_book()` that accepts one parameter, title. The function should print a message, such as `One of my favorite books is Alice in Wonderland`. Call the function, making sure to include a book title as an argument in the function call."
      ]
    },
    {
      "cell_type": "code",
      "execution_count": null,
      "id": "24",
      "metadata": {
        "id": "24"
      },
      "outputs": [],
      "source": [
        "def favorite_book(title):\n",
        "    print(f\"One of my favorite books is {title}.\")\n",
        "\n",
        "favorite_book(\"pan long\")\n"
      ]
    },
    {
      "cell_type": "markdown",
      "id": "25",
      "metadata": {
        "id": "25"
      },
      "source": [
        "## Question 13\n",
        "\n",
        "**T-Shirt:** Write a function called `make_shirt()` that accepts a size and the text of a message that should be printed on the shirt. The function should print a sentence summarizing the size of the shirt and the message printed on it.\n",
        "\n",
        "Call the function once using positional arguments to make a shirt. Call the function a second time using keyword arguments."
      ]
    },
    {
      "cell_type": "code",
      "execution_count": null,
      "id": "26",
      "metadata": {
        "id": "26"
      },
      "outputs": [],
      "source": [
        "def make_shirt(size, message):\n",
        "    print(f\"A {size}-sized shirt will be made with the message: '{message}'.\")\n",
        "\n",
        "make_shirt(\"medium\", \"What's up.\")\n",
        "\n",
        "make_shirt(size=\"large\", message=\"What's up.\")\n"
      ]
    },
    {
      "cell_type": "markdown",
      "id": "27",
      "metadata": {
        "id": "27"
      },
      "source": [
        "## Question 14\n",
        "\n",
        "**Large Shirts:** Modify the `make_shirt()` function so that shirts are large by default with a message that reads _I love Python_. Make a large shirt and a medium shirt with the default message, and a shirt of any size with a different message."
      ]
    },
    {
      "cell_type": "code",
      "execution_count": null,
      "id": "28",
      "metadata": {
        "id": "28"
      },
      "outputs": [],
      "source": [
        "def make_shirt(size=\"large\", message=\"I love shirt\"):\n",
        "    print(f\"A {size}-sized shirt will be made with the message: '{message}'.\")\n",
        "\n",
        "make_shirt()\n",
        "\n",
        "make_shirt(size=\"medium\")\n",
        "\n",
        "make_shirt(size=\"small\", message=\"What's up!\")\n"
      ]
    },
    {
      "cell_type": "markdown",
      "id": "29",
      "metadata": {
        "id": "29"
      },
      "source": [
        "## Question 15\n",
        "\n",
        "**Cities:** Write a function called `describe_city()` that accepts the name of a city and its country. The function should print a simple sentence, such as `Reykjavik is in Iceland`. Give the parameter for the country a default value. Call your function for three different cities, at least one of which is not in the default country."
      ]
    },
    {
      "cell_type": "code",
      "execution_count": 1,
      "id": "30",
      "metadata": {
        "id": "30"
      },
      "outputs": [
        {
          "name": "stdout",
          "output_type": "stream",
          "text": [
            "knoxville is in United States.\n",
            "Shanghai is in China.\n",
            "New York City is in United States.\n"
          ]
        }
      ],
      "source": [
        "def describe_city(city, country=\"Unknown\"):\n",
        "    print(f\"{city} is in {country}.\")\n",
        "\n",
        "describe_city(\"knoxville\", \"United States\")\n",
        "describe_city(\"Shanghai\", \"China\")\n",
        "describe_city(\"New York City\", \"United States\")\n"
      ]
    },
    {
      "cell_type": "markdown",
      "id": "31",
      "metadata": {
        "id": "31"
      },
      "source": [
        "## Question 16\n",
        "\n",
        "**City Names:** Write a function called `city_country()` that takes in the name of a city and its country. The function should return a string formatted like this:\n",
        "\n",
        "```text\n",
        "Santiago, Chile\n",
        "```\n",
        "\n",
        "Call your function with at least three city-country pairs, and print the values that are returned."
      ]
    },
    {
      "cell_type": "code",
      "execution_count": null,
      "id": "32",
      "metadata": {
        "id": "32"
      },
      "outputs": [],
      "source": [
        "def city_country(city, country):\n",
        "    return f\"{city}, {country}\"\n",
        "\n",
        "print(city_country(\"Santiago\", \"Chile\"))\n",
        "print(city_country(\"Paris\", \"France\"))\n",
        "print(city_country(\"Shanghai\", \"China\"))\n"
      ]
    },
    {
      "cell_type": "markdown",
      "id": "33",
      "metadata": {
        "id": "33"
      },
      "source": [
        "## Question 17\n",
        "\n",
        "**Album:** Write a function called `make_album()` that builds a dictionary describing a music album. The function should take in an artist name and an album title, and it should return a dictionary containing these two pieces of information. Use the function to make three dictionaries representing different albums. Print each return value to show that the dictionaries are storing the album information correctly.\n",
        "\n",
        "Use None to add an optional parameter to make_album() that allows you to store the number of songs on an album. If the calling line includes a value for the number of songs, add that value to the album’s dictionary. Make at least one new function call that includes the number of songs on an album."
      ]
    },
    {
      "cell_type": "code",
      "execution_count": 10,
      "id": "34",
      "metadata": {
        "id": "34"
      },
      "outputs": [
        {
          "name": "stdout",
          "output_type": "stream",
          "text": [
            "{'artist': 'Jay', 'title': 'F'}\n",
            "{'artist': 'TT', 'title': 'B', 'number_of_songs': 12}\n",
            "{'artist': 'Miz', 'title': 'C', 'number_of_songs': 8}\n"
          ]
        }
      ],
      "source": [
        "def make_album(artist_name, album_title, number_of_songs=None):\n",
        "    album = {\n",
        "        \"artist\": artist_name,\n",
        "        \"title\": album_title\n",
        "    }\n",
        "    if number_of_songs:\n",
        "        album[\"number_of_songs\"] = number_of_songs\n",
        "    return album\n",
        "\n",
        "album1 = make_album(\"Jay\", \"F\")\n",
        "print(album1)\n",
        "\n",
        "album2 = make_album(\"TT\", \"B\", 12)\n",
        "print(album2)\n",
        "\n",
        "album3 = make_album(\"Miz\", \"C\", 8)\n",
        "print(album3)\n"
      ]
    },
    {
      "cell_type": "markdown",
      "id": "35",
      "metadata": {
        "id": "35"
      },
      "source": [
        "## Question 18\n",
        "\n",
        "**User Albums:** Start with your program from Question 17. Write a `while` loop that allows users to enter an album’s artist and title. Once you have that information, call `make_album()` with the user’s input and print the dictionary that’s created. Be sure to include a quit value in the `while` loop."
      ]
    },
    {
      "cell_type": "code",
      "execution_count": 9,
      "id": "b6ffa41f",
      "metadata": {},
      "outputs": [
        {
          "name": "stdout",
          "output_type": "stream",
          "text": [
            "{'artist': 'Jay', 'title': 'A'}\n",
            "{'artist': 'TT', 'title': 'B'}\n",
            "{'artist': 'Wiz', 'title': 'C'}\n"
          ]
        }
      ],
      "source": [
        "def make_album(artist_name, album_title):\n",
        "    return {\"artist\": artist_name, \"title\": album_title}\n",
        "\n",
        "albums = [\n",
        "    (\"Jay\", \"A\"),\n",
        "    (\"TT\", \"B\"),\n",
        "    (\"Wiz\", \"C\")\n",
        "]\n",
        "\n",
        "for artist, title in albums:\n",
        "    album_info = make_album(artist, title)\n",
        "    print(album_info)\n",
        "\n"
      ]
    },
    {
      "cell_type": "markdown",
      "id": "37",
      "metadata": {
        "id": "37"
      },
      "source": [
        "## Question 19\n",
        "\n",
        "**Messages:** Make a list containing a series of short text messages. Pass the list to a function called `show_messages()`, which prints each text message."
      ]
    },
    {
      "cell_type": "code",
      "execution_count": null,
      "id": "38",
      "metadata": {
        "id": "38"
      },
      "outputs": [],
      "source": [
        "def show_messages(messages):\n",
        "    for message in messages:\n",
        "        print(message)\n",
        "\n",
        "messages = [\n",
        "    \"Hello, how are you?\",\n",
        "    \"Don't forget to buy groceries.\",\n",
        "    \"Meeting at 3 PM today.\",\n",
        "    \"Happy birthday!\"\n",
        "]\n",
        "\n",
        "show_messages(messages)\n"
      ]
    },
    {
      "cell_type": "markdown",
      "id": "39",
      "metadata": {
        "id": "39"
      },
      "source": [
        "## Question 20\n",
        "\n",
        "**Sending Messages:** Start with a copy of your program from Question 19. Write a function called `send_messages()` that prints each text message and moves each message to a new list called `sent_messages` as it’s printed. After calling the function, print both of your lists to make sure the messages were moved correctly."
      ]
    },
    {
      "cell_type": "code",
      "execution_count": 7,
      "id": "40",
      "metadata": {
        "id": "40"
      },
      "outputs": [
        {
          "name": "stdout",
          "output_type": "stream",
          "text": [
            "Hello, how are you?\n",
            "Don't forget to buy groceries.\n",
            "Meeting at 3 PM today.\n",
            "Happy birthday!\n",
            "\n",
            "Original messages list:\n",
            "['Hello, how are you?', \"Don't forget to buy groceries.\", 'Meeting at 3 PM today.', 'Happy birthday!']\n",
            "\n",
            "Sent messages list:\n",
            "['Hello, how are you?', \"Don't forget to buy groceries.\", 'Meeting at 3 PM today.', 'Happy birthday!']\n"
          ]
        }
      ],
      "source": [
        "def send_messages(messages):\n",
        "    sent_messages = []  \n",
        "    for message in messages:\n",
        "        print(message)\n",
        "        sent_messages.append(message)\n",
        "    return sent_messages\n",
        "\n",
        "messages = [\n",
        "    \"Hello, how are you?\",\n",
        "    \"Don't forget to buy groceries.\",\n",
        "    \"Meeting at 3 PM today.\",\n",
        "    \"Happy birthday!\"\n",
        "]\n",
        "\n",
        "sent_messages = send_messages(messages)\n",
        "\n",
        "print(\"\\nOriginal messages list:\")\n",
        "print(messages)\n",
        "print(\"\\nSent messages list:\")\n",
        "print(sent_messages)\n"
      ]
    },
    {
      "cell_type": "markdown",
      "id": "41",
      "metadata": {
        "id": "41"
      },
      "source": [
        "## Question 21\n",
        "\n",
        "**Learning Python:** Open a blank file in your text editor and write a few lines summarizing what you’ve learned about Python so far. Start each line with the phrase _In Python you can. . .._ Save the file as _learning_python.txt_ in the same directory as your exercises from this chapter. Write a program that reads the file and prints what you wrote three times. Print the contents once by reading in the entire file, once by looping over the file object, and once by storing the lines in a list and then working with them outside the _with_ block."
      ]
    },
    {
      "cell_type": "code",
      "execution_count": null,
      "id": "42",
      "metadata": {
        "id": "42"
      },
      "outputs": [],
      "source": [
        "with open('learning_python.txt') as file_object:\n",
        "    contents = file_object.read()\n",
        "    print(\"Reading the entire file:\")\n",
        "    print(contents)\n",
        "\n",
        "print(\"\\nReading line by line:\")\n",
        "with open('learning_python.txt') as file_object:\n",
        "    for line in file_object:\n",
        "        print(line.strip())\n",
        "\n",
        "print(\"\\nReading using a list:\")\n",
        "with open('learning_python.txt') as file_object:\n",
        "    lines = file_object.readlines()\n",
        "\n",
        "for line in lines:\n",
        "    print(line.strip())\n"
      ]
    },
    {
      "cell_type": "markdown",
      "id": "43",
      "metadata": {
        "id": "43"
      },
      "source": [
        "## Question 22\n",
        "\n",
        "**Learning C:** You can use the replace() method to replace any word in a string with a different word. Here’s a quick example showing how to replace 'dog' with 'cat' in a sentence:\n",
        "\n",
        "```text\n",
        "message = \"I really like dogs.\"\n",
        "message.replace('dog', 'cat')\n",
        "'I really like cats.'\n",
        "```\n",
        "\n",
        "Read in each line from the file you just created, _learning_python.txt_, and replace the word _Python_ with the name of another language, such as _C_. Print each modified line to the screen."
      ]
    },
    {
      "cell_type": "code",
      "execution_count": null,
      "id": "44",
      "metadata": {
        "id": "44"
      },
      "outputs": [],
      "source": [
        "with open('learning_python.txt') as file_object:\n",
        "    for line in file_object:\n",
        "        modified_line = line.replace('Python', 'R')\n",
        "        print(modified_line.rstrip())  "
      ]
    },
    {
      "cell_type": "markdown",
      "id": "45",
      "metadata": {
        "id": "45"
      },
      "source": [
        "## Question 23\n",
        "\n",
        "**Guest:** Write a program that prompts the user for their name. When they respond, write their name to a file called guest.txt."
      ]
    },
    {
      "cell_type": "code",
      "execution_count": 6,
      "id": "46",
      "metadata": {
        "id": "46"
      },
      "outputs": [
        {
          "name": "stdout",
          "output_type": "stream",
          "text": [
            "Your name has been written to guest.txt.\n"
          ]
        }
      ],
      "source": [
        "name = \"John Li\"\n",
        "\n",
        "with open('guest.txt', 'w') as file_object:\n",
        "    file_object.write(name)\n",
        "\n",
        "print(\"Your name has been written to guest.txt.\")\n"
      ]
    },
    {
      "cell_type": "markdown",
      "id": "47",
      "metadata": {
        "id": "47"
      },
      "source": [
        "## Question 24\n",
        "\n",
        "**Guest Book:** Write a while loop that prompts users for their name. When they enter their name, print a greeting to the screen and add a line recording their visit in a file called guest_book.txt. Make sure each entry appears on a new line in the file."
      ]
    },
    {
      "cell_type": "code",
      "execution_count": 5,
      "id": "48",
      "metadata": {
        "id": "48"
      },
      "outputs": [
        {
          "name": "stdout",
          "output_type": "stream",
          "text": [
            "Welcome, Alice!\n",
            "Welcome, Bob!\n",
            "Welcome, Charlie!\n",
            "Thank you for visiting!\n"
          ]
        }
      ],
      "source": [
        "names = [\"Alice\", \"Bob\", \"Charlie\"]\n",
        "\n",
        "for name in names:\n",
        "    if name.lower() == 'quit':\n",
        "        break\n",
        "\n",
        "    print(f\"Welcome, {name}!\")\n",
        "\n",
        "    with open('guest_book.txt', 'a') as file_object:\n",
        "        file_object.write(f\"{name}\\n\")\n",
        "\n",
        "print(\"Thank you for visiting!\")\n",
        "\n"
      ]
    },
    {
      "cell_type": "markdown",
      "id": "49",
      "metadata": {
        "id": "49"
      },
      "source": [
        "## Question 25\n",
        "\n",
        "**Programming Poll:** Write a while loop that asks people why they like programming. Each time someone enters a reason, add their reason to a file that stores all the responses."
      ]
    },
    {
      "cell_type": "code",
      "execution_count": 4,
      "id": "50",
      "metadata": {
        "id": "50"
      },
      "outputs": [
        {
          "name": "stdout",
          "output_type": "stream",
          "text": [
            "Thank you for sharing your reasons!\n"
          ]
        }
      ],
      "source": [
        "reasons = [\"It's creative.\", \"It's challenging.\", \"It's useful.\"]\n",
        "\n",
        "for reason in reasons:\n",
        "    if reason.lower() == 'quit':\n",
        "        break\n",
        "\n",
        "    with open('programming_reasons.txt', 'a') as file_object:\n",
        "        file_object.write(f\"{reason}\\n\")\n",
        "\n",
        "print(\"Thank you for sharing your reasons!\")\n"
      ]
    },
    {
      "cell_type": "markdown",
      "id": "51",
      "metadata": {
        "id": "51"
      },
      "source": [
        "## Question 26\n",
        "\n",
        "**Addition:** One common problem when prompting for numerical input occurs when people provide text instead of numbers. When you try to convert the input to an int, you’ll get a ValueError. Write a program that prompts for two numbers. Add them together and print the result. Catch the ValueError if either input value is not a number, and print a friendly error message. Test your program by entering two numbers and then by entering some text instead of a number."
      ]
    },
    {
      "cell_type": "code",
      "execution_count": 3,
      "id": "52",
      "metadata": {
        "id": "52"
      },
      "outputs": [
        {
          "name": "stdout",
          "output_type": "stream",
          "text": [
            "The sum of 5 and 10 is 15.\n",
            "Program finished.\n"
          ]
        }
      ],
      "source": [
        "try:\n",
        "    num1 = 5\n",
        "    num2 = 10\n",
        "\n",
        "    result = num1 + num2\n",
        "    print(f\"The sum of {num1} and {num2} is {result}.\")\n",
        "except ValueError:\n",
        "    print(\"Error: Please enter valid numerical inputs.\")\n",
        "\n",
        "print(\"Program finished.\")\n",
        "\n"
      ]
    },
    {
      "cell_type": "markdown",
      "id": "53",
      "metadata": {
        "id": "53"
      },
      "source": [
        "## Question 27\n",
        "\n",
        "**Addition Calculator:** Wrap your code from Question 26 in a while loop so the user can continue entering numbers even if they make a mistake and enter text instead of a number."
      ]
    },
    {
      "cell_type": "code",
      "execution_count": 15,
      "id": "54",
      "metadata": {
        "id": "54"
      },
      "outputs": [
        {
          "name": "stdout",
          "output_type": "stream",
          "text": [
            "The sum of 5 and 10 is 15.\n",
            "The sum of 15 and 20 is 35.\n",
            "The sum of 25 and 30 is 55.\n",
            "Program finished.\n"
          ]
        }
      ],
      "source": [
        "numbers = [(5, 10), (15, 20), (25, 30)]\n",
        "\n",
        "for num1, num2 in numbers:\n",
        "    try:\n",
        "        result = num1 + num2\n",
        "        print(f\"The sum of {num1} and {num2} is {result}.\")\n",
        "    except ValueError:\n",
        "        print(\"Error: Please enter valid numerical inputs.\")\n",
        "    else:\n",
        "        # Simulated choice\n",
        "        choice = 'yes'  # Assuming the user wants to continue\n",
        "        if choice.lower() != 'yes':\n",
        "            break\n",
        "\n",
        "print(\"Program finished.\")\n",
        "\n"
      ]
    },
    {
      "cell_type": "markdown",
      "id": "55",
      "metadata": {
        "id": "55"
      },
      "source": [
        "## Question 28\n",
        "\n",
        "**Cats and Dogs:** Make two files, _cats.txt_ and _dogs.txt_. Store at least three names of cats in the first file and three names of dogs in the second file. Write a program that tries to read these files and print the contents of the file to the screen. Wrap your code in a `try-except` block to catch the `FileNotFound` error, and print a friendly message if a file is missing. Move one of the files to a different location on your system, and make sure the code in the `except` block executes properly."
      ]
    },
    {
      "cell_type": "code",
      "execution_count": null,
      "id": "56",
      "metadata": {
        "id": "56"
      },
      "outputs": [],
      "source": [
        "file_names = ['cats.txt', 'dogs.txt']\n",
        "\n",
        "for file_name in file_names:\n",
        "    try:\n",
        "        with open(file_name) as file_object:\n",
        "            print(f\"Contents of {file_name}:\")\n",
        "            contents = file_object.read()\n",
        "            print(contents)\n",
        "    except FileNotFoundError:\n",
        "        print(f\"Sorry, the file '{file_name}' does not exist or is in a different location.\")\n",
        "\n",
        "\n"
      ]
    },
    {
      "cell_type": "markdown",
      "id": "57",
      "metadata": {
        "id": "57"
      },
      "source": [
        "## Question 29\n",
        "\n",
        "**Silent Cats and Dogs:** Modify your except block in Question 28 to fail silently if either file is missing."
      ]
    },
    {
      "cell_type": "code",
      "execution_count": null,
      "id": "58",
      "metadata": {
        "id": "58"
      },
      "outputs": [],
      "source": [
        "file_names = ['cats.txt', 'dogs.txt']\n",
        "\n",
        "for file_name in file_names:\n",
        "    try:\n",
        "        with open(file_name) as file_object:\n",
        "            print(f\"Contents of {file_name}:\")\n",
        "            contents = file_object.read()\n",
        "            print(contents)\n",
        "    except FileNotFoundError:\n",
        "        pass  \n",
        "print(\"Program finished.\")\n"
      ]
    },
    {
      "cell_type": "markdown",
      "id": "59",
      "metadata": {
        "id": "59"
      },
      "source": [
        "## Question 30\n",
        "\n",
        "**Common Words:** Visit Project Gutenberg (<https://gutenberg.org/>) and find a few texts you’d like to analyze. Download the text files for these works, or copy the raw text from your browser into a text file on your computer. You can use the `count()` method to find out how many times a word or phrase appears in a string. For example, the following code counts the number of times 'row' appears in a string:"
      ]
    },
    {
      "cell_type": "code",
      "execution_count": null,
      "id": "60",
      "metadata": {
        "id": "60"
      },
      "outputs": [],
      "source": [
        "line = \"Row, row, row your boat\"\n",
        "line.count(\"row\")"
      ]
    },
    {
      "cell_type": "code",
      "execution_count": null,
      "id": "61",
      "metadata": {
        "id": "61"
      },
      "outputs": [],
      "source": [
        "line.lower().count(\"row\")"
      ]
    },
    {
      "cell_type": "markdown",
      "id": "62",
      "metadata": {
        "id": "62"
      },
      "source": [
        "Notice that converting the string to lowercase using lower() catches all appearances of the word you’re looking for, regardless of how it’s formatted.\n",
        "\n",
        "Write a program that reads the files you found at Project Gutenberg and determines how many times the word `the` appears in each text. This will be an approximation because it will also count words such as `then` and `there`. Try counting `the`, with a space in the string, and see how much lower your count is."
      ]
    },
    {
      "cell_type": "code",
      "execution_count": 16,
      "id": "63",
      "metadata": {
        "id": "63"
      },
      "outputs": [
        {
          "name": "stdout",
          "output_type": "stream",
          "text": [
            "File: book.txt\n",
            "Occurrences of ' there ': 1\n",
            "Occurrences of 'there' at the beginning: False\n",
            "Occurrences of 'there' at the end: False\n",
            "Total occurrences of 'there': 4\n",
            "\n"
          ]
        }
      ],
      "source": [
        "def count_word_occurrences(file_name, word):\n",
        "    with open(file_name, 'r', encoding='utf-8') as file:\n",
        "        text = file.read()\n",
        "        text_lower = text.lower()\n",
        "        count_with_space = text_lower.count(f' {word} ')\n",
        "        count_at_beginning = text_lower.startswith(word)\n",
        "        count_at_end = text_lower.endswith(word)\n",
        "        total_count = text_lower.count(word)\n",
        "        return count_with_space, count_at_beginning, count_at_end, total_count\n",
        "\n",
        "file_names = ['book.txt']  \n",
        "\n",
        "word = 'there'\n",
        "\n",
        "for file_name in file_names:\n",
        "    count_with_space, count_at_beginning, count_at_end, total_count = count_word_occurrences(file_name, word)\n",
        "    print(f\"File: {file_name}\")\n",
        "    print(f\"Occurrences of ' {word} ': {count_with_space}\")\n",
        "    print(f\"Occurrences of '{word}' at the beginning: {count_at_beginning}\")\n",
        "    print(f\"Occurrences of '{word}' at the end: {count_at_end}\")\n",
        "    print(f\"Total occurrences of '{word}': {total_count}\")\n",
        "    print()\n"
      ]
    }
  ],
  "metadata": {
    "colab": {
      "provenance": []
    },
    "kernelspec": {
      "display_name": "Python 3",
      "language": "python",
      "name": "python3"
    },
    "language_info": {
      "codemirror_mode": {
        "name": "ipython",
        "version": 3
      },
      "file_extension": ".py",
      "mimetype": "text/x-python",
      "name": "python",
      "nbconvert_exporter": "python",
      "pygments_lexer": "ipython3",
      "version": "3.11.7"
    }
  },
  "nbformat": 4,
  "nbformat_minor": 5
}
