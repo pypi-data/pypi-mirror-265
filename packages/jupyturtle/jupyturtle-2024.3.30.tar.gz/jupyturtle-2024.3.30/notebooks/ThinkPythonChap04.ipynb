{
 "cells": [
  {
   "cell_type": "markdown",
   "id": "fbb4d5a2",
   "metadata": {
    "id": "fbb4d5a2"
   },
   "source": [
    "# Code from Downey's _Think Python_\n",
    "\n",
    "This notebook contains code for examples and exercises from chapter 4,\n",
    "_Functions and Interfaces_ of Allen Downey's\n",
    "_Think Python Third Edition_ (O'Reilly, 2024) using turtle graphics.\n",
    "\n",
    "I removed the main text, keeping only the section titles to make it easier to locate the code in the book.\n",
    "I also added some comments for context."
   ]
  },
  {
   "cell_type": "markdown",
   "id": "0b0efa00",
   "metadata": {
    "id": "0b0efa00"
   },
   "source": [
    "## The Turtle module\n",
    "\n",
    "Import the `Turtle` class:"
   ]
  },
  {
   "cell_type": "code",
   "execution_count": 1,
   "id": "8f5a8a45",
   "metadata": {
    "id": "8f5a8a45"
   },
   "outputs": [],
   "source": [
    "from jupyturtle import Turtle"
   ]
  },
  {
   "cell_type": "markdown",
   "id": "8c801121",
   "metadata": {
    "id": "8c801121"
   },
   "source": [
    "Create `Turtle` object, use a method:"
   ]
  },
  {
   "cell_type": "code",
   "execution_count": 2,
   "id": "b3f255cd",
   "metadata": {
    "id": "b3f255cd",
    "outputId": "deb4d489-1a62-47ef-d6bf-39617641f591"
   },
   "outputs": [
    {
     "data": {
      "text/html": [
       "<svg width=\"300\" height=\"150\" style=\"fill:none; stroke-linecap:round;\">\n",
       "    <rect width=\"100%\" height=\"100%\" fill=\"#F3F3F7\" />\n",
       "\n",
       "\n",
       "<path stroke=\"#663399\" stroke-width=\"2\" d=\"M 150,75 250,75\" />'\n",
       "\n",
       "<g transform=\"rotate(-90.0,250.0,75.0) translate(250.0, 75.0)\">\n",
       "    <circle stroke=\"#63A375\" stroke-width=\"2\" fill=\"transparent\" r=\"5.5\" cx=\"0\" cy=\"0\"/>\n",
       "    <polygon points=\"0,12 2,9 -2,9\" style=\"fill:#63A375;stroke:#63A375;stroke-width:2\"/>\n",
       "</g>\n",
       "\n",
       "</svg>"
      ],
      "text/plain": [
       "<IPython.core.display.HTML object>"
      ]
     },
     "metadata": {},
     "output_type": "display_data"
    }
   ],
   "source": [
    "t = Turtle()\n",
    "t.forward(100)"
   ]
  },
  {
   "cell_type": "markdown",
   "id": "77a61cbb",
   "metadata": {
    "id": "77a61cbb"
   },
   "source": [
    "Shortcuts for exploratory programming with an imperative API:"
   ]
  },
  {
   "cell_type": "code",
   "execution_count": 3,
   "id": "234fde81",
   "metadata": {
    "id": "234fde81"
   },
   "outputs": [
    {
     "data": {
      "text/html": [
       "<svg width=\"300\" height=\"150\" style=\"fill:none; stroke-linecap:round;\">\n",
       "    <rect width=\"100%\" height=\"100%\" fill=\"#F3F3F7\" />\n",
       "\n",
       "\n",
       "<path stroke=\"#663399\" stroke-width=\"2\" d=\"M 150,75 250,75 250,25\" />'\n",
       "\n",
       "<g transform=\"rotate(180.0,250.0,25.0) translate(250.0, 25.0)\">\n",
       "    <circle stroke=\"#63A375\" stroke-width=\"2\" fill=\"transparent\" r=\"5.5\" cx=\"0\" cy=\"0\"/>\n",
       "    <polygon points=\"0,12 2,9 -2,9\" style=\"fill:#63A375;stroke:#63A375;stroke-width:2\"/>\n",
       "</g>\n",
       "\n",
       "</svg>"
      ],
      "text/plain": [
       "<IPython.core.display.HTML object>"
      ]
     },
     "metadata": {},
     "output_type": "display_data"
    }
   ],
   "source": [
    "from jupyturtle import fd\n",
    "fd(100)"
   ]
  },
  {
   "cell_type": "markdown",
   "id": "c1322d31",
   "metadata": {
    "id": "c1322d31"
   },
   "source": [
    "The `fd()` call created a new turtle and drawing.\n",
    "Further commands will update that same drawing."
   ]
  },
  {
   "cell_type": "markdown",
   "id": "bd319754",
   "metadata": {
    "id": "bd319754"
   },
   "source": [
    "Import more functions:"
   ]
  },
  {
   "cell_type": "code",
   "execution_count": 4,
   "id": "6d874b03",
   "metadata": {
    "id": "6d874b03"
   },
   "outputs": [],
   "source": [
    "from jupyturtle import lt, rt, fd"
   ]
  },
  {
   "cell_type": "markdown",
   "id": "0da2a311",
   "metadata": {
    "id": "0da2a311"
   },
   "source": [
    "Experiment with `left`, aliased to `lt`."
   ]
  },
  {
   "cell_type": "code",
   "execution_count": 5,
   "id": "1bb57a0c",
   "metadata": {
    "id": "1bb57a0c",
    "outputId": "7c5c99bb-d1c1-4e70-8eeb-60dd7e4d9976"
   },
   "outputs": [],
   "source": [
    "lt(90)\n",
    "fd(50)"
   ]
  },
  {
   "cell_type": "markdown",
   "id": "e20ea96c",
   "metadata": {
    "id": "e20ea96c"
   },
   "source": [
    "## Making a square"
   ]
  },
  {
   "cell_type": "code",
   "execution_count": 6,
   "id": "9a9e455f",
   "metadata": {
    "id": "9a9e455f",
    "outputId": "b2f6fc88-1ae0-4058-94ab-b11fb7278169"
   },
   "outputs": [
    {
     "data": {
      "text/html": [
       "<svg width=\"300\" height=\"150\" style=\"fill:none; stroke-linecap:round;\">\n",
       "    <rect width=\"100%\" height=\"100%\" fill=\"#F3F3F7\" />\n",
       "\n",
       "\n",
       "<path stroke=\"#663399\" stroke-width=\"2\" d=\"M 150,75 200,75 200,25 150,25 150,75\" />'\n",
       "\n",
       "<g transform=\"rotate(-90.0,150.0,75.0) translate(150.0, 75.0)\">\n",
       "    <circle stroke=\"#63A375\" stroke-width=\"2\" fill=\"transparent\" r=\"5.5\" cx=\"0\" cy=\"0\"/>\n",
       "    <polygon points=\"0,12 2,9 -2,9\" style=\"fill:#63A375;stroke:#63A375;stroke-width:2\"/>\n",
       "</g>\n",
       "\n",
       "</svg>"
      ],
      "text/plain": [
       "<IPython.core.display.HTML object>"
      ]
     },
     "metadata": {},
     "output_type": "display_data"
    }
   ],
   "source": [
    "from jupyturtle import make_turtle, forward, left\n",
    "\n",
    "make_turtle()\n",
    "\n",
    "forward(50)\n",
    "left(90)\n",
    "\n",
    "forward(50)\n",
    "left(90)\n",
    "\n",
    "forward(50)\n",
    "left(90)\n",
    "\n",
    "forward(50)\n",
    "left(90)"
   ]
  },
  {
   "cell_type": "markdown",
   "id": "a7500957",
   "metadata": {
    "id": "a7500957"
   },
   "source": [
    "Using a `for` loop."
   ]
  },
  {
   "cell_type": "code",
   "execution_count": 7,
   "id": "cc27ad66",
   "metadata": {
    "id": "cc27ad66",
    "outputId": "d13253a3-9547-49a5-8181-38994a7d9bcf"
   },
   "outputs": [
    {
     "data": {
      "text/html": [
       "<svg width=\"300\" height=\"150\" style=\"fill:none; stroke-linecap:round;\">\n",
       "    <rect width=\"100%\" height=\"100%\" fill=\"#F3F3F7\" />\n",
       "\n",
       "\n",
       "<path stroke=\"#663399\" stroke-width=\"2\" d=\"M 150,75 200,75 200,25 150,25 150,75\" />'\n",
       "\n",
       "<g transform=\"rotate(-90.0,150.0,75.0) translate(150.0, 75.0)\">\n",
       "    <circle stroke=\"#63A375\" stroke-width=\"2\" fill=\"transparent\" r=\"5.5\" cx=\"0\" cy=\"0\"/>\n",
       "    <polygon points=\"0,12 2,9 -2,9\" style=\"fill:#63A375;stroke:#63A375;stroke-width:2\"/>\n",
       "</g>\n",
       "\n",
       "</svg>"
      ],
      "text/plain": [
       "<IPython.core.display.HTML object>"
      ]
     },
     "metadata": {},
     "output_type": "display_data"
    }
   ],
   "source": [
    "make_turtle()\n",
    "for i in range(4):\n",
    "    forward(50)\n",
    "    left(90)"
   ]
  },
  {
   "cell_type": "markdown",
   "id": "c072ea41",
   "metadata": {
    "id": "c072ea41"
   },
   "source": [
    "## Encapsulation and generalization\n",
    "\n",
    "Write function"
   ]
  },
  {
   "cell_type": "code",
   "execution_count": 8,
   "id": "ad5f1128",
   "metadata": {
    "id": "ad5f1128"
   },
   "outputs": [],
   "source": [
    "def square():\n",
    "    for i in range(4):\n",
    "        forward(50)\n",
    "        left(90)"
   ]
  },
  {
   "cell_type": "markdown",
   "id": "0789b5d9",
   "metadata": {
    "id": "0789b5d9"
   },
   "source": [
    "Call it."
   ]
  },
  {
   "cell_type": "code",
   "execution_count": 9,
   "id": "193bbe5e",
   "metadata": {
    "id": "193bbe5e",
    "outputId": "685b50ca-1d40-43e6-c9d0-c04eb3384e9c"
   },
   "outputs": [
    {
     "data": {
      "text/html": [
       "<svg width=\"300\" height=\"150\" style=\"fill:none; stroke-linecap:round;\">\n",
       "    <rect width=\"100%\" height=\"100%\" fill=\"#F3F3F7\" />\n",
       "\n",
       "\n",
       "<path stroke=\"#663399\" stroke-width=\"2\" d=\"M 150,75 200,75 200,25 150,25 150,75\" />'\n",
       "\n",
       "<g transform=\"rotate(-90.0,150.0,75.0) translate(150.0, 75.0)\">\n",
       "    <circle stroke=\"#63A375\" stroke-width=\"2\" fill=\"transparent\" r=\"5.5\" cx=\"0\" cy=\"0\"/>\n",
       "    <polygon points=\"0,12 2,9 -2,9\" style=\"fill:#63A375;stroke:#63A375;stroke-width:2\"/>\n",
       "</g>\n",
       "\n",
       "</svg>"
      ],
      "text/plain": [
       "<IPython.core.display.HTML object>"
      ]
     },
     "metadata": {},
     "output_type": "display_data"
    }
   ],
   "source": [
    "make_turtle()\n",
    "square()"
   ]
  },
  {
   "cell_type": "markdown",
   "id": "da905fc6",
   "metadata": {
    "id": "da905fc6"
   },
   "source": [
    "Function with parameter"
   ]
  },
  {
   "cell_type": "code",
   "execution_count": 10,
   "id": "def8a5f1",
   "metadata": {
    "id": "def8a5f1"
   },
   "outputs": [],
   "source": [
    "def square(length):\n",
    "    for i in range(4):\n",
    "        forward(length)\n",
    "        left(90)"
   ]
  },
  {
   "cell_type": "markdown",
   "id": "397fda4b",
   "metadata": {
    "id": "397fda4b"
   },
   "source": [
    "Now we can draw squares with different sizes."
   ]
  },
  {
   "cell_type": "code",
   "execution_count": 11,
   "id": "b283e795",
   "metadata": {
    "id": "b283e795",
    "outputId": "f1681b48-b958-430c-fa9d-2290dcb64e85"
   },
   "outputs": [
    {
     "data": {
      "text/html": [
       "<svg width=\"300\" height=\"150\" style=\"fill:none; stroke-linecap:round;\">\n",
       "    <rect width=\"100%\" height=\"100%\" fill=\"#F3F3F7\" />\n",
       "\n",
       "\n",
       "<path stroke=\"#663399\" stroke-width=\"2\" d=\"M 150,75 180,75 180,45 150,45 150,75 210,75 210,15 150,15 150,75\" />'\n",
       "\n",
       "<g transform=\"rotate(-90.0,150.0,75.0) translate(150.0, 75.0)\">\n",
       "    <circle stroke=\"#63A375\" stroke-width=\"2\" fill=\"transparent\" r=\"5.5\" cx=\"0\" cy=\"0\"/>\n",
       "    <polygon points=\"0,12 2,9 -2,9\" style=\"fill:#63A375;stroke:#63A375;stroke-width:2\"/>\n",
       "</g>\n",
       "\n",
       "</svg>"
      ],
      "text/plain": [
       "<IPython.core.display.HTML object>"
      ]
     },
     "metadata": {},
     "output_type": "display_data"
    }
   ],
   "source": [
    "make_turtle()\n",
    "square(30)\n",
    "square(60)"
   ]
  },
  {
   "cell_type": "markdown",
   "id": "5a46bf64",
   "metadata": {
    "id": "5a46bf64"
   },
   "source": [
    "Generalization:"
   ]
  },
  {
   "cell_type": "code",
   "execution_count": 12,
   "id": "171974ed",
   "metadata": {
    "id": "171974ed"
   },
   "outputs": [],
   "source": [
    "def polygon(n, length):\n",
    "    angle = 360 / n\n",
    "    for i in range(n):\n",
    "        forward(length)\n",
    "        left(angle)"
   ]
  },
  {
   "cell_type": "markdown",
   "id": "286d3c77",
   "metadata": {
    "id": "286d3c77"
   },
   "source": [
    "Example:"
   ]
  },
  {
   "cell_type": "code",
   "execution_count": 13,
   "id": "71f7d9d2",
   "metadata": {
    "id": "71f7d9d2",
    "outputId": "b9160d99-658e-4933-f17e-1ecf02c9a6fa"
   },
   "outputs": [
    {
     "data": {
      "text/html": [
       "<svg width=\"300\" height=\"150\" style=\"fill:none; stroke-linecap:round;\">\n",
       "    <rect width=\"100%\" height=\"100%\" fill=\"#F3F3F7\" />\n",
       "\n",
       "\n",
       "<path stroke=\"#663399\" stroke-width=\"2\" d=\"M 150,75 180,75 198.7,51.5 192,22.3 165,9.3 138,22.3 131.3,51.5 150,75\" />'\n",
       "\n",
       "<g transform=\"rotate(270.0,150.0,75.0) translate(150.0, 75.0)\">\n",
       "    <circle stroke=\"#63A375\" stroke-width=\"2\" fill=\"transparent\" r=\"5.5\" cx=\"0\" cy=\"0\"/>\n",
       "    <polygon points=\"0,12 2,9 -2,9\" style=\"fill:#63A375;stroke:#63A375;stroke-width:2\"/>\n",
       "</g>\n",
       "\n",
       "</svg>"
      ],
      "text/plain": [
       "<IPython.core.display.HTML object>"
      ]
     },
     "metadata": {},
     "output_type": "display_data"
    }
   ],
   "source": [
    "make_turtle()\n",
    "polygon(7, 30)"
   ]
  },
  {
   "cell_type": "markdown",
   "id": "dc0226db",
   "metadata": {
    "id": "dc0226db"
   },
   "source": [
    "Named arguments:"
   ]
  },
  {
   "cell_type": "code",
   "execution_count": 14,
   "id": "8ff2a5f4",
   "metadata": {
    "id": "8ff2a5f4",
    "outputId": "4b4a744d-bf00-4d1e-feba-9f4174506318",
    "tags": [
     "remove-output"
    ]
   },
   "outputs": [
    {
     "data": {
      "text/html": [
       "<svg width=\"300\" height=\"150\" style=\"fill:none; stroke-linecap:round;\">\n",
       "    <rect width=\"100%\" height=\"100%\" fill=\"#F3F3F7\" />\n",
       "\n",
       "\n",
       "<path stroke=\"#663399\" stroke-width=\"2\" d=\"M 150,75 180,75 198.7,51.5 192,22.3 165,9.3 138,22.3 131.3,51.5 150,75\" />'\n",
       "\n",
       "<g transform=\"rotate(270.0,150.0,75.0) translate(150.0, 75.0)\">\n",
       "    <circle stroke=\"#63A375\" stroke-width=\"2\" fill=\"transparent\" r=\"5.5\" cx=\"0\" cy=\"0\"/>\n",
       "    <polygon points=\"0,12 2,9 -2,9\" style=\"fill:#63A375;stroke:#63A375;stroke-width:2\"/>\n",
       "</g>\n",
       "\n",
       "</svg>"
      ],
      "text/plain": [
       "<IPython.core.display.HTML object>"
      ]
     },
     "metadata": {},
     "output_type": "display_data"
    }
   ],
   "source": [
    "make_turtle()\n",
    "polygon(n=7, length=30)"
   ]
  },
  {
   "cell_type": "markdown",
   "id": "b10184b4",
   "metadata": {
    "id": "b10184b4"
   },
   "source": [
    "## Approximating a circle\n",
    "\n",
    "To draw a circle:"
   ]
  },
  {
   "cell_type": "code",
   "execution_count": 15,
   "id": "7f2a5f28",
   "metadata": {
    "id": "7f2a5f28"
   },
   "outputs": [],
   "source": [
    "import math\n",
    "\n",
    "def circle(radius):\n",
    "    circumference = 2 * math.pi * radius\n",
    "    n = 30\n",
    "    length = circumference / n\n",
    "    polygon(n, length)"
   ]
  },
  {
   "cell_type": "markdown",
   "id": "39023314",
   "metadata": {
    "id": "39023314"
   },
   "source": [
    "The `delay` argument:"
   ]
  },
  {
   "cell_type": "code",
   "execution_count": 16,
   "id": "75258056",
   "metadata": {
    "id": "75258056",
    "outputId": "9cbf7b6a-c5e7-433e-a14f-2b275e9e9f05"
   },
   "outputs": [
    {
     "data": {
      "text/html": [
       "<svg width=\"300\" height=\"150\" style=\"fill:none; stroke-linecap:round;\">\n",
       "    <rect width=\"100%\" height=\"100%\" fill=\"#F3F3F7\" />\n",
       "\n",
       "\n",
       "<path stroke=\"#663399\" stroke-width=\"2\" d=\"M 150,75 156.3,75 162.4,73.7 168.2,71.1 173.3,67.4 177.5,62.8 180.6,57.3 182.5,51.4 183.2,45.1 182.5,38.9 180.6,32.9 177.5,27.4 173.3,22.8 168.2,19.1 162.4,16.5 156.3,15.2 150,15.2 143.9,16.5 138.1,19.1 133,22.8 128.8,27.4 125.7,32.9 123.7,38.9 123.1,45.1 123.7,51.4 125.7,57.3 128.8,62.8 133,67.4 138.1,71.1 143.9,73.7 150,75\" />'\n",
       "\n",
       "<g transform=\"rotate(-90.0,150.0,75.0) translate(150.0, 75.0)\">\n",
       "    <circle stroke=\"#63A375\" stroke-width=\"2\" fill=\"transparent\" r=\"5.5\" cx=\"0\" cy=\"0\"/>\n",
       "    <polygon points=\"0,12 2,9 -2,9\" style=\"fill:#63A375;stroke:#63A375;stroke-width:2\"/>\n",
       "</g>\n",
       "\n",
       "</svg>"
      ],
      "text/plain": [
       "<IPython.core.display.HTML object>"
      ]
     },
     "metadata": {},
     "output_type": "display_data"
    }
   ],
   "source": [
    "make_turtle(delay=.01)\n",
    "circle(30)"
   ]
  },
  {
   "cell_type": "markdown",
   "id": "c48f262c",
   "metadata": {
    "id": "c48f262c"
   },
   "source": [
    "## Refactoring\n",
    "\n",
    "`polyline`, a more general version of `polygon`:"
   ]
  },
  {
   "cell_type": "code",
   "execution_count": 17,
   "id": "381edd23",
   "metadata": {
    "id": "381edd23"
   },
   "outputs": [],
   "source": [
    "def polyline(n, length, angle):\n",
    "    for i in range(n):\n",
    "        forward(length)\n",
    "        left(angle)"
   ]
  },
  {
   "cell_type": "markdown",
   "id": "c2b2503e",
   "metadata": {
    "id": "c2b2503e"
   },
   "source": [
    "Parameters:\n",
    "\n",
    "`n`: number of segments to draw\n",
    "\n",
    "`length`: length each segment\n",
    "\n",
    "`angle`: angle between them\n",
    "\n",
    "New `polygon` using `polyline`:"
   ]
  },
  {
   "cell_type": "code",
   "execution_count": 18,
   "id": "2f4eecc0",
   "metadata": {
    "id": "2f4eecc0"
   },
   "outputs": [],
   "source": [
    "def polygon(n, length):\n",
    "    angle = 360.0 / n\n",
    "    polyline(n, length, angle)"
   ]
  },
  {
   "cell_type": "markdown",
   "id": "2714a59e",
   "metadata": {
    "id": "2714a59e"
   },
   "source": [
    "Use `polyline` to write `arc`:"
   ]
  },
  {
   "cell_type": "code",
   "execution_count": 19,
   "id": "539466f6",
   "metadata": {
    "id": "539466f6"
   },
   "outputs": [],
   "source": [
    "def arc(radius, angle):\n",
    "    arc_length = 2 * math.pi * radius * angle / 360\n",
    "    n = 30\n",
    "    length = arc_length / n\n",
    "    step_angle = float(angle) / n\n",
    "    polyline(n, length, step_angle)"
   ]
  },
  {
   "cell_type": "markdown",
   "id": "3c18773c",
   "metadata": {
    "id": "3c18773c"
   },
   "source": [
    "Rewrite `circle` to use `arc`:"
   ]
  },
  {
   "cell_type": "code",
   "execution_count": 20,
   "id": "8e09f456",
   "metadata": {
    "id": "8e09f456"
   },
   "outputs": [],
   "source": [
    "def circle(radius):\n",
    "    arc(radius,  360)"
   ]
  },
  {
   "cell_type": "markdown",
   "id": "313a357c",
   "metadata": {
    "id": "313a357c"
   },
   "source": [
    "To check that these functions work as expected, we'll use them to draw something like a snail."
   ]
  },
  {
   "cell_type": "code",
   "execution_count": 21,
   "id": "80d6eadd",
   "metadata": {
    "id": "80d6eadd",
    "outputId": "7568b421-69a5-4e3d-c369-e706f92b2e7e"
   },
   "outputs": [
    {
     "data": {
      "text/html": [
       "<svg width=\"300\" height=\"150\" style=\"fill:none; stroke-linecap:round;\">\n",
       "    <rect width=\"100%\" height=\"100%\" fill=\"#F3F3F7\" />\n",
       "\n",
       "\n",
       "<path stroke=\"#663399\" stroke-width=\"2\" d=\"M 150,75 159,75 167.6,72.2 174.8,66.9 180.1,59.6 182.9,51.1 182.9,42.1 180.1,33.5 174.8,26.2 167.6,21 159,18.2 150,18.2 141.4,21 134.2,26.2 128.9,33.5 126.1,42.1 126.1,51.1 128.9,59.6 134.2,66.9 141.4,72.2 150,75 152.9,75 155.7,74.9 158.5,74.7 161.4,74.3 164.2,73.8 167,73.3 169.7,72.6 172.5,71.8 175.2,70.9 177.8,69.8 180.5,68.7 183,67.5 185.5,66.1 188,64.7 190.4,63.2 192.7,61.5 195,59.8 197.2,58 199.3,56.1 201.4,54.1 203.3,52 205.2,49.9 207,47.6 208.7,45.3 210.2,43 211.7,40.5 213.1,38.1 214.4,35.5 215.6,32.9 216.7,30.3 217.4,28.3 217.7,26.2 217.6,24.2 217,22.1 216,20.3 214.7,18.7 213,17.4 211.1,16.5 209.1,16 207,15.9 204.9,16.3 203,17 201.3,18.2 199.8,19.7 198.7,21.5 198,23.5 197.7,25.5 197.8,27.6 198.4,29.6 199.4,31.5 200.7,33.1 202.4,34.4 204.3,35.3 206.3,35.8 208.4,35.9 210.5,35.5 212.4,34.7 214.1,33.6 215.6,32.1 216.7,30.3\" />'\n",
       "\n",
       "<g transform=\"rotate(200.0,216.7,30.3) translate(216.7, 30.3)\">\n",
       "    <circle stroke=\"#63A375\" stroke-width=\"2\" fill=\"transparent\" r=\"5.5\" cx=\"0\" cy=\"0\"/>\n",
       "    <polygon points=\"0,12 2,9 -2,9\" style=\"fill:#63A375;stroke:#63A375;stroke-width:2\"/>\n",
       "</g>\n",
       "\n",
       "</svg>"
      ],
      "text/plain": [
       "<IPython.core.display.HTML object>"
      ]
     },
     "metadata": {},
     "output_type": "display_data"
    }
   ],
   "source": [
    "make_turtle(delay=0)\n",
    "polygon(n=20, length=9)\n",
    "arc(radius=70, angle=70)\n",
    "circle(radius=10)"
   ]
  },
  {
   "cell_type": "markdown",
   "id": "d18c9d16",
   "metadata": {
    "id": "d18c9d16"
   },
   "source": [
    "## Stack diagram\n",
    "\n",
    "(no turtle examples in this section)"
   ]
  },
  {
   "cell_type": "markdown",
   "id": "3e3bae20",
   "metadata": {
    "id": "3e3bae20"
   },
   "source": [
    "## Docstrings\n",
    "\n",
    "`polyline` with docstring:"
   ]
  },
  {
   "cell_type": "code",
   "execution_count": 22,
   "id": "b68f3682",
   "metadata": {
    "id": "b68f3682"
   },
   "outputs": [],
   "source": [
    "def polyline(n, length, angle):\n",
    "    \"\"\"Draws line segments with the given length and angle between them.\n",
    "\n",
    "    n: integer number of line segments\n",
    "    length: length of the line segments\n",
    "    angle: angle between segments (in degrees)\n",
    "    \"\"\"\n",
    "    for i in range(n):\n",
    "        forward(length)\n",
    "        left(angle)"
   ]
  },
  {
   "cell_type": "code",
   "execution_count": 23,
   "id": "1182531b-8252-4389-a6b4-58adec2fc19b",
   "metadata": {},
   "outputs": [
    {
     "data": {
      "text/html": [
       "<svg width=\"300\" height=\"150\" style=\"fill:none; stroke-linecap:round;\">\n",
       "    <rect width=\"100%\" height=\"100%\" fill=\"#F3F3F7\" />\n",
       "\n",
       "\n",
       "<path stroke=\"#663399\" stroke-width=\"2\" d=\"M 150,75 180,75 204.3,57.4 213.5,28.8 204.3,0.3 180,-17.3 150,-17.3 125.7,0.3 116.5,28.8 125.7,57.4\" />'\n",
       "\n",
       "<g transform=\"rotate(-54.0,125.7,57.4) translate(125.7, 57.4)\">\n",
       "    <circle stroke=\"#63A375\" stroke-width=\"2\" fill=\"transparent\" r=\"5.5\" cx=\"0\" cy=\"0\"/>\n",
       "    <polygon points=\"0,12 2,9 -2,9\" style=\"fill:#63A375;stroke:#63A375;stroke-width:2\"/>\n",
       "</g>\n",
       "\n",
       "</svg>"
      ],
      "text/plain": [
       "<IPython.core.display.HTML object>"
      ]
     },
     "metadata": {},
     "output_type": "display_data"
    }
   ],
   "source": [
    "make_turtle(delay=0.5)\n",
    "polyline(9, 30, 36)"
   ]
  },
  {
   "cell_type": "markdown",
   "id": "f1115940",
   "metadata": {
    "id": "f1115940"
   },
   "source": [
    "## Debugging\n",
    "\n",
    "(no turtle examples in this section)"
   ]
  },
  {
   "cell_type": "markdown",
   "id": "a4d33a70",
   "metadata": {
    "id": "a4d33a70"
   },
   "source": [
    "## Glossary\n",
    "\n",
    "(no turtle examples in this section)"
   ]
  },
  {
   "cell_type": "markdown",
   "id": "50ed5c38",
   "metadata": {
    "id": "50ed5c38"
   },
   "source": [
    "## Exercises\n",
    "\n",
    "`penup` and `pendown`"
   ]
  },
  {
   "cell_type": "code",
   "execution_count": 24,
   "id": "6f9a0106",
   "metadata": {
    "id": "6f9a0106"
   },
   "outputs": [],
   "source": [
    "from jupyturtle import forward, penup, pendown\n",
    "\n",
    "def jump(length):\n",
    "    \"\"\"Move forward length units without leaving a trail.\n",
    "\n",
    "    Postcondition: Leaves the pen down.\n",
    "    \"\"\"\n",
    "    penup()\n",
    "    forward(length)\n",
    "    pendown()"
   ]
  },
  {
   "cell_type": "markdown",
   "id": "c78c1e17",
   "metadata": {
    "id": "c78c1e17"
   },
   "source": [
    "### Exercise\n",
    "\n",
    "Draw a rectangle:"
   ]
  },
  {
   "cell_type": "code",
   "execution_count": 26,
   "id": "c54ba660",
   "metadata": {
    "id": "c54ba660"
   },
   "outputs": [],
   "source": [
    "# Solution\n",
    "\n",
    "def rectangle(length1, length2):\n",
    "    \"\"\"Draw a rectangle with the given lengths.\n",
    "\n",
    "    length1: length of the first side\n",
    "    length2: length of the second size\n",
    "    \"\"\"\n",
    "    for i in range(2):\n",
    "        forward(length1)\n",
    "        left(90)\n",
    "        forward(length2)\n",
    "        left(90)"
   ]
  },
  {
   "cell_type": "code",
   "execution_count": 27,
   "id": "1311ee08",
   "metadata": {
    "id": "1311ee08",
    "outputId": "f73e1eaf-e057-4099-8d25-45fc326b491a"
   },
   "outputs": [
    {
     "data": {
      "text/html": [
       "<svg width=\"300\" height=\"150\" style=\"fill:none; stroke-linecap:round;\">\n",
       "    <rect width=\"100%\" height=\"100%\" fill=\"#F3F3F7\" />\n",
       "\n",
       "\n",
       "<path stroke=\"#663399\" stroke-width=\"2\" d=\"M 150,75 230,75 230,35 150,35 150,75\" />'\n",
       "\n",
       "<g transform=\"rotate(-90.0,150.0,75.0) translate(150.0, 75.0)\">\n",
       "    <circle stroke=\"#63A375\" stroke-width=\"2\" fill=\"transparent\" r=\"5.5\" cx=\"0\" cy=\"0\"/>\n",
       "    <polygon points=\"0,12 2,9 -2,9\" style=\"fill:#63A375;stroke:#63A375;stroke-width:2\"/>\n",
       "</g>\n",
       "\n",
       "</svg>"
      ],
      "text/plain": [
       "<IPython.core.display.HTML object>"
      ]
     },
     "metadata": {},
     "output_type": "display_data"
    }
   ],
   "source": [
    "make_turtle()\n",
    "rectangle(80, 40)"
   ]
  },
  {
   "cell_type": "markdown",
   "id": "8b8faaf6",
   "metadata": {
    "id": "8b8faaf6"
   },
   "source": [
    "### Exercise\n",
    "\n",
    "Draw a rhombus:"
   ]
  },
  {
   "cell_type": "code",
   "execution_count": 28,
   "id": "3db6f106",
   "metadata": {
    "id": "3db6f106"
   },
   "outputs": [],
   "source": [
    "def rhombus(length, angle):\n",
    "    for i in range(2):\n",
    "        forward(length)\n",
    "        left(angle)\n",
    "        forward(length)\n",
    "        left(180-angle)"
   ]
  },
  {
   "cell_type": "code",
   "execution_count": 29,
   "id": "1d845de9",
   "metadata": {
    "id": "1d845de9",
    "outputId": "66e0bd71-a207-482a-c855-184f9603b6b5"
   },
   "outputs": [
    {
     "data": {
      "text/html": [
       "<svg width=\"300\" height=\"150\" style=\"fill:none; stroke-linecap:round;\">\n",
       "    <rect width=\"100%\" height=\"100%\" fill=\"#F3F3F7\" />\n",
       "\n",
       "\n",
       "<path stroke=\"#663399\" stroke-width=\"2\" d=\"M 150,75 200,75 225,31.7 175,31.7 150,75\" />'\n",
       "\n",
       "<g transform=\"rotate(-90.0,150.0,75.0) translate(150.0, 75.0)\">\n",
       "    <circle stroke=\"#63A375\" stroke-width=\"2\" fill=\"transparent\" r=\"5.5\" cx=\"0\" cy=\"0\"/>\n",
       "    <polygon points=\"0,12 2,9 -2,9\" style=\"fill:#63A375;stroke:#63A375;stroke-width:2\"/>\n",
       "</g>\n",
       "\n",
       "</svg>"
      ],
      "text/plain": [
       "<IPython.core.display.HTML object>"
      ]
     },
     "metadata": {},
     "output_type": "display_data"
    }
   ],
   "source": [
    "make_turtle()\n",
    "rhombus(50, 60)"
   ]
  },
  {
   "cell_type": "markdown",
   "id": "a9175a90",
   "metadata": {
    "id": "a9175a90"
   },
   "source": [
    "### Exercise\n",
    "\n",
    "Write `parallelogram`, then rewrite `rectangle` and `rhombus` to use it:"
   ]
  },
  {
   "cell_type": "code",
   "execution_count": 30,
   "id": "895005cb",
   "metadata": {
    "id": "895005cb"
   },
   "outputs": [],
   "source": [
    "# Solution\n",
    "\n",
    "def parallelogram(length1, length2, angle):\n",
    "    for i in range(2):\n",
    "        forward(length1)\n",
    "        left(angle)\n",
    "        forward(length2)\n",
    "        left(180-angle)"
   ]
  },
  {
   "cell_type": "code",
   "execution_count": 31,
   "id": "7e7d34b0",
   "metadata": {
    "id": "7e7d34b0"
   },
   "outputs": [],
   "source": [
    "# Solution\n",
    "\n",
    "def rectangle(length1, length2):\n",
    "    \"\"\"Draw a rectangle with the given lengths.\n",
    "\n",
    "    length1: length of the first side\n",
    "    length2: length of the second size\n",
    "    \"\"\"\n",
    "    parallelogram(length1, length2, 90)"
   ]
  },
  {
   "cell_type": "code",
   "execution_count": 32,
   "id": "481396f9",
   "metadata": {
    "id": "481396f9"
   },
   "outputs": [],
   "source": [
    "# Solution\n",
    "\n",
    "def rhombus(length, angle):\n",
    "    parallelogram(length, length, angle)"
   ]
  },
  {
   "cell_type": "code",
   "execution_count": 33,
   "id": "c8dfebc9",
   "metadata": {
    "id": "c8dfebc9",
    "outputId": "a6b35bd8-69c7-44ed-cb5f-c540b8abacd8"
   },
   "outputs": [
    {
     "data": {
      "text/html": [
       "<svg width=\"300\" height=\"150\" style=\"fill:none; stroke-linecap:round;\">\n",
       "    <rect width=\"100%\" height=\"100%\" fill=\"#F3F3F7\" />\n",
       "\n",
       "\n",
       "<path stroke=\"#663399\" stroke-width=\"2\" d=\"M 150,75\" />'\n",
       "\n",
       "<path stroke=\"#663399\" stroke-width=\"2\" d=\"M 30,75 110,75 110,35 30,35 30,75\" />'\n",
       "\n",
       "<path stroke=\"#663399\" stroke-width=\"2\" d=\"M 130,75 180,75 205,31.7 155,31.7 130,75\" />'\n",
       "\n",
       "<path stroke=\"#663399\" stroke-width=\"2\" d=\"M 210,75 290,75 315,31.7 235,31.7 210,75\" />'\n",
       "\n",
       "<g transform=\"rotate(-90.0,210.0,75.0) translate(210.0, 75.0)\">\n",
       "    <circle stroke=\"#63A375\" stroke-width=\"2\" fill=\"transparent\" r=\"5.5\" cx=\"0\" cy=\"0\"/>\n",
       "    <polygon points=\"0,12 2,9 -2,9\" style=\"fill:#63A375;stroke:#63A375;stroke-width:2\"/>\n",
       "</g>\n",
       "\n",
       "</svg>"
      ],
      "text/plain": [
       "<IPython.core.display.HTML object>"
      ]
     },
     "metadata": {},
     "output_type": "display_data"
    }
   ],
   "source": [
    "make_turtle(delay=0.05)\n",
    "jump(-120)\n",
    "\n",
    "rectangle(80, 40)\n",
    "jump(100)\n",
    "rhombus(50, 60)\n",
    "jump(80)\n",
    "parallelogram(80, 50, 60)"
   ]
  },
  {
   "cell_type": "markdown",
   "id": "b9bd3ad7-f086-4470-82a5-8a3a82593719",
   "metadata": {},
   "source": [
    "### Exercise\n",
    "\n",
    "A `triangle` function:\n"
   ]
  },
  {
   "cell_type": "code",
   "execution_count": 34,
   "id": "8be6442e",
   "metadata": {
    "id": "8be6442e"
   },
   "outputs": [],
   "source": [
    "# Solution\n",
    "import math\n",
    "\n",
    "from jupyturtle import forward, left, right\n",
    "\n",
    "def triangle(radius,  angle):\n",
    "    \"\"\"Draws an icosceles triangle.\n",
    "\n",
    "    The turtle starts and ends at the peak, facing the middle of the base.\n",
    "\n",
    "    radius: length of the equal legs\n",
    "    angle: half peak angle in degrees\n",
    "    \"\"\"\n",
    "    y = radius * math.sin(angle * math.pi / 180)\n",
    "\n",
    "    right(angle)\n",
    "    forward(radius)\n",
    "    left(90+angle)\n",
    "    forward(2*y)\n",
    "    left(90+angle)\n",
    "    forward(radius)\n",
    "    left(180-angle)"
   ]
  },
  {
   "cell_type": "markdown",
   "id": "b8aeab81-bc97-400c-917f-bc962d834cb5",
   "metadata": {},
   "source": [
    "(a little demonstration)"
   ]
  },
  {
   "cell_type": "code",
   "execution_count": 35,
   "id": "2666dcde",
   "metadata": {},
   "outputs": [
    {
     "data": {
      "text/html": [
       "<svg width=\"300\" height=\"150\" style=\"fill:none; stroke-linecap:round;\">\n",
       "    <rect width=\"100%\" height=\"100%\" fill=\"#F3F3F7\" />\n",
       "\n",
       "\n",
       "<path stroke=\"#663399\" stroke-width=\"2\" d=\"M 150,75 199.2,83.7 199.2,66.3 150,75 197,57.9 188.3,42.9 150,75 182.1,36.7 167.1,28 150,75 158.7,25.8 141.3,25.8 150,75 132.9,28 117.9,36.7 150,75 111.7,42.9 103,57.9 150,75 100.8,66.3 100.8,83.7 150,75 103,92.1 111.7,107.1 150,75 117.9,113.3 132.9,122 150,75 141.3,124.2 158.7,124.2 150,75 167.1,122 182.1,113.3 150,75 188.3,107.1 197,92.1 150,75\" />'\n",
       "\n",
       "</svg>"
      ],
      "text/plain": [
       "<IPython.core.display.HTML object>"
      ]
     },
     "metadata": {},
     "output_type": "display_data"
    }
   ],
   "source": [
    "from jupyturtle import make_turtle, hide\n",
    "make_turtle(delay=0)\n",
    "hide()\n",
    "\n",
    "for i in range(12):\n",
    "    triangle(50, 10)\n",
    "    left(30)"
   ]
  },
  {
   "cell_type": "code",
   "execution_count": 36,
   "id": "be1b7ed8",
   "metadata": {
    "id": "be1b7ed8"
   },
   "outputs": [],
   "source": [
    "# Solution\n",
    "\n",
    "def draw_pie(n, radius):\n",
    "    \"\"\"Draws a pie divided into radial segments.\n",
    "\n",
    "    n: number of segments\n",
    "    radius: length of the radial spokes\n",
    "    \"\"\"\n",
    "    angle = 360.0 / n\n",
    "    for i in range(n):\n",
    "        triangle(radius,  angle/2)\n",
    "        left(angle)"
   ]
  },
  {
   "cell_type": "code",
   "execution_count": 37,
   "id": "9b1f5a1e",
   "metadata": {},
   "outputs": [
    {
     "data": {
      "text/html": [
       "<svg width=\"300\" height=\"150\" style=\"fill:none; stroke-linecap:round;\">\n",
       "    <rect width=\"100%\" height=\"100%\" fill=\"#F3F3F7\" />\n",
       "\n",
       "\n",
       "<path stroke=\"#663399\" stroke-width=\"2\" d=\"M 150,75 182.4,98.5 182.4,51.5 150,75 182.4,51.5 137.6,37 150,75 137.6,37 110,75 150,75 110,75 137.6,113 150,75 137.6,113 182.4,98.5 150,75\" />'\n",
       "\n",
       "<g transform=\"rotate(-90.0,150.0,75.0) translate(150.0, 75.0)\">\n",
       "    <circle stroke=\"#63A375\" stroke-width=\"2\" fill=\"transparent\" r=\"5.5\" cx=\"0\" cy=\"0\"/>\n",
       "    <polygon points=\"0,12 2,9 -2,9\" style=\"fill:#63A375;stroke:#63A375;stroke-width:2\"/>\n",
       "</g>\n",
       "\n",
       "</svg>"
      ],
      "text/plain": [
       "<IPython.core.display.HTML object>"
      ]
     },
     "metadata": {},
     "output_type": "display_data"
    }
   ],
   "source": [
    "make_turtle(delay=0.01)\n",
    "draw_pie(5, 40)"
   ]
  },
  {
   "cell_type": "code",
   "execution_count": 38,
   "id": "89ce198a",
   "metadata": {
    "id": "89ce198a",
    "outputId": "252a28de-d853-4851-abb0-525ea33c0998"
   },
   "outputs": [
    {
     "data": {
      "text/html": [
       "<svg width=\"300\" height=\"150\" style=\"fill:none; stroke-linecap:round;\">\n",
       "    <rect width=\"100%\" height=\"100%\" fill=\"#F3F3F7\" />\n",
       "\n",
       "\n",
       "<path stroke=\"#663399\" stroke-width=\"2\" d=\"M 150,75\" />'\n",
       "\n",
       "<path stroke=\"#663399\" stroke-width=\"2\" d=\"M 30,75 62.4,98.5 62.4,51.5 30,75 62.4,51.5 17.6,37 30,75 17.6,37 -10,75 30,75 -10,75 17.6,113 30,75 17.6,113 62.4,98.5 30,75\" />'\n",
       "\n",
       "<path stroke=\"#663399\" stroke-width=\"2\" d=\"M 110,75 144.6,95 144.6,55 110,75 144.6,55 110,35 110,75 110,35 75.4,55 110,75 75.4,55 75.4,95 110,75 75.4,95 110,115 110,75 110,115 144.6,95 110,75\" />'\n",
       "\n",
       "<path stroke=\"#663399\" stroke-width=\"2\" d=\"M 190,75 226,92.4 226,57.6 190,75 226,57.6 198.9,36 190,75 198.9,36 165.1,43.7 190,75 165.1,43.7 150,75 190,75 150,75 165.1,106.3 190,75 165.1,106.3 198.9,114 190,75 198.9,114 226,92.4 190,75\" />'\n",
       "\n",
       "<path stroke=\"#663399\" stroke-width=\"2\" d=\"M 270,75 307,90.3 307,59.7 270,75 307,59.7 285.3,38 270,75 285.3,38 254.7,38 270,75 254.7,38 233,59.7 270,75 233,59.7 233,90.3 270,75 233,90.3 254.7,112 270,75 254.7,112 285.3,112 270,75 285.3,112 307,90.3 270,75\" />'\n",
       "\n",
       "<g transform=\"rotate(270.0,270.0,75.0) translate(270.0, 75.0)\">\n",
       "    <circle stroke=\"#63A375\" stroke-width=\"2\" fill=\"transparent\" r=\"5.5\" cx=\"0\" cy=\"0\"/>\n",
       "    <polygon points=\"0,12 2,9 -2,9\" style=\"fill:#63A375;stroke:#63A375;stroke-width:2\"/>\n",
       "</g>\n",
       "\n",
       "</svg>"
      ],
      "text/plain": [
       "<IPython.core.display.HTML object>"
      ]
     },
     "metadata": {},
     "output_type": "display_data"
    }
   ],
   "source": [
    "make_turtle(delay=0.01)\n",
    "jump(-120)\n",
    "\n",
    "size = 40\n",
    "draw_pie(5, size)\n",
    "jump(2*size)\n",
    "draw_pie(6, size)\n",
    "jump(2*size)\n",
    "draw_pie(7, size)\n",
    "jump(2*size)\n",
    "draw_pie(8, size)"
   ]
  },
  {
   "cell_type": "markdown",
   "id": "7c665dd1",
   "metadata": {
    "id": "7c665dd1"
   },
   "source": [
    "### Exercise\n",
    "\n",
    "Draw flowers with `petal`:"
   ]
  },
  {
   "cell_type": "code",
   "execution_count": 39,
   "id": "0f0e7498",
   "metadata": {
    "id": "0f0e7498"
   },
   "outputs": [],
   "source": [
    "# Solution\n",
    "\n",
    "def petal(radius,  angle):\n",
    "    \"\"\"Draws a petal using two arcs.\n",
    "\n",
    "    t: Turtle\n",
    "    radius: radius of the arcs\n",
    "    angle: angle (degrees) that subtends the arcs\n",
    "    \"\"\"\n",
    "    for i in range(2):\n",
    "        arc(radius,  angle)\n",
    "        left(180-angle)"
   ]
  },
  {
   "cell_type": "code",
   "execution_count": 40,
   "id": "6c0d0bff",
   "metadata": {
    "id": "6c0d0bff"
   },
   "outputs": [],
   "source": [
    "# Solution\n",
    "\n",
    "def flower(n, radius, angle):\n",
    "    \"\"\"Draws a flower with n petals.\n",
    "\n",
    "    n: number of petals\n",
    "    radius: radius of the arcs\n",
    "    angle: angle (degrees) that subtends the arcs\n",
    "    \"\"\"\n",
    "    for i in range(n):\n",
    "        petal(radius,  angle)\n",
    "        left(360/n)"
   ]
  },
  {
   "cell_type": "code",
   "execution_count": 41,
   "id": "2f4b4c22-198d-4e30-8d38-68d04023309a",
   "metadata": {
    "id": "4cfea3b0",
    "outputId": "cb03438b-e82a-4c35-97dc-884bfde25056"
   },
   "outputs": [
    {
     "data": {
      "text/html": [
       "<svg width=\"300\" height=\"150\" style=\"fill:none; stroke-linecap:round;\">\n",
       "    <rect width=\"100%\" height=\"100%\" fill=\"#F3F3F7\" />\n",
       "\n",
       "\n",
       "<path stroke=\"#663399\" stroke-width=\"2\" d=\"M 150,75\" />'\n",
       "\n",
       "<path stroke=\"#663399\" stroke-width=\"2\" d=\"M 50,75 52.1,75 54.2,74.9 56.3,74.8 58.4,74.6 60.4,74.3 62.5,73.9 64.5,73.5 66.6,73 68.6,72.4 70.6,71.7 72.6,71 74.5,70.2 76.4,69.4 78.3,68.5 80.1,67.5 82,66.4 83.7,65.3 85.5,64.2 87.2,62.9 88.8,61.6 90.4,60.3 92,58.9 93.5,57.4 94.9,55.9 96.3,54.4 97.7,52.8 99,51.1 100.2,49.4 101.4,47.7 102.5,45.9 100.4,45.9 98.3,46 96.2,46.1 94.1,46.3 92,46.6 90,47 87.9,47.4 85.9,47.9 83.9,48.5 81.9,49.2 79.9,49.9 78,50.7 76.1,51.5 74.2,52.4 72.3,53.4 70.5,54.5 68.8,55.6 67,56.8 65.3,58 63.7,59.3 62.1,60.6 60.5,62 59,63.5 57.5,65 56.1,66.5 54.8,68.1 53.5,69.8 52.3,71.5 51.1,73.2 50,75 51.3,73.4 52.6,71.7 53.7,70 54.9,68.2 55.9,66.4 56.9,64.5 57.9,62.7 58.7,60.8 59.5,58.8 60.3,56.9 61,54.9 61.5,52.9 62.1,50.9 62.5,48.8 62.9,46.8 63.2,44.7 63.5,42.6 63.6,40.5 63.7,38.4 63.7,36.3 63.7,34.2 63.6,32.1 63.4,30.1 63.1,28 62.8,25.9 62.3,23.9 61.9,21.8 61.3,19.8 60.7,17.8 60,15.8 58.7,17.5 57.4,19.2 56.2,20.9 55.1,22.6 54,24.4 53,26.3 52.1,28.2 51.2,30.1 50.4,32 49.7,34 49,35.9 48.4,37.9 47.9,40 47.4,42 47.1,44.1 46.7,46.2 46.5,48.2 46.3,50.3 46.2,52.4 46.2,54.5 46.3,56.6 46.4,58.7 46.6,60.8 46.9,62.9 47.2,64.9 47.6,67 48.1,69 48.7,71 49.3,73 50,75 49.5,73 49,70.9 48.4,68.9 47.7,66.9 47,65 46.2,63.1 45.3,61.2 44.3,59.3 43.3,57.5 42.2,55.7 41.1,53.9 39.9,52.2 38.7,50.5 37.3,48.9 36,47.3 34.5,45.8 33.1,44.3 31.5,42.8 30,41.5 28.3,40.1 26.7,38.9 25,37.7 23.2,36.5 21.4,35.4 19.6,34.4 17.7,33.5 15.8,32.6 13.9,31.8 11.9,31 10,30.3 10.4,32.4 11,34.4 11.6,36.4 12.2,38.4 13,40.3 13.8,42.2 14.7,44.1 15.6,46 16.6,47.9 17.7,49.6 18.9,51.4 20.1,53.1 21.3,54.8 22.6,56.4 24,58 25.4,59.6 26.9,61 28.4,62.5 30,63.8 31.6,65.2 33.3,66.4 35,67.6 36.8,68.8 38.6,69.9 40.4,70.9 42.2,71.8 44.1,72.7 46.1,73.6 48,74.3 50,75 48.1,74.1 46.2,73.2 44.2,72.5 42.3,71.8 40.3,71.1 38.3,70.6 36.2,70.1 34.2,69.6 32.1,69.3 30,69 28,68.8 25.9,68.7 23.8,68.6 21.7,68.6 19.6,68.7 17.5,68.9 15.4,69.1 13.3,69.4 11.3,69.8 9.2,70.2 7.2,70.7 5.2,71.3 3.2,72 1.2,72.7 -0.7,73.5 -2.6,74.3 -4.5,75.3 -6.3,76.3 -8.1,77.3 -9.9,78.4 -8,79.3 -6.1,80.2 -4.2,81 -2.2,81.7 -0.2,82.3 1.8,82.9 3.9,83.4 5.9,83.8 8,84.2 10.1,84.4 12.1,84.6 14.2,84.8 16.3,84.8 18.4,84.8 20.5,84.7 22.6,84.6 24.7,84.4 26.8,84.1 28.8,83.7 30.9,83.2 32.9,82.7 34.9,82.1 36.9,81.5 38.9,80.8 40.8,80 42.7,79.1 44.6,78.2 46.4,77.2 48.2,76.1 50,75 48.1,75.9 46.3,76.9 44.4,77.9 42.7,79 40.9,80.2 39.2,81.4 37.6,82.7 35.9,84 34.4,85.4 32.9,86.9 31.4,88.4 30,89.9 28.6,91.5 27.3,93.2 26.1,94.8 24.9,96.6 23.8,98.3 22.8,100.2 21.8,102 20.8,103.9 20,105.8 19.2,107.7 18.5,109.7 17.8,111.7 17.2,113.7 16.7,115.7 16.2,117.8 15.9,119.8 15.6,121.9 15.3,124 17.2,123.1 19.1,122.1 20.9,121.1 22.7,120 24.4,118.8 26.1,117.6 27.8,116.3 29.4,115 31,113.6 32.5,112.1 33.9,110.6 35.3,109.1 36.7,107.5 38,105.8 39.2,104.1 40.4,102.4 41.5,100.6 42.6,98.8 43.6,97 44.5,95.1 45.4,93.2 46.2,91.3 46.9,89.3 47.5,87.3 48.1,85.3 48.6,83.3 49.1,81.2 49.5,79.2 49.8,77.1 50,75 49.5,77 49.1,79.1 48.8,81.2 48.6,83.2 48.4,85.3 48.3,87.4 48.3,89.5 48.3,91.6 48.4,93.7 48.6,95.8 48.9,97.9 49.2,99.9 49.6,102 50.1,104 50.6,106.1 51.2,108.1 51.9,110 52.7,112 53.5,113.9 54.4,115.8 55.3,117.7 56.4,119.5 57.5,121.3 58.6,123 59.8,124.8 61.1,126.4 62.4,128.1 63.8,129.6 65.2,131.2 66.7,132.6 67.1,130.6 67.5,128.5 67.9,126.5 68.1,124.4 68.3,122.3 68.4,120.2 68.4,118.1 68.4,116 68.3,113.9 68.1,111.8 67.8,109.8 67.5,107.7 67.1,105.6 66.6,103.6 66.1,101.6 65.4,99.6 64.8,97.6 64,95.7 63.2,93.7 62.3,91.8 61.3,90 60.3,88.1 59.2,86.3 58.1,84.6 56.9,82.9 55.6,81.2 54.3,79.6 52.9,78 51.5,76.5 50,75 51.3,76.6 52.7,78.2 54.1,79.8 55.6,81.3 57.1,82.7 58.6,84.1 60.3,85.4 61.9,86.7 63.6,87.9 65.4,89.1 67.2,90.2 69,91.2 70.9,92.1 72.7,93 74.7,93.9 76.6,94.6 78.6,95.3 80.6,96 82.6,96.5 84.6,97 86.7,97.4 88.8,97.8 90.8,98 92.9,98.2 95,98.4 97.1,98.4 99.2,98.4 101.3,98.3 103.4,98.1 105.5,97.9 104.2,96.3 102.8,94.7 101.4,93.1 99.9,91.6 98.4,90.2 96.8,88.8 95.2,87.5 93.5,86.2 91.8,85 90.1,83.8 88.3,82.7 86.5,81.7 84.6,80.7 82.7,79.8 80.8,79 78.8,78.3 76.9,77.6 74.9,76.9 72.9,76.4 70.8,75.9 68.8,75.5 66.7,75.1 64.6,74.9 62.5,74.7 60.4,74.5 58.4,74.5 56.3,74.5 54.2,74.6 52.1,74.8 50,75\" />'\n",
       "\n",
       "<path stroke=\"#663399\" stroke-width=\"2\" d=\"M 150,75 151.9,75 153.7,74.9 155.6,74.7 157.4,74.5 159.2,74.1 161.1,73.7 162.8,73.2 164.6,72.6 166.3,71.9 168,71.2 169.7,70.3 171.3,69.4 172.9,68.4 174.4,67.4 175.9,66.2 177.4,65 178.7,63.8 180,62.5 181.3,61.1 182.5,59.6 183.6,58.1 184.6,56.6 185.6,55 186.5,53.4 187.3,51.7 188,50 188.7,48.3 189.3,46.5 189.7,44.7 190.2,42.9 188.3,42.9 186.4,43 184.6,43.1 182.7,43.4 180.9,43.7 179.1,44.2 177.3,44.7 175.5,45.3 173.8,45.9 172.1,46.7 170.4,47.5 168.8,48.5 167.2,49.4 165.7,50.5 164.2,51.6 162.8,52.8 161.4,54.1 160.1,55.4 158.9,56.8 157.7,58.2 156.6,59.7 155.5,61.3 154.6,62.9 153.7,64.5 152.9,66.2 152.1,67.9 151.5,69.6 150.9,71.4 150.4,73.2 150,75 151.5,73.9 153,72.7 154.4,71.5 155.7,70.2 157,68.9 158.2,67.5 159.3,66 160.4,64.5 161.4,62.9 162.3,61.3 163.2,59.6 164,57.9 164.7,56.2 165.3,54.5 165.8,52.7 166.3,50.9 166.6,49 166.9,47.2 167.1,45.4 167.2,43.5 167.2,41.6 167.2,39.8 167,37.9 166.8,36.1 166.5,34.2 166.1,32.4 165.6,30.6 165,28.9 164.3,27.1 163.6,25.4 162.1,26.5 160.6,27.7 159.2,28.9 157.9,30.2 156.6,31.5 155.4,32.9 154.3,34.4 153.2,35.9 152.2,37.5 151.3,39.1 150.4,40.8 149.6,42.5 148.9,44.2 148.3,45.9 147.8,47.7 147.3,49.5 147,51.4 146.7,53.2 146.5,55.1 146.4,56.9 146.4,58.8 146.4,60.6 146.6,62.5 146.8,64.3 147.1,66.2 147.5,68 148,69.8 148.6,71.5 149.3,73.3 150,75 150.6,73.2 151.1,71.4 151.5,69.6 151.8,67.8 152,65.9 152.2,64.1 152.3,62.2 152.2,60.4 152.1,58.5 151.9,56.7 151.6,54.8 151.3,53 150.8,51.2 150.3,49.4 149.7,47.6 149,45.9 148.2,44.2 147.4,42.6 146.4,41 145.4,39.4 144.3,37.9 143.2,36.4 142,35 140.7,33.6 139.4,32.3 138,31.1 136.5,29.9 135,28.9 133.5,27.8 131.8,26.9 131.3,28.7 130.8,30.4 130.4,32.3 130.1,34.1 129.8,35.9 129.7,37.8 129.6,39.7 129.6,41.5 129.7,43.4 129.9,45.2 130.2,47.1 130.6,48.9 131,50.7 131.6,52.5 132.2,54.2 132.9,56 133.6,57.7 134.5,59.3 135.4,60.9 136.4,62.5 137.5,64 138.7,65.5 139.9,66.9 141.1,68.2 142.5,69.5 143.9,70.8 145.3,71.9 146.8,73 148.4,74.1 150,75 149.4,73.2 148.8,71.5 148,69.8 147.2,68.1 146.3,66.5 145.4,64.9 144.3,63.3 143.2,61.8 142,60.4 140.8,59 139.5,57.7 138.1,56.4 136.7,55.2 135.2,54.1 133.7,53.1 132.1,52.1 130.5,51.2 128.8,50.3 127.1,49.6 125.4,48.9 123.6,48.3 121.8,47.8 120,47.3 118.2,47 116.3,46.7 114.5,46.6 112.6,46.5 110.7,46.5 108.9,46.6 107,46.7 107.6,48.5 108.3,50.3 109,52 109.8,53.6 110.7,55.3 111.7,56.9 112.7,58.4 113.8,59.9 115,61.3 116.3,62.7 117.6,64 118.9,65.3 120.4,66.5 121.8,67.6 123.4,68.7 125,69.7 126.6,70.6 128.2,71.4 129.9,72.2 131.7,72.9 133.4,73.5 135.2,74 137,74.4 138.9,74.7 140.7,75 142.6,75.2 144.4,75.3 146.3,75.3 148.1,75.2 150,75 148.5,73.9 146.9,72.9 145.3,71.9 143.7,71.1 142,70.3 140.3,69.5 138.5,68.9 136.8,68.4 135,67.9 133.1,67.5 131.3,67.2 129.5,67 127.6,66.8 125.7,66.8 123.9,66.8 122,67 120.2,67.2 118.3,67.5 116.5,67.9 114.7,68.4 112.9,68.9 111.2,69.5 109.5,70.3 107.8,71.1 106.1,71.9 104.5,72.9 103,73.9 101.5,75 100,76.2 98.6,77.4 100.1,78.5 101.7,79.5 103.3,80.5 104.9,81.3 106.6,82.1 108.3,82.8 110.1,83.5 111.9,84 113.7,84.5 115.5,84.9 117.3,85.2 119.2,85.4 121,85.5 122.9,85.6 124.7,85.5 126.6,85.4 128.5,85.2 130.3,84.9 132.1,84.5 133.9,84 135.7,83.5 137.4,82.8 139.2,82.1 140.8,81.3 142.5,80.5 144.1,79.5 145.6,78.5 147.1,77.4 148.6,76.2 150,75 148.1,75 146.3,75.1 144.4,75.3 142.6,75.5 140.8,75.9 138.9,76.3 137.2,76.8 135.4,77.4 133.7,78.1 132,78.8 130.3,79.7 128.7,80.6 127.1,81.6 125.6,82.6 124.1,83.8 122.6,85 121.3,86.2 120,87.5 118.7,88.9 117.5,90.4 116.4,91.9 115.4,93.4 114.4,95 113.5,96.6 112.7,98.3 112,100 111.3,101.7 110.7,103.5 110.3,105.3 109.8,107.1 111.7,107.1 113.6,107 115.4,106.9 117.3,106.6 119.1,106.3 120.9,105.8 122.7,105.3 124.5,104.7 126.2,104.1 127.9,103.3 129.6,102.5 131.2,101.5 132.8,100.6 134.3,99.5 135.8,98.4 137.2,97.2 138.6,95.9 139.9,94.6 141.1,93.2 142.3,91.8 143.4,90.3 144.5,88.7 145.4,87.1 146.3,85.5 147.1,83.8 147.9,82.1 148.5,80.4 149.1,78.6 149.6,76.8 150,75 148.5,76.1 147,77.3 145.6,78.5 144.3,79.8 143,81.1 141.8,82.5 140.7,84 139.6,85.5 138.6,87.1 137.7,88.7 136.8,90.4 136,92.1 135.3,93.8 134.7,95.5 134.2,97.3 133.7,99.1 133.4,101 133.1,102.8 132.9,104.6 132.8,106.5 132.8,108.4 132.8,110.2 133,112.1 133.2,113.9 133.5,115.8 133.9,117.6 134.4,119.4 135,121.1 135.7,122.9 136.4,124.6 137.9,123.5 139.4,122.3 140.8,121.1 142.1,119.8 143.4,118.5 144.6,117.1 145.7,115.6 146.8,114.1 147.8,112.5 148.7,110.9 149.6,109.2 150.4,107.5 151.1,105.8 151.7,104.1 152.2,102.3 152.7,100.5 153,98.6 153.3,96.8 153.5,94.9 153.6,93.1 153.6,91.2 153.6,89.4 153.4,87.5 153.2,85.7 152.9,83.8 152.5,82 152,80.2 151.4,78.5 150.7,76.7 150,75 149.4,76.8 148.9,78.6 148.5,80.4 148.2,82.2 148,84.1 147.8,85.9 147.7,87.8 147.8,89.6 147.9,91.5 148.1,93.3 148.4,95.2 148.7,97 149.2,98.8 149.7,100.6 150.3,102.4 151,104.1 151.8,105.8 152.6,107.4 153.6,109 154.6,110.6 155.7,112.1 156.8,113.6 158,115 159.3,116.4 160.6,117.7 162,118.9 163.5,120.1 165,121.1 166.5,122.2 168.2,123.1 168.7,121.3 169.2,119.6 169.6,117.7 169.9,115.9 170.2,114.1 170.3,112.2 170.4,110.3 170.4,108.5 170.3,106.6 170.1,104.8 169.8,102.9 169.4,101.1 169,99.3 168.4,97.5 167.8,95.8 167.1,94 166.4,92.3 165.5,90.7 164.6,89.1 163.6,87.5 162.5,86 161.3,84.5 160.1,83.1 158.9,81.8 157.5,80.5 156.1,79.2 154.7,78.1 153.2,77 151.6,75.9 150,75 150.6,76.8 151.2,78.5 152,80.2 152.8,81.9 153.7,83.5 154.6,85.1 155.7,86.7 156.8,88.2 158,89.6 159.2,91 160.5,92.3 161.9,93.6 163.3,94.8 164.8,95.9 166.3,96.9 167.9,97.9 169.5,98.8 171.2,99.7 172.9,100.4 174.6,101.1 176.4,101.7 178.2,102.2 180,102.7 181.8,103 183.7,103.3 185.5,103.4 187.4,103.5 189.3,103.5 191.1,103.4 193,103.3 192.4,101.5 191.7,99.7 191,98 190.2,96.4 189.3,94.7 188.3,93.1 187.3,91.6 186.2,90.1 185,88.7 183.7,87.3 182.4,86 181.1,84.7 179.6,83.5 178.2,82.4 176.6,81.3 175,80.3 173.4,79.4 171.8,78.6 170.1,77.8 168.3,77.1 166.6,76.5 164.8,76 163,75.6 161.1,75.3 159.3,75 157.4,74.8 155.6,74.7 153.7,74.7 151.9,74.8 150,75 151.5,76.1 153.1,77.1 154.7,78.1 156.3,78.9 158,79.7 159.7,80.5 161.5,81.1 163.2,81.6 165,82.1 166.9,82.5 168.7,82.8 170.5,83 172.4,83.2 174.3,83.2 176.1,83.2 178,83 179.8,82.8 181.7,82.5 183.5,82.1 185.3,81.6 187.1,81.1 188.8,80.5 190.5,79.7 192.2,78.9 193.9,78.1 195.5,77.1 197,76.1 198.5,75 200,73.8 201.4,72.6 199.9,71.5 198.3,70.5 196.7,69.5 195.1,68.7 193.4,67.9 191.7,67.2 189.9,66.5 188.1,66 186.3,65.5 184.5,65.1 182.7,64.8 180.8,64.6 179,64.5 177.1,64.4 175.3,64.5 173.4,64.6 171.5,64.8 169.7,65.1 167.9,65.5 166.1,66 164.3,66.5 162.6,67.2 160.8,67.9 159.2,68.7 157.5,69.5 155.9,70.5 154.4,71.5 152.9,72.6 151.4,73.8 150,75\" />'\n",
       "\n",
       "<path stroke=\"#663399\" stroke-width=\"2\" d=\"M 250,75 251.6,75 253.3,75 254.9,74.9 256.5,74.9 258.1,74.8 259.8,74.7 261.4,74.6 263,74.5 264.6,74.3 266.3,74.1 267.9,74 269.5,73.8 271.1,73.5 272.7,73.3 274.3,73 275.9,72.7 277.5,72.4 279.1,72.1 280.7,71.8 282.3,71.4 283.9,71 285.5,70.6 287,70.2 288.6,69.8 290.2,69.4 291.7,68.9 293.3,68.4 294.9,67.9 296.4,67.4 297.9,66.8 296.3,66.8 294.7,66.9 293,66.9 291.4,66.9 289.8,67 288.2,67.1 286.5,67.2 284.9,67.4 283.3,67.5 281.7,67.7 280.1,67.9 278.4,68.1 276.8,68.3 275.2,68.6 273.6,68.8 272,69.1 270.4,69.4 268.8,69.7 267.2,70.1 265.6,70.4 264,70.8 262.5,71.2 260.9,71.6 259.3,72 257.7,72.5 256.2,73 254.6,73.4 253.1,73.9 251.5,74.5 250,75 251.5,74.3 252.9,73.6 254.4,72.8 255.8,72.1 257.3,71.3 258.7,70.5 260.1,69.7 261.5,68.9 262.9,68 264.3,67.2 265.7,66.3 267,65.4 268.4,64.5 269.7,63.6 271.1,62.7 272.4,61.7 273.7,60.7 275,59.8 276.3,58.8 277.6,57.8 278.8,56.7 280.1,55.7 281.3,54.6 282.5,53.6 283.8,52.5 285,51.4 286.1,50.3 287.3,49.1 288.5,48 289.6,46.8 288.2,47.6 286.7,48.3 285.3,49 283.8,49.8 282.4,50.6 281,51.3 279.6,52.1 278.1,53 276.7,53.8 275.4,54.7 274,55.5 272.6,56.4 271.3,57.3 269.9,58.3 268.6,59.2 267.3,60.1 266,61.1 264.7,62.1 263.4,63.1 262.1,64.1 260.8,65.1 259.6,66.2 258.3,67.2 257.1,68.3 255.9,69.4 254.7,70.5 253.5,71.6 252.3,72.7 251.2,73.8 250,75 251,73.7 252,72.4 253,71.1 254,69.8 254.9,68.5 255.9,67.2 256.8,65.8 257.7,64.5 258.6,63.1 259.5,61.8 260.3,60.4 261.2,59 262,57.6 262.8,56.2 263.6,54.7 264.4,53.3 265.2,51.9 265.9,50.4 266.6,49 267.3,47.5 268,46 268.7,44.6 269.4,43.1 270,41.6 270.6,40.1 271.2,38.5 271.8,37 272.4,35.5 273,34 273.5,32.4 272.5,33.7 271.5,35 270.5,36.3 269.5,37.6 268.6,38.9 267.6,40.2 266.7,41.6 265.8,42.9 264.9,44.3 264,45.7 263.2,47.1 262.3,48.5 261.5,49.9 260.7,51.3 259.9,52.7 259.1,54.1 258.3,55.6 257.6,57 256.9,58.5 256.2,59.9 255.5,61.4 254.8,62.9 254.1,64.4 253.5,65.9 252.9,67.4 252.3,68.9 251.7,70.4 251.1,71.9 250.5,73.5 250,75 250.4,73.4 250.7,71.8 251,70.2 251.3,68.6 251.6,67 251.9,65.4 252.1,63.8 252.4,62.2 252.6,60.6 252.8,59 253,57.3 253.1,55.7 253.3,54.1 253.4,52.5 253.5,50.8 253.6,49.2 253.6,47.6 253.7,46 253.7,44.3 253.7,42.7 253.7,41.1 253.6,39.4 253.6,37.8 253.5,36.2 253.4,34.6 253.3,32.9 253.2,31.3 253.1,29.7 252.9,28.1 252.7,26.5 252.3,28 252,29.6 251.7,31.2 251.4,32.8 251.1,34.4 250.8,36 250.6,37.6 250.3,39.3 250.1,40.9 249.9,42.5 249.7,44.1 249.6,45.7 249.4,47.4 249.3,49 249.2,50.6 249.1,52.2 249.1,53.9 249,55.5 249,57.1 249,58.7 249,60.4 249.1,62 249.1,63.6 249.2,65.3 249.3,66.9 249.4,68.5 249.5,70.1 249.7,71.8 249.8,73.4 250,75 249.6,73.4 249.3,71.8 248.9,70.2 248.4,68.7 248,67.1 247.5,65.5 247.1,64 246.6,62.4 246.1,60.9 245.6,59.3 245,57.8 244.4,56.3 243.9,54.8 243.3,53.2 242.7,51.7 242,50.2 241.4,48.7 240.7,47.2 240,45.8 239.3,44.3 238.6,42.8 237.9,41.4 237.1,39.9 236.3,38.5 235.6,37.1 234.7,35.7 233.9,34.3 233.1,32.9 232.2,31.5 231.4,30.1 231.7,31.7 232.1,33.3 232.5,34.8 232.9,36.4 233.4,38 233.8,39.5 234.3,41.1 234.8,42.7 235.3,44.2 235.8,45.7 236.4,47.3 236.9,48.8 237.5,50.3 238.1,51.8 238.7,53.4 239.4,54.9 240,56.4 240.7,57.8 241.4,59.3 242.1,60.8 242.8,62.2 243.5,63.7 244.3,65.1 245,66.6 245.8,68 246.6,69.4 247.4,70.8 248.3,72.2 249.1,73.6 250,75 249,73.7 248,72.5 246.9,71.2 245.8,70 244.8,68.8 243.7,67.5 242.6,66.3 241.5,65.2 240.3,64 239.2,62.8 238,61.7 236.9,60.5 235.7,59.4 234.5,58.3 233.3,57.2 232.1,56.1 230.8,55.1 229.6,54 228.3,53 227.1,52 225.8,51 224.5,50 223.2,49 221.9,48 220.5,47.1 219.2,46.2 217.8,45.3 216.5,44.4 215.1,43.5 213.7,42.6 214.7,43.9 215.8,45.2 216.8,46.4 217.9,47.6 219,48.9 220,50.1 221.1,51.3 222.3,52.5 223.4,53.6 224.5,54.8 225.7,55.9 226.9,57.1 228,58.2 229.2,59.3 230.4,60.4 231.7,61.5 232.9,62.5 234.2,63.6 235.4,64.6 236.7,65.6 238,66.6 239.3,67.6 240.6,68.6 241.9,69.6 243.2,70.5 244.5,71.4 245.9,72.4 247.3,73.3 248.6,74.1 250,75 248.5,74.3 247.1,73.6 245.6,72.9 244.1,72.3 242.6,71.6 241.1,71 239.6,70.4 238,69.8 236.5,69.3 235,68.7 233.4,68.2 231.9,67.7 230.3,67.2 228.8,66.7 227.2,66.2 225.7,65.8 224.1,65.4 222.5,65 220.9,64.6 219.3,64.2 217.7,63.9 216.1,63.5 214.6,63.2 212.9,62.9 211.3,62.7 209.7,62.4 208.1,62.2 206.5,61.9 204.9,61.7 203.3,61.6 204.7,62.3 206.2,63 207.7,63.6 209.2,64.3 210.7,64.9 212.2,65.5 213.7,66.1 215.2,66.7 216.8,67.3 218.3,67.8 219.8,68.4 221.4,68.9 222.9,69.4 224.5,69.9 226,70.3 227.6,70.8 229.2,71.2 230.8,71.6 232.4,72 233.9,72.3 235.5,72.7 237.1,73 238.7,73.3 240.3,73.6 241.9,73.9 243.5,74.2 245.2,74.4 246.8,74.6 248.4,74.8 250,75 248.4,75 246.7,75 245.1,75.1 243.5,75.1 241.9,75.2 240.2,75.3 238.6,75.4 237,75.5 235.4,75.7 233.7,75.9 232.1,76 230.5,76.2 228.9,76.5 227.3,76.7 225.7,77 224.1,77.3 222.5,77.6 220.9,77.9 219.3,78.2 217.7,78.6 216.1,79 214.5,79.4 213,79.8 211.4,80.2 209.8,80.6 208.3,81.1 206.7,81.6 205.1,82.1 203.6,82.6 202.1,83.2 203.7,83.2 205.3,83.1 207,83.1 208.6,83.1 210.2,83 211.8,82.9 213.5,82.8 215.1,82.6 216.7,82.5 218.3,82.3 219.9,82.1 221.6,81.9 223.2,81.7 224.8,81.4 226.4,81.2 228,80.9 229.6,80.6 231.2,80.3 232.8,79.9 234.4,79.6 236,79.2 237.5,78.8 239.1,78.4 240.7,78 242.3,77.5 243.8,77 245.4,76.6 246.9,76.1 248.5,75.5 250,75 248.5,75.7 247.1,76.4 245.6,77.2 244.2,77.9 242.7,78.7 241.3,79.5 239.9,80.3 238.5,81.1 237.1,82 235.7,82.8 234.3,83.7 233,84.6 231.6,85.5 230.3,86.4 228.9,87.3 227.6,88.3 226.3,89.3 225,90.2 223.7,91.2 222.4,92.2 221.2,93.3 219.9,94.3 218.7,95.4 217.5,96.4 216.2,97.5 215,98.6 213.9,99.7 212.7,100.9 211.5,102 210.4,103.2 211.8,102.4 213.3,101.7 214.7,101 216.2,100.2 217.6,99.4 219,98.7 220.4,97.9 221.9,97 223.3,96.2 224.6,95.3 226,94.5 227.4,93.6 228.7,92.7 230.1,91.7 231.4,90.8 232.7,89.9 234,88.9 235.3,87.9 236.6,86.9 237.9,85.9 239.2,84.9 240.4,83.8 241.7,82.8 242.9,81.7 244.1,80.6 245.3,79.5 246.5,78.4 247.7,77.3 248.8,76.2 250,75 249,76.3 248,77.6 247,78.9 246,80.2 245.1,81.5 244.1,82.8 243.2,84.2 242.3,85.5 241.4,86.9 240.5,88.2 239.7,89.6 238.8,91 238,92.4 237.2,93.8 236.4,95.3 235.6,96.7 234.8,98.1 234.1,99.6 233.4,101 232.7,102.5 232,104 231.3,105.4 230.6,106.9 230,108.4 229.4,109.9 228.8,111.5 228.2,113 227.6,114.5 227,116 226.5,117.6 227.5,116.3 228.5,115 229.5,113.7 230.5,112.4 231.4,111.1 232.4,109.8 233.3,108.4 234.2,107.1 235.1,105.7 236,104.3 236.8,102.9 237.7,101.5 238.5,100.1 239.3,98.7 240.1,97.3 240.9,95.9 241.7,94.4 242.4,93 243.1,91.5 243.8,90.1 244.5,88.6 245.2,87.1 245.9,85.6 246.5,84.1 247.1,82.6 247.7,81.1 248.3,79.6 248.9,78.1 249.5,76.5 250,75 249.6,76.6 249.3,78.2 249,79.8 248.7,81.4 248.4,83 248.1,84.6 247.9,86.2 247.6,87.8 247.4,89.4 247.2,91 247,92.7 246.9,94.3 246.7,95.9 246.6,97.5 246.5,99.2 246.4,100.8 246.4,102.4 246.3,104 246.3,105.7 246.3,107.3 246.3,108.9 246.4,110.6 246.4,112.2 246.5,113.8 246.6,115.4 246.7,117.1 246.8,118.7 246.9,120.3 247.1,121.9 247.3,123.5 247.7,122 248,120.4 248.3,118.8 248.6,117.2 248.9,115.6 249.2,114 249.4,112.4 249.7,110.7 249.9,109.1 250.1,107.5 250.3,105.9 250.4,104.3 250.6,102.6 250.7,101 250.8,99.4 250.9,97.8 250.9,96.1 251,94.5 251,92.9 251,91.3 251,89.6 250.9,88 250.9,86.4 250.8,84.7 250.7,83.1 250.6,81.5 250.5,79.9 250.3,78.2 250.2,76.6 250,75 250.4,76.6 250.7,78.2 251.1,79.8 251.6,81.3 252,82.9 252.5,84.5 252.9,86 253.4,87.6 253.9,89.1 254.4,90.7 255,92.2 255.6,93.7 256.1,95.2 256.7,96.8 257.3,98.3 258,99.8 258.6,101.3 259.3,102.8 260,104.2 260.7,105.7 261.4,107.2 262.1,108.6 262.9,110.1 263.7,111.5 264.4,112.9 265.3,114.3 266.1,115.7 266.9,117.1 267.8,118.5 268.6,119.9 268.3,118.3 267.9,116.7 267.5,115.2 267.1,113.6 266.6,112 266.2,110.5 265.7,108.9 265.2,107.3 264.7,105.8 264.2,104.3 263.6,102.7 263.1,101.2 262.5,99.7 261.9,98.2 261.3,96.6 260.6,95.1 260,93.6 259.3,92.2 258.6,90.7 257.9,89.2 257.2,87.8 256.5,86.3 255.7,84.9 255,83.4 254.2,82 253.4,80.6 252.6,79.2 251.7,77.8 250.9,76.4 250,75 251,76.3 252,77.5 253.1,78.8 254.2,80 255.2,81.2 256.3,82.5 257.4,83.7 258.5,84.8 259.7,86 260.8,87.2 262,88.3 263.1,89.5 264.3,90.6 265.5,91.7 266.7,92.8 267.9,93.9 269.2,94.9 270.4,96 271.7,97 272.9,98 274.2,99 275.5,100 276.8,101 278.1,102 279.5,102.9 280.8,103.8 282.2,104.7 283.5,105.6 284.9,106.5 286.3,107.4 285.3,106.1 284.2,104.8 283.2,103.6 282.1,102.4 281,101.1 280,99.9 278.9,98.7 277.7,97.5 276.6,96.4 275.5,95.2 274.3,94.1 273.1,92.9 272,91.8 270.8,90.7 269.6,89.6 268.3,88.5 267.1,87.5 265.8,86.4 264.6,85.4 263.3,84.4 262,83.4 260.7,82.4 259.4,81.4 258.1,80.4 256.8,79.5 255.5,78.6 254.1,77.6 252.7,76.7 251.4,75.9 250,75 251.5,75.7 252.9,76.4 254.4,77.1 255.9,77.7 257.4,78.4 258.9,79 260.4,79.6 262,80.2 263.5,80.7 265,81.3 266.6,81.8 268.1,82.3 269.7,82.8 271.2,83.3 272.8,83.8 274.3,84.2 275.9,84.6 277.5,85 279.1,85.4 280.7,85.8 282.3,86.1 283.9,86.5 285.4,86.8 287.1,87.1 288.7,87.3 290.3,87.6 291.9,87.8 293.5,88.1 295.1,88.3 296.7,88.4 295.3,87.7 293.8,87 292.3,86.4 290.8,85.7 289.3,85.1 287.8,84.5 286.3,83.9 284.8,83.3 283.2,82.7 281.7,82.2 280.2,81.6 278.6,81.1 277.1,80.6 275.5,80.1 274,79.7 272.4,79.2 270.8,78.8 269.2,78.4 267.6,78 266.1,77.7 264.5,77.3 262.9,77 261.3,76.7 259.7,76.4 258.1,76.1 256.5,75.8 254.8,75.6 253.2,75.4 251.6,75.2 250,75\" />'\n",
       "\n",
       "<g transform=\"rotate(270.0,250.0,75.0) translate(250.0, 75.0)\">\n",
       "    <circle stroke=\"#63A375\" stroke-width=\"2\" fill=\"transparent\" r=\"5.5\" cx=\"0\" cy=\"0\"/>\n",
       "    <polygon points=\"0,12 2,9 -2,9\" style=\"fill:#63A375;stroke:#63A375;stroke-width:2\"/>\n",
       "</g>\n",
       "\n",
       "</svg>"
      ],
      "text/plain": [
       "<IPython.core.display.HTML object>"
      ]
     },
     "metadata": {},
     "output_type": "display_data"
    }
   ],
   "source": [
    "make_turtle(delay=0)\n",
    "\n",
    "jump(-100)\n",
    "flower(7, 60.0, 60.0)\n",
    "\n",
    "jump(100)\n",
    "flower(10, 40.0, 80.0)\n",
    "\n",
    "jump(100)\n",
    "flower(14, 140.0, 20.0)"
   ]
  },
  {
   "cell_type": "markdown",
   "id": "2c9ab322-9c91-44b2-9490-1567c1a9678c",
   "metadata": {},
   "source": [
    "For faster results, set `animate` to `False`.\n",
    "The drawing will only be rendered when you call `draw()`."
   ]
  },
  {
   "cell_type": "code",
   "execution_count": 43,
   "id": "c9a31629-d57b-4b1a-b146-4766a799d119",
   "metadata": {},
   "outputs": [
    {
     "data": {
      "text/html": [
       "<svg width=\"300\" height=\"150\" style=\"fill:none; stroke-linecap:round;\">\n",
       "    <rect width=\"100%\" height=\"100%\" fill=\"#F3F3F7\" />\n",
       "\n",
       "\n",
       "<path stroke=\"#663399\" stroke-width=\"2\" d=\"M 150,75\" />'\n",
       "\n",
       "<path stroke=\"#663399\" stroke-width=\"2\" d=\"M 250,75 251.6,75 253.3,75 254.9,74.9 256.5,74.9 258.1,74.8 259.8,74.7 261.4,74.6 263,74.5 264.6,74.3 266.3,74.1 267.9,74 269.5,73.8 271.1,73.5 272.7,73.3 274.3,73 275.9,72.7 277.5,72.4 279.1,72.1 280.7,71.8 282.3,71.4 283.9,71 285.5,70.6 287,70.2 288.6,69.8 290.2,69.4 291.7,68.9 293.3,68.4 294.9,67.9 296.4,67.4 297.9,66.8 296.3,66.8 294.7,66.9 293,66.9 291.4,66.9 289.8,67 288.2,67.1 286.5,67.2 284.9,67.4 283.3,67.5 281.7,67.7 280.1,67.9 278.4,68.1 276.8,68.3 275.2,68.6 273.6,68.8 272,69.1 270.4,69.4 268.8,69.7 267.2,70.1 265.6,70.4 264,70.8 262.5,71.2 260.9,71.6 259.3,72 257.7,72.5 256.2,73 254.6,73.4 253.1,73.9 251.5,74.5 250,75 251.5,74.3 252.9,73.6 254.4,72.8 255.8,72.1 257.3,71.3 258.7,70.5 260.1,69.7 261.5,68.9 262.9,68 264.3,67.2 265.7,66.3 267,65.4 268.4,64.5 269.7,63.6 271.1,62.7 272.4,61.7 273.7,60.7 275,59.8 276.3,58.8 277.6,57.8 278.8,56.7 280.1,55.7 281.3,54.6 282.5,53.6 283.8,52.5 285,51.4 286.1,50.3 287.3,49.1 288.5,48 289.6,46.8 288.2,47.6 286.7,48.3 285.3,49 283.8,49.8 282.4,50.6 281,51.3 279.6,52.1 278.1,53 276.7,53.8 275.4,54.7 274,55.5 272.6,56.4 271.3,57.3 269.9,58.3 268.6,59.2 267.3,60.1 266,61.1 264.7,62.1 263.4,63.1 262.1,64.1 260.8,65.1 259.6,66.2 258.3,67.2 257.1,68.3 255.9,69.4 254.7,70.5 253.5,71.6 252.3,72.7 251.2,73.8 250,75 251,73.7 252,72.4 253,71.1 254,69.8 254.9,68.5 255.9,67.2 256.8,65.8 257.7,64.5 258.6,63.1 259.5,61.8 260.3,60.4 261.2,59 262,57.6 262.8,56.2 263.6,54.7 264.4,53.3 265.2,51.9 265.9,50.4 266.6,49 267.3,47.5 268,46 268.7,44.6 269.4,43.1 270,41.6 270.6,40.1 271.2,38.5 271.8,37 272.4,35.5 273,34 273.5,32.4 272.5,33.7 271.5,35 270.5,36.3 269.5,37.6 268.6,38.9 267.6,40.2 266.7,41.6 265.8,42.9 264.9,44.3 264,45.7 263.2,47.1 262.3,48.5 261.5,49.9 260.7,51.3 259.9,52.7 259.1,54.1 258.3,55.6 257.6,57 256.9,58.5 256.2,59.9 255.5,61.4 254.8,62.9 254.1,64.4 253.5,65.9 252.9,67.4 252.3,68.9 251.7,70.4 251.1,71.9 250.5,73.5 250,75 250.4,73.4 250.7,71.8 251,70.2 251.3,68.6 251.6,67 251.9,65.4 252.1,63.8 252.4,62.2 252.6,60.6 252.8,59 253,57.3 253.1,55.7 253.3,54.1 253.4,52.5 253.5,50.8 253.6,49.2 253.6,47.6 253.7,46 253.7,44.3 253.7,42.7 253.7,41.1 253.6,39.4 253.6,37.8 253.5,36.2 253.4,34.6 253.3,32.9 253.2,31.3 253.1,29.7 252.9,28.1 252.7,26.5 252.3,28 252,29.6 251.7,31.2 251.4,32.8 251.1,34.4 250.8,36 250.6,37.6 250.3,39.3 250.1,40.9 249.9,42.5 249.7,44.1 249.6,45.7 249.4,47.4 249.3,49 249.2,50.6 249.1,52.2 249.1,53.9 249,55.5 249,57.1 249,58.7 249,60.4 249.1,62 249.1,63.6 249.2,65.3 249.3,66.9 249.4,68.5 249.5,70.1 249.7,71.8 249.8,73.4 250,75 249.6,73.4 249.3,71.8 248.9,70.2 248.4,68.7 248,67.1 247.5,65.5 247.1,64 246.6,62.4 246.1,60.9 245.6,59.3 245,57.8 244.4,56.3 243.9,54.8 243.3,53.2 242.7,51.7 242,50.2 241.4,48.7 240.7,47.2 240,45.8 239.3,44.3 238.6,42.8 237.9,41.4 237.1,39.9 236.3,38.5 235.6,37.1 234.7,35.7 233.9,34.3 233.1,32.9 232.2,31.5 231.4,30.1 231.7,31.7 232.1,33.3 232.5,34.8 232.9,36.4 233.4,38 233.8,39.5 234.3,41.1 234.8,42.7 235.3,44.2 235.8,45.7 236.4,47.3 236.9,48.8 237.5,50.3 238.1,51.8 238.7,53.4 239.4,54.9 240,56.4 240.7,57.8 241.4,59.3 242.1,60.8 242.8,62.2 243.5,63.7 244.3,65.1 245,66.6 245.8,68 246.6,69.4 247.4,70.8 248.3,72.2 249.1,73.6 250,75 249,73.7 248,72.5 246.9,71.2 245.8,70 244.8,68.8 243.7,67.5 242.6,66.3 241.5,65.2 240.3,64 239.2,62.8 238,61.7 236.9,60.5 235.7,59.4 234.5,58.3 233.3,57.2 232.1,56.1 230.8,55.1 229.6,54 228.3,53 227.1,52 225.8,51 224.5,50 223.2,49 221.9,48 220.5,47.1 219.2,46.2 217.8,45.3 216.5,44.4 215.1,43.5 213.7,42.6 214.7,43.9 215.8,45.2 216.8,46.4 217.9,47.6 219,48.9 220,50.1 221.1,51.3 222.3,52.5 223.4,53.6 224.5,54.8 225.7,55.9 226.9,57.1 228,58.2 229.2,59.3 230.4,60.4 231.7,61.5 232.9,62.5 234.2,63.6 235.4,64.6 236.7,65.6 238,66.6 239.3,67.6 240.6,68.6 241.9,69.6 243.2,70.5 244.5,71.4 245.9,72.4 247.3,73.3 248.6,74.1 250,75 248.5,74.3 247.1,73.6 245.6,72.9 244.1,72.3 242.6,71.6 241.1,71 239.6,70.4 238,69.8 236.5,69.3 235,68.7 233.4,68.2 231.9,67.7 230.3,67.2 228.8,66.7 227.2,66.2 225.7,65.8 224.1,65.4 222.5,65 220.9,64.6 219.3,64.2 217.7,63.9 216.1,63.5 214.6,63.2 212.9,62.9 211.3,62.7 209.7,62.4 208.1,62.2 206.5,61.9 204.9,61.7 203.3,61.6 204.7,62.3 206.2,63 207.7,63.6 209.2,64.3 210.7,64.9 212.2,65.5 213.7,66.1 215.2,66.7 216.8,67.3 218.3,67.8 219.8,68.4 221.4,68.9 222.9,69.4 224.5,69.9 226,70.3 227.6,70.8 229.2,71.2 230.8,71.6 232.4,72 233.9,72.3 235.5,72.7 237.1,73 238.7,73.3 240.3,73.6 241.9,73.9 243.5,74.2 245.2,74.4 246.8,74.6 248.4,74.8 250,75 248.4,75 246.7,75 245.1,75.1 243.5,75.1 241.9,75.2 240.2,75.3 238.6,75.4 237,75.5 235.4,75.7 233.7,75.9 232.1,76 230.5,76.2 228.9,76.5 227.3,76.7 225.7,77 224.1,77.3 222.5,77.6 220.9,77.9 219.3,78.2 217.7,78.6 216.1,79 214.5,79.4 213,79.8 211.4,80.2 209.8,80.6 208.3,81.1 206.7,81.6 205.1,82.1 203.6,82.6 202.1,83.2 203.7,83.2 205.3,83.1 207,83.1 208.6,83.1 210.2,83 211.8,82.9 213.5,82.8 215.1,82.6 216.7,82.5 218.3,82.3 219.9,82.1 221.6,81.9 223.2,81.7 224.8,81.4 226.4,81.2 228,80.9 229.6,80.6 231.2,80.3 232.8,79.9 234.4,79.6 236,79.2 237.5,78.8 239.1,78.4 240.7,78 242.3,77.5 243.8,77 245.4,76.6 246.9,76.1 248.5,75.5 250,75 248.5,75.7 247.1,76.4 245.6,77.2 244.2,77.9 242.7,78.7 241.3,79.5 239.9,80.3 238.5,81.1 237.1,82 235.7,82.8 234.3,83.7 233,84.6 231.6,85.5 230.3,86.4 228.9,87.3 227.6,88.3 226.3,89.3 225,90.2 223.7,91.2 222.4,92.2 221.2,93.3 219.9,94.3 218.7,95.4 217.5,96.4 216.2,97.5 215,98.6 213.9,99.7 212.7,100.9 211.5,102 210.4,103.2 211.8,102.4 213.3,101.7 214.7,101 216.2,100.2 217.6,99.4 219,98.7 220.4,97.9 221.9,97 223.3,96.2 224.6,95.3 226,94.5 227.4,93.6 228.7,92.7 230.1,91.7 231.4,90.8 232.7,89.9 234,88.9 235.3,87.9 236.6,86.9 237.9,85.9 239.2,84.9 240.4,83.8 241.7,82.8 242.9,81.7 244.1,80.6 245.3,79.5 246.5,78.4 247.7,77.3 248.8,76.2 250,75 249,76.3 248,77.6 247,78.9 246,80.2 245.1,81.5 244.1,82.8 243.2,84.2 242.3,85.5 241.4,86.9 240.5,88.2 239.7,89.6 238.8,91 238,92.4 237.2,93.8 236.4,95.3 235.6,96.7 234.8,98.1 234.1,99.6 233.4,101 232.7,102.5 232,104 231.3,105.4 230.6,106.9 230,108.4 229.4,109.9 228.8,111.5 228.2,113 227.6,114.5 227,116 226.5,117.6 227.5,116.3 228.5,115 229.5,113.7 230.5,112.4 231.4,111.1 232.4,109.8 233.3,108.4 234.2,107.1 235.1,105.7 236,104.3 236.8,102.9 237.7,101.5 238.5,100.1 239.3,98.7 240.1,97.3 240.9,95.9 241.7,94.4 242.4,93 243.1,91.5 243.8,90.1 244.5,88.6 245.2,87.1 245.9,85.6 246.5,84.1 247.1,82.6 247.7,81.1 248.3,79.6 248.9,78.1 249.5,76.5 250,75 249.6,76.6 249.3,78.2 249,79.8 248.7,81.4 248.4,83 248.1,84.6 247.9,86.2 247.6,87.8 247.4,89.4 247.2,91 247,92.7 246.9,94.3 246.7,95.9 246.6,97.5 246.5,99.2 246.4,100.8 246.4,102.4 246.3,104 246.3,105.7 246.3,107.3 246.3,108.9 246.4,110.6 246.4,112.2 246.5,113.8 246.6,115.4 246.7,117.1 246.8,118.7 246.9,120.3 247.1,121.9 247.3,123.5 247.7,122 248,120.4 248.3,118.8 248.6,117.2 248.9,115.6 249.2,114 249.4,112.4 249.7,110.7 249.9,109.1 250.1,107.5 250.3,105.9 250.4,104.3 250.6,102.6 250.7,101 250.8,99.4 250.9,97.8 250.9,96.1 251,94.5 251,92.9 251,91.3 251,89.6 250.9,88 250.9,86.4 250.8,84.7 250.7,83.1 250.6,81.5 250.5,79.9 250.3,78.2 250.2,76.6 250,75 250.4,76.6 250.7,78.2 251.1,79.8 251.6,81.3 252,82.9 252.5,84.5 252.9,86 253.4,87.6 253.9,89.1 254.4,90.7 255,92.2 255.6,93.7 256.1,95.2 256.7,96.8 257.3,98.3 258,99.8 258.6,101.3 259.3,102.8 260,104.2 260.7,105.7 261.4,107.2 262.1,108.6 262.9,110.1 263.7,111.5 264.4,112.9 265.3,114.3 266.1,115.7 266.9,117.1 267.8,118.5 268.6,119.9 268.3,118.3 267.9,116.7 267.5,115.2 267.1,113.6 266.6,112 266.2,110.5 265.7,108.9 265.2,107.3 264.7,105.8 264.2,104.3 263.6,102.7 263.1,101.2 262.5,99.7 261.9,98.2 261.3,96.6 260.6,95.1 260,93.6 259.3,92.2 258.6,90.7 257.9,89.2 257.2,87.8 256.5,86.3 255.7,84.9 255,83.4 254.2,82 253.4,80.6 252.6,79.2 251.7,77.8 250.9,76.4 250,75 251,76.3 252,77.5 253.1,78.8 254.2,80 255.2,81.2 256.3,82.5 257.4,83.7 258.5,84.8 259.7,86 260.8,87.2 262,88.3 263.1,89.5 264.3,90.6 265.5,91.7 266.7,92.8 267.9,93.9 269.2,94.9 270.4,96 271.7,97 272.9,98 274.2,99 275.5,100 276.8,101 278.1,102 279.5,102.9 280.8,103.8 282.2,104.7 283.5,105.6 284.9,106.5 286.3,107.4 285.3,106.1 284.2,104.8 283.2,103.6 282.1,102.4 281,101.1 280,99.9 278.9,98.7 277.7,97.5 276.6,96.4 275.5,95.2 274.3,94.1 273.1,92.9 272,91.8 270.8,90.7 269.6,89.6 268.3,88.5 267.1,87.5 265.8,86.4 264.6,85.4 263.3,84.4 262,83.4 260.7,82.4 259.4,81.4 258.1,80.4 256.8,79.5 255.5,78.6 254.1,77.6 252.7,76.7 251.4,75.9 250,75 251.5,75.7 252.9,76.4 254.4,77.1 255.9,77.7 257.4,78.4 258.9,79 260.4,79.6 262,80.2 263.5,80.7 265,81.3 266.6,81.8 268.1,82.3 269.7,82.8 271.2,83.3 272.8,83.8 274.3,84.2 275.9,84.6 277.5,85 279.1,85.4 280.7,85.8 282.3,86.1 283.9,86.5 285.4,86.8 287.1,87.1 288.7,87.3 290.3,87.6 291.9,87.8 293.5,88.1 295.1,88.3 296.7,88.4 295.3,87.7 293.8,87 292.3,86.4 290.8,85.7 289.3,85.1 287.8,84.5 286.3,83.9 284.8,83.3 283.2,82.7 281.7,82.2 280.2,81.6 278.6,81.1 277.1,80.6 275.5,80.1 274,79.7 272.4,79.2 270.8,78.8 269.2,78.4 267.6,78 266.1,77.7 264.5,77.3 262.9,77 261.3,76.7 259.7,76.4 258.1,76.1 256.5,75.8 254.8,75.6 253.2,75.4 251.6,75.2 250,75\" />'\n",
       "\n",
       "<g transform=\"rotate(270.0,250.0,75.0) translate(250.0, 75.0)\">\n",
       "    <circle stroke=\"#63A375\" stroke-width=\"2\" fill=\"transparent\" r=\"5.5\" cx=\"0\" cy=\"0\"/>\n",
       "    <polygon points=\"0,12 2,9 -2,9\" style=\"fill:#63A375;stroke:#63A375;stroke-width:2\"/>\n",
       "</g>\n",
       "\n",
       "</svg>"
      ],
      "text/plain": [
       "<IPython.core.display.HTML object>"
      ]
     },
     "metadata": {},
     "output_type": "display_data"
    }
   ],
   "source": [
    "from jupyturtle import get_turtle, draw\n",
    "\n",
    "make_turtle(animate=False)\n",
    "jump(100)\n",
    "flower(14, 140.0, 20.0)\n",
    "draw()"
   ]
  },
  {
   "cell_type": "markdown",
   "id": "9d70ddfa-ed80-42e0-8c7e-34cb8524c8a7",
   "metadata": {},
   "source": [
    "When a turtle is used in a `with` statement,\n",
    "the drawing is rendered only at the end of the `with` block.\n",
    "In this case, the `animate` setting is preserved but\n",
    "set to `False` within the block.\n",
    "The `delay` has no effect within the block."
   ]
  },
  {
   "cell_type": "code",
   "execution_count": 44,
   "id": "442e5e7d-c00f-441a-b9e5-67774a8c9d13",
   "metadata": {},
   "outputs": [
    {
     "data": {
      "text/html": [
       "<svg width=\"300\" height=\"150\" style=\"fill:none; stroke-linecap:round;\">\n",
       "    <rect width=\"100%\" height=\"100%\" fill=\"#F3F3F7\" />\n",
       "\n",
       "\n",
       "<path stroke=\"#663399\" stroke-width=\"2\" d=\"M 150,75\" />'\n",
       "\n",
       "<path stroke=\"#663399\" stroke-width=\"2\" d=\"M 250,75 251.6,75 253.3,75 254.9,74.9 256.5,74.9 258.1,74.8 259.8,74.7 261.4,74.6 263,74.5 264.6,74.3 266.3,74.1 267.9,74 269.5,73.8 271.1,73.5 272.7,73.3 274.3,73 275.9,72.7 277.5,72.4 279.1,72.1 280.7,71.8 282.3,71.4 283.9,71 285.5,70.6 287,70.2 288.6,69.8 290.2,69.4 291.7,68.9 293.3,68.4 294.9,67.9 296.4,67.4 297.9,66.8 296.3,66.8 294.7,66.9 293,66.9 291.4,66.9 289.8,67 288.2,67.1 286.5,67.2 284.9,67.4 283.3,67.5 281.7,67.7 280.1,67.9 278.4,68.1 276.8,68.3 275.2,68.6 273.6,68.8 272,69.1 270.4,69.4 268.8,69.7 267.2,70.1 265.6,70.4 264,70.8 262.5,71.2 260.9,71.6 259.3,72 257.7,72.5 256.2,73 254.6,73.4 253.1,73.9 251.5,74.5 250,75 251.5,74.3 252.9,73.6 254.4,72.8 255.8,72.1 257.3,71.3 258.7,70.5 260.1,69.7 261.5,68.9 262.9,68 264.3,67.2 265.7,66.3 267,65.4 268.4,64.5 269.7,63.6 271.1,62.7 272.4,61.7 273.7,60.7 275,59.8 276.3,58.8 277.6,57.8 278.8,56.7 280.1,55.7 281.3,54.6 282.5,53.6 283.8,52.5 285,51.4 286.1,50.3 287.3,49.1 288.5,48 289.6,46.8 288.2,47.6 286.7,48.3 285.3,49 283.8,49.8 282.4,50.6 281,51.3 279.6,52.1 278.1,53 276.7,53.8 275.4,54.7 274,55.5 272.6,56.4 271.3,57.3 269.9,58.3 268.6,59.2 267.3,60.1 266,61.1 264.7,62.1 263.4,63.1 262.1,64.1 260.8,65.1 259.6,66.2 258.3,67.2 257.1,68.3 255.9,69.4 254.7,70.5 253.5,71.6 252.3,72.7 251.2,73.8 250,75 251,73.7 252,72.4 253,71.1 254,69.8 254.9,68.5 255.9,67.2 256.8,65.8 257.7,64.5 258.6,63.1 259.5,61.8 260.3,60.4 261.2,59 262,57.6 262.8,56.2 263.6,54.7 264.4,53.3 265.2,51.9 265.9,50.4 266.6,49 267.3,47.5 268,46 268.7,44.6 269.4,43.1 270,41.6 270.6,40.1 271.2,38.5 271.8,37 272.4,35.5 273,34 273.5,32.4 272.5,33.7 271.5,35 270.5,36.3 269.5,37.6 268.6,38.9 267.6,40.2 266.7,41.6 265.8,42.9 264.9,44.3 264,45.7 263.2,47.1 262.3,48.5 261.5,49.9 260.7,51.3 259.9,52.7 259.1,54.1 258.3,55.6 257.6,57 256.9,58.5 256.2,59.9 255.5,61.4 254.8,62.9 254.1,64.4 253.5,65.9 252.9,67.4 252.3,68.9 251.7,70.4 251.1,71.9 250.5,73.5 250,75 250.4,73.4 250.7,71.8 251,70.2 251.3,68.6 251.6,67 251.9,65.4 252.1,63.8 252.4,62.2 252.6,60.6 252.8,59 253,57.3 253.1,55.7 253.3,54.1 253.4,52.5 253.5,50.8 253.6,49.2 253.6,47.6 253.7,46 253.7,44.3 253.7,42.7 253.7,41.1 253.6,39.4 253.6,37.8 253.5,36.2 253.4,34.6 253.3,32.9 253.2,31.3 253.1,29.7 252.9,28.1 252.7,26.5 252.3,28 252,29.6 251.7,31.2 251.4,32.8 251.1,34.4 250.8,36 250.6,37.6 250.3,39.3 250.1,40.9 249.9,42.5 249.7,44.1 249.6,45.7 249.4,47.4 249.3,49 249.2,50.6 249.1,52.2 249.1,53.9 249,55.5 249,57.1 249,58.7 249,60.4 249.1,62 249.1,63.6 249.2,65.3 249.3,66.9 249.4,68.5 249.5,70.1 249.7,71.8 249.8,73.4 250,75 249.6,73.4 249.3,71.8 248.9,70.2 248.4,68.7 248,67.1 247.5,65.5 247.1,64 246.6,62.4 246.1,60.9 245.6,59.3 245,57.8 244.4,56.3 243.9,54.8 243.3,53.2 242.7,51.7 242,50.2 241.4,48.7 240.7,47.2 240,45.8 239.3,44.3 238.6,42.8 237.9,41.4 237.1,39.9 236.3,38.5 235.6,37.1 234.7,35.7 233.9,34.3 233.1,32.9 232.2,31.5 231.4,30.1 231.7,31.7 232.1,33.3 232.5,34.8 232.9,36.4 233.4,38 233.8,39.5 234.3,41.1 234.8,42.7 235.3,44.2 235.8,45.7 236.4,47.3 236.9,48.8 237.5,50.3 238.1,51.8 238.7,53.4 239.4,54.9 240,56.4 240.7,57.8 241.4,59.3 242.1,60.8 242.8,62.2 243.5,63.7 244.3,65.1 245,66.6 245.8,68 246.6,69.4 247.4,70.8 248.3,72.2 249.1,73.6 250,75 249,73.7 248,72.5 246.9,71.2 245.8,70 244.8,68.8 243.7,67.5 242.6,66.3 241.5,65.2 240.3,64 239.2,62.8 238,61.7 236.9,60.5 235.7,59.4 234.5,58.3 233.3,57.2 232.1,56.1 230.8,55.1 229.6,54 228.3,53 227.1,52 225.8,51 224.5,50 223.2,49 221.9,48 220.5,47.1 219.2,46.2 217.8,45.3 216.5,44.4 215.1,43.5 213.7,42.6 214.7,43.9 215.8,45.2 216.8,46.4 217.9,47.6 219,48.9 220,50.1 221.1,51.3 222.3,52.5 223.4,53.6 224.5,54.8 225.7,55.9 226.9,57.1 228,58.2 229.2,59.3 230.4,60.4 231.7,61.5 232.9,62.5 234.2,63.6 235.4,64.6 236.7,65.6 238,66.6 239.3,67.6 240.6,68.6 241.9,69.6 243.2,70.5 244.5,71.4 245.9,72.4 247.3,73.3 248.6,74.1 250,75 248.5,74.3 247.1,73.6 245.6,72.9 244.1,72.3 242.6,71.6 241.1,71 239.6,70.4 238,69.8 236.5,69.3 235,68.7 233.4,68.2 231.9,67.7 230.3,67.2 228.8,66.7 227.2,66.2 225.7,65.8 224.1,65.4 222.5,65 220.9,64.6 219.3,64.2 217.7,63.9 216.1,63.5 214.6,63.2 212.9,62.9 211.3,62.7 209.7,62.4 208.1,62.2 206.5,61.9 204.9,61.7 203.3,61.6 204.7,62.3 206.2,63 207.7,63.6 209.2,64.3 210.7,64.9 212.2,65.5 213.7,66.1 215.2,66.7 216.8,67.3 218.3,67.8 219.8,68.4 221.4,68.9 222.9,69.4 224.5,69.9 226,70.3 227.6,70.8 229.2,71.2 230.8,71.6 232.4,72 233.9,72.3 235.5,72.7 237.1,73 238.7,73.3 240.3,73.6 241.9,73.9 243.5,74.2 245.2,74.4 246.8,74.6 248.4,74.8 250,75 248.4,75 246.7,75 245.1,75.1 243.5,75.1 241.9,75.2 240.2,75.3 238.6,75.4 237,75.5 235.4,75.7 233.7,75.9 232.1,76 230.5,76.2 228.9,76.5 227.3,76.7 225.7,77 224.1,77.3 222.5,77.6 220.9,77.9 219.3,78.2 217.7,78.6 216.1,79 214.5,79.4 213,79.8 211.4,80.2 209.8,80.6 208.3,81.1 206.7,81.6 205.1,82.1 203.6,82.6 202.1,83.2 203.7,83.2 205.3,83.1 207,83.1 208.6,83.1 210.2,83 211.8,82.9 213.5,82.8 215.1,82.6 216.7,82.5 218.3,82.3 219.9,82.1 221.6,81.9 223.2,81.7 224.8,81.4 226.4,81.2 228,80.9 229.6,80.6 231.2,80.3 232.8,79.9 234.4,79.6 236,79.2 237.5,78.8 239.1,78.4 240.7,78 242.3,77.5 243.8,77 245.4,76.6 246.9,76.1 248.5,75.5 250,75 248.5,75.7 247.1,76.4 245.6,77.2 244.2,77.9 242.7,78.7 241.3,79.5 239.9,80.3 238.5,81.1 237.1,82 235.7,82.8 234.3,83.7 233,84.6 231.6,85.5 230.3,86.4 228.9,87.3 227.6,88.3 226.3,89.3 225,90.2 223.7,91.2 222.4,92.2 221.2,93.3 219.9,94.3 218.7,95.4 217.5,96.4 216.2,97.5 215,98.6 213.9,99.7 212.7,100.9 211.5,102 210.4,103.2 211.8,102.4 213.3,101.7 214.7,101 216.2,100.2 217.6,99.4 219,98.7 220.4,97.9 221.9,97 223.3,96.2 224.6,95.3 226,94.5 227.4,93.6 228.7,92.7 230.1,91.7 231.4,90.8 232.7,89.9 234,88.9 235.3,87.9 236.6,86.9 237.9,85.9 239.2,84.9 240.4,83.8 241.7,82.8 242.9,81.7 244.1,80.6 245.3,79.5 246.5,78.4 247.7,77.3 248.8,76.2 250,75 249,76.3 248,77.6 247,78.9 246,80.2 245.1,81.5 244.1,82.8 243.2,84.2 242.3,85.5 241.4,86.9 240.5,88.2 239.7,89.6 238.8,91 238,92.4 237.2,93.8 236.4,95.3 235.6,96.7 234.8,98.1 234.1,99.6 233.4,101 232.7,102.5 232,104 231.3,105.4 230.6,106.9 230,108.4 229.4,109.9 228.8,111.5 228.2,113 227.6,114.5 227,116 226.5,117.6 227.5,116.3 228.5,115 229.5,113.7 230.5,112.4 231.4,111.1 232.4,109.8 233.3,108.4 234.2,107.1 235.1,105.7 236,104.3 236.8,102.9 237.7,101.5 238.5,100.1 239.3,98.7 240.1,97.3 240.9,95.9 241.7,94.4 242.4,93 243.1,91.5 243.8,90.1 244.5,88.6 245.2,87.1 245.9,85.6 246.5,84.1 247.1,82.6 247.7,81.1 248.3,79.6 248.9,78.1 249.5,76.5 250,75 249.6,76.6 249.3,78.2 249,79.8 248.7,81.4 248.4,83 248.1,84.6 247.9,86.2 247.6,87.8 247.4,89.4 247.2,91 247,92.7 246.9,94.3 246.7,95.9 246.6,97.5 246.5,99.2 246.4,100.8 246.4,102.4 246.3,104 246.3,105.7 246.3,107.3 246.3,108.9 246.4,110.6 246.4,112.2 246.5,113.8 246.6,115.4 246.7,117.1 246.8,118.7 246.9,120.3 247.1,121.9 247.3,123.5 247.7,122 248,120.4 248.3,118.8 248.6,117.2 248.9,115.6 249.2,114 249.4,112.4 249.7,110.7 249.9,109.1 250.1,107.5 250.3,105.9 250.4,104.3 250.6,102.6 250.7,101 250.8,99.4 250.9,97.8 250.9,96.1 251,94.5 251,92.9 251,91.3 251,89.6 250.9,88 250.9,86.4 250.8,84.7 250.7,83.1 250.6,81.5 250.5,79.9 250.3,78.2 250.2,76.6 250,75 250.4,76.6 250.7,78.2 251.1,79.8 251.6,81.3 252,82.9 252.5,84.5 252.9,86 253.4,87.6 253.9,89.1 254.4,90.7 255,92.2 255.6,93.7 256.1,95.2 256.7,96.8 257.3,98.3 258,99.8 258.6,101.3 259.3,102.8 260,104.2 260.7,105.7 261.4,107.2 262.1,108.6 262.9,110.1 263.7,111.5 264.4,112.9 265.3,114.3 266.1,115.7 266.9,117.1 267.8,118.5 268.6,119.9 268.3,118.3 267.9,116.7 267.5,115.2 267.1,113.6 266.6,112 266.2,110.5 265.7,108.9 265.2,107.3 264.7,105.8 264.2,104.3 263.6,102.7 263.1,101.2 262.5,99.7 261.9,98.2 261.3,96.6 260.6,95.1 260,93.6 259.3,92.2 258.6,90.7 257.9,89.2 257.2,87.8 256.5,86.3 255.7,84.9 255,83.4 254.2,82 253.4,80.6 252.6,79.2 251.7,77.8 250.9,76.4 250,75 251,76.3 252,77.5 253.1,78.8 254.2,80 255.2,81.2 256.3,82.5 257.4,83.7 258.5,84.8 259.7,86 260.8,87.2 262,88.3 263.1,89.5 264.3,90.6 265.5,91.7 266.7,92.8 267.9,93.9 269.2,94.9 270.4,96 271.7,97 272.9,98 274.2,99 275.5,100 276.8,101 278.1,102 279.5,102.9 280.8,103.8 282.2,104.7 283.5,105.6 284.9,106.5 286.3,107.4 285.3,106.1 284.2,104.8 283.2,103.6 282.1,102.4 281,101.1 280,99.9 278.9,98.7 277.7,97.5 276.6,96.4 275.5,95.2 274.3,94.1 273.1,92.9 272,91.8 270.8,90.7 269.6,89.6 268.3,88.5 267.1,87.5 265.8,86.4 264.6,85.4 263.3,84.4 262,83.4 260.7,82.4 259.4,81.4 258.1,80.4 256.8,79.5 255.5,78.6 254.1,77.6 252.7,76.7 251.4,75.9 250,75 251.5,75.7 252.9,76.4 254.4,77.1 255.9,77.7 257.4,78.4 258.9,79 260.4,79.6 262,80.2 263.5,80.7 265,81.3 266.6,81.8 268.1,82.3 269.7,82.8 271.2,83.3 272.8,83.8 274.3,84.2 275.9,84.6 277.5,85 279.1,85.4 280.7,85.8 282.3,86.1 283.9,86.5 285.4,86.8 287.1,87.1 288.7,87.3 290.3,87.6 291.9,87.8 293.5,88.1 295.1,88.3 296.7,88.4 295.3,87.7 293.8,87 292.3,86.4 290.8,85.7 289.3,85.1 287.8,84.5 286.3,83.9 284.8,83.3 283.2,82.7 281.7,82.2 280.2,81.6 278.6,81.1 277.1,80.6 275.5,80.1 274,79.7 272.4,79.2 270.8,78.8 269.2,78.4 267.6,78 266.1,77.7 264.5,77.3 262.9,77 261.3,76.7 259.7,76.4 258.1,76.1 256.5,75.8 254.8,75.6 253.2,75.4 251.6,75.2 250,75\" />'\n",
       "\n",
       "</svg>"
      ],
      "text/plain": [
       "<IPython.core.display.HTML object>"
      ]
     },
     "metadata": {},
     "output_type": "display_data"
    }
   ],
   "source": [
    "from jupyturtle import get_turtle\n",
    "\n",
    "with make_turtle():\n",
    "    hide()\n",
    "    jump(100)\n",
    "    flower(14, 140.0, 20.0)"
   ]
  },
  {
   "cell_type": "markdown",
   "id": "9d9f35d1",
   "metadata": {
    "id": "9d9f35d1"
   },
   "source": [
    "### Ask an assistant\n",
    "\n",
    "Draw a spiral:"
   ]
  },
  {
   "cell_type": "code",
   "execution_count": 45,
   "id": "46d3151c",
   "metadata": {
    "id": "46d3151c",
    "outputId": "47731432-91f7-4efc-d6da-077dd95234f8"
   },
   "outputs": [
    {
     "data": {
      "text/html": [
       "<svg width=\"300\" height=\"150\" style=\"fill:none; stroke-linecap:round;\">\n",
       "    <rect width=\"100%\" height=\"100%\" fill=\"#F3F3F7\" />\n",
       "\n",
       "\n",
       "<path stroke=\"#663399\" stroke-width=\"2\" d=\"M 150,75 155,75 155,82 146,82 146,71 159,71 159,86 142,86 142,67 163,67 163,90 138,90 138,63 167,63 167,94 134,94 134,59 171,59 171,98 130,98 130,55 175,55 175,102 126,102 126,51 179,51 179,106 122,106 122,47 183,47 183,110 118,110 118,43 187,43 187,114 114,114 114,39 191,39 191,118 110,118 110,35 195,35 195,122 106,122 106,31 199,31 199,126 102,126 102,27 203,27 203,130 98,130 98,23 207,23 207,134 94,134 94,19 211,19 211,138 90,138 90,15 215,15 215,142 86,142 86,11 219,11 219,146 82,146 82,7 223,7 223,150 78,150 78,3 227,3 227,154 74,154 74,-1 231,-1 231,158 70,158 70,-5 235,-5 235,162 66,162 66,-9 239,-9 239,166 62,166 62,-13 243,-13 243,170 58,170 58,-17 247,-17 247,174 54,174 54,-21 251,-21 251,178 50,178 50,-25\" />'\n",
       "\n",
       "<g transform=\"rotate(-90.0,50.0,-25.0) translate(50.0, -25.0)\">\n",
       "    <circle stroke=\"#63A375\" stroke-width=\"2\" fill=\"transparent\" r=\"5.5\" cx=\"0\" cy=\"0\"/>\n",
       "    <polygon points=\"0,12 2,9 -2,9\" style=\"fill:#63A375;stroke:#63A375;stroke-width:2\"/>\n",
       "</g>\n",
       "\n",
       "</svg>"
      ],
      "text/plain": [
       "<IPython.core.display.HTML object>"
      ]
     },
     "metadata": {},
     "output_type": "display_data"
    }
   ],
   "source": [
    "# Solution\n",
    "\n",
    "from jupyturtle import make_turtle, forward, right\n",
    "\n",
    "make_turtle(delay=0.01)\n",
    "\n",
    "def spiral(length, angle):\n",
    "    for _ in range(100):\n",
    "        forward(length)\n",
    "        right(angle)\n",
    "        length += 2  # Increase the length for each segment\n",
    "\n",
    "spiral(5, 90)"
   ]
  },
  {
   "cell_type": "code",
   "execution_count": 46,
   "id": "186c7fbc",
   "metadata": {
    "id": "186c7fbc",
    "outputId": "45628c53-a3b4-482e-dbf0-32a4ac0edaf9"
   },
   "outputs": [
    {
     "data": {
      "text/html": [
       "<svg width=\"300\" height=\"150\" style=\"fill:none; stroke-linecap:round;\">\n",
       "    <rect width=\"100%\" height=\"100%\" fill=\"#F3F3F7\" />\n",
       "\n",
       "\n",
       "<path stroke=\"#663399\" stroke-width=\"2\" d=\"M 150,75 150.9,75 151.7,75 152.6,75 153.5,74.9 154.4,74.8 155.3,74.8 156.1,74.7 157,74.6 157.9,74.4 158.8,74.3 159.6,74.2 160.5,74 161.4,73.8 162.3,73.6 163.1,73.4 164,73.1 164.9,72.9 165.7,72.6 166.6,72.4 167.4,72.1 168.3,71.7 169.2,71.4 170,71.1 170.8,70.7 171.7,70.4 172.5,70 173.3,69.6 174.1,69.1 175,68.7 175.8,68.3 176.6,67.8 177.4,67.3 178.2,66.8 178.9,66.3 179.7,65.8 180.5,65.3 181.2,64.7 182,64.2 182.7,63.6 183.4,63 184.2,62.4 184.9,61.8 185.6,61.1 186.3,60.5 187,59.8 187.6,59.1 188.3,58.5 188.9,57.8 189.6,57.1 190.2,56.3 190.8,55.6 191.4,54.8 192,54.1 192.6,53.3 193.2,52.5 193.7,51.7 194.3,50.9 194.8,50.1 195.3,49.3 195.8,48.5 196.3,47.6 196.8,46.8 197.2,45.9 197.7,45 198.1,44.1 198.5,43.2 198.9,42.3 199.3,41.4 199.7,40.5 200.1,39.6 200.4,38.6 200.7,37.7 201,36.8 201.3,35.8 201.6,34.8 201.9,33.9 202.1,32.9 202.3,31.9 202.5,30.9 202.7,29.9 202.9,28.9 203.1,27.9 203.2,26.9 203.3,25.9 203.4,24.9 203.5,23.9 203.6,22.9 203.7,21.8 203.7,20.8 203.7,19.8 203.7,18.8 203.7,17.7 203.7,16.7 203.6,15.7 203.5,14.6 203.4,13.6 203.3,12.6 203.2,11.5 203.1,10.5 202.9,9.5 202.7,8.4 202.5,7.4 202.3,6.4 202.1,5.3 201.8,4.3 201.5,3.3 201.2,2.3 200.9,1.3 200.6,0.3 200.2,-0.7 199.9,-1.7 199.5,-2.7 199.1,-3.7 198.7,-4.7 198.2,-5.7 197.8,-6.7 197.3,-7.6 196.8,-8.6 196.3,-9.5 195.8,-10.5 195.3,-11.4 194.7,-12.4 194.1,-13.3 193.5,-14.2 192.9,-15.1 192.3,-16 191.7,-16.9 191,-17.7 190.3,-18.6 189.6,-19.5 188.9,-20.3 188.2,-21.1 187.5,-22 186.7,-22.8 185.9,-23.6 185.2,-24.3 184.4,-25.1 183.6,-25.9 182.7,-26.6 181.9,-27.3 181,-28.1 180.2,-28.8 179.3,-29.5 178.4,-30.1 177.5,-30.8 176.5,-31.4 175.6,-32.1 174.7,-32.7 173.7,-33.3 172.7,-33.9 171.8,-34.4 170.8,-35 169.8,-35.5 168.7,-36 167.7,-36.5 166.7,-37 165.6,-37.5 164.6,-37.9 163.5,-38.4 162.4,-38.8 161.4,-39.2 160.3,-39.5 159.2,-39.9 158.1,-40.2 156.9,-40.6 155.8,-40.9 154.7,-41.1 153.6,-41.4 152.4,-41.6 151.3,-41.9 150.1,-42.1 149,-42.3 147.8,-42.4 146.6,-42.6 145.5,-42.7 144.3,-42.8 143.1,-42.9 141.9,-42.9 140.8,-43 139.6,-43 138.4,-43 137.2,-43 136,-42.9 134.8,-42.9 133.6,-42.8 132.4,-42.7 131.2,-42.6 130.1,-42.4 128.9,-42.2 127.7,-42.1 126.5,-41.8 125.3,-41.6 124.1,-41.4 122.9,-41.1 121.8,-40.8 120.6,-40.5 119.4,-40.2 118.3,-39.8 117.1,-39.4 116,-39 114.8,-38.6 113.7,-38.2 112.5,-37.7 111.4,-37.2 110.3,-36.7 109.2,-36.2 108.1,-35.7 107,-35.1 105.9,-34.5 104.8,-33.9 103.7,-33.3 102.6,-32.7 101.6,-32 100.5,-31.3 99.5,-30.6 98.5,-29.9 97.5,-29.2 96.5,-28.4 95.5,-27.7 94.5,-26.9 93.6,-26.1 92.6,-25.2 91.7,-24.4 90.7,-23.5 89.8,-22.7 88.9,-21.8 88.1,-20.9 87.2,-19.9 86.3,-19 85.5,-18 84.7,-17 83.9,-16.1 83.1,-15 82.3,-14 81.6,-13 80.8,-11.9 80.1,-10.9 79.4,-9.8 78.7,-8.7 78.1,-7.6 77.4,-6.5 76.8,-5.3 76.2,-4.2 75.6,-3 75,-1.9 74.5,-0.7 74,0.5 73.5,1.7 73,2.9 72.5,4.1 72,5.3 71.6,6.6 71.2,7.8 70.8,9.1 70.5,10.4 70.1,11.6 69.8,12.9 69.5,14.2 69.2,15.5 69,16.8 68.8,18.1 68.5,19.4 68.4,20.7 68.2,22.1 68.1,23.4 67.9,24.7 67.8,26 67.8,27.4 67.7,28.7 67.7,30.1 67.7,31.4 67.7,32.7 67.8,34.1 67.8,35.4 67.9,36.8 68.1,38.1 68.2,39.5 68.4,40.8 68.6,42.2 68.8,43.5 69,44.9 69.3,46.2 69.6,47.5 69.9,48.9 70.2,50.2 70.5,51.5 70.9,52.8 71.3,54.1 71.7,55.5 72.2,56.8 72.7,58.1 73.2,59.3 73.7,60.6 74.2,61.9 74.8,63.2 75.4,64.4 76,65.7 76.6,66.9 77.3,68.1 77.9,69.4 78.6,70.6 79.4,71.8 80.1,73 80.9,74.1 81.7,75.3 82.5,76.4 83.3,77.6 84.1,78.7 85,79.8 85.9,80.9 86.8,82 87.7,83.1 88.7,84.1 89.6,85.2 90.6,86.2 91.6,87.2 92.7,88.2 93.7,89.1 94.8,90.1 95.8,91 96.9,92 98.1,92.9 99.2,93.7 100.3,94.6 101.5,95.5 102.7,96.3 103.9,97.1 105.1,97.9 106.3,98.6 107.5,99.4 108.8,100.1 110.1,100.8 111.3,101.5 112.6,102.2 114,102.8 115.3,103.4 116.6,104 117.9,104.6 119.3,105.1 120.7,105.6 122.1,106.1 123.4,106.6 124.8,107.1 126.2,107.5 127.7,107.9 129.1,108.3 130.5,108.7 132,109 133.4,109.3 134.9,109.6 136.3,109.8 137.8,110.1 139.3,110.3 140.7,110.5 142.2,110.6 143.7,110.7 145.2,110.8 146.7,110.9 148.2,111 149.7,111 151.2,111 152.7,111 154.2,110.9 155.7,110.8 157.2,110.7 158.7,110.6 160.2,110.4 161.7,110.3 163.2,110.1 164.7,109.8 166.2,109.6 167.7,109.3 169.2,108.9 170.7,108.6 172.1,108.2 173.6,107.8 175.1,107.4 176.6,107 178,106.5 179.5,106 180.9,105.5 182.3,104.9 183.8,104.3 185.2,103.7 186.6,103.1 188,102.5 189.4,101.8 190.8,101.1 192.1,100.4 193.5,99.6 194.8,98.8 196.2,98 197.5,97.2 198.8,96.3 200.1,95.5 201.4,94.6 202.6,93.7 203.9,92.7 205.1,91.8 206.3,90.8 207.5,89.8 208.7,88.7 209.9,87.7 211.1,86.6 212.2,85.5 213.3,84.4 214.4,83.2 215.5,82.1 216.5,80.9 217.6,79.7 218.6,78.5 219.6,77.3 220.6,76 221.5,74.7 222.5,73.4 223.4,72.1 224.3,70.8 225.2,69.5 226,68.1 226.8,66.7 227.6,65.3 228.4,63.9 229.2,62.5 229.9,61.1 230.6,59.6 231.3,58.2 232,56.7 232.6,55.2 233.2,53.7 233.8,52.2 234.3,50.7 234.9,49.1 235.4,47.6 235.8,46 236.3,44.5 236.7,42.9 237.1,41.3 237.5,39.7 237.8,38.1 238.1,36.5 238.4,34.9 238.7,33.3 238.9,31.6 239.1,30 239.3,28.4 239.4,26.7 239.5,25.1 239.6,23.4 239.7,21.8 239.7,20.1 239.7,18.4 239.7,16.8 239.6,15.1 239.5,13.5 239.4,11.8 239.3,10.1 239.1,8.5 238.9,6.8 238.7,5.2 238.4,3.5 238.1,1.9 237.8,0.2 237.4,-1.4 237.1,-3.1 236.7,-4.7 236.2,-6.3 235.8,-7.9 235.3,-9.6 234.7,-11.2 234.2,-12.8 233.6,-14.4 233,-15.9 232.4,-17.5 231.7,-19.1 231,-20.6 230.3,-22.2 229.5,-23.7 228.8,-25.2 228,-26.7 227.1,-28.2 226.3,-29.7 225.4,-31.2 224.5,-32.6 223.6,-34.1 222.6,-35.5 221.6,-36.9 220.6,-38.3 219.6,-39.7 218.5,-41 217.4,-42.4 216.3,-43.7 215.2,-45 214,-46.3 212.8,-47.5 211.6,-48.8 210.4,-50 209.1,-51.2 207.9,-52.4 206.6,-53.6 205.3,-54.7 203.9,-55.8 202.6,-56.9 201.2,-58 199.8,-59.1 198.4,-60.1 196.9,-61.1 195.5,-62.1 194,-63 192.5,-64 191,-64.9 189.5,-65.8 187.9,-66.6 186.4,-67.5 184.8,-68.3 183.2,-69 181.6,-69.8 180,-70.5 178.4,-71.2 176.7,-71.9 175,-72.5 173.4,-73.1 171.7,-73.7 170,-74.2 168.3,-74.8 166.6,-75.3 164.8,-75.7 163.1,-76.2 161.4,-76.6 159.6,-76.9 157.8,-77.3 156.1,-77.6 154.3,-77.9 152.5,-78.1 150.7,-78.3 148.9,-78.5 147.1,-78.7 145.3,-78.8 143.5,-78.9 141.7,-79 139.9,-79 138.1,-79 136.3,-79 134.4,-78.9 132.6,-78.8 130.8,-78.7 129,-78.5 127.2,-78.3 125.4,-78.1 123.5,-77.9 121.7,-77.6 119.9,-77.2 118.1,-76.9 116.3,-76.5 114.5,-76.1 112.8,-75.7 111,-75.2 109.2,-74.7 107.4,-74.1 105.7,-73.6 103.9,-73 102.2,-72.3 100.5,-71.7 98.8,-71 97,-70.2 95.3,-69.5 93.7,-68.7 92,-67.9 90.3,-67 88.7,-66.2 87.1,-65.3 85.4,-64.3 83.8,-63.4 82.2,-62.4 80.7,-61.4 79.1,-60.3 77.6,-59.2 76.1,-58.1 74.6,-57 73.1,-55.8 71.6,-54.7 70.2,-53.4 68.8,-52.2 67.3,-50.9 66,-49.7 64.6,-48.3 63.3,-47 61.9,-45.6 60.7,-44.2 59.4,-42.8 58.1,-41.4 56.9,-39.9 55.7,-38.5 54.5,-37 53.4,-35.4 52.3,-33.9 51.2,-32.3 50.1,-30.7 49.1,-29.1 48,-27.5 47.1,-25.9 46.1,-24.2 45.2,-22.5 44.3,-20.8 43.4,-19.1 42.5,-17.4 41.7,-15.6 40.9,-13.9 40.2,-12.1 39.5,-10.3 38.8,-8.5 38.1,-6.7 37.5,-4.8 36.9,-3 36.3,-1.1 35.8,0.7 35.3,2.6 34.8,4.5 34.4,6.4 34,8.3 33.6,10.2 33.2,12.2 32.9,14.1 32.7,16 32.4,18 32.2,19.9 32.1,21.9 31.9,23.8 31.8,25.8 31.7,27.8 31.7,29.7 31.7,31.7 31.7,33.7 31.8,35.7 31.9,37.6 32.1,39.6 32.2,41.6 32.4,43.6 32.7,45.5 33,47.5 33.3,49.5 33.6,51.4 34,53.4 34.4,55.3 34.9,57.3 35.3,59.2 35.9,61.1 36.4,63.1 37,65 37.6,66.9 38.3,68.8 38.9,70.7 39.7,72.5 40.4,74.4 41.2,76.3 42,78.1 42.9,79.9 43.8,81.7 44.7,83.5 45.6,85.3 46.6,87.1 47.6,88.8 48.7,90.6 49.7,92.3 50.8,94 52,95.7 53.1,97.3 54.3,99 55.6,100.6 56.8,102.2 58.1,103.8 59.4,105.4 60.8,106.9 62.1,108.4 63.5,109.9 65,111.4 66.4,112.9 67.9,114.3 69.4,115.7 70.9,117.1 72.5,118.4 74,119.7 75.6,121 77.3,122.3 78.9,123.5 80.6,124.8 82.3,125.9 84,127.1 85.7,128.2 87.5,129.3 89.3,130.4 91.1,131.4 92.9,132.4 94.7,133.4 96.6,134.4 98.5,135.3 100.3,136.2 102.2,137 104.2,137.8 106.1,138.6 108.1,139.4 110,140.1 112,140.8 114,141.4 116,142 118,142.6 120.1,143.1 122.1,143.7 124.2,144.1 126.2,144.6 128.3,145 130.4,145.3 132.5,145.7 134.6,146 136.7,146.2 138.8,146.4 140.9,146.6 143,146.8 145.1,146.9 147.2,147 149.4,147 151.5,147 153.6,147 155.8,146.9 157.9,146.8 160,146.6 162.2,146.4 164.3,146.2 166.4,146 168.5,145.7 170.7,145.3 172.8,144.9 174.9,144.5 177,144.1 179.1,143.6 181.2,143.1 183.2,142.5 185.3,141.9 187.4,141.3 189.4,140.6 191.5,139.9 193.5,139.2 195.5,138.4 197.5,137.6 199.5,136.8 201.5,135.9 203.5,135 205.5,134 207.4,133 209.3,132 211.2,130.9 213.1,129.8 215,128.7 216.8,127.6 218.7,126.4 220.5,125.1 222.3,123.9 224.1,122.6 225.8,121.3 227.5,119.9 229.2,118.5 230.9,117.1 232.6,115.7 234.2,114.2 235.8,112.7 237.4,111.2 239,109.6 240.5,108 242,106.4 243.5,104.8 245,103.1 246.4,101.4 247.8,99.7 249.2,97.9 250.5,96.1 251.8,94.3 253.1,92.5 254.3,90.7 255.5,88.8 256.7,86.9 257.9,85 259,83.1 260.1,81.1 261.1,79.1 262.1,77.1 263.1,75.1 264.1,73.1 265,71 265.9,69 266.7,66.9 267.5,64.8 268.3,62.7 269,60.5 269.7,58.4 270.4,56.2 271,54.1 271.6,51.9 272.1,49.7 272.6,47.5 273.1,45.3 273.5,43 273.9,40.8 274.3,38.6 274.6,36.3 274.9,34.1 275.1,31.8 275.3,29.5 275.5,27.3 275.6,25 275.7,22.7 275.7,20.4 275.7,18.1 275.7,15.8 275.6,13.6 275.5,11.3 275.3,9 275.1,6.7 274.9,4.4 274.6,2.1 274.3,-0.2 273.9,-2.4 273.5,-4.7 273.1,-7 272.6,-9.2 272.1,-11.5 271.5,-13.7 270.9,-15.9 270.3,-18.2 269.6,-20.4 268.9,-22.6 268.1,-24.8 267.3,-27 266.5,-29.1 265.6,-31.3 264.7,-33.4 263.8,-35.6 262.8,-37.7 261.8,-39.8 260.7,-41.8 259.6,-43.9 258.5,-45.9 257.3,-48 256.1,-50 254.9,-52 253.6,-53.9 252.3,-55.9 250.9,-57.8 249.5,-59.7 248.1,-61.6 246.7,-63.4 245.2,-65.3 243.7,-67.1 242.1,-68.8 240.6,-70.6 238.9,-72.3 237.3,-74 235.6,-75.7 233.9,-77.3 232.2,-79 230.4,-80.5 228.6,-82.1 226.8,-83.6 225,-85.1 223.1,-86.6 221.2,-88 219.3,-89.4 217.3,-90.8 215.4,-92.1 213.4,-93.4 211.3,-94.7 209.3,-95.9 207.2,-97.1 205.1,-98.3 203,-99.4 200.9,-100.5 198.7,-101.5 196.5,-102.5 194.3,-103.5 192.1,-104.5 189.9,-105.4 187.7,-106.2 185.4,-107 183.1,-107.8 180.8,-108.6 178.5,-109.3 176.2,-109.9 173.9,-110.6 171.5,-111.2 169.1,-111.7 166.8,-112.2 164.4,-112.7 162,-113.1 159.6,-113.5 157.2,-113.8 154.8,-114.1 152.4,-114.4 149.9,-114.6 147.5,-114.7 145.1,-114.9 142.6,-115 140.2,-115 137.8,-115 135.3,-115 132.9,-114.9 130.4,-114.7 128,-114.6 125.5,-114.4 123.1,-114.1 120.7,-113.8 118.2,-113.5 115.8,-113.1 113.4,-112.6 111,-112.2 108.5,-111.7 106.1,-111.1 103.7,-110.5 101.4,-109.9 99,-109.2 96.6,-108.5 94.3,-107.7 91.9,-106.9 89.6,-106 87.3,-105.2 85,-104.2 82.7,-103.3 80.4,-102.2 78.2,-101.2 75.9,-100.1 73.7,-99 71.5,-97.8 69.3,-96.6 67.2,-95.3 65,-94.1 62.9,-92.7 60.8,-91.4 58.7,-90 56.7,-88.5 54.7,-87.1 52.7,-85.6 50.7,-84 48.7,-82.4 46.8,-80.8 44.9,-79.2 43,-77.5 41.2,-75.8 39.4,-74 37.6,-72.2 35.8,-70.4 34.1,-68.6 32.4,-66.7 30.8,-64.8 29.1,-62.8 27.5,-60.9 26,-58.9 24.5,-56.9 23,-54.8 21.5,-52.7 20.1,-50.6 18.7,-48.5 17.4,-46.3 16,-44.1 14.8,-41.9 13.5,-39.7 12.3,-37.4 11.2,-35.2 10.1,-32.9 9,-30.6 7.9,-28.2 6.9,-25.9 6,-23.5 5.1,-21.1 4.2,-18.7 3.3,-16.3 2.5,-13.8 1.8,-11.4 1.1,-8.9 0.4,-6.4 -0.2,-3.9 -0.8,-1.4 -1.3,1.1 -1.8,3.7 -2.3,6.2 -2.7,8.8 -3,11.3 -3.3,13.9 -3.6,16.5 -3.8,19.1 -4,21.6 -4.2,24.2 -4.2,26.8 -4.3,29.4 -4.3,32 -4.2,34.6 -4.2,37.2 -4,39.8 -3.8,42.4 -3.6,45 -3.3,47.6 -3,50.2 -2.7,52.8 -2.2,55.4 -1.8,58 -1.3,60.6 -0.7,63.1 -0.2,65.7 0.5,68.2 1.2,70.8 1.9,73.3 2.7,75.8 3.5,78.3 4.3,80.8 5.2,83.3 6.2,85.7 7.2,88.2 8.2,90.6 9.3,93 10.4,95.4 11.5,97.8 12.7,100.2 14,102.5 15.3,104.8 16.6,107.1 18,109.4 19.4,111.6 20.8,113.9 22.3,116.1 23.8,118.3 25.4,120.4 27,122.5 28.7,124.6 30.3,126.7 32,128.8 33.8,130.8 35.6,132.8 37.4,134.7 39.3,136.6 41.2,138.5 43.1,140.4 45.1,142.2 47.1,144 49.1,145.8 51.1,147.5 53.2,149.2 55.3,150.9 57.5,152.5 59.7,154.1 61.9,155.6 64.1,157.1 66.4,158.6 68.7,160 71,161.4 73.3,162.8 75.7,164.1 78.1,165.4 80.5,166.6 83,167.8 85.4,168.9 87.9,170 90.4,171.1 92.9,172.1 95.5,173.1 98,174 100.6,174.9 103.2,175.7 105.8,176.5 108.4,177.3 111.1,178 113.7,178.7 116.4,179.3 119,179.8 121.7,180.4 124.4,180.8 127.1,181.3 129.9,181.7 132.6,182 135.3,182.3 138.1,182.5 140.8,182.7 143.5,182.9 146.3,182.9 149.1,183 151.8,183 154.6,182.9 157.3,182.9 160.1,182.7 162.9,182.5 165.6,182.3 168.4,182 171.1,181.6 173.9,181.3 176.6,180.8 179.3,180.3 182.1,179.8 184.8,179.2 187.5,178.6 190.2,177.9 192.9,177.2 195.5,176.5 198.2,175.6 200.9,174.8 203.5,173.9 206.1,172.9 208.7,171.9 211.3,170.9 213.9,169.8 216.5,168.6 219,167.4 221.5,166.2 224,164.9 226.5,163.6 228.9,162.3 231.4,160.9 233.8,159.4 236.2,157.9 238.5,156.4 240.9,154.8 243.2,153.2 245.5,151.5 247.7,149.8 249.9,148.1 252.1,146.3 254.3,144.5 256.4,142.6 258.5,140.8 260.6,138.8 262.7,136.9 264.7,134.8 266.6,132.8 268.6,130.7 270.5,128.6 272.3,126.5 274.2,124.3 276,122.1 277.7,119.8 279.4,117.6 281.1,115.3 282.7,112.9 284.3,110.5 285.9,108.2 287.4,105.7 288.9,103.3 290.3,100.8 291.7,98.3 293,95.8 294.3,93.2 295.6,90.6 296.8,88 298,85.4 299.1,82.8 300.2,80.1 301.2,77.4 302.2,74.7 303.1,72 304,69.2 304.9,66.5 305.7,63.7 306.4,60.9 307.1,58.1 307.8,55.3 308.4,52.5 308.9,49.6 309.4,46.8 309.9,43.9 310.3,41 310.6,38.1 310.9,35.3 311.2,32.4 311.4,29.5 311.5,26.6 311.7,23.6 311.7,20.7 311.7,17.8 311.7,14.9 311.5,12 311.4,9.1 311.2,6.2 310.9,3.2 310.6,0.3 310.3,-2.6 309.9,-5.5 309.4,-8.4 308.9,-11.3 308.3,-14.1 307.7,-17 307.1,-19.9 306.4,-22.7 305.6,-25.6 304.8,-28.4 303.9,-31.2 303,-34 302.1,-36.8 301,-39.6 300,-42.3 298.9,-45.1 297.7,-47.8 296.5,-50.5 295.3,-53.2 294,-55.8 292.6,-58.5 291.2,-61.1 289.8,-63.7 288.3,-66.2 286.8,-68.8 285.2,-71.3 283.6,-73.8 281.9,-76.3 280.2,-78.7 278.5,-81.1 276.7,-83.5 274.9,-85.8 273,-88.2 271.1,-90.4 269.1,-92.7 267.1,-94.9 265.1,-97.1 263,-99.3 260.9,-101.4 258.7,-103.5 256.5,-105.5 254.3,-107.5 252,-109.5 249.7,-111.4 247.4,-113.3 245,-115.1 242.6,-117 240.2,-118.7 237.7,-120.4 235.2,-122.1 232.7,-123.8 230.1,-125.4 227.5,-126.9 224.9,-128.4 222.3,-129.9 219.6,-131.3 216.9,-132.7 214.2,-134 211.5,-135.3 208.7,-136.5 205.9,-137.7 203.1,-138.9 200.3,-139.9 197.4,-141 194.5,-142 191.6,-142.9 188.7,-143.8 185.8,-144.6 182.9,-145.4 179.9,-146.2 176.9,-146.8 174,-147.5 171,-148.1 167.9,-148.6 164.9,-149.1 161.9,-149.5 158.9,-149.9 155.8,-150.2 152.8,-150.5 149.7,-150.7 146.6,-150.8 143.6,-150.9 140.5,-151 137.4,-151 134.4,-150.9 131.3,-150.8 128.2,-150.7 125.2,-150.5 122.1,-150.2 119,-149.9 116,-149.5 112.9,-149.1 109.9,-148.6 106.8,-148 103.8,-147.5 100.7,-146.8 97.7,-146.1 94.7,-145.4 91.7,-144.6 88.8,-143.7 85.8,-142.8 82.8,-141.8 79.9,-140.8 77,-139.8 74.1,-138.7 71.2,-137.5 68.3,-136.3 65.5,-135 62.7,-133.7 59.9,-132.3 57.1,-130.9 54.3,-129.4 51.6,-127.9 48.9,-126.4 46.2,-124.8 43.6,-123.1 40.9,-121.4 38.3,-119.6 35.8,-117.8 33.2,-116 30.7,-114.1 28.3,-112.2 25.8,-110.2 23.4,-108.2 21,-106.1 18.7,-104 16.4,-101.9 14.1,-99.7 11.9,-97.5 9.7,-95.2 7.6,-92.9 5.5,-90.5 3.4,-88.2 1.4,-85.7 -0.6,-83.3 -2.6,-80.8 -4.5,-78.3 -6.3,-75.7 -8.2,-73.1 -9.9,-70.5 -11.7,-67.8 -13.3,-65.1 -15,-62.4 -16.6,-59.7 -18.1,-56.9 -19.6,-54.1 -21,-51.2 -22.4,-48.4 -23.8,-45.5 -25.1,-42.6 -26.3,-39.6 -27.5,-36.7 -28.7,-33.7 -29.8,-30.7 -30.8,-27.7 -31.8,-24.6 -32.7,-21.6 -33.6,-18.5 -34.4,-15.4 -35.2,-12.3 -35.9,-9.2 -36.6,-6 -37.2,-2.9 -37.8,0.3 -38.3,3.4 -38.7,6.6 -39.1,9.8 -39.4,13 -39.7,16.2 -40,19.4 -40.1,22.7 -40.2,25.9 -40.3,29.1 -40.3,32.3 -40.2,35.6 -40.1,38.8 -40,42 -39.7,45.3 -39.4,48.5 -39.1,51.7 -38.7,54.9 -38.3,58.1 -37.7,61.3 -37.2,64.5 -36.6,67.7 -35.9,70.9 -35.2,74.1 -34.4,77.2 -33.5,80.4 -32.6,83.5 -31.7,86.6 -30.7,89.7 -29.6,92.8 -28.5,95.9 -27.3,98.9 -26.1,102 -24.8,105 -23.5,108 -22.1,110.9 -20.7,113.9 -19.2,116.8 -17.6,119.7 -16.1,122.5 -14.4,125.4 -12.7,128.2 -11,131 -9.2,133.7 -7.4,136.5 -5.5,139.2 -3.5,141.8 -1.6,144.5 0.5,147 2.6,149.6 4.7,152.1 6.8,154.6 9,157.1 11.3,159.5 13.6,161.9 15.9,164.2 18.3,166.5 20.7,168.8 23.2,171 25.7,173.2 28.2,175.3 30.8,177.4 33.4,179.4 36.1,181.4 38.8,183.4 41.5,185.3 44.3,187.1 47,189 49.9,190.7 52.7,192.4 55.6,194.1 58.5,195.7 61.5,197.3 64.5,198.8 67.5,200.3 70.5,201.7 73.5,203 76.6,204.4 79.7,205.6 82.9,206.8 86,208 89.2,209 92.4,210.1 95.6,211.1 98.8,212 102,212.9 105.3,213.7 108.6,214.4 111.9,215.1 115.2,215.8 118.5,216.4 121.8,216.9 125.2,217.3 128.5,217.8 131.9,218.1 135.2,218.4 138.6,218.6 142,218.8 145.4,218.9 148.7,219 152.1,219 155.5,218.9 158.9,218.8 162.3,218.6 165.7,218.4 169.1,218.1 172.4,217.8 175.8,217.3 179.2,216.9 182.5,216.3 185.9,215.7 189.2,215.1 192.6,214.4 195.9,213.6 199.2,212.8 202.5,211.9 205.8,211 209,210 212.3,208.9 215.5,207.8 218.7,206.6 221.9,205.4 225.1,204.1 228.3,202.8 231.4,201.4 234.5,199.9 237.6,198.4 240.6,196.9 243.7,195.3 246.7,193.6 249.7,191.9 252.6,190.1 255.5,188.3 258.4,186.4 261.3,184.5 264.1,182.5 266.9,180.5 269.6,178.4 272.4,176.3 275,174.1 277.7,171.9 280.3,169.6 282.9,167.3 285.4,164.9 287.9,162.5 290.3,160.1 292.7,157.6 295.1,155.1 297.4,152.5 299.7,149.9 301.9,147.2 304.1,144.5 306.3,141.8 308.4,139 310.4,136.2 312.4,133.3 314.4,130.4 316.3,127.5 318.1,124.5 319.9,121.5 321.6,118.5 323.3,115.5 325,112.4 326.6,109.3 328.1,106.1 329.6,103 331,99.8 332.4,96.5 333.7,93.3 334.9,90 336.1,86.7 337.3,83.4 338.4,80.1 339.4,76.7 340.4,73.3 341.3,69.9 342.1,66.5 342.9,63.1 343.6,59.6 344.3,56.2 344.9,52.7 345.5,49.2 346,45.7 346.4,42.2 346.8,38.7 347.1,35.2 347.3,31.7 347.5,28.1 347.6,24.6 347.7,21 347.7,17.5 347.6,14 347.5,10.4 347.3,6.9 347.1,3.3 346.8,-0.2 346.4,-3.7 346,-7.3 345.5,-10.8 344.9,-14.3 344.3,-17.8 343.6,-21.3 342.9,-24.8 342.1,-28.3 341.2,-31.7 340.3,-35.2 339.3,-38.6 338.3,-42 337.2,-45.4 336,-48.8 334.8,-52.2 333.5,-55.5 332.1,-58.8 330.7,-62.1 329.3,-65.4 327.8,-68.7 326.2,-71.9 324.6,-75.1 322.9,-78.3 321.1,-81.4 319.3,-84.5 317.5,-87.6 315.6,-90.7 313.6,-93.7 311.6,-96.7 309.5,-99.6 307.4,-102.5 305.2,-105.4 303,-108.3 300.8,-111.1 298.4,-113.8 296.1,-116.6 293.6,-119.2 291.2,-121.9 288.7,-124.5 286.1,-127.1 283.5,-129.6 280.8,-132 278.1,-134.5 275.4,-136.8 272.6,-139.2 269.8,-141.5 266.9,-143.7 264,-145.9 261.1,-148 258.1,-150.1 255.1,-152.2 252,-154.1 248.9,-156.1 245.8,-157.9 242.7,-159.8 239.5,-161.5 236.2,-163.3 233,-164.9 229.7,-166.5 226.4,-168.1 223.1,-169.5 219.7,-171 216.3,-172.3 212.9,-173.7 209.4,-174.9 206,-176.1 202.5,-177.2 199,-178.3 195.4,-179.3 191.9,-180.3 188.3,-181.2 184.7,-182 181.1,-182.8 177.5,-183.5 173.9,-184.1 170.3,-184.7 166.6,-185.2 162.9,-185.6 159.3,-186 155.6,-186.3 151.9,-186.6 148.2,-186.8 144.5,-186.9 140.8,-187 137.1,-187 133.4,-186.9 129.7,-186.8 126,-186.6 122.3,-186.3 118.6,-186 114.9,-185.6 111.3,-185.2 107.6,-184.7 103.9,-184.1 100.2,-183.4 96.6,-182.7 93,-182 89.3,-181.1 85.7,-180.2 82.1,-179.3 78.5,-178.2 75,-177.1 71.4,-176 67.9,-174.8 64.4,-173.5 60.9,-172.2 57.4,-170.7 54,-169.3 50.6,-167.8 47.2,-166.2 43.8,-164.5 40.5,-162.8 37.2,-161.1 33.9,-159.3 30.6,-157.4 27.4,-155.5 24.2,-153.5 21.1,-151.4 18,-149.3 14.9,-147.2 11.8,-144.9 8.8,-142.7 5.9,-140.4 2.9,-138 0,-135.6 -2.8,-133.1 -5.6,-130.6 -8.4,-128 -11.1,-125.4 -13.8,-122.7 -16.4,-120 -19,-117.2 -21.5,-114.4 -24,-111.5 -26.4,-108.6 -28.8,-105.7 -31.1,-102.7 -33.4,-99.7 -35.7,-96.6 -37.8,-93.5 -40,-90.4 -42,-87.2 -44,-83.9 -46,-80.7 -47.9,-77.4 -49.7,-74.1 -51.5,-70.7 -53.3,-67.3 -54.9,-63.9 -56.5,-60.4 -58.1,-56.9 -59.6,-53.4 -61,-49.9 -62.4,-46.3 -63.7,-42.7 -64.9,-39.1 -66.1,-35.5 -67.2,-31.8 -68.3,-28.1 -69.3,-24.4 -70.2,-20.7 -71.1,-17 -71.9,-13.2 -72.6,-9.4 -73.3,-5.7 -73.9,-1.9 -74.4,1.9 -74.9,5.7 -75.3,9.6 -75.6,13.4 -75.9,17.2 -76.1,21.1 -76.2,24.9 -76.3,28.8 -76.3,32.7 -76.2,36.5 -76.1,40.4 -75.9,44.2 -75.6,48.1 -75.3,51.9 -74.9,55.8 -74.4,59.6 -73.9,63.5 -73.3,67.3 -72.6,71.1 -71.8,74.9 -71,78.7 -70.2,82.5 -69.2,86.2 -68.2,90 -67.2,93.7 -66,97.4 -64.8,101.1 -63.5,104.8 -62.2,108.5 -60.8,112.1 -59.4,115.7 -57.8,119.3 -56.3,122.9 -54.6,126.4 -52.9,129.9 -51.1,133.4 -49.3,136.8 -47.4,140.3 -45.4,143.7 -43.4,147 -41.3,150.3 -39.2,153.6 -37,156.9 -34.8,160.1 -32.5,163.2 -30.1,166.4 -27.7,169.5 -25.2,172.5 -22.7,175.5 -20.1,178.5 -17.5,181.4 -14.8,184.3 -12.1,187.1 -9.3,189.9 -6.5,192.6 -3.6,195.3 -0.7,198 2.3,200.5 5.3,203.1 8.4,205.6 11.5,208 14.7,210.4 17.9,212.7 21.1,215 24.4,217.2 27.7,219.3 31.1,221.4 34.5,223.5 37.9,225.4 41.4,227.4 44.9,229.2 48.4,231 52,232.8 55.6,234.4 59.2,236.1 62.8,237.6 66.5,239.1 70.2,240.5 74,241.9 77.7,243.2 81.5,244.4 85.3,245.6 89.2,246.7 93,247.7 96.9,248.7 100.8,249.6 104.7,250.4 108.6,251.2 112.6,251.9 116.5,252.5 120.5,253 124.4,253.5 128.4,253.9 132.4,254.3 136.4,254.6 140.4,254.8 144.4,254.9 148.4,255\" />'\n",
       "\n",
       "<g transform=\"rotate(-90.0,148.4,255.0) translate(148.4, 255.0)\">\n",
       "    <circle stroke=\"#63A375\" stroke-width=\"2\" fill=\"transparent\" r=\"5.5\" cx=\"0\" cy=\"0\"/>\n",
       "    <polygon points=\"0,12 2,9 -2,9\" style=\"fill:#63A375;stroke:#63A375;stroke-width:2\"/>\n",
       "</g>\n",
       "\n",
       "</svg>"
      ],
      "text/plain": [
       "<IPython.core.display.HTML object>"
      ]
     },
     "metadata": {},
     "output_type": "display_data"
    },
    {
     "name": "stdout",
     "output_type": "stream",
     "text": [
      "done\n"
     ]
    }
   ],
   "source": [
    "# Solution\n",
    "\n",
    "# prompt: make that a circular spiral, and don't change the name of the module\n",
    "\n",
    "from jupyturtle import make_turtle, forward, left\n",
    "import math\n",
    "\n",
    "make_turtle(delay=0)\n",
    "\n",
    "def circular_spiral(radius, angle):\n",
    "    rotations = 5\n",
    "    distance = 2 * math.pi * radius / 360  # Calculate the distance for each degree of rotation\n",
    "    for _ in range(rotations * 360):\n",
    "        forward(distance)\n",
    "        left(angle)\n",
    "        radius += 0.1  # Increase the radius for each segment\n",
    "        distance = 2 * math.pi * radius / 360  # Recalculate the distance for the updated radius\n",
    "\n",
    "circular_spiral(50, 1)\n",
    "print('done')"
   ]
  },
  {
   "cell_type": "code",
   "execution_count": 47,
   "id": "0cd5b7e3-ccaf-4954-bca0-ccebd10bfbc7",
   "metadata": {},
   "outputs": [
    {
     "data": {
      "text/html": [
       "<svg width=\"550\" height=\"550\" style=\"fill:none; stroke-linecap:round;\">\n",
       "    <rect width=\"100%\" height=\"100%\" fill=\"#F3F3F7\" />\n",
       "\n",
       "\n",
       "<path stroke=\"#663399\" stroke-width=\"2\" d=\"M 275,275\" />'\n",
       "\n",
       "<path stroke=\"#663399\" stroke-width=\"2\" d=\"M 275,425 283.7,425 292.4,424.5 301.1,423.6 309.7,422.3 318.3,420.4 326.7,418.2 335,415.5 343.2,412.4 351.2,408.8 359,404.8 366.5,400.5 373.9,395.7 381,390.6 387.8,385 394.3,379.2 400.4,373 406.3,366.5 411.8,359.7 417,352.6 421.7,345.3 426.1,337.7 430.1,329.9 433.7,321.9 436.8,313.7 439.5,305.3 441.8,296.9 443.6,288.3 445,279.6 445.9,270.9 446.4,262.1 446.4,253.3 445.9,244.6 445,235.8 443.6,227.2 441.8,218.6 439.5,210.1 436.8,201.7 433.6,193.5 430.1,185.5 426.1,177.6 421.7,170 416.9,162.7 411.7,155.5 406.2,148.7 400.3,142.1 394,135.9 387.5,130 380.7,124.5 373.5,119.3 366.1,114.5 358.5,110.1 350.7,106.1 342.6,102.5 334.4,99.4 326,96.6 317.5,94.3 308.8,92.5 300.1,91.1 291.3,90.2 282.5,89.7 273.7,89.7 264.9,90.2 256.1,91.1 247.3,92.5 238.7,94.3 230.2,96.6 221.7,99.4 213.5,102.5 205.4,106.1 197.5,110.2 189.9,114.6 182.4,119.4 175.3,124.6 168.4,130.2 161.8,136.1 155.6,142.4 149.6,148.9 144,155.8 138.8,163 134,170.4 129.6,178.1 125.6,186 121.9,194.1 118.8,202.4 116,210.8 113.7,219.4 111.9,228.1 110.5,236.9 109.6,245.7 109.1,254.6 109.1,263.5 109.6,272.3 110.5,281.2 111.9,289.9 113.7,298.6 116,307.2 118.8,315.7 122,324 125.6,332.1 129.6,340 134.1,347.8 138.9,355.2 144.2,362.4 149.8,369.4 155.7,376 162,382.3 168.7,388.2 175.6,393.8 182.8,399.1 190.3,403.9 198,408.4 205.9,412.4 214.1,416.1 222.4,419.3 230.9,422 239.5,424.3 248.3,426.2 257.1,427.6 266,428.5 274.9,429 283.8,429 292.8,428.5 301.6,427.6 310.5,426.2 319.2,424.3 327.9,422 336.4,419.3 344.7,416.1 352.9,412.4 360.9,408.3 368.6,403.9 376.1,399 383.4,393.7 390.4,388.1 397,382.1 403.4,375.8 409.3,369.1 415,362.1 420.3,354.9 425.1,347.4 429.6,339.6 433.7,331.6 437.4,323.4 440.6,315 443.3,306.5 445.7,297.8 447.5,289 448.9,280.1 449.9,271.2 450.4,262.2 450.4,253.2 449.9,244.3 448.9,235.3 447.5,226.4 445.7,217.6 443.3,208.9 440.6,200.4 437.3,192 433.7,183.8 429.6,175.7 425.1,167.9 420.2,160.4 414.9,153.1 409.2,146.1 403.2,139.4 396.8,133 390.1,127 383.1,121.3 375.8,116 368.2,111.1 360.4,106.6 352.4,102.5 344.1,98.8 335.7,95.6 327.1,92.8 318.4,90.5 309.5,88.6 300.6,87.2 291.6,86.2 282.6,85.7 273.6,85.7 264.5,86.2 255.5,87.2 246.6,88.6 237.8,90.5 229,92.8 220.4,95.6 212,98.8 203.7,102.5 195.6,106.6 187.8,111.2 180.2,116.1 172.8,121.4 165.8,127.1 159.1,133.2 152.7,139.6 146.6,146.3 140.9,153.4 135.5,160.7 130.6,168.3 126.1,176.2 121.9,184.3 118.2,192.6 115,201.1 112.2,209.7 109.8,218.5 107.9,227.4 106.5,236.3 105.6,245.4 105.1,254.5 105.1,263.6 105.6,272.6 106.5,281.7 107.9,290.7 109.8,299.6 112.2,308.4 115,317 118.3,325.5 122,333.8 126.1,342 130.7,349.8 135.6,357.5 141,364.9 146.7,371.9 152.8,378.7 159.3,385.2 166.1,391.3 173.1,397 180.5,402.4 188.2,407.4 196.1,411.9 204.2,416.1 212.6,419.8 221.1,423 229.8,425.9 238.6,428.2 247.5,430.1 256.6,431.6 265.7,432.5 274.8,433 283.9,433 293.1,432.5 302.2,431.6 311.2,430.1 320.2,428.2 329,425.9 337.7,423 346.3,419.7 354.6,416 362.8,411.9 370.7,407.3 378.4,402.3 385.8,396.9 393,391.1 399.8,385 406.3,378.5 412.4,371.7 418.2,364.6 423.6,357.1 428.6,349.4 433.1,341.5 437.3,333.3 441.1,324.9 444.3,316.3 447.2,307.6 449.6,298.7 451.5,289.7 452.9,280.7 453.9,271.5 454.4,262.3 454.4,253.1 453.9,243.9 452.9,234.8 451.5,225.7 449.6,216.7 447.2,207.8 444.3,199.1 441,190.5 437.3,182 433.1,173.8 428.5,165.8 423.5,158.1 418.1,150.7 412.2,143.5 406.1,136.6 399.6,130.1 392.7,123.9 385.5,118.1 378.1,112.7 370.3,107.7 362.3,103.1 354.1,98.9 345.7,95.1 337,91.8 328.2,89 319.3,86.6 310.3,84.6 301.1,83.2 292,82.2 282.7,81.7 273.5,81.7 264.2,82.2 255,83.2 245.9,84.6 236.8,86.6 227.9,89 219.1,91.8 210.4,95.1 202,98.9 193.7,103.1 185.7,107.8 177.9,112.8 170.4,118.3 163.2,124.1 156.3,130.3 149.7,136.9 143.5,143.7 137.7,151 132.2,158.5 127.2,166.3 122.5,174.3 118.3,182.6 114.6,191.1 111.2,199.7 108.4,208.6 105.9,217.5 104,226.6 102.6,235.8 101.6,245.1 101.1,254.4 101.1,263.7 101.6,273 102.6,282.2 104,291.4 106,300.5 108.4,309.5 111.2,318.4 114.6,327.1 118.4,335.6 122.6,343.9 127.3,351.9 132.3,359.8 137.8,367.3 143.7,374.5 149.9,381.5 156.5,388.1 163.5,394.3 170.7,400.2 178.3,405.7 186.1,410.8 194.2,415.4 202.5,419.7 211,423.5 219.8,426.8 228.6,429.7 237.7,432.1 246.8,434.1 256,435.5 265.3,436.5 274.7,437 284,437 293.4,436.5 302.7,435.5 311.9,434.1 321.1,432.1 330.1,429.7 339,426.8 347.8,423.4 356.3,419.6 364.7,415.4 372.8,410.7 380.7,405.6 388.3,400.1 395.6,394.2 402.5,387.9 409.2,381.3 415.4,374.3 421.3,367 426.9,359.4 432,351.5 436.7,343.4 440.9,335 444.7,326.5 448.1,317.7 451,308.7 453.5,299.7 455.4,290.5 456.9,281.2 457.9,271.8 458.4,262.4 458.4,253 457.9,243.6 456.9,234.3 455.4,225 453.4,215.8 451,206.7 448.1,197.7 444.7,188.9 440.9,180.3 436.6,171.9 431.9,163.8 426.8,155.9 421.2,148.2 415.3,140.9 409,133.9 402.3,127.2 395.3,120.9 388,115 380.3,109.4 372.4,104.3 364.2,99.6 355.8,95.3 347.2,91.4 338.4,88 329.4,85.1 320.3,82.7 311,80.7 301.7,79.2 292.3,78.2 282.8,77.7 273.4,77.7 263.9,78.2 254.5,79.2 245.2,80.7 235.9,82.7 226.7,85.1 217.7,88.1 208.9,91.5 200.2,95.3 191.8,99.6 183.6,104.3 175.6,109.5 168,115.1 160.6,121 153.6,127.4 146.8,134.1 140.5,141.2 134.5,148.5 128.9,156.2 123.8,164.2 119,172.4 114.7,180.8 110.9,189.5 107.5,198.4 104.5,207.4 102.1,216.6 100.1,225.9 98.6,235.3 97.6,244.8 97.1,254.3 97.1,263.8 97.6,273.3 98.6,282.7 100.1,292.1 102.1,301.4 104.5,310.6 107.5,319.7 110.9,328.6 114.8,337.3 119.1,345.8 123.8,354 129,362 134.6,369.7 140.6,377.1 147,384.2 153.8,391 160.9,397.4 168.3,403.4 176,409 184,414.2 192.3,418.9 200.8,423.3 209.5,427.2 218.4,430.6 227.5,433.5 236.7,436 246.1,438 255.5,439.5 265,440.5 274.6,441 284.1,441 293.7,440.5 303.2,439.5 312.7,438 322,436 331.3,433.5 340.4,430.6 349.3,427.1 358.1,423.2 366.6,418.9 374.9,414.1 382.9,408.9 390.7,403.3 398.1,397.2 405.3,390.8 412.1,384 418.5,376.9 424.5,369.4 430.2,361.7 435.4,353.6 440.2,345.3 444.5,336.8 448.4,328 451.9,319 454.9,309.9 457.3,300.6 459.3,291.2 460.8,281.7 461.8,272.1 462.4,262.5 462.4,252.9 461.8,243.3 460.8,233.8 459.3,224.2 457.3,214.8 454.8,205.5 451.9,196.4 448.4,187.4 444.5,178.6 440.1,170 435.3,161.7 430.1,153.6 424.4,145.8 418.3,138.3 411.9,131.1 405.1,124.3 397.9,117.9 390.4,111.8 382.6,106.1 374.5,100.9 366.1,96 357.5,91.7 348.7,87.7 339.7,84.3 330.5,81.3 321.2,78.8 311.7,76.8 302.2,75.3 292.6,74.3 282.9,73.7 273.3,73.7 263.6,74.3 254,75.3 244.4,76.8 235,78.8 225.6,81.3 216.4,84.3 207.4,87.8 198.5,91.7 189.9,96.1 181.5,100.9 173.4,106.2 165.5,111.9 158,118 150.8,124.5 143.9,131.3 137.5,138.6 131.4,146.1 125.7,153.9 120.4,162.1 115.5,170.5 111.1,179.1 107.2,188 103.7,197.1 100.7,206.3 98.2,215.7 96.1,225.2 94.6,234.8 93.6,244.4 93.1,254.1 93.1,263.9 93.6,273.6 94.6,283.3 96.1,292.9 98.2,302.4 100.7,311.8 103.7,321 107.2,330.1 111.1,339 115.6,347.7 120.4,356.1 125.7,364.3 131.5,372.2 137.6,379.7 144.1,387 151,393.9 158.3,400.4 165.8,406.5 173.7,412.3 181.9,417.6 190.4,422.5 199.1,426.9 208,430.9 217.1,434.4 226.4,437.4 235.8,439.9 245.4,441.9 255,443.5 264.7,444.5 274.5,445 284.3,445 294,444.5 303.7,443.5 313.4,441.9 323,439.9 332.4,437.4 341.7,434.3 350.9,430.8 359.8,426.9 368.5,422.4 377,417.5 385.2,412.2 393.1,406.4 400.7,400.3 408,393.7 415,386.8 421.5,379.5 427.7,371.9 433.4,363.9 438.8,355.7 443.7,347.2 448.1,338.5 452.1,329.5 455.7,320.4 458.7,311 461.2,301.5 463.3,291.9 464.8,282.2 465.8,272.5 466.4,262.6 466.4,252.8 465.8,243 464.8,233.2 463.3,223.5 461.2,213.9 458.7,204.4 455.6,195 452.1,185.9 448.1,176.9 443.6,168.1 438.7,159.6 433.4,151.3 427.6,143.4 421.4,135.7 414.8,128.4 407.8,121.4 400.5,114.8 392.8,108.6 384.9,102.8 376.6,97.5 368.1,92.5 359.3,88 350.3,84 341,80.5 331.7,77.4 322.1,74.9 312.5,72.8 302.7,71.3 292.9,70.3 283,69.7 273.2,69.7 263.3,70.3 253.5,71.3 243.7,72.8 234,74.9 224.5,77.5 215.1,80.5 205.8,84.1 196.8,88.1 188,92.6 179.4,97.5 171.1,102.9 163.1,108.7 155.4,115 148,121.6 141,128.6 134.4,136 128.2,143.7 122.4,151.7 117,160 112,168.6 107.5,177.4 103.5,186.5 99.9,195.7 96.8,205.2 94.3,214.7 92.2,224.5 90.7,234.3 89.6,244.1 89.1,254 89.1,264 89.6,273.9 90.7,283.8 92.2,293.6 94.3,303.3 96.9,312.9 99.9,322.4 103.5,331.6 107.5,340.7 112.1,349.6 117,358.2 122.4,366.6 128.3,374.6 134.6,382.3 141.2,389.7 148.3,396.8 155.7,403.4 163.4,409.7 171.5,415.6 179.8,421 188.4,426 197.3,430.5 206.4,434.6 215.7,438.1 225.2,441.2 234.9,443.8 244.6,445.9 254.5,447.4 264.4,448.5 274.4,449 284.4,449 294.3,448.5 304.3,447.4 314.1,445.9 323.9,443.8 333.5,441.2 343.1,438.1 352.4,434.5 361.5,430.5 370.4,425.9 379.1,420.9 387.5,415.5 395.6,409.6 403.3,403.3 410.8,396.6 417.9,389.5 424.6,382.1 430.9,374.3 436.7,366.2 442.2,357.8 447.2,349.1 451.8,340.2 455.8,331 459.4,321.7 462.5,312.2 465.1,302.5 467.2,292.7 468.8,282.7 469.8,272.8 470.3,262.8 470.3,252.7 469.8,242.7 468.8,232.7 467.2,222.8 465.1,213 462.5,203.3 459.4,193.7 455.8,184.3 451.7,175.2 447.2,166.2 442.1,157.5 436.7,149.1 430.7,140.9 424.4,133.1 417.7,125.6 410.6,118.5 403.1,111.8 395.3,105.4 387.1,99.5 378.7,94 370,89 361,84.4 351.8,80.3 342.4,76.7 332.8,73.6 323.1,71 313.2,68.9 303.2,67.3 293.2,66.3 283.1,65.7 273,65.7 263,66.3 252.9,67.3 243,68.9 233.1,71 223.3,73.6 213.7,76.7 204.3,80.4 195.1,84.5 186.1,89.1 177.3,94.1 168.8,99.6 160.7,105.6 152.8,111.9 145.3,118.7 138.1,125.8 131.4,133.4 125,141.2 119.1,149.4 113.5,157.9 108.5,166.7 103.9,175.7 99.8,184.9 96.1,194.4 93,204 90.4,213.8 88.3,223.7 86.7,233.7 85.6,243.8 85.1,253.9 85.1,264.1 85.6,274.2 86.7,284.3 88.3,294.3 90.4,304.2 93,314 96.2,323.7 99.8,333.2 103.9,342.5 108.5,351.5 113.6,360.3 119.1,368.8 125.1,377 131.5,384.9 138.3,392.5 145.5,399.7 153.1,406.5 161,412.9 169.2,418.9 177.7,424.4 186.5,429.5 195.6,434.1 204.9,438.3 214.4,441.9 224.1,445 233.9,447.7 243.9,449.8 254,451.4 264.1,452.5 274.3,453 284.5,453 294.6,452.5 304.8,451.4 314.9,449.8 324.8,447.7 334.7,445 344.4,441.9 353.9,438.2 363.2,434.1 372.3,429.4 381.2,424.3 389.7,418.8 398,412.8 405.9,406.3 413.5,399.5 420.8,392.3 427.6,384.7 434,376.7 440,368.5 445.6,359.9 450.7,351 455.4,341.9 459.5,332.6 463.2,323 466.4,313.3 469,303.4 471.1,293.4 472.7,283.3 473.8,273.1 474.3,262.9 474.3,252.6 473.8,242.4 472.7,232.2 471.1,222.1 469,212 466.4,202.1 463.2,192.4 459.5,182.8 455.3,173.4 450.7,164.3 445.5,155.4 440,146.8 433.9,138.5 427.5,130.5 420.6,122.9 413.3,115.6 405.7,108.7 397.7,102.3 389.4,96.2 380.8,90.6 371.9,85.5 362.7,80.8 353.3,76.6 343.7,73 333.9,69.8 324,67.1 313.9,65 303.8,63.4 293.5,62.3 283.2,61.7 272.9,61.7 262.7,62.3 252.4,63.4 242.2,65 232.2,67.1 222.2,69.8 212.4,73 202.8,76.7 193.4,80.9 184.2,85.5 175.2,90.7 166.6,96.3 158.2,102.4 150.2,108.9 142.5,115.8 135.2,123.1 128.3,130.8 121.8,138.8 115.8,147.1 110.1,155.8 105,164.8 100.3,174 96.1,183.4 92.4,193.1 89.2,202.9 86.5,212.9 84.3,223 82.7,233.2 81.6,243.5 81.1,253.8 81.1,264.2 81.6,274.5 82.7,284.8 84.3,295 86.5,305.2 89.2,315.2 92.4,325 96.1,334.7 100.3,344.2 105,353.4 110.2,362.4 115.9,371.1 121.9,379.5 128.5,387.5 135.4,395.2 142.8,402.6 150.5,409.5 158.5,416.1 166.9,422.2 175.6,427.8 184.6,433 193.9,437.7 203.4,441.9 213.1,445.7 223,448.9 233,451.6 243.2,453.7 253.4,455.4 263.8,456.4 274.2,457 284.6,457 295,456.4 305.3,455.4 315.6,453.7 325.8,451.6 335.8,448.9 345.7,445.7 355.4,441.9 365,437.7 374.2,433 383.3,427.7 392,422.1 400.4,415.9 408.5,409.4 416.3,402.4 423.7,395 430.6,387.3 437.2,379.2 443.3,370.7 449,362 454.2,352.9 459,343.6 463.2,334.1 467,324.4 470.2,314.4 472.9,304.3 475.1,294.1 476.7,283.8 477.8,273.4 478.3,263 478.3,252.5 477.8,242.1 476.7,231.7 475.1,221.3 472.9,211.1 470.2,201 467,191 463.2,181.3 458.9,171.7 454.2,162.4 449,153.3 443.3,144.5 437.1,136 430.5,127.9 423.5,120.1 416.1,112.7 408.3,105.7 400.1,99.1 391.7,92.9 382.9,87.2 373.8,82 364.4,77.2 354.8,72.9 345,69.2 335.1,65.9 324.9,63.2 314.7,61 304.3,59.4 293.8,58.3 283.3,57.8 272.8,57.8 262.3,58.3 251.9,59.4 241.5,61 231.2,63.2 221.1,66 211.1,69.2 201.2,73 191.6,77.3 182.3,82 173.1,87.3 164.3,93 155.8,99.2 147.6,105.8 139.8,112.9 132.3,120.3 125.3,128.2 118.7,136.3 112.5,144.9 106.7,153.7 101.5,162.8 96.7,172.2 92.4,181.9 88.6,191.7 85.3,201.8 82.6,211.9 80.4,222.3 78.8,232.7 77.7,243.2 77.1,253.7 77.1,264.3 77.7,274.8 78.8,285.3 80.4,295.8 82.6,306.1 85.3,316.3 88.6,326.4 92.4,336.2 96.7,345.9 101.5,355.3 106.8,364.5 112.6,373.4 118.8,381.9 125.4,390.1 132.5,398 140,405.5 147.9,412.6 156.1,419.2 164.7,425.5 173.5,431.2 182.7,436.5 192.2,441.3 201.8,445.6 211.7,449.4 221.8,452.7 232.1,455.5 242.4,457.7 252.9,459.3 263.5,460.4 274.1,461 284.7,461 295.3,460.4 305.8,459.3 316.3,457.7 326.7,455.5 337,452.7 347.1,449.4 357,445.6 366.7,441.3 376.2,436.5 385.4,431.2 394.3,425.4 402.9,419.1 411.1,412.4 419,405.3 426.6,397.8 433.7,389.9 440.4,381.6 446.6,373 452.4,364.1 457.8,354.9 462.6,345.4 466.9,335.6 470.7,325.7 474,315.6 476.8,305.3 479,294.8 480.7,284.3 481.8,273.7 482.3,263.1 482.3,252.4 481.8,241.8 480.7,231.1 479,220.6 476.8,210.2 474,199.9 470.7,189.7 466.9,179.7 462.6,170 457.7,160.5 452.4,151.2 446.5,142.3 440.3,133.6 433.5,125.3 426.4,117.4 418.8,109.8 410.9,102.7 402.6,95.9 393.9,89.6 385,83.8 375.7,78.5 366.2,73.6 356.4,69.2 346.4,65.4 336.2,62.1 325.9,59.3 315.4,57.1 304.8,55.4 294.1,54.3 283.4,53.8 272.7,53.8 262,54.3 251.4,55.4 240.8,57.1 230.3,59.3 219.9,62.1 209.7,65.4 199.7,69.3 189.9,73.6 180.3,78.5 171.1,83.9 162,89.7 153.4,96 145,102.8 137,110 129.4,117.6 122.2,125.6 115.5,133.9 109.2,142.6 103.3,151.6 97.9,160.9 93.1,170.5 88.7,180.3 84.8,190.4 81.5,200.6 78.7,211 76.5,221.5 74.8,232.2 73.7,242.9 73.1,253.6 73.1,264.4 73.7,275.1 74.8,285.9 76.5,296.5 78.7,307 81.5,317.5 84.8,327.7 88.7,337.8 93.1,347.6 98,357.2 103.4,366.6 109.3,375.6 115.6,384.3 122.4,392.7 129.6,400.8 137.2,408.4 145.3,415.6 153.7,422.4 162.4,428.8 171.5,434.6 180.8,440 190.4,444.9 200.3,449.3 210.4,453.2 220.7,456.6 231.1,459.4 241.7,461.6 252.4,463.3 263.1,464.4 274,465 284.8,465 295.6,464.4 306.3,463.3 317,461.6 327.6,459.3 338.1,456.5 348.4,453.2 358.5,449.3 368.4,444.9 378.1,440 387.4,434.6 396.5,428.7 405.3,422.3 413.7,415.5 421.8,408.2 429.5,400.5 436.7,392.5 443.6,384 449.9,375.3 455.8,366.2 461.3,356.8 466.2,347.1 470.6,337.2 474.5,327 477.9,316.7 480.7,306.2 482.9,295.6 484.6,284.8 485.8,274 486.3,263.2 486.3,252.3 485.8,241.4 484.6,230.6 482.9,219.9 480.7,209.2 477.9,198.7 474.5,188.4 470.6,178.2 466.2,168.3 461.2,158.6 455.8,149.1 449.8,140 443.4,131.2 436.6,122.7 429.3,114.6 421.6,106.9 413.5,99.6 405,92.7 396.2,86.3 387,80.4 377.6,74.9 367.9,70 357.9,65.6 347.7,61.6 337.3,58.3 326.8,55.4 316.1,53.2 305.3,51.5 294.5,50.3 283.6,49.8 272.6,49.8 261.7,50.3 250.8,51.5 240,53.2 229.4,55.4 218.8,58.3 208.4,61.7 198.2,65.6 188.2,70 178.4,75 169,80.5 159.8,86.4 150.9,92.9 142.4,99.8 134.3,107.1 126.5,114.8 119.2,123 112.3,131.5 105.9,140.3 99.9,149.5 94.4,159 89.4,168.8 85,178.8 81.1,189 77.7,199.5 74.8,210.1 72.5,220.8 70.8,231.6 69.7,242.6 69.1,253.5 69.1,264.5 69.7,275.5 70.8,286.4 72.5,297.2 74.8,308 77.7,318.6 81.1,329 85,339.3 89.5,349.3 94.5,359.1 100,368.7 106,377.9 112.4,386.8 119.3,395.3 126.7,403.5 134.5,411.3 142.7,418.7 151.2,425.6 160.1,432.1 169.4,438 178.9,443.6 188.7,448.6 198.8,453 209.1,457 219.5,460.4 230.2,463.2 241,465.5 251.9,467.3 262.8,468.4 273.8,469 284.9,469 295.9,468.4 306.9,467.3 317.8,465.5 328.6,463.2 339.2,460.4 349.7,457 360,453 370.1,448.5 380,443.5 389.5,438 398.8,432 407.7,425.5 416.3,418.5 424.6,411.1 432.4,403.3 439.8,395.1 446.7,386.5 453.2,377.5 459.3,368.3 464.8,358.7 469.8,348.8 474.3,338.7 478.3,328.4 481.7,317.8 484.6,307.1 486.9,296.3 488.6,285.4 489.8,274.3 490.3,263.3 490.3,252.2 489.8,241.1 488.6,230.1 486.9,219.1 484.6,208.3 481.7,197.6 478.3,187 474.3,176.7 469.8,166.5 464.7,156.7 459.2,147 453.1,137.7 446.6,128.7 439.6,120.1 432.2,111.9 424.3,104 416.1,96.6 407.4,89.6 398.5,83 389.1,77 379.5,71.4 369.6,66.4 359.4,61.9 349.1,57.9 338.5,54.4 327.7,51.6 316.8,49.2 305.8,47.5 294.8,46.3 283.7,45.8 272.5,45.8 261.4,46.3 250.3,47.5 239.3,49.2 228.4,51.6 217.7,54.4 207.1,57.9 196.6,61.9 186.5,66.4 176.5,71.5 166.9,77.1 157.5,83.1 148.5,89.7 139.8,96.7 131.5,104.2 123.6,112.1 116.2,120.4 109.1,129 102.6,138.1 96.5,147.4 90.9,157.1 85.8,167.1 81.3,177.3 77.3,187.7 73.8,198.3 70.9,209.1 68.6,220.1 66.9,231.1 65.7,242.2 65.1,253.4 65.1,264.6 65.7,275.8 66.9,286.9 68.6,298 70.9,308.9 73.8,319.7 77.3,330.4 81.3,340.8 85.9,351.1 91,361 96.6,370.8 102.7,380.1 109.3,389.2 116.3,397.9 123.8,406.3 131.7,414.2 140.1,421.7 148.8,428.8 157.9,435.3 167.3,441.5 177,447.1 187,452.2 197.3,456.7 207.7,460.8 218.4,464.2 229.3,467.1 240.2,469.5 251.3,471.2 262.5,472.4 273.7,473 285,473 296.2,472.4 307.4,471.2 318.5,469.5 329.5,467.1 340.4,464.2 351.1,460.7 361.6,456.7 371.9,452.1 381.9,447 391.6,441.4 401.1,435.3 410.2,428.6 418.9,421.6 427.3,414 435.3,406 442.8,397.7 449.9,388.9 456.5,379.8 462.7,370.3 468.3,360.6 473.4,350.5 478,340.2 482.1,329.7 485.5,319 488.5,308.1 490.8,297 492.6,285.9 493.8,274.7 494.3,263.4 494.3,252.1 493.8,240.8 492.6,229.6 490.8,218.4 488.5,207.4 485.5,196.4 482,185.7 478,175.1 473.4,164.8 468.3,154.7 462.6,144.9 456.4,135.5 449.8,126.3 442.7,117.5 435.1,109.1 427.1,101.1 418.7,93.5 409.9,86.4 400.7,79.7 391.2,73.6 381.4,67.9 371.3,62.8 361,58.2 350.4,54.1 339.6,50.6 328.7,47.7 317.6,45.3 306.4,43.5 295.1,42.3 283.8,41.8 272.4,41.8 261.1,42.3 249.8,43.5 238.6,45.3 227.5,47.7 216.5,50.6 205.7,54.1 195.1,58.2 184.7,62.8 174.6,68 164.8,73.6 155.2,79.8 146.1,86.5 137.2,93.7 128.8,101.3 120.7,109.3 113.1,117.8 106,126.6 99.3,135.8 93.1,145.4 87.4,155.2 82.2,165.3 77.6,175.7 73.5,186.4 70,197.2 67,208.2 64.7,219.3 62.9,230.6 61.7,241.9 61.1,253.3 61.1,264.7 61.7,276.1 62.9,287.4 64.7,298.7 67.1,309.8 70,320.9 73.5,331.7 77.6,342.4 82.3,352.8 87.4,363 93.1,372.8 99.4,382.4 106.1,391.7 113.3,400.5 120.9,409 129,417.1 137.5,424.7 146.4,431.9 155.6,438.6 165.2,444.9 175.1,450.6 185.3,455.8 195.7,460.4 206.4,464.5 217.3,468.1 228.3,471 239.5,473.4 250.8,475.2 262.2,476.4 273.6,477 285.1,477 296.5,476.4 307.9,475.2 319.2,473.4 330.4,471 341.5,468.1 352.4,464.5 363.1,460.4 373.6,455.7 383.8,450.5 393.7,444.8 403.3,438.6 412.6,431.8 421.5,424.6 430.1,416.9 438.2,408.8 445.9,400.3 453.1,391.4 459.8,382.1 466.1,372.4 471.8,362.5 477,352.3 481.7,341.8 485.8,331 489.4,320.1 492.4,309 494.7,297.8 496.5,286.4 497.7,275 498.3,263.5 498.3,252 497.7,240.5 496.5,229.1 494.7,217.7 492.3,206.4 489.4,195.3 485.8,184.4 481.7,173.6 477,163.1 471.8,152.8 466,142.9 459.7,133.2 453,123.9 445.7,114.9 438,106.4 429.8,98.2 421.3,90.5 412.3,83.2 403,76.4 393.3,70.2 383.3,64.4 373,59.2 362.5,54.5 351.7,50.3 340.7,46.8 329.6,43.8 318.3,41.4 306.9,39.6 295.4,38.4 283.9,37.8 272.3,37.8 260.8,38.4 249.3,39.6 237.9,41.4 226.6,43.8 215.4,46.8 204.4,50.3 193.6,54.5 183,59.2 172.7,64.4 162.7,70.2 153,76.5 143.6,83.3 134.6,90.6 126,98.4 117.8,106.6 110.1,115.2 102.8,124.2 96,133.5 89.7,143.3 83.9,153.3 78.6,163.6 73.9,174.2 69.7,185 66.2,196.1 63.2,207.3 60.7,218.6 58.9,230.1 57.7,241.6 57.1,253.2 57.1,264.8 57.7,276.4 58.9,288 60.7,299.4 63.2,310.8 66.2,322 69.8,333 73.9,343.9 78.6,354.5 83.9,364.9 89.7,374.9 96.1,384.7 102.9,394.1 110.2,403.1 118,411.8 126.2,420 134.9,427.8 143.9,435.1 153.3,441.9 163.1,448.3 173.2,454.1 183.6,459.4 194.2,464.1 205.1,468.3 216.1,471.9 227.4,474.9 238.8,477.3 250.3,479.2 261.9,480.4 273.5,481 285.2,481 296.8,480.4 308.4,479.2 320,477.3 331.4,474.9 342.6,471.9 353.7,468.3 364.6,464.1 375.3,459.4 385.7,454.1 395.8,448.2 405.6,441.9 415.1,435 424.1,427.6 432.8,419.8 441.1,411.6 448.9,402.9 456.3,393.8 463.1,384.3 469.5,374.5 475.3,364.4 480.6,354 485.4,343.3 489.6,332.4 493.2,321.2 496.2,309.9 498.7,298.5 500.5,286.9 501.7,275.3 502.3,263.6 502.3,251.9 501.7,240.2 500.5,228.5 498.7,217 496.2,205.5 493.2,194.2 489.6,183 485.4,172.1 480.6,161.4 475.3,150.9 469.4,140.8 463,130.9 456.1,121.4 448.8,112.3 440.9,103.6 432.6,95.3 423.9,87.4 414.8,80.1 405.3,73.2 395.4,66.8 385.2,60.9 374.8,55.5 364,50.8 353.1,46.6 341.9,42.9 330.5,39.9 319,37.4 307.4,35.6 295.7,34.4 284,33.8 272.2,33.8 260.5,34.4 248.8,35.6 237.1,37.4 225.6,39.9 214.2,42.9 203.1,46.6 192.1,50.8 181.3,55.6 170.8,60.9 160.6,66.8 150.7,73.2 141.2,80.2 132,87.6 123.3,95.5 114.9,103.8 107,112.6 99.6,121.7 92.7,131.3 86.3,141.2 80.4,151.4 75,161.9 70.2,172.7 66,183.7 62.3,194.9 59.3,206.3 56.8,217.9 55,229.6 53.7,241.3 53.1,253.1 53.1,264.9 53.7,276.7 55,288.5 56.8,300.1 59.3,311.7 62.3,323.1 66,334.4 70.2,345.4 75,356.2 80.4,366.8 86.3,377 92.8,386.9 99.7,396.5 107.2,405.7 115.1,414.5 123.5,422.9 132.3,430.8 141.5,438.3 151.1,445.2 161,451.7 171.3,457.6 181.8,463 192.7,467.8 203.7,472.1 215,475.7 226.5,478.8 238.1,481.3 249.8,483.1 261.6,484.4 273.4,485\" />'\n",
       "\n",
       "<g transform=\"rotate(-90.0,273.4,485.0) translate(273.4, 485.0)\">\n",
       "    <circle stroke=\"#63A375\" stroke-width=\"2\" fill=\"transparent\" r=\"5.5\" cx=\"0\" cy=\"0\"/>\n",
       "    <polygon points=\"0,12 2,9 -2,9\" style=\"fill:#63A375;stroke:#63A375;stroke-width:2\"/>\n",
       "</g>\n",
       "\n",
       "</svg>"
      ],
      "text/plain": [
       "<IPython.core.display.HTML object>"
      ]
     },
     "metadata": {},
     "output_type": "display_data"
    }
   ],
   "source": [
    "# Solution\n",
    "\n",
    "# quick version\n",
    "from jupyturtle import no_pen\n",
    "\n",
    "make_turtle(animate=False, width=550, height=550)\n",
    "\n",
    "with no_pen():\n",
    "    penup()\n",
    "    rt(90)\n",
    "    fd(150)\n",
    "    lt(90)\n",
    "\n",
    "circular_spiral(500, 3)\n",
    "draw()"
   ]
  },
  {
   "cell_type": "code",
   "execution_count": null,
   "id": "3350ce5a-82e0-4ec0-94a5-37373a1f0156",
   "metadata": {},
   "outputs": [],
   "source": []
  }
 ],
 "metadata": {
  "celltoolbar": "Tags",
  "colab": {
   "provenance": []
  },
  "kernelspec": {
   "display_name": "Python 3 (ipykernel)",
   "language": "python",
   "name": "python3"
  },
  "language_info": {
   "codemirror_mode": {
    "name": "ipython",
    "version": 3
   },
   "file_extension": ".py",
   "mimetype": "text/x-python",
   "name": "python",
   "nbconvert_exporter": "python",
   "pygments_lexer": "ipython3",
   "version": "3.12.2"
  }
 },
 "nbformat": 4,
 "nbformat_minor": 5
}
