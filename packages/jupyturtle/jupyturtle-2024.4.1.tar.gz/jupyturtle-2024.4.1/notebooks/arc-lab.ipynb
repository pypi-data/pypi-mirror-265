{
 "cells": [
  {
   "cell_type": "markdown",
   "metadata": {},
   "source": [
    "# How to draw an arc from p1 to p3 via p2"
   ]
  },
  {
   "cell_type": "code",
   "execution_count": 1,
   "metadata": {},
   "outputs": [
    {
     "name": "stdout",
     "output_type": "stream",
     "text": [
      "Circumcenter: (70.0, 65.0), Radius: 25.0\n",
      "<circle cx=\"70.0\" cy=\"65.0\" r=\"25.0\" fill=\"none\" stroke=\"black\" stroke-width=\"1\" />\n"
     ]
    },
    {
     "data": {
      "text/html": [
       "<svg width=\"100\" height=\"100\"><circle cx=\"70.0\" cy=\"65.0\" r=\"25.0\" fill=\"none\" stroke=\"black\" stroke-width=\"1\" /></svg>"
      ],
      "text/plain": [
       "<IPython.core.display.HTML object>"
      ]
     },
     "metadata": {},
     "output_type": "display_data"
    }
   ],
   "source": [
    "from IPython.display import display, HTML\n",
    "import numpy as np\n",
    "\n",
    "def find_circumcenter_radius(A, B, C):\n",
    "    # Convert points to numpy arrays for easier manipulation\n",
    "    A = np.array(A)\n",
    "    B = np.array(B)\n",
    "    C = np.array(C)\n",
    "    \n",
    "    # Midpoints of AB and BC\n",
    "    D = (A + B) / 2\n",
    "    E = (A + C) / 2\n",
    "    \n",
    "    # Slopes of AB and AC\n",
    "    m_AB = (B[1] - A[1]) / (B[0] - A[0]) if B[0] != A[0] else float('inf')\n",
    "    m_AC = (C[1] - A[1]) / (C[0] - A[0]) if C[0] != A[0] else float('inf')\n",
    "    \n",
    "    # Slopes of perpendicular bisectors\n",
    "    if m_AB != 0:\n",
    "        m_D = -1 / m_AB\n",
    "    else:  # Handle vertical line\n",
    "        m_D = float('inf')\n",
    "    \n",
    "    if m_AC != 0:\n",
    "        m_E = -1 / m_AC\n",
    "    else:  # Handle vertical line\n",
    "        m_E = float('inf')\n",
    "    \n",
    "    # Coefficients for the equations of lines of perpendicular bisectors\n",
    "    # y = mx + b -> b = y - mx\n",
    "    b_D = D[1] - m_D * D[0]\n",
    "    b_E = E[1] - m_E * E[0]\n",
    "    \n",
    "    # Solve the system of equations to find the intersection point (circumcenter)\n",
    "    if m_D == float('inf'):\n",
    "        x_O = D[0]\n",
    "        y_O = m_E * x_O + b_E\n",
    "    elif m_E == float('inf'):\n",
    "        x_O = E[0]\n",
    "        y_O = m_D * x_O + b_D\n",
    "    else:\n",
    "        A_matrix = np.array([[-m_D, 1], [-m_E, 1]])\n",
    "        b_vector = np.array([b_D, b_E])\n",
    "        x_O, y_O = np.linalg.solve(A_matrix, b_vector)\n",
    "    \n",
    "    # Calculate the radius as the distance from O to any vertex (A here)\n",
    "    R = np.sqrt((x_O - A[0])**2 + (y_O - A[1])**2)\n",
    "    \n",
    "    return (x_O, y_O), R\n",
    "\n",
    "# Example usage:\n",
    "A = (50, 50)\n",
    "B = (90, 50)\n",
    "C = (50, 80)\n",
    "center, radius = find_circumcenter_radius(A, B, C)\n",
    "print(f\"Circumcenter: {center}, Radius: {radius}\")\n",
    "\n",
    "def circle_svg(center, r):\n",
    "    \"\"\"draw an SVG circle given the coefficients of the circle\"\"\"\n",
    "    cx, cy = center\n",
    "    return f'<circle cx=\"{cx}\" cy=\"{cy}\" r=\"{r}\" fill=\"none\" stroke=\"black\" stroke-width=\"1\" />'\n",
    "\n",
    "circle = circle_svg(center, radius)\n",
    "print(circle)\n",
    "display(HTML(f'<svg width=\"100\" height=\"100\">{circle}</svg>'))"
   ]
  },
  {
   "cell_type": "code",
   "execution_count": null,
   "metadata": {},
   "outputs": [],
   "source": []
  }
 ],
 "metadata": {
  "kernelspec": {
   "display_name": "Python 3 (ipykernel)",
   "language": "python",
   "name": "python3"
  },
  "language_info": {
   "codemirror_mode": {
    "name": "ipython",
    "version": 3
   },
   "file_extension": ".py",
   "mimetype": "text/x-python",
   "name": "python",
   "nbconvert_exporter": "python",
   "pygments_lexer": "ipython3",
   "version": "3.12.2"
  }
 },
 "nbformat": 4,
 "nbformat_minor": 4
}
