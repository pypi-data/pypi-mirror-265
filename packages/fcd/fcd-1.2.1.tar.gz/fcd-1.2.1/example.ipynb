{
 "cells": [
  {
   "cell_type": "code",
   "execution_count": 1,
   "metadata": {},
   "outputs": [],
   "source": [
    "import os\n",
    "from rdkit import RDLogger                                                                                                                                                               \n",
    "import numpy as np\n",
    "import pandas as pd\n",
    "from fcd import get_fcd, load_ref_model,canonical_smiles, get_predictions, calculate_frechet_distance\n",
    "\n",
    "RDLogger.DisableLog('rdApp.*')\n",
    "\n",
    "np.random.seed(0)\n",
    "os.environ[\"CUDA_VISIBLE_DEVICES\"]= '0' #set gpu"
   ]
  },
  {
   "cell_type": "markdown",
   "metadata": {},
   "source": [
    "### Load and prepare data\n",
    "Take care when preparing data.\n",
    "- Different canonicalizations change the FCD. rdkit canonicalization should be used.\n",
    "- In case the generated \"molecules\" contain invalid SMILES, decide if you want to include them in the FCD.\n",
    "- Make sure that you respect sample sizes as the FCD varies with size."
   ]
  },
  {
   "cell_type": "code",
   "execution_count": 2,
   "metadata": {
    "ExecuteTime": {
     "end_time": "2020-04-23T09:13:50.403933Z",
     "start_time": "2020-04-23T09:13:47.310624Z"
    }
   },
   "outputs": [],
   "source": [
    "# Load chemnet model\n",
    "model = load_ref_model()\n",
    "\n",
    "# Load generated molecules\n",
    "gen_mol_file = \"generated_smiles/LSTM_Segler.smi\" #input file which contains one generated SMILES per line\n",
    "gen_mol = pd.read_csv(gen_mol_file,header=None)[0] #IMPORTANT: take at least 10000 molecules as FCD can vary with sample size \n",
    "sample1 = np.random.choice(gen_mol, 10000, replace=False)\n",
    "sample2 = np.random.choice(gen_mol, 10000, replace=False)\n",
    "\n",
    "# get canonical smiles and filter invalid ones\n",
    "can_sample1 = [w for w in canonical_smiles(sample1) if w is not None]\n",
    "can_sample2 = [w for w in canonical_smiles(sample2) if w is not None]"
   ]
  },
  {
   "cell_type": "markdown",
   "metadata": {
    "collapsed": true
   },
   "source": [
    "## Calculation of FCD"
   ]
  },
  {
   "cell_type": "code",
   "execution_count": 3,
   "metadata": {
    "ExecuteTime": {
     "end_time": "2020-04-23T09:11:27.207953Z",
     "start_time": "2020-04-23T09:11:16.921374Z"
    }
   },
   "outputs": [
    {
     "name": "stdout",
     "output_type": "stream",
     "text": [
      "FCD:  0.333862289051325\n"
     ]
    }
   ],
   "source": [
    "#get CHEBMLNET activations of generated molecules \n",
    "act1 = get_predictions(model, can_sample1)\n",
    "act2 = get_predictions(model, can_sample2)\n",
    "\n",
    "mu1 = np.mean(act1, axis=0)\n",
    "sigma1 = np.cov(act1.T)\n",
    "\n",
    "mu2 = np.mean(act2, axis=0)\n",
    "sigma2 = np.cov(act2.T)\n",
    "\n",
    "fcd_score = calculate_frechet_distance(\n",
    "    mu1=mu1,\n",
    "    mu2=mu2, \n",
    "    sigma1=sigma1,\n",
    "    sigma2=sigma2)\n",
    "\n",
    "print('FCD: ',fcd_score)"
   ]
  },
  {
   "cell_type": "code",
   "execution_count": 4,
   "metadata": {
    "ExecuteTime": {
     "end_time": "2020-04-23T09:11:38.873496Z",
     "start_time": "2020-04-23T09:11:28.449608Z"
    }
   },
   "outputs": [
    {
     "name": "stdout",
     "output_type": "stream",
     "text": [
      "FCD:  0.333862289051325\n"
     ]
    }
   ],
   "source": [
    "\"\"\"if you don't need to store the activations you can also take a shortcut.\"\"\"\n",
    "fcd_score = get_fcd(can_sample1, can_sample2, model)\n",
    "\n",
    "print('FCD: ',fcd_score)"
   ]
  },
  {
   "cell_type": "code",
   "execution_count": 5,
   "metadata": {
    "ExecuteTime": {
     "end_time": "2020-04-23T09:11:49.760022Z",
     "start_time": "2020-04-23T09:11:38.874694Z"
    }
   },
   "outputs": [
    {
     "name": "stdout",
     "output_type": "stream",
     "text": [
      "FCD:  25.635578193222216\n"
     ]
    }
   ],
   "source": [
    "\"\"\"This is what happens if you do not canonicalize the smiles\"\"\"\n",
    "fcd_score = get_fcd(can_sample1, sample2, model)\n",
    "print('FCD: ',fcd_score)"
   ]
  }
 ],
 "metadata": {
  "kernelspec": {
   "display_name": "Python 3",
   "language": "python",
   "name": "python3"
  },
  "language_info": {
   "codemirror_mode": {
    "name": "ipython",
    "version": 3
   },
   "file_extension": ".py",
   "mimetype": "text/x-python",
   "name": "python",
   "nbconvert_exporter": "python",
   "pygments_lexer": "ipython3",
   "version": "3.11.3"
  }
 },
 "nbformat": 4,
 "nbformat_minor": 1
}
