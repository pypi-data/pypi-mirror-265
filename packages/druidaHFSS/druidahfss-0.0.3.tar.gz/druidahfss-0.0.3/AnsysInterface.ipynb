{
 "cells": [
  {
   "cell_type": "markdown",
   "id": "11a17e0d-b69d-4134-b55e-406db970a1f4",
   "metadata": {},
   "source": [
    "# Ansys HFSS Interface\n",
    "\n",
    "## _Versión 0.1_\n",
    "### Author: Jorge Cárdenas\n",
    "### Pontificia Universidad de Valparaíso\n",
    "This development is intended to provide an interface to access HFSS, in order to automate simulation and optimization processes.\n",
    "\n",
    "## Features\n",
    "\n",
    "- Automate the re-creation of models in aedt files.\n",
    "- Create intermediate files to run simulations.\n",
    "- Run simulations and gather specific metrics from the simualtor.\n"
   ]
  },
  {
   "cell_type": "code",
   "execution_count": 1,
   "id": "526f2360-9c2f-42f0-86fd-f5d23b677293",
   "metadata": {
    "tags": []
   },
   "outputs": [],
   "source": [
    "import sys  \n",
    "sys.path.insert(0, './src/')\n",
    "\n",
    "import os\n",
    "import uuid \n",
    "from datetime import datetime\n",
    "\n",
    "\n",
    "from __future__ import print_function\n",
    "#from Utilities.SaveAnimation import Video\n",
    "from dbuilder import Manager as MG\n",
    "\n",
    "from dbuilder.modules import hfss"
   ]
  },
  {
   "cell_type": "markdown",
   "id": "c8737aac-4a9f-434d-b0d6-f2f33e7bdc75",
   "metadata": {},
   "source": [
    "## Hfss composer"
   ]
  },
  {
   "cell_type": "code",
   "execution_count": 2,
   "id": "3d6b3299-1a76-4ed0-84d3-8b3ff06b086b",
   "metadata": {
    "tags": []
   },
   "outputs": [],
   "source": [
    "f = open(\"Simfile.py\", \"w\")  \n"
   ]
  },
  {
   "cell_type": "code",
   "execution_count": 3,
   "id": "d888856f-1aaa-4099-beaf-8f3039b825aa",
   "metadata": {
    "tags": []
   },
   "outputs": [],
   "source": [
    "f.write(\"import sys\\n\")\n",
    "f.write(\"import os\\n\")\n",
    "f.write(\"sys.path.insert(0, './src/')\\n\")\n",
    "f.write(\"from dbuilder.modules import hfss \\n\")\n",
    "\n",
    "f.write('hfss.createProject()\\n')\n",
    "        \n",
    "f.close()\n"
   ]
  },
  {
   "cell_type": "code",
   "execution_count": null,
   "id": "e34f8013-01f2-4eb4-9d7d-55e9a9271ec5",
   "metadata": {},
   "outputs": [],
   "source": []
  },
  {
   "cell_type": "code",
   "execution_count": 4,
   "id": "83e9ffcb-02ba-4d28-be55-597b2b04867c",
   "metadata": {
    "tags": []
   },
   "outputs": [],
   "source": [
    "ansysPath=\"C:\\\\Program Files\\\\AnsysEM\\\\AnsysEM21.2\\\\Win64\\\\ansysedt.exe\"\n",
    "modelName=\"box_01_freq_reflect\"\n",
    "modelPath=r\"C:/Users/jorge/Documents/Projects Jorge C/DRUIDA PROJECT/POC/dbGeneration_v0/Models/testing-multioutput/\"\n",
    "exportPath= \"C:\\\\Users\\\\jorge\\\\Documents\\\\Projects Jorge C\\\\DRUIDA PROJECT\\\\POC\\\\dbGeneration_v0\\\\Exports\"\n",
    "dBPath= \"C:\\\\Users\\\\jorge\\\\Documents\\\\Projects Jorge C\\\\DRUIDA PROJECT\\\\POC\\\\dbGeneration_v0\\\\DBfiles\\\\\"\n",
    "project_name=\"meta-atom_box_01_datageneration\"\n",
    "designName=\"HFSSDesign1\"\n",
    "\n",
    "#set simulation variables\n",
    "#This is run to create iterative simulations"
   ]
  },
  {
   "cell_type": "code",
   "execution_count": 5,
   "id": "1c656d05-4e98-4de6-87b4-1fde8fee9658",
   "metadata": {
    "tags": []
   },
   "outputs": [],
   "source": [
    "Builder=MG.Builder(ansysPath=ansysPath,modelName=_,projectName=_, designName=_,modelPath=_, exportPath=_)\n"
   ]
  },
  {
   "cell_type": "code",
   "execution_count": 6,
   "id": "7de5a9b8-5e01-4c8f-9f99-f1171fd94782",
   "metadata": {
    "tags": []
   },
   "outputs": [],
   "source": [
    "builder=Builder.simulate(\"./simfile.py\")"
   ]
  },
  {
   "cell_type": "code",
   "execution_count": null,
   "id": "1c034f67-8c22-4b7c-84c2-5d7eb8edf33f",
   "metadata": {},
   "outputs": [],
   "source": []
  }
 ],
 "metadata": {
  "kernelspec": {
   "display_name": "Python 3 (ipykernel)",
   "language": "python",
   "name": "python3"
  },
  "language_info": {
   "codemirror_mode": {
    "name": "ipython",
    "version": 3
   },
   "file_extension": ".py",
   "mimetype": "text/x-python",
   "name": "python",
   "nbconvert_exporter": "python",
   "pygments_lexer": "ipython3",
   "version": "3.11.4"
  }
 },
 "nbformat": 4,
 "nbformat_minor": 5
}
