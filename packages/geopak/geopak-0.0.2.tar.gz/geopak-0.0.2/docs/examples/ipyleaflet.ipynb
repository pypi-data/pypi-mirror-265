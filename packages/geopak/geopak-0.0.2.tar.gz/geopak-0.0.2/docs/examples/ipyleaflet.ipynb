{
 "cells": [
  {
   "cell_type": "code",
   "execution_count": 1,
   "metadata": {},
   "outputs": [
    {
     "data": {
      "application/vnd.jupyter.widget-view+json": {
       "model_id": "8386b6264f73417594d6d73b11dd8021",
       "version_major": 2,
       "version_minor": 0
      },
      "text/plain": [
       "Map(center=[20, 0], controls=(ZoomControl(options=['position', 'zoom_in_text', 'zoom_in_title', 'zoom_out_text…"
      ]
     },
     "execution_count": 1,
     "metadata": {},
     "output_type": "execute_result"
    }
   ],
   "source": [
    "import  geopak\n",
    "m =geopak.Map()\n",
    "m.add_basemap(\"NASAGIBS.ViirsEarthAtNight2012\")\n",
    "m"
   ]
  },
  {
   "cell_type": "code",
   "execution_count": 9,
   "metadata": {},
   "outputs": [
    {
     "data": {
      "text/plain": [
       "'import ipyleaflet\\nfrom ipyleaflet import basemaps\\n\\nclass Map(ipyleaflet.Map):\\n\\n    def __init__(self, center=[20, 0], zoom=2, basemaps=[], **kwargs):\\n        super().__init__(center=center, zoom=zoom, **kwargs)\\n        self.basemaps = basemaps\\n        self.layers_control = ipyleaflet.LayersControl(position=\\'topright\\')\\n        self.add_control(self.layers_control)\\n\\n    def add_tile_layer(self, url, name, **kwargs):\\n        layer = ipyleaflet.TileLayer(url=url, name=name, **kwargs)\\n        self.add_layer(layer)\\n\\n    def add_basemap(self, name):\\n        \"\"\"\\n        Add a basemap to the map.\\n\\n        Parameters:\\n        - name: The name of the basemap. Should be a string or a basemap instance.\\n        \"\"\"\\n        if isinstance(name, str):\\n            url = eval(f\"basemaps.{name}\").build_url()\\n            self.add_tile_layer(url, name)\\n            \\n        else:\\n            self.add(name)\\n\\n    def on_basemap_change(self, event):\\n        # Update active basemap and deactivate previous layer\\n        if event.layer_name in self.basemaps:\\n            self.active_basemap[event.layer_name] = event.layer\\n            for name, layer in self.active_basemap.items():\\n                if name != event.layer_name:\\n                    layer.set_opacity(0)  # Deactivate other basemap\\n\\n                    \\n# Create the map and specify an initial basemap (optional)\\ninitial_basemap = \"OpenStreetMap.Mapnik\"\\nm = Map(center=[20, 0], zoom=2, basemaps=[initial_basemap])\\n\\n# Remove unavailable basemaps from the list\\nbasemaps_to_add = [\\n    # Remove \"OpenStreetMap.France\" and \"OpenStreetMap.HOT\" if unavailable\\n    # \"OpenStreetMap.HOT\",  # Remove if unavailable\\n    \"OpenTopoMap\",\\n    \"Gaode.Normal\", \"Gaode.Satellite\",\\n    \"Esri.WorldStreetMap\", \"Esri.DeLorme\", \"Esri.WorldTopoMap\",\\n    \"Esri.WorldImagery\", \"Esri.NatGeoWorldMap\",\\n    \"CartoDB.Positron\", \"CartoDB.DarkMatter\",\\n    \"NASAGIBS.ModisTerraTrueColorCR\", \"NASAGIBS.ModisTerraBands367CR\",\\n    \"NASAGIBS.ModisTerraBands721CR\", \"NASAGIBS.ModisAquaTrueColorCR\",\\n    \"NASAGIBS.ModisAquaBands721CR\", \"NASAGIBS.ViirsTrueColorCR\",\\n    \"NASAGIBS.ViirsEarthAtNight2012\",\\n    \"Strava.All\", \"Strava.Ride\", \"Strava.Run\", \"Strava.Water\", \"Strava.Winter\"\\n]\\n\\nfor basemap_name in basemaps_to_add:\\n    m.add_basemap(basemap_name)\\n\\n# Display the map with the basemap controls\\nm'"
      ]
     },
     "execution_count": 9,
     "metadata": {},
     "output_type": "execute_result"
    }
   ],
   "source": [
    "'''import ipyleaflet\n",
    "from ipyleaflet import basemaps\n",
    "\n",
    "class Map(ipyleaflet.Map):\n",
    "\n",
    "    def __init__(self, center=[20, 0], zoom=2, basemaps=[], **kwargs):\n",
    "        super().__init__(center=center, zoom=zoom, **kwargs)\n",
    "        self.basemaps = basemaps\n",
    "        self.layers_control = ipyleaflet.LayersControl(position='topright')\n",
    "        self.add_control(self.layers_control)\n",
    "\n",
    "    def add_tile_layer(self, url, name, **kwargs):\n",
    "        layer = ipyleaflet.TileLayer(url=url, name=name, **kwargs)\n",
    "        self.add_layer(layer)\n",
    "\n",
    "    def add_basemap(self, name):\n",
    "        \"\"\"\n",
    "        Add a basemap to the map.\n",
    "\n",
    "        Parameters:\n",
    "        - name: The name of the basemap. Should be a string or a basemap instance.\n",
    "        \"\"\"\n",
    "        if isinstance(name, str):\n",
    "            url = eval(f\"basemaps.{name}\").build_url()\n",
    "            self.add_tile_layer(url, name)\n",
    "            \n",
    "        else:\n",
    "            self.add(name)\n",
    "\n",
    "    def on_basemap_change(self, event):\n",
    "        # Update active basemap and deactivate previous layer\n",
    "        if event.layer_name in self.basemaps:\n",
    "            self.active_basemap[event.layer_name] = event.layer\n",
    "            for name, layer in self.active_basemap.items():\n",
    "                if name != event.layer_name:\n",
    "                    layer.set_opacity(0)  # Deactivate other basemap\n",
    "\n",
    "                    \n",
    "# Create the map and specify an initial basemap (optional)\n",
    "initial_basemap = \"OpenStreetMap.Mapnik\"\n",
    "m = Map(center=[20, 0], zoom=2, basemaps=[initial_basemap])\n",
    "\n",
    "# Remove unavailable basemaps from the list\n",
    "basemaps_to_add = [\n",
    "    # Remove \"OpenStreetMap.France\" and \"OpenStreetMap.HOT\" if unavailable\n",
    "    # \"OpenStreetMap.HOT\",  # Remove if unavailable\n",
    "    \"OpenTopoMap\",\n",
    "    \"Gaode.Normal\", \"Gaode.Satellite\",\n",
    "    \"Esri.WorldStreetMap\", \"Esri.DeLorme\", \"Esri.WorldTopoMap\",\n",
    "    \"Esri.WorldImagery\", \"Esri.NatGeoWorldMap\",\n",
    "    \"CartoDB.Positron\", \"CartoDB.DarkMatter\",\n",
    "    \"NASAGIBS.ModisTerraTrueColorCR\", \"NASAGIBS.ModisTerraBands367CR\",\n",
    "    \"NASAGIBS.ModisTerraBands721CR\", \"NASAGIBS.ModisAquaTrueColorCR\",\n",
    "    \"NASAGIBS.ModisAquaBands721CR\", \"NASAGIBS.ViirsTrueColorCR\",\n",
    "    \"NASAGIBS.ViirsEarthAtNight2012\",\n",
    "    \"Strava.All\", \"Strava.Ride\", \"Strava.Run\", \"Strava.Water\", \"Strava.Winter\"\n",
    "]\n",
    "\n",
    "for basemap_name in basemaps_to_add:\n",
    "    m.add_basemap(basemap_name)\n",
    "\n",
    "# Display the map with the basemap controls\n",
    "m'''\n"
   ]
  }
 ],
 "metadata": {
  "kernelspec": {
   "display_name": "geosp",
   "language": "python",
   "name": "python3"
  },
  "language_info": {
   "codemirror_mode": {
    "name": "ipython",
    "version": 3
   },
   "file_extension": ".py",
   "mimetype": "text/x-python",
   "name": "python",
   "nbconvert_exporter": "python",
   "pygments_lexer": "ipython3",
   "version": "3.10.13"
  }
 },
 "nbformat": 4,
 "nbformat_minor": 2
}
