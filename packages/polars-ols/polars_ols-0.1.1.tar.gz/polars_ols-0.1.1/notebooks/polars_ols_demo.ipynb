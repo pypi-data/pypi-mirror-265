{
 "cells": [
  {
   "cell_type": "code",
   "execution_count": 1,
   "id": "8d7bae54-e858-410c-a574-da1aa325d90a",
   "metadata": {
    "execution": {
     "iopub.execute_input": "2024-03-30T21:57:34.736186Z",
     "iopub.status.busy": "2024-03-30T21:57:34.735888Z",
     "iopub.status.idle": "2024-03-30T21:57:34.831262Z",
     "shell.execute_reply": "2024-03-30T21:57:34.830795Z",
     "shell.execute_reply.started": "2024-03-30T21:57:34.736162Z"
    }
   },
   "outputs": [],
   "source": [
    "import polars as pl\n",
    "import polars_ols as pls\n",
    "import numpy as np"
   ]
  },
  {
   "cell_type": "code",
   "execution_count": 59,
   "id": "a070132d-27cd-4783-9799-f3b0a9f97ba9",
   "metadata": {
    "execution": {
     "iopub.execute_input": "2024-03-30T22:35:18.719338Z",
     "iopub.status.busy": "2024-03-30T22:35:18.718782Z",
     "iopub.status.idle": "2024-03-30T22:35:18.726562Z",
     "shell.execute_reply": "2024-03-30T22:35:18.725765Z",
     "shell.execute_reply.started": "2024-03-30T22:35:18.719305Z"
    }
   },
   "outputs": [],
   "source": [
    "def _make_data(n_samples: int = 2_000, \n",
    "               n_features: int = 5,\n",
    "               n_groups: int = 5,\n",
    "               noise: float = 0.1,\n",
    "              ) -> pl.DataFrame:\n",
    "    x = np.random.normal(size=(n_samples, n_features))\n",
    "    eps = np.random.normal(size=n_samples, scale=noise)\n",
    "    return pl.DataFrame(data=x, schema=[f\"x{i + 1}\" for i in range(n_features)]).with_columns(\n",
    "        y=pl.lit(-1 * x.sum(1) + eps),\n",
    "        group=pl.lit(np.random.randint(0, n_groups, size=n_samples)),\n",
    "        sample_weights=pl.lit(np.random.rand(n_samples)),\n",
    "    )"
   ]
  },
  {
   "cell_type": "code",
   "execution_count": 60,
   "id": "5ad1869e-d884-48e2-8f37-f790057ada1a",
   "metadata": {
    "execution": {
     "iopub.execute_input": "2024-03-30T22:35:18.970433Z",
     "iopub.status.busy": "2024-03-30T22:35:18.969884Z",
     "iopub.status.idle": "2024-03-30T22:35:18.978416Z",
     "shell.execute_reply": "2024-03-30T22:35:18.977501Z",
     "shell.execute_reply.started": "2024-03-30T22:35:18.970398Z"
    }
   },
   "outputs": [],
   "source": [
    "df = _make_data(n_samples=2_000, n_features=3, n_groups=5)"
   ]
  },
  {
   "cell_type": "code",
   "execution_count": 61,
   "id": "52c33d88-7625-40af-a2e3-892e02ef61a1",
   "metadata": {
    "execution": {
     "iopub.execute_input": "2024-03-30T22:35:19.188898Z",
     "iopub.status.busy": "2024-03-30T22:35:19.188274Z",
     "iopub.status.idle": "2024-03-30T22:35:19.197449Z",
     "shell.execute_reply": "2024-03-30T22:35:19.196732Z",
     "shell.execute_reply.started": "2024-03-30T22:35:19.188862Z"
    }
   },
   "outputs": [
    {
     "data": {
      "text/html": [
       "<div><style>\n",
       ".dataframe > thead > tr,\n",
       ".dataframe > tbody > tr {\n",
       "  text-align: right;\n",
       "  white-space: pre-wrap;\n",
       "}\n",
       "</style>\n",
       "<small>shape: (2_000, 6)</small><table border=\"1\" class=\"dataframe\"><thead><tr><th>x1</th><th>x2</th><th>x3</th><th>y</th><th>group</th><th>sample_weights</th></tr><tr><td>f64</td><td>f64</td><td>f64</td><td>f64</td><td>i64</td><td>f64</td></tr></thead><tbody><tr><td>0.601261</td><td>-0.052977</td><td>0.21547</td><td>-0.888736</td><td>0</td><td>0.116126</td></tr><tr><td>1.731443</td><td>0.646151</td><td>-2.423311</td><td>0.046472</td><td>3</td><td>0.323262</td></tr><tr><td>-0.708048</td><td>1.789624</td><td>-0.234373</td><td>-0.705809</td><td>1</td><td>0.757549</td></tr><tr><td>-1.017972</td><td>0.777864</td><td>0.203982</td><td>-0.168796</td><td>1</td><td>0.478503</td></tr><tr><td>1.065668</td><td>-0.483242</td><td>-0.550395</td><td>-0.171939</td><td>0</td><td>0.872105</td></tr><tr><td>&hellip;</td><td>&hellip;</td><td>&hellip;</td><td>&hellip;</td><td>&hellip;</td><td>&hellip;</td></tr><tr><td>-0.648736</td><td>0.021036</td><td>2.149515</td><td>-1.522977</td><td>1</td><td>0.649506</td></tr><tr><td>-0.427719</td><td>-0.216672</td><td>0.445517</td><td>0.174263</td><td>2</td><td>0.876079</td></tr><tr><td>-1.709156</td><td>-1.779753</td><td>1.061953</td><td>2.46746</td><td>1</td><td>0.118507</td></tr><tr><td>-0.255468</td><td>0.194217</td><td>1.395433</td><td>-1.367962</td><td>0</td><td>0.518952</td></tr><tr><td>1.281586</td><td>0.069997</td><td>-0.707767</td><td>-0.485081</td><td>2</td><td>0.882951</td></tr></tbody></table></div>"
      ],
      "text/plain": [
       "shape: (2_000, 6)\n",
       "┌───────────┬───────────┬───────────┬───────────┬───────┬────────────────┐\n",
       "│ x1        ┆ x2        ┆ x3        ┆ y         ┆ group ┆ sample_weights │\n",
       "│ ---       ┆ ---       ┆ ---       ┆ ---       ┆ ---   ┆ ---            │\n",
       "│ f64       ┆ f64       ┆ f64       ┆ f64       ┆ i64   ┆ f64            │\n",
       "╞═══════════╪═══════════╪═══════════╪═══════════╪═══════╪════════════════╡\n",
       "│ 0.601261  ┆ -0.052977 ┆ 0.21547   ┆ -0.888736 ┆ 0     ┆ 0.116126       │\n",
       "│ 1.731443  ┆ 0.646151  ┆ -2.423311 ┆ 0.046472  ┆ 3     ┆ 0.323262       │\n",
       "│ -0.708048 ┆ 1.789624  ┆ -0.234373 ┆ -0.705809 ┆ 1     ┆ 0.757549       │\n",
       "│ -1.017972 ┆ 0.777864  ┆ 0.203982  ┆ -0.168796 ┆ 1     ┆ 0.478503       │\n",
       "│ 1.065668  ┆ -0.483242 ┆ -0.550395 ┆ -0.171939 ┆ 0     ┆ 0.872105       │\n",
       "│ …         ┆ …         ┆ …         ┆ …         ┆ …     ┆ …              │\n",
       "│ -0.648736 ┆ 0.021036  ┆ 2.149515  ┆ -1.522977 ┆ 1     ┆ 0.649506       │\n",
       "│ -0.427719 ┆ -0.216672 ┆ 0.445517  ┆ 0.174263  ┆ 2     ┆ 0.876079       │\n",
       "│ -1.709156 ┆ -1.779753 ┆ 1.061953  ┆ 2.46746   ┆ 1     ┆ 0.118507       │\n",
       "│ -0.255468 ┆ 0.194217  ┆ 1.395433  ┆ -1.367962 ┆ 0     ┆ 0.518952       │\n",
       "│ 1.281586  ┆ 0.069997  ┆ -0.707767 ┆ -0.485081 ┆ 2     ┆ 0.882951       │\n",
       "└───────────┴───────────┴───────────┴───────────┴───────┴────────────────┘"
      ]
     },
     "execution_count": 61,
     "metadata": {},
     "output_type": "execute_result"
    }
   ],
   "source": [
    "df"
   ]
  },
  {
   "cell_type": "markdown",
   "id": "8c0702e4-ba92-4042-ab48-2044e137c52e",
   "metadata": {},
   "source": [
    "### 1. Basic Usage: OLS / WLS\n",
    "- You can use `pls.compute_least_squares` or `least_squares.ols` from the registered namespace. They are equivalent.\n",
    "- Simply pass an expression producing strictly positive sample weights to `sample_weights` argument to perform WLS"
   ]
  },
  {
   "cell_type": "code",
   "execution_count": 62,
   "id": "c7748165-bc22-4c0d-98d0-a7813d211449",
   "metadata": {
    "execution": {
     "iopub.execute_input": "2024-03-30T22:35:19.836660Z",
     "iopub.status.busy": "2024-03-30T22:35:19.836048Z",
     "iopub.status.idle": "2024-03-30T22:35:19.846571Z",
     "shell.execute_reply": "2024-03-30T22:35:19.845658Z",
     "shell.execute_reply.started": "2024-03-30T22:35:19.836622Z"
    }
   },
   "outputs": [],
   "source": [
    "ols_expr = pls.compute_least_squares(pl.col(\"y\"),  # target\n",
    "                          pl.col(\"x1\"), pl.col(\"x2\"), pl.col(\"x3\"),  # features\n",
    "                          mode=\"predictions\",\n",
    "                          )\n",
    "assert str(ols_expr) == str(pl.col(\"y\").least_squares.ols(pl.col(\"x1\"), pl.col(\"x2\"), pl.col(\"x3\")))\n",
    "\n",
    "wls_expr = pl.col(\"y\").least_squares.wls(pl.col(\"x1\"), pl.col(\"x2\"), pl.col(\"x3\"), \n",
    "                                         sample_weights=pl.col(\"sample_weights\"))"
   ]
  },
  {
   "cell_type": "markdown",
   "id": "d3026f57-54a4-453e-a803-5e7d8e943f94",
   "metadata": {},
   "source": [
    "- The expressions returned are normal polars expressions. You can operate on them lazily, so for example we can compute OLS per group in parallel using `.over(...)` or multiply it by some other expression etc."
   ]
  },
  {
   "cell_type": "code",
   "execution_count": 63,
   "id": "c824074b-cecd-43ef-a8b9-bfaeb44f77ad",
   "metadata": {
    "execution": {
     "iopub.execute_input": "2024-03-30T22:35:20.558068Z",
     "iopub.status.busy": "2024-03-30T22:35:20.557189Z",
     "iopub.status.idle": "2024-03-30T22:35:20.574796Z",
     "shell.execute_reply": "2024-03-30T22:35:20.574012Z",
     "shell.execute_reply.started": "2024-03-30T22:35:20.558008Z"
    }
   },
   "outputs": [
    {
     "data": {
      "text/html": [
       "<div><style>\n",
       ".dataframe > thead > tr,\n",
       ".dataframe > tbody > tr {\n",
       "  text-align: right;\n",
       "  white-space: pre-wrap;\n",
       "}\n",
       "</style>\n",
       "<small>shape: (10, 9)</small><table border=\"1\" class=\"dataframe\"><thead><tr><th>x1</th><th>x2</th><th>x3</th><th>y</th><th>group</th><th>sample_weights</th><th>predictions_ols_group</th><th>predictions_ols</th><th>predictions_wls_masked</th></tr><tr><td>f64</td><td>f64</td><td>f64</td><td>f64</td><td>i64</td><td>f64</td><td>f32</td><td>f32</td><td>f32</td></tr></thead><tbody><tr><td>-1.694323</td><td>1.954149</td><td>0.327192</td><td>-0.60444</td><td>1</td><td>0.117535</td><td>-0.59859</td><td>-0.589218</td><td>-0.0</td></tr><tr><td>1.773093</td><td>0.765854</td><td>-1.431583</td><td>-0.970678</td><td>4</td><td>0.839584</td><td>-1.094716</td><td>-1.103445</td><td>-0.0</td></tr><tr><td>-0.176328</td><td>0.573347</td><td>-0.614593</td><td>0.21017</td><td>4</td><td>0.705172</td><td>0.217926</td><td>0.216044</td><td>0.0</td></tr><tr><td>0.021171</td><td>0.058956</td><td>0.296067</td><td>-0.416454</td><td>2</td><td>0.753221</td><td>-0.374001</td><td>-0.375123</td><td>-0.375364</td></tr><tr><td>1.012068</td><td>-1.626015</td><td>0.2702</td><td>0.345547</td><td>1</td><td>0.973876</td><td>0.355354</td><td>0.34566</td><td>0.0</td></tr><tr><td>-0.648736</td><td>0.021036</td><td>2.149515</td><td>-1.522977</td><td>1</td><td>0.649506</td><td>-1.509339</td><td>-1.517859</td><td>-0.0</td></tr><tr><td>-0.427719</td><td>-0.216672</td><td>0.445517</td><td>0.174263</td><td>2</td><td>0.876079</td><td>0.197837</td><td>0.198173</td><td>0.198149</td></tr><tr><td>-1.709156</td><td>-1.779753</td><td>1.061953</td><td>2.46746</td><td>1</td><td>0.118507</td><td>2.431038</td><td>2.420419</td><td>0.0</td></tr><tr><td>-0.255468</td><td>0.194217</td><td>1.395433</td><td>-1.367962</td><td>0</td><td>0.518952</td><td>-1.347131</td><td>-1.330657</td><td>-0.0</td></tr><tr><td>1.281586</td><td>0.069997</td><td>-0.707767</td><td>-0.485081</td><td>2</td><td>0.882951</td><td>-0.646275</td><td>-0.640843</td><td>-0.641546</td></tr></tbody></table></div>"
      ],
      "text/plain": [
       "shape: (10, 9)\n",
       "┌───────────┬───────────┬───────────┬───────────┬───┬───────────┬───────────┬───────────┬──────────┐\n",
       "│ x1        ┆ x2        ┆ x3        ┆ y         ┆ … ┆ sample_we ┆ predictio ┆ predictio ┆ predicti │\n",
       "│ ---       ┆ ---       ┆ ---       ┆ ---       ┆   ┆ ights     ┆ ns_ols_gr ┆ ns_ols    ┆ ons_wls_ │\n",
       "│ f64       ┆ f64       ┆ f64       ┆ f64       ┆   ┆ ---       ┆ oup       ┆ ---       ┆ masked   │\n",
       "│           ┆           ┆           ┆           ┆   ┆ f64       ┆ ---       ┆ f32       ┆ ---      │\n",
       "│           ┆           ┆           ┆           ┆   ┆           ┆ f32       ┆           ┆ f32      │\n",
       "╞═══════════╪═══════════╪═══════════╪═══════════╪═══╪═══════════╪═══════════╪═══════════╪══════════╡\n",
       "│ -1.694323 ┆ 1.954149  ┆ 0.327192  ┆ -0.60444  ┆ … ┆ 0.117535  ┆ -0.59859  ┆ -0.589218 ┆ -0.0     │\n",
       "│ 1.773093  ┆ 0.765854  ┆ -1.431583 ┆ -0.970678 ┆ … ┆ 0.839584  ┆ -1.094716 ┆ -1.103445 ┆ -0.0     │\n",
       "│ -0.176328 ┆ 0.573347  ┆ -0.614593 ┆ 0.21017   ┆ … ┆ 0.705172  ┆ 0.217926  ┆ 0.216044  ┆ 0.0      │\n",
       "│ 0.021171  ┆ 0.058956  ┆ 0.296067  ┆ -0.416454 ┆ … ┆ 0.753221  ┆ -0.374001 ┆ -0.375123 ┆ -0.37536 │\n",
       "│           ┆           ┆           ┆           ┆   ┆           ┆           ┆           ┆ 4        │\n",
       "│ 1.012068  ┆ -1.626015 ┆ 0.2702    ┆ 0.345547  ┆ … ┆ 0.973876  ┆ 0.355354  ┆ 0.34566   ┆ 0.0      │\n",
       "│ -0.648736 ┆ 0.021036  ┆ 2.149515  ┆ -1.522977 ┆ … ┆ 0.649506  ┆ -1.509339 ┆ -1.517859 ┆ -0.0     │\n",
       "│ -0.427719 ┆ -0.216672 ┆ 0.445517  ┆ 0.174263  ┆ … ┆ 0.876079  ┆ 0.197837  ┆ 0.198173  ┆ 0.198149 │\n",
       "│ -1.709156 ┆ -1.779753 ┆ 1.061953  ┆ 2.46746   ┆ … ┆ 0.118507  ┆ 2.431038  ┆ 2.420419  ┆ 0.0      │\n",
       "│ -0.255468 ┆ 0.194217  ┆ 1.395433  ┆ -1.367962 ┆ … ┆ 0.518952  ┆ -1.347131 ┆ -1.330657 ┆ -0.0     │\n",
       "│ 1.281586  ┆ 0.069997  ┆ -0.707767 ┆ -0.485081 ┆ … ┆ 0.882951  ┆ -0.646275 ┆ -0.640843 ┆ -0.64154 │\n",
       "│           ┆           ┆           ┆           ┆   ┆           ┆           ┆           ┆ 6        │\n",
       "└───────────┴───────────┴───────────┴───────────┴───┴───────────┴───────────┴───────────┴──────────┘"
      ]
     },
     "execution_count": 63,
     "metadata": {},
     "output_type": "execute_result"
    }
   ],
   "source": [
    "df.lazy().with_columns(ols_expr.over(\"group\").alias(\"predictions_ols_group\"),\n",
    "                ols_expr.alias(\"predictions_ols\"),\n",
    "                (wls_expr * (pl.col(\"group\") == 2)).alias(\"predictions_wls_masked\"),\n",
    "               ).collect().tail(10)"
   ]
  },
  {
   "cell_type": "markdown",
   "id": "510b4ac4-9e35-4eda-aafe-5036f38462f8",
   "metadata": {},
   "source": [
    "- The `mode` parameter controls the type of output produced. You can choose from {`predictions`, `coefficients`, `residuals`}. It defaults to `predictions`.\n",
    "- `coefficients` normally resizes the output to match the number of features"
   ]
  },
  {
   "cell_type": "code",
   "execution_count": 64,
   "id": "223fdff7-3242-4fdf-b732-570cd07a5b0a",
   "metadata": {
    "execution": {
     "iopub.execute_input": "2024-03-30T22:35:21.657101Z",
     "iopub.status.busy": "2024-03-30T22:35:21.656531Z",
     "iopub.status.idle": "2024-03-30T22:35:21.669548Z",
     "shell.execute_reply": "2024-03-30T22:35:21.668529Z",
     "shell.execute_reply.started": "2024-03-30T22:35:21.657067Z"
    }
   },
   "outputs": [
    {
     "data": {
      "text/html": [
       "<div><style>\n",
       ".dataframe > thead > tr,\n",
       ".dataframe > tbody > tr {\n",
       "  text-align: right;\n",
       "  white-space: pre-wrap;\n",
       "}\n",
       "</style>\n",
       "<small>shape: (3, 1)</small><table border=\"1\" class=\"dataframe\"><thead><tr><th>coefficients</th></tr><tr><td>f32</td></tr></thead><tbody><tr><td>-1.0107</td></tr><tr><td>-1.012987</td></tr><tr><td>0.002998</td></tr></tbody></table></div>"
      ],
      "text/plain": [
       "shape: (3, 1)\n",
       "┌──────────────┐\n",
       "│ coefficients │\n",
       "│ ---          │\n",
       "│ f32          │\n",
       "╞══════════════╡\n",
       "│ -1.0107      │\n",
       "│ -1.012987    │\n",
       "│ 0.002998     │\n",
       "└──────────────┘"
      ]
     },
     "execution_count": 64,
     "metadata": {},
     "output_type": "execute_result"
    }
   ],
   "source": [
    "df.select(pl.col(\"y\").least_squares.ols(pl.col(\"x1\"), pl.col(\"x2\"), add_intercept=True, mode=\"coefficients\")\n",
    "          .alias(\"coefficients\"))"
   ]
  },
  {
   "cell_type": "markdown",
   "id": "d2658468-466a-4d9e-916f-4b711331ec96",
   "metadata": {},
   "source": [
    "### 2. Regularized Models\n",
    "- Ridge `least_squares.ridge`, Lasso `least_squares.lasso`, Elastic Net `least_squares.lasso` with optional non-negative constraint are implemented\n",
    "- Apart from ridge, which is solved in closed form, the rust implementation for regularized models is cyclic coordinate descent with a soft thresholding function that supports an arbitrary combination of L1 / L2 penalties and non-negative constraint.\n",
    "- `sample_weights` and `mode` are general parameters applicable to all models supported by this package\n",
    "\n",
    "Parameters specific to regularized models are contained in `OLSKwargs`:\n",
    "- alpha: scalar representing L1 or L2 penalty strength.\n",
    "- l1_ratio: mixing parameter for ElasticNet regularization (0 for Ridge, 1 for LASSO).\n",
    "- max_iter: maximum number of coordinate descent iterations\n",
    "- tol: tolerance for convergence criterion\n",
    "- positive: boolean enforcing non-negativity constraints on coefficients"
   ]
  },
  {
   "cell_type": "code",
   "execution_count": 65,
   "id": "a9ba3765-2a42-4675-bc92-2d211bdcc03b",
   "metadata": {
    "execution": {
     "iopub.execute_input": "2024-03-30T22:35:25.872426Z",
     "iopub.status.busy": "2024-03-30T22:35:25.872003Z",
     "iopub.status.idle": "2024-03-30T22:35:25.882727Z",
     "shell.execute_reply": "2024-03-30T22:35:25.881421Z",
     "shell.execute_reply.started": "2024-03-30T22:35:25.872398Z"
    }
   },
   "outputs": [
    {
     "data": {
      "text/plain": [
       "\u001b[0;31mInit signature:\u001b[0m\n",
       "\u001b[0mpls\u001b[0m\u001b[0;34m.\u001b[0m\u001b[0mOLSKwargs\u001b[0m\u001b[0;34m(\u001b[0m\u001b[0;34m\u001b[0m\n",
       "\u001b[0;34m\u001b[0m    \u001b[0malpha\u001b[0m\u001b[0;34m:\u001b[0m \u001b[0mOptional\u001b[0m\u001b[0;34m[\u001b[0m\u001b[0mfloat\u001b[0m\u001b[0;34m]\u001b[0m \u001b[0;34m=\u001b[0m \u001b[0;36m0.0\u001b[0m\u001b[0;34m,\u001b[0m\u001b[0;34m\u001b[0m\n",
       "\u001b[0;34m\u001b[0m    \u001b[0ml1_ratio\u001b[0m\u001b[0;34m:\u001b[0m \u001b[0mOptional\u001b[0m\u001b[0;34m[\u001b[0m\u001b[0mfloat\u001b[0m\u001b[0;34m]\u001b[0m \u001b[0;34m=\u001b[0m \u001b[0;32mNone\u001b[0m\u001b[0;34m,\u001b[0m\u001b[0;34m\u001b[0m\n",
       "\u001b[0;34m\u001b[0m    \u001b[0mmax_iter\u001b[0m\u001b[0;34m:\u001b[0m \u001b[0mOptional\u001b[0m\u001b[0;34m[\u001b[0m\u001b[0mint\u001b[0m\u001b[0;34m]\u001b[0m \u001b[0;34m=\u001b[0m \u001b[0;36m1000\u001b[0m\u001b[0;34m,\u001b[0m\u001b[0;34m\u001b[0m\n",
       "\u001b[0;34m\u001b[0m    \u001b[0mtol\u001b[0m\u001b[0;34m:\u001b[0m \u001b[0mOptional\u001b[0m\u001b[0;34m[\u001b[0m\u001b[0mfloat\u001b[0m\u001b[0;34m]\u001b[0m \u001b[0;34m=\u001b[0m \u001b[0;36m0.0001\u001b[0m\u001b[0;34m,\u001b[0m\u001b[0;34m\u001b[0m\n",
       "\u001b[0;34m\u001b[0m    \u001b[0mpositive\u001b[0m\u001b[0;34m:\u001b[0m \u001b[0mOptional\u001b[0m\u001b[0;34m[\u001b[0m\u001b[0mbool\u001b[0m\u001b[0;34m]\u001b[0m \u001b[0;34m=\u001b[0m \u001b[0;32mFalse\u001b[0m\u001b[0;34m,\u001b[0m\u001b[0;34m\u001b[0m\n",
       "\u001b[0;34m\u001b[0m\u001b[0;34m)\u001b[0m \u001b[0;34m->\u001b[0m \u001b[0;32mNone\u001b[0m\u001b[0;34m\u001b[0m\u001b[0;34m\u001b[0m\u001b[0m\n",
       "\u001b[0;31mDocstring:\u001b[0m      Specifies parameters relevant for regularized linear models: LASSO / Ridge / ElasticNet.\n",
       "\u001b[0;31mFile:\u001b[0m           ~/projects/polars_ols/polars_ols/least_squares.py\n",
       "\u001b[0;31mType:\u001b[0m           type\n",
       "\u001b[0;31mSubclasses:\u001b[0m     "
      ]
     },
     "metadata": {},
     "output_type": "display_data"
    }
   ],
   "source": [
    "# inspect OLS Kwargs\n",
    "pls.OLSKwargs?"
   ]
  },
  {
   "cell_type": "code",
   "execution_count": 75,
   "id": "e35fbf57-3edb-4450-bcf7-a6c2aeef1e6f",
   "metadata": {
    "execution": {
     "iopub.execute_input": "2024-03-30T22:41:50.013432Z",
     "iopub.status.busy": "2024-03-30T22:41:50.012719Z",
     "iopub.status.idle": "2024-03-30T22:41:50.027921Z",
     "shell.execute_reply": "2024-03-30T22:41:50.027343Z",
     "shell.execute_reply.started": "2024-03-30T22:41:50.013389Z"
    }
   },
   "outputs": [
    {
     "data": {
      "text/html": [
       "<div><style>\n",
       ".dataframe > thead > tr,\n",
       ".dataframe > tbody > tr {\n",
       "  text-align: right;\n",
       "  white-space: pre-wrap;\n",
       "}\n",
       "</style>\n",
       "<small>shape: (3, 2)</small><table border=\"1\" class=\"dataframe\"><thead><tr><th>coef_enet_non_negative</th><th>coef_ridge</th></tr><tr><td>f32</td><td>f32</td></tr></thead><tbody><tr><td>0.0</td><td>-0.908504</td></tr><tr><td>0.0</td><td>-0.907049</td></tr><tr><td>0.0</td><td>-0.914558</td></tr></tbody></table></div>"
      ],
      "text/plain": [
       "shape: (3, 2)\n",
       "┌────────────────────────┬────────────┐\n",
       "│ coef_enet_non_negative ┆ coef_ridge │\n",
       "│ ---                    ┆ ---        │\n",
       "│ f32                    ┆ f32        │\n",
       "╞════════════════════════╪════════════╡\n",
       "│ 0.0                    ┆ -0.908504  │\n",
       "│ 0.0                    ┆ -0.907049  │\n",
       "│ 0.0                    ┆ -0.914558  │\n",
       "└────────────────────────┴────────────┘"
      ]
     },
     "execution_count": 75,
     "metadata": {},
     "output_type": "execute_result"
    }
   ],
   "source": [
    "elastic_net_expr = pl.col(\"y\").least_squares.elastic_net(pl.col(\"x1\"), pl.col(\"x2\"), pl.col(\"x3\"),\n",
    "                                                         alpha=0.0001,\n",
    "                                                         l1_ratio=0.5,\n",
    "                                                         positive=True,\n",
    "                                                         mode=\"coefficients\",\n",
    "                                                         ).alias(\"coef_enet_non_negative\")\n",
    "\n",
    "ridge_expr = pl.col(\"y\").least_squares.ridge(pl.col(\"x1\"), pl.col(\"x2\"), pl.col(\"x3\"),\n",
    "                                             alpha=100.0, \n",
    "                                             sample_weights=pl.col(\"sample_weights\"),\n",
    "                                             mode=\"coefficients\").alias(\"coef_ridge\")\n",
    "\n",
    "df.select(elastic_net_expr, ridge_expr)"
   ]
  },
  {
   "cell_type": "markdown",
   "id": "0d51c5a1-bb89-4e45-97bd-7e3bda6beae0",
   "metadata": {},
   "source": [
    "### 3. Formula API\n",
    "\n",
    "- For those who like specifying models in patsy formula syntax, that is also supported\n",
    "- You can either use the `least_squares_from_formula` module level public function or `least_squares.from_formula` from registed namespace\n",
    "- It tries to be clever and maps to the correct underlying implementation based on the model specific parameters you specify"
   ]
  },
  {
   "cell_type": "code",
   "execution_count": 83,
   "id": "8965d16a-1703-4a75-9729-d8fbadb7a1c7",
   "metadata": {
    "execution": {
     "iopub.execute_input": "2024-03-30T22:47:44.970198Z",
     "iopub.status.busy": "2024-03-30T22:47:44.969638Z",
     "iopub.status.idle": "2024-03-30T22:47:44.984139Z",
     "shell.execute_reply": "2024-03-30T22:47:44.983511Z",
     "shell.execute_reply.started": "2024-03-30T22:47:44.970164Z"
    }
   },
   "outputs": [
    {
     "data": {
      "text/html": [
       "<div><style>\n",
       ".dataframe > thead > tr,\n",
       ".dataframe > tbody > tr {\n",
       "  text-align: right;\n",
       "  white-space: pre-wrap;\n",
       "}\n",
       "</style>\n",
       "<small>shape: (2, 2)</small><table border=\"1\" class=\"dataframe\"><thead><tr><th>residuals_1</th><th>residuals_2</th></tr><tr><td>f64</td><td>f64</td></tr></thead><tbody><tr><td>1.0</td><td>1.0</td></tr><tr><td>1.0</td><td>1.0</td></tr></tbody></table></div>"
      ],
      "text/plain": [
       "shape: (2, 2)\n",
       "┌─────────────┬─────────────┐\n",
       "│ residuals_1 ┆ residuals_2 │\n",
       "│ ---         ┆ ---         │\n",
       "│ f64         ┆ f64         │\n",
       "╞═════════════╪═════════════╡\n",
       "│ 1.0         ┆ 1.0         │\n",
       "│ 1.0         ┆ 1.0         │\n",
       "└─────────────┴─────────────┘"
      ]
     },
     "execution_count": 83,
     "metadata": {},
     "output_type": "execute_result"
    }
   ],
   "source": [
    "# compute the residuals in two equivalent ways\n",
    "df.select(\n",
    "    # \"x2:x3\" denotes multiplicative interaction, \"-1\" dentotes no intercept\n",
    "    pls.least_squares_from_formula(\"y ~ x1 + x2:x3 -1\", mode=\"residuals\").alias(\"residuals_1\"), \n",
    "    (pl.col(\"y\") - pl.col(\"y\").least_squares.from_formula(\"x1 + x2:x3 -1\", mode=\"predictions\")).alias(\"residuals_2\"),\n",
    ").corr()"
   ]
  },
  {
   "cell_type": "code",
   "execution_count": 85,
   "id": "aa610cd9-3b3f-43ce-b9cc-24a92df55307",
   "metadata": {
    "execution": {
     "iopub.execute_input": "2024-03-30T22:49:58.356254Z",
     "iopub.status.busy": "2024-03-30T22:49:58.355351Z",
     "iopub.status.idle": "2024-03-30T22:49:58.365799Z",
     "shell.execute_reply": "2024-03-30T22:49:58.364755Z",
     "shell.execute_reply.started": "2024-03-30T22:49:58.356187Z"
    }
   },
   "outputs": [],
   "source": [
    "nnls_formula_expr = pl.col(\"y\").least_squares.from_formula(\"x1 + x2 + x3\",\n",
    "                                       alpha=0.0001,\n",
    "                                       positive=True,\n",
    "                                       )  # knows to use the coordinate descent implementation because of non-negativity\n",
    "\n",
    "\n",
    "ridge_formula_expr = pl.col(\"y\").least_squares.from_formula(\"x1 + x2 + x3\",\n",
    "                                       alpha=0.0001,\n",
    "                                       sample_weights=pl.col(\"sample_weights\"),\n",
    "                                       )  # knows that it needs to use closed form ridge w/ sample weighting"
   ]
  },
  {
   "cell_type": "markdown",
   "id": "ff9caf26-ae5a-46da-acd9-099bcdeee025",
   "metadata": {},
   "source": [
    "### 4. Dynamic Regression Models\n",
    "\n",
    "- Consider the situation where you want to compute coefficients in an expanding or rolling window manner\n",
    "    - naively, you could manually re-compute standard OLS function over consecutive windows (e.g. `.rolling(...).agg(...)`)\n",
    "    - ... but that would be wasteful: (X.T X) and (X.T Y) are only changing by one row (in case of expanding) or two rows (in case of rolling, an addition and a subtraction)\n",
    "- This extension package provides rust implementations `.least_squares.{rolling_ols, expanding_ols, rls}` which efficiently update coefficients as new samples are observed\n",
    "- See [insert URL] for details, but the key idea is to make use of Sherman-Morrison or Woodbury Identity to recursively update summary statistics or coefficient vectors\n",
    "- Formula API is also supported and the correct implementation is chosen based on parameters provided"
   ]
  },
  {
   "cell_type": "code",
   "execution_count": 115,
   "id": "33a8ee68-dc8b-4a2e-a590-73a4998bc33e",
   "metadata": {
    "execution": {
     "iopub.execute_input": "2024-03-30T23:09:02.183836Z",
     "iopub.status.busy": "2024-03-30T23:09:02.182878Z",
     "iopub.status.idle": "2024-03-30T23:09:02.208599Z",
     "shell.execute_reply": "2024-03-30T23:09:02.208100Z",
     "shell.execute_reply.started": "2024-03-30T23:09:02.183760Z"
    }
   },
   "outputs": [
    {
     "data": {
      "text/html": [
       "<div><style>\n",
       ".dataframe > thead > tr,\n",
       ".dataframe > tbody > tr {\n",
       "  text-align: right;\n",
       "  white-space: pre-wrap;\n",
       "}\n",
       "</style>\n",
       "<small>shape: (2_000, 3)</small><table border=\"1\" class=\"dataframe\"><thead><tr><th>rolling_ridge_coef</th><th>recursive_least_squares_coef</th><th>expanding_ols_pred</th></tr><tr><td>list[f32]</td><td>list[f32]</td><td>f32</td></tr></thead><tbody><tr><td>[0.0, 0.0, 0.0]</td><td>[-1.184433, -0.98375, -1.066094]</td><td>-0.71473</td></tr><tr><td>[0.0, 0.0, 0.0]</td><td>[-0.999859, -0.999947, -1.000197]</td><td>0.036505</td></tr><tr><td>[0.0, 0.0, 0.0]</td><td>[-1.026656, -0.932625, -1.008824]</td><td>-0.647632</td></tr><tr><td>[0.0, 0.0, 0.0]</td><td>[-0.702152, -0.826215, -1.180636]</td><td>-0.022153</td></tr><tr><td>[0.0, 0.0, 0.0]</td><td>[-1.176702, -0.996126, -1.091328]</td><td>-0.022653</td></tr><tr><td>&hellip;</td><td>&hellip;</td><td>&hellip;</td></tr><tr><td>[-0.993268, -1.003389, -0.993135]</td><td>[-0.955148, -0.971003, -0.987288]</td><td>-1.517609</td></tr><tr><td>[-0.996397, -0.98888, -0.998935]</td><td>[-0.421874, -1.801489, -0.889335]</td><td>0.198206</td></tr><tr><td>[-0.993697, -1.003618, -0.993094]</td><td>[-1.015508, -1.010919, -1.005117]</td><td>2.42057</td></tr><tr><td>[-0.994889, -1.001311, -1.006162]</td><td>[-0.782951, -1.192956, -0.957612]</td><td>-1.330491</td></tr><tr><td>[-0.995584, -0.987763, -0.999201]</td><td>[-1.075299, -1.604798, -1.420408]</td><td>-0.640809</td></tr></tbody></table></div>"
      ],
      "text/plain": [
       "shape: (2_000, 3)\n",
       "┌───────────────────────────────────┬───────────────────────────────────┬────────────────────┐\n",
       "│ rolling_ridge_coef                ┆ recursive_least_squares_coef      ┆ expanding_ols_pred │\n",
       "│ ---                               ┆ ---                               ┆ ---                │\n",
       "│ list[f32]                         ┆ list[f32]                         ┆ f32                │\n",
       "╞═══════════════════════════════════╪═══════════════════════════════════╪════════════════════╡\n",
       "│ [0.0, 0.0, 0.0]                   ┆ [-1.184433, -0.98375, -1.066094]  ┆ -0.71473           │\n",
       "│ [0.0, 0.0, 0.0]                   ┆ [-0.999859, -0.999947, -1.000197… ┆ 0.036505           │\n",
       "│ [0.0, 0.0, 0.0]                   ┆ [-1.026656, -0.932625, -1.008824… ┆ -0.647632          │\n",
       "│ [0.0, 0.0, 0.0]                   ┆ [-0.702152, -0.826215, -1.180636… ┆ -0.022153          │\n",
       "│ [0.0, 0.0, 0.0]                   ┆ [-1.176702, -0.996126, -1.091328… ┆ -0.022653          │\n",
       "│ …                                 ┆ …                                 ┆ …                  │\n",
       "│ [-0.993268, -1.003389, -0.993135… ┆ [-0.955148, -0.971003, -0.987288… ┆ -1.517609          │\n",
       "│ [-0.996397, -0.98888, -0.998935]  ┆ [-0.421874, -1.801489, -0.889335… ┆ 0.198206           │\n",
       "│ [-0.993697, -1.003618, -0.993094… ┆ [-1.015508, -1.010919, -1.005117… ┆ 2.42057            │\n",
       "│ [-0.994889, -1.001311, -1.006162… ┆ [-0.782951, -1.192956, -0.957612… ┆ -1.330491          │\n",
       "│ [-0.995584, -0.987763, -0.999201… ┆ [-1.075299, -1.604798, -1.420408… ┆ -0.640809          │\n",
       "└───────────────────────────────────┴───────────────────────────────────┴────────────────────┘"
      ]
     },
     "execution_count": 115,
     "metadata": {},
     "output_type": "execute_result"
    }
   ],
   "source": [
    "df.select(\n",
    "    pl.col(\"y\").least_squares.from_formula(\"x1 + x2 + x3 -1\", \n",
    "                                           window_size=252, \n",
    "                                           min_periods=5, \n",
    "                                           alpha=0.0001,  \n",
    "                                           mode=\"coefficients\").over(\"group\").alias(\"rolling_ridge_coef\"),\n",
    "    pl.col(\"y\").least_squares.rls(\n",
    "        pl.col(\"x1\"), pl.col(\"x2\"), pl.col(\"x3\"),\n",
    "        half_life=21.0, # exponential memory proportional to a half-life of 21 samples\n",
    "        initial_state_mean=[-1.0, -1.0, -1.0],  # prior mean for initial coefficients\n",
    "        initial_state_covariance=10.0,  # inversely proportional to L2 prior towards prior mean\n",
    "        mode=\"coefficients\",\n",
    "    ).over(\"group\").alias(\"recursive_least_squares_coef\"),\n",
    "    pl.col(\"y\").least_squares.expanding_ols(pl.col(\"x1\"), pl.col(\"x2\"), pl.col(\"x3\"), \n",
    "                                           mode=\"predictions\").alias(\"expanding_ols_pred\"),\n",
    "    \n",
    ")\n"
   ]
  }
 ],
 "metadata": {
  "kernelspec": {
   "display_name": "Python 3 (ipykernel)",
   "language": "python",
   "name": "python3"
  },
  "language_info": {
   "codemirror_mode": {
    "name": "ipython",
    "version": 3
   },
   "file_extension": ".py",
   "mimetype": "text/x-python",
   "name": "python",
   "nbconvert_exporter": "python",
   "pygments_lexer": "ipython3",
   "version": "3.10.11"
  }
 },
 "nbformat": 4,
 "nbformat_minor": 5
}
