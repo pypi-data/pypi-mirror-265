{
 "cells": [
  {
   "cell_type": "markdown",
   "id": "1850485c",
   "metadata": {},
   "source": [
    "> _Author:_ Grégoire Pacreau\n",
    "\n",
    "# Spectrograms and Regime Change Detection\n",
    "\n",
    "In this example we show how Koopman theory can be used to analyze the behaviour of a switching system, validating our results with Fourier theory. We study a simple signal composed by a sum of a small number of sinusoidal functions. These signals are easily analyzed using Fourier theory, but similar results can be obtained via Koopman theory and its implementation in `kooplearn`. In particular, we show that how to recover changes in the signal by detecting changes in the underlying process. Here, this will be modeled by a sudden change of the dominant frequencies of the signal during a _switching_ period.\n",
    "\n",
    "## Data generation "
   ]
  },
  {
   "cell_type": "code",
   "execution_count": null,
   "id": "ad1cf1f6",
   "metadata": {},
   "outputs": [],
   "source": [
    "import importlib\n",
    "\n",
    "for module in ['kooplearn', 'matplotlib', 'tqdm', 'pandas']:\n",
    "    try:\n",
    "        importlib.import_module(module)\n",
    "    except ImportError:\n",
    "        %pip install {module}"
   ]
  },
  {
   "cell_type": "code",
   "execution_count": null,
   "id": "063b006e",
   "metadata": {},
   "outputs": [],
   "source": [
    "# Standard imports\n",
    "import numpy as np\n",
    "import matplotlib.pyplot as plt\n",
    "from tqdm import tqdm\n",
    "from copy import deepcopy\n",
    "from kooplearn.abc import BaseModel\n",
    "\n",
    "np.random.seed(0) # Reproducible results"
   ]
  },
  {
   "cell_type": "markdown",
   "id": "a6391660",
   "metadata": {},
   "source": [
    "We now generate a synthetic signal for our analysis. Our dataset will have $10000$ points of the signal's trajectory, all observed at a regular interval of one $0.01 \\, {\\rm s}$. We also set that between $t = 4000$ and $t = 4500$ it occurs a ragime change in which the dominant frequencies of the signal change."
   ]
  },
  {
   "cell_type": "code",
   "execution_count": null,
   "id": "6e326edb",
   "metadata": {},
   "outputs": [],
   "source": [
    "N = 10000 # Trajectory steps\n",
    "start_regime_change = 4000\n",
    "end_regime_change = 4500"
   ]
  },
  {
   "cell_type": "markdown",
   "id": "21cf297d",
   "metadata": {},
   "source": [
    "In the following we define a function that given an input array `i` representing time and a list of frequencies `freqs` returns the signal observed at each time step."
   ]
  },
  {
   "cell_type": "code",
   "execution_count": null,
   "id": "00ae8ac2",
   "metadata": {},
   "outputs": [],
   "source": [
    "def gen_signal(i, freqs):\n",
    "    X = np.zeros(i.shape[0])\n",
    "    for f in freqs:\n",
    "        X += np.sin(i*f*2*np.pi)\n",
    "    return X"
   ]
  },
  {
   "cell_type": "markdown",
   "id": "b0fe3a01",
   "metadata": {},
   "source": [
    "We can now create our signal. The signal in the first regime has frequencies 2Hz, 8Hz, 13Hz and 15Hz. The signal in the second regime has frequencies 5Hz and 7Hz."
   ]
  },
  {
   "cell_type": "code",
   "execution_count": null,
   "id": "df89a6cd",
   "metadata": {},
   "outputs": [],
   "source": [
    "i = np.arange(N)/100\n",
    "\n",
    "# REGIME 1\n",
    "X1 = gen_signal(i, [2, 8, 13, 15])\n",
    "    \n",
    "# REGIME 2\n",
    "X2 = gen_signal(i, [5, 7])\n",
    "\n",
    "# Mixing the regimes\n",
    "X_no_noise = np.concatenate([X1[:start_regime_change], \n",
    "                    X2[start_regime_change:end_regime_change],\n",
    "                    X1[end_regime_change:]])"
   ]
  },
  {
   "cell_type": "markdown",
   "id": "9004102d",
   "metadata": {},
   "source": [
    "The signal is then perturbed by an additive noise with a small variance compared to the values taken by the signal."
   ]
  },
  {
   "cell_type": "code",
   "execution_count": null,
   "id": "01efd830",
   "metadata": {},
   "outputs": [],
   "source": [
    "noise = 0.2*np.random.randn(N)\n",
    "X = X_no_noise + noise"
   ]
  },
  {
   "cell_type": "markdown",
   "id": "43cc6f2b",
   "metadata": {},
   "source": [
    "Let us plot the trajectories of our dataset:"
   ]
  },
  {
   "cell_type": "code",
   "execution_count": null,
   "id": "cec0ce02",
   "metadata": {},
   "outputs": [],
   "source": [
    "plt.figure(figsize=(12,3))\n",
    "plt.subplot(1, 2, 1)\n",
    "plt.plot(X[:101])\n",
    "plt.ylim((-3.5, 3.5))\n",
    "plt.margins(x = 0)\n",
    "plt.title('Regime 1 (2 + 8 + 13 + 15 Hz)')\n",
    "\n",
    "plt.subplot(1, 2, 2)\n",
    "plt.plot(np.arange(4000, 4101), X[4000:4101])\n",
    "plt.ylim((-3.5, 3.5))\n",
    "plt.title('Regime 2 (5 + 7 Hz)')\n",
    "plt.margins(x = 0)\n",
    "plt.show()"
   ]
  },
  {
   "cell_type": "markdown",
   "id": "ebb1c94c",
   "metadata": {},
   "source": [
    "Let us verify that we do recover those frequencies using the classical Fourier spectrogram as implemented in ``scipy.signal``."
   ]
  },
  {
   "cell_type": "code",
   "execution_count": null,
   "id": "93700cfa",
   "metadata": {},
   "outputs": [],
   "source": [
    "from scipy import signal\n",
    "\n",
    "n_seg = 200\n",
    "res_spectrogram = signal.spectrogram(X, 100, scaling='density', nperseg=n_seg, noverlap=199)\n",
    "\n",
    "# Plotting spectrogram\n",
    "plt.figure(figsize=(15,5))\n",
    "plt.grid(False)\n",
    "plt.pcolormesh(res_spectrogram[1], \n",
    "            res_spectrogram[0], \n",
    "            np.log10(res_spectrogram[2]), \n",
    "            cmap='RdBu')\n",
    "plt.ylabel('Frequency [Hz]')\n",
    "plt.xlabel('Time [s]')\n",
    "plt.yticks([2, 8, 13, 15, 20, 30, 40, 50])\n",
    "plt.ylim(0, 30)\n",
    "plt.axhline(y=2, color='w', linestyle='--', lw=1)\n",
    "plt.axhline(y=8, color='w', linestyle='--', lw=1)\n",
    "plt.axhline(y=13, color='w', linestyle='--', lw=1)\n",
    "plt.axhline(y=15, color='w', linestyle='--', lw=1)\n",
    "plt.axhline(y=5, color='y', linestyle='--', lw=1)\n",
    "plt.axhline(y=7, color='y', linestyle='--', lw=1)\n",
    "plt.colorbar()\n",
    "plt.show()"
   ]
  },
  {
   "cell_type": "markdown",
   "id": "0d9d4858",
   "metadata": {},
   "source": [
    "## Koopman model\n",
    "\n",
    "We now show that fitting a Koopman operator enables a complete characterization of the dynamics. The first step to fit a Koopman model with kooplearn is to organize the data according to the [paradigm based on context windows](kooplearn_data_paradigm). Since in this case we have a single trajectory we can use the utility function {meth}`kooplearn.data.traj_to_contexts`. We set the context size to $200$, matching our choice for the Fourier spectrogram."
   ]
  },
  {
   "cell_type": "code",
   "execution_count": null,
   "id": "bc485bc6",
   "metadata": {},
   "outputs": [],
   "source": [
    "from kooplearn.data import traj_to_contexts\n",
    "\n",
    "dataset = traj_to_contexts(X, context_window_len = 100)\n",
    "\n",
    "n_pts, ctx_len, _ = dataset.shape\n",
    "print(f\"Dataset has {n_pts} context windows of size {ctx_len}.\")"
   ]
  },
  {
   "cell_type": "markdown",
   "id": "d66bdbff",
   "metadata": {},
   "source": [
    "We now take a small subset of the full dataset and fit a Koopman model on it. For this example we will use kernel methods, and specifically the _Reduced Rank Regression_ described in {footcite:t}`Kostic2022`. We use a combination of linear and Gaussian (i.e. RBF) kernels, the latter of which with a length-scale corresponding to the median heuristic."
   ]
  },
  {
   "cell_type": "code",
   "execution_count": null,
   "id": "2a7eeaae",
   "metadata": {},
   "outputs": [],
   "source": [
    "from sklearn.gaussian_process.kernels import DotProduct, RBF\n",
    "from kooplearn.models.kernel import Kernel\n",
    "from scipy.spatial.distance import pdist\n",
    "\n",
    "train_contexts = dataset[:500]\n",
    "\n",
    "median_heuristic_lengthscale = np.median(pdist(X.reshape(-1, 1)))\n",
    "kernel = 0.5*(DotProduct() + RBF(length_scale=median_heuristic_lengthscale))\n",
    "model = Kernel(reduced_rank= True, kernel=kernel, rank=8, tikhonov_reg=1e-5)\n",
    "model.fit(train_contexts)"
   ]
  },
  {
   "cell_type": "markdown",
   "id": "8947fc0a",
   "metadata": {},
   "source": [
    "The dominant frequencies of the dynamics $\\omega_{i}$ are related to the Koopman eigenvalues $\\lambda_{i}$ by the relation $\\omega_{i} = \\frac{1}{2\\pi \\Delta t}\\deg (\\lambda_{i})$, with $\\Delta t$ being the time lag between samples. By evaluating `model.eig()` we can see that the Koopman model perfectly recover the frequencies of the signal:"
   ]
  },
  {
   "cell_type": "code",
   "execution_count": null,
   "id": "a59997ac",
   "metadata": {},
   "outputs": [],
   "source": [
    "dominant_frequencies = 100*np.angle(model.eig())/(2*np.pi)\n",
    "for f in dominant_frequencies:\n",
    "    if f > 0: # Koopman eigenvalues come in complex-conjugate paris. Discarting the eigenvalues with negative imaginary part.\n",
    "        print(f\"Found {f:.3f} Hz as a dominant freqency of the dynamics\")"
   ]
  },
  {
   "cell_type": "markdown",
   "id": "15385896",
   "metadata": {},
   "source": [
    "The Koopman model can be used also to forecast the signal (and any observable of it). By taking a validation subset of the full data, we can verify that the forecast is very accurate as well."
   ]
  },
  {
   "cell_type": "code",
   "execution_count": null,
   "id": "f48c56b9",
   "metadata": {},
   "outputs": [],
   "source": [
    "val_contexts = dataset[5000:5250]\n",
    "\n",
    "plt.figure(figsize=(15,3))\n",
    "X_pred = np.squeeze(model.predict(val_contexts))\n",
    "X_true = np.squeeze(val_contexts.lookforward(model.lookback_len))\n",
    "\n",
    "plt.plot(X_true, '+-', label='True data', lw=1, color='k')\n",
    "plt.plot(X_pred, label='kooplearn Prediction', color='orange')\n",
    "plt.margins(x=0)\n",
    "plt.legend()\n",
    "plt.show()"
   ]
  },
  {
   "cell_type": "markdown",
   "id": "e3e31a22",
   "metadata": {},
   "source": [
    "## Koopman spectral decomposition and spectrogram"
   ]
  },
  {
   "cell_type": "markdown",
   "id": "322275dc",
   "metadata": {},
   "source": [
    "Now that we have selected a good kernel, we can now use it to train koopman operators on subsets of the dataset and examine their modes.\n",
    "\n",
    "The koopman spectrogram works the same as its Fourier equivalent in the sense that it estimates the frequencies for data in a sliding window. The main differences lies in the fact that we need to define the hyperparameters of the koopman operators as well as the parameters of the sliding window. A new koopman operator using the set hyperparameters will be learned on every window and its eigenvalues and modes saved, so that we can observe the evolution of the dynamic for each step. We then plot for each window the learned frequencies and amplitudes.\n",
    "\n",
    "The spectrogram can be computed using the function ``kooplearn.signal.analysis``, which takes the following parameters:\n",
    " - X : the time series on which spectral analysis will be run;\n",
    " - model : an untrained kooplearn model with fixed hyperparameters;\n",
    " - N : the number of samples used for fitting the model (i.e. the size of the sliding window);\n",
    " - steps : the number of steps by which the sliding window advances at each iteration;\n",
    " - T : how long in the past should the context look (for a d-dimensional time series, the resulting states will be of dimension d*T);\n",
    " - observable : the observable through which to compute the modes (by default the identity mapping);\n",
    " - deltat : the time between steps in seconds."
   ]
  },
  {
   "cell_type": "code",
   "execution_count": null,
   "id": "7c619f1d",
   "metadata": {},
   "outputs": [],
   "source": [
    "import pandas\n",
    "\n",
    "def compute_mode_info(operator:BaseModel, observable=lambda x:x, X=None, deltat=1, xcoord=None, ycoord=None):\n",
    "    # computes mode information from a kooplearn.basemodel\n",
    "\n",
    "    eigs = operator.eig()\n",
    "    if X is None:\n",
    "        X = operator.data_fit\n",
    "\n",
    "    modes = operator.modes(X)\n",
    "    n_eigs = eigs.shape[0]\n",
    "    if modes.ndim == 1:\n",
    "        n_features=1\n",
    "    else:\n",
    "        n_features = modes.shape[1]\n",
    "\n",
    "    # initialiasing the dataframe containing the information for every cell of every mode\n",
    "    infos = pandas.DataFrame()\n",
    "    infos['eig_num'] = np.repeat(np.arange(n_eigs), n_features)  # Identifying the mode number\n",
    "    infos['var_index'] = np.tile(np.arange(n_features), n_eigs)  # Unique identifier for each variable\n",
    "    if xcoord is None:  # If no specific coordinate is given, each dimensionis\n",
    "        infos['x'] = np.tile(np.arange(n_features),\n",
    "                                      n_eigs)  # identified with its index in the observable array\n",
    "    else:  # Otherwise coordinates are saved for accurate plotting\n",
    "        infos['x'] = xcoord\n",
    "    if ycoord is not None:  # If y coordinates make sense, save them as well\n",
    "        infos['y'] = ycoord\n",
    "\n",
    "    # eigenvalue related information. This information is shared by every variable, hence the use of repeat\n",
    "    infos['eigval real'] = np.repeat(eigs.real, n_features)  # Real part\n",
    "    infos['eigval imag'] = np.repeat(eigs.imag, n_features)  # Imaginary part\n",
    "\n",
    "    infos['modulus'] = np.repeat(np.abs(eigs) ** (1 / deltat), n_features)  # Modulus of the mode\n",
    "    angles = np.log(eigs)\n",
    "    freqs = angles.imag / (2 * np.pi * deltat)\n",
    "    infos['frequency'] = np.repeat(freqs, n_features)  # Frequency of the mode\n",
    "\n",
    "    # mode specific information. This information is unique per mode and per variable\n",
    "    infos['mode'] = modes.flatten()  # Actual value of the mode\n",
    "    if n_features == 1:\n",
    "        Z = eigs*modes.flatten()\n",
    "    else:\n",
    "        Z = modes * np.outer(eigs, np.ones(n_features))  # Multiplying by the eigenvalue to recover the signal\n",
    "    Z = Z.flatten()  # Row-wise flattening of the modes matrix\n",
    "    infos['amplitude'] = np.abs(Z) # Amplitude of the mode at every point\n",
    "    infos['phase'] = np.arctan(Z.imag / Z.real)  # Phase of the mode at every point\n",
    "\n",
    "    return infos\n",
    "\n",
    "def spectrogram(trajectory, modelClass:BaseModel, window_size, steps, context_length, observable=lambda x:x, deltat=1.):\n",
    "    \"\"\"\n",
    "    X one dimensional time series\n",
    "    model\n",
    "    window_size = 500 # number of samples for each training\n",
    "    steps = 10   # step size of the moving window\n",
    "    T=200         # number of time steps at each state\n",
    "\n",
    "    \"\"\"\n",
    "    ctxs = traj_to_contexts(trajectory, context_window_len=context_length)\n",
    "\n",
    "\n",
    "    N = X.shape[0]\n",
    "    r = modelClass.rank\n",
    "    features = observable(X).shape[-1]\n",
    "    freqs = np.zeros(((N-window_size-T)//steps, r*features))\n",
    "    amplitudes = np.zeros(((N-window_size-T)//steps, r*features))\n",
    "    phases = np.zeros(((N-window_size-T)//steps, r*features))\n",
    "    modulus = np.zeros(((N-window_size-T)//steps, r*features))\n",
    "\n",
    "    for i in tqdm(range((N-window_size-T)//steps)):\n",
    "\n",
    "        model = deepcopy(modelClass)\n",
    "        model.fit(X[i*steps:(i+1)*steps+window_size])\n",
    "\n",
    "        infos = compute_mode_info(model,observable, deltat=deltat, xcoord=None)\n",
    "        freqs[i] = infos['frequency']\n",
    "        amplitudes[i] = infos['amplitude']\n",
    "        modulus[i] = infos['modulus']\n",
    "        phases[i] = infos['phase']\n",
    "        del model\n",
    "\n",
    "    return freqs, phases, amplitudes, modulus"
   ]
  },
  {
   "cell_type": "markdown",
   "id": "56fc6695",
   "metadata": {},
   "source": [
    "Contrary to a Fourier spectrogram, the Koopman spectrogram does not provide an amplitude for all frequencies. Indeed, Koopman theory recovers the specific frequencies that are predominant in the dynamic. This leads to a sparser representation than the Fourier spectrogram that is more easily readable. Furthermore, the Koopman spectrogram is not dependent on a discretisation of the frequency space and may be more precise than Fourier.\n",
    "\n",
    "Here are the parametes that we will use for building the Koopman spectrogram of our series:"
   ]
  },
  {
   "cell_type": "code",
   "execution_count": null,
   "id": "f01754f4",
   "metadata": {},
   "outputs": [],
   "source": [
    "# Parameters of the spectrogram\n",
    "N = 100        # Number of samples (of states) for each training round\n",
    "steps = 10     # Step size between two training (speed of the moving window)\n",
    "T=100          # Number of time steps composing each state\n",
    "\n",
    "# Defining the lambda\n",
    "observable = lambda x : x[:,0]"
   ]
  },
  {
   "cell_type": "markdown",
   "id": "98a276da",
   "metadata": {},
   "source": [
    "We will furthermore use the ``kooplearn`` model's hyperparameters we selected in the previous section. We can now learn the Koopman spectrogram :"
   ]
  },
  {
   "cell_type": "code",
   "execution_count": null,
   "id": "6594a83c",
   "metadata": {
    "scrolled": true
   },
   "outputs": [],
   "source": [
    "# Learning the spectrogram\n",
    "freqs, phases, amplitudes, modulus = spectrogram(X, model, N, steps, T, observable, deltat=0.01)"
   ]
  },
  {
   "cell_type": "markdown",
   "id": "1bf2950c",
   "metadata": {},
   "source": [
    "And plot the resulting spectrogram:"
   ]
  },
  {
   "cell_type": "code",
   "execution_count": null,
   "id": "1240e558",
   "metadata": {},
   "outputs": [],
   "source": [
    "# Plotting the spectrogram\n",
    "plt.figure(figsize=(30,10))\n",
    "amplitudes[freqs <= 0] = np.nan                          # dropping values for negative freqs\n",
    "secs = np.arange(freqs.shape[0])/10                      # X axis in seconds\n",
    "xs = np.outer(secs, np.ones(freqs.shape[1]))             # reformatting for plt scatter\n",
    "for i in range(0, xs.shape[0], 10):\n",
    "    plt.scatter(x=xs[i], y=freqs[i], c=amplitudes[i], cmap='viridis_r', s=50)\n",
    "plt.colorbar()\n",
    "plt.ylabel('Frequency [Hz]')\n",
    "plt.xlabel('Time [sec]')\n",
    "plt.margins(x=0, y=0)\n",
    "plt.ylim(0, 50)\n",
    "plt.show()"
   ]
  },
  {
   "cell_type": "markdown",
   "id": "4eb83faa",
   "metadata": {},
   "source": [
    "Observe that we do recover the correct frequencies. When the signal is composed of only two frequencies, they appear with high ammplitude in the koopman operator. Other noisy frequencies are selected since the rank of the ``kooplearn`` model was larger than 4, but as expected they have a smaller amplitude since they are not truely part of the signal. We also observe that frequencies at the margin of the two regimes are slightly meaned, which is an effect of the sliding window that is also observed in the Fourier spectrogram. Reducing the size of the moving window will reduce this blending of frequencies at the cost of a lower precision."
   ]
  },
  {
   "cell_type": "markdown",
   "id": "708f42a7",
   "metadata": {},
   "source": [
    "## Regime change detection"
   ]
  },
  {
   "cell_type": "markdown",
   "id": "faffda87",
   "metadata": {},
   "source": [
    "Since the Koopman spectrogram selects specific frequencies, we can use them to automatically detect regime changes through clustering. In this section, we recover the two regimes of our synthetic dataset using DBSCAN.\n",
    "\n",
    "First, notice that the frequencies given by mode decomposition are always in the same order. To homogenize our vectors we must sort them in increasing order. Do notice that if the rank of the model is overestimated, the frequency vector will contain many unreliable frequencies that can alter the position of the relevant ones. For instance, in the second regime of our data, the Koopman operator with rank 8 has 4 frequencies of low amplitude that change randomly between windows. One should consider either filtering out these noisy frequencies before clustering or reducing the rank of the Koopman operator."
   ]
  },
  {
   "cell_type": "code",
   "execution_count": null,
   "id": "0604e8ec",
   "metadata": {},
   "outputs": [],
   "source": [
    "# sorting frequencies\n",
    "sorted_freqs = np.sort(freqs, axis=-1)"
   ]
  },
  {
   "cell_type": "markdown",
   "id": "854d3b72",
   "metadata": {},
   "source": [
    "Now that we have vectors of frequencies for each  window, we can apply the DBSCAN algorithm to cluster the time-series in several modes."
   ]
  },
  {
   "cell_type": "code",
   "execution_count": null,
   "id": "84d58d47",
   "metadata": {},
   "outputs": [],
   "source": [
    "from sklearn.cluster import DBSCAN\n",
    "cls = DBSCAN(eps=0.02)\n",
    "classes = cls.fit_predict(sorted_freqs)\n",
    "first_regime = classes == 0      # boolean array identifying the first regime\n",
    "second_regime = classes != 0     # boolean array indentifying the second regime\n",
    "\n",
    "# cosmetic change to the classes (they should overlap so that to avoid gaps when plotting)\n",
    "for k in range(1, second_regime.shape[0]):\n",
    "    if not second_regime[k-1] and second_regime[k] :\n",
    "        second_regime[k-1] = True\n",
    "    if not first_regime[k-1] and first_regime[k] :\n",
    "        first_regime[k-1] = True"
   ]
  },
  {
   "cell_type": "code",
   "execution_count": null,
   "id": "441baf6d",
   "metadata": {},
   "outputs": [],
   "source": [
    "plt.figure(figsize=(30,10))\n",
    "for i in range(0, xs.shape[0], 10):\n",
    "    plt.scatter(x=xs[i], y=freqs[i], c=amplitudes[i], cmap='viridis_r', s=50)\n",
    "plt.colorbar()\n",
    "plt.ylabel('Frequency [Hz]')\n",
    "plt.xlabel('Time [sec]')\n",
    "plt.fill_between(secs, 0, 50, where=first_regime, facecolor='blue', alpha=0.2, label='First regime')\n",
    "plt.fill_between(secs, 0, 50, where=second_regime, facecolor='red', alpha=0.2, label='Second regime')\n",
    "plt.margins(x=0, y=0)\n",
    "plt.legend()\n",
    "plt.show()"
   ]
  },
  {
   "cell_type": "markdown",
   "id": "6f8b0bc1",
   "metadata": {},
   "source": [
    "We have indeed recovered the two regimes present in our data."
   ]
  }
 ],
 "metadata": {
  "kernelspec": {
   "display_name": "Python 3.11.7 ('base')",
   "language": "python",
   "name": "python3"
  },
  "language_info": {
   "codemirror_mode": {
    "name": "ipython",
    "version": 3
   },
   "file_extension": ".py",
   "mimetype": "text/x-python",
   "name": "python",
   "nbconvert_exporter": "python",
   "pygments_lexer": "ipython3",
   "version": "3.11.4"
  },
  "vscode": {
   "interpreter": {
    "hash": "e542855efea805fdeadee4820e6ce227faa7a8bdadff91341a1dace35c99799c"
   }
  }
 },
 "nbformat": 4,
 "nbformat_minor": 5
}
