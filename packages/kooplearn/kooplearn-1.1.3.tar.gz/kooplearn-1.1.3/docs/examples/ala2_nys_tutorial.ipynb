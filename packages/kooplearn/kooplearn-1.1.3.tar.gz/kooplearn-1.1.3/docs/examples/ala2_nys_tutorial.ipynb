{
 "cells": [
  {
   "cell_type": "markdown",
   "metadata": {
    "id": "GgBVGIUIVVWx"
   },
   "source": [
    "# Analysing molecular dynamics simulations\n",
    "\n",
    "> _Author:_ Giacomo Meanti — [Giodiro](https://github.com/Giodiro)\n",
    "\n",
    "In this tutorial we will do a simple spectral analysis of a molecular dynamics simulation of the alanine dipeptide.\n",
    "This small molecule is often used as a test bench for algorithms working on MD since it provides interesting, slow dynamics while being small and easy to work with.\n",
    "\n",
    "We will start by training a Nystroem reduced rank regression model with the `kooplearn.models.NystroemKernel` class and a Gaussian kernel, and from there move to the spectral analysis of eigenvalues and eigenfunctions of the estimated Koopman operator.\n",
    "\n",
    "Using the Nystroem approximation allows us to run a full analysis of MD data in a few seconds, without needing to subsample the trajectories too much (we will be training models on 25k and 50k points in a matter of seconds)."
   ]
  },
  {
   "cell_type": "markdown",
   "metadata": {
    "id": "7COeR5LUUjMS"
   },
   "source": [
    "## Setup"
   ]
  },
  {
   "cell_type": "code",
   "execution_count": null,
   "metadata": {},
   "outputs": [],
   "source": [
    "import importlib\n",
    "\n",
    "for module in ['kooplearn', 'matplotlib']:\n",
    "    try:\n",
    "        importlib.import_module(module)\n",
    "    except ImportError:\n",
    "        %pip install {module}"
   ]
  },
  {
   "cell_type": "code",
   "execution_count": null,
   "metadata": {
    "executionInfo": {
     "elapsed": 330,
     "status": "ok",
     "timestamp": 1709216643239,
     "user": {
      "displayName": "Giacomo Turri",
      "userId": "13549940502458923269"
     },
     "user_tz": -60
    },
    "id": "JV96AGIFa7j6"
   },
   "outputs": [],
   "source": [
    "import os\n",
    "from urllib.request import urlretrieve\n",
    "import numpy as np\n",
    "import matplotlib.pyplot as plt\n",
    "from matplotlib import colors\n",
    "from sklearn.gaussian_process.kernels import RBF\n",
    "from kooplearn.models import NystroemKernel\n",
    "from kooplearn.data import traj_to_contexts"
   ]
  },
  {
   "cell_type": "markdown",
   "metadata": {},
   "source": [
    "### Download the data\n",
    "\n",
    "The data consists of 3 250ns long independent molecular dynamic runs of the alanine dipeptide.\n",
    "The first file contains the backbone dihedral angles $\\phi, \\psi$. They are known to provide enough information to identify \n",
    "the slow transitions of the dipeptide.\n",
    "\n",
    "We will not use the dihedrals for training but only for the subsequent analysis: \n",
    "we will show that a model trained on the heavy atom pairwise distances (contained in the second file we're downloading)\n",
    "can recover the same slow transitions as can be done by analyzing the dihedrals.\n",
    "\n",
    "In a more realistic example, one would not have access to the dihedrals but would still be interested in recovering\n",
    "slow transitions of the molecule.\n",
    " \n",
    "For more information about the data, see https://markovmodel.github.io/mdshare/ALA2/#alanine-dipeptide\n"
   ]
  },
  {
   "cell_type": "code",
   "execution_count": null,
   "metadata": {
    "ExecuteTime": {
     "end_time": "2024-03-05T12:40:03.959327164Z",
     "start_time": "2024-03-05T12:40:03.931777652Z"
    }
   },
   "outputs": [],
   "source": [
    "base_url = \"http://ftp.imp.fu-berlin.de/pub/cmb-data/\"\n",
    "files = [\n",
    "    \"alanine-dipeptide-3x250ns-backbone-dihedrals.npz\",\n",
    "    \"alanine-dipeptide-3x250ns-heavy-atom-distances.npz\",\n",
    "]\n",
    "for file in files:\n",
    "    if not os.path.isfile(file):\n",
    "        urlretrieve(base_url + file, file)"
   ]
  },
  {
   "cell_type": "markdown",
   "metadata": {},
   "source": [
    "We will use the first of three simulations for training and the second for testing.\n",
    "Here we plot (part of) the test dataset, both distances and dihedrals. Notice how the dihedrals show a sort of switching behavior. \n",
    "This becomes more clear in the Ramachandran plot (plotting each configuration's $\\phi$ vs. $\\psi$ angle) where each cluster defines\n",
    "a specific state in which the protein can be in."
   ]
  },
  {
   "cell_type": "code",
   "execution_count": null,
   "metadata": {
    "ExecuteTime": {
     "end_time": "2024-03-05T12:50:03.243998267Z",
     "start_time": "2024-03-05T12:50:03.060062313Z"
    },
    "executionInfo": {
     "elapsed": 3,
     "status": "ok",
     "timestamp": 1709216643651,
     "user": {
      "displayName": "Giacomo Turri",
      "userId": "13549940502458923269"
     },
     "user_tz": -60
    },
    "id": "3XxzzJuDaxIe"
   },
   "outputs": [],
   "source": [
    "train_distances = np.load(files[1])[\"arr_0\"]\n",
    "test_distances = np.load(files[1])[\"arr_1\"]\n",
    "test_dihedrals = np.load(files[0])[\"arr_1\"]\n",
    "time_ns = np.arange(train_distances.shape[0], dtype=np.float_)*1e-3"
   ]
  },
  {
   "cell_type": "code",
   "execution_count": null,
   "metadata": {
    "ExecuteTime": {
     "end_time": "2024-03-05T12:52:36.732175427Z",
     "start_time": "2024-03-05T12:52:36.528563824Z"
    },
    "executionInfo": {
     "elapsed": 3,
     "status": "ok",
     "timestamp": 1709216643651,
     "user": {
      "displayName": "Giacomo Turri",
      "userId": "13549940502458923269"
     },
     "user_tz": -60
    },
    "id": "Kbho7Mx8axIe"
   },
   "outputs": [],
   "source": [
    "subsample = 20\n",
    "\n",
    "x_ticks = np.arange(len(test_distances[::subsample]))[::2000]\n",
    "x_tickslabels = [f\"{x:.0f}\" for x in (time_ns[::subsample])[::2000]]\n",
    "\n",
    "fig, ax = plt.subplots(ncols=3, figsize=(15, 9))\n",
    "ax[0].imshow(test_distances[::subsample, :].T, aspect=120, cmap='plasma', interpolation='nearest')\n",
    "ax[0].set_ylabel(\"Atom distance\")\n",
    "ax[0].set_xlabel(\"Time [ns]\")\n",
    "ax[0].set_yticks([], [])\n",
    "ax[0].set_xticks(x_ticks, x_tickslabels)\n",
    "ax[1].imshow(test_dihedrals[::subsample, :].T, aspect=2750, cmap='plasma', interpolation='nearest')\n",
    "ax[1].set_ylabel(\"Backbone dihedrals\")\n",
    "ax[1].set_xlabel(\"Time [ns]\")\n",
    "ax[1].set_yticks([], [])\n",
    "ax[1].set_xticks(x_ticks, x_tickslabels)\n",
    "\n",
    "ax[2].scatter(test_dihedrals[::20, 0], test_dihedrals[::20, 1], s=2, color = 'k', alpha = 0.2)\n",
    "ax[2].set_xlabel(\"$\\phi$\")\n",
    "ax[2].set_ylabel(\"$\\psi$\")\n",
    "ax[2].set_xticks([-np.pi, 0, np.pi], [\"$-\\pi$\", \"$0$\", \"$\\pi$\"])\n",
    "ax[2].set_yticks([-np.pi, 0, np.pi], [\"$-\\pi$\", \"$0$\", \"$\\pi$\"])\n",
    "ax[2].set_title(\"Ramachandran plot\")\n",
    "ax[2].margins(0)\n",
    "ax[2].set_aspect('equal')"
   ]
  },
  {
   "cell_type": "markdown",
   "metadata": {},
   "source": [
    "## Model training"
   ]
  },
  {
   "cell_type": "markdown",
   "metadata": {},
   "source": [
    " - `tr_dist_ctx`: the training context (x and y). This uses atom distances\n",
    " - `ts_dist_ctx`: the test context (x and y) using atom distances\n",
    " - `ts_dih_ctx`: an auxiliary *test* context which contains dihedrals instead of atom distances"
   ]
  },
  {
   "cell_type": "code",
   "execution_count": null,
   "metadata": {
    "ExecuteTime": {
     "end_time": "2024-03-05T13:31:37.019116682Z",
     "start_time": "2024-03-05T13:31:37.008141673Z"
    }
   },
   "outputs": [],
   "source": [
    "def build_contexts(time_lag: int, subsample: int):\n",
    "    tr_dist_ctx = traj_to_contexts(train_distances[::subsample], time_lag=time_lag)\n",
    "    ts_dist_ctx = traj_to_contexts(test_distances[::subsample], time_lag=time_lag)\n",
    "    ts_dih_ctx = traj_to_contexts(test_dihedrals[::subsample], time_lag=time_lag)\n",
    "    return tr_dist_ctx, ts_dist_ctx, ts_dih_ctx"
   ]
  },
  {
   "cell_type": "code",
   "execution_count": null,
   "metadata": {
    "ExecuteTime": {
     "end_time": "2024-03-05T14:06:52.977488045Z",
     "start_time": "2024-03-05T14:06:52.925129542Z"
    }
   },
   "outputs": [],
   "source": [
    "time_lag = 10\n",
    "subsample = 10\n",
    "\n",
    "tr_dist_ctx, ts_dist_ctx, ts_dih_ctx = build_contexts(time_lag, subsample)\n",
    "\n",
    "print(f\"Training data size: {train_distances.shape}\")\n",
    "print(f\"Training context with {subsample}x subsampling and time lag of {time_lag} units:\")\n",
    "print(f\"\\t{tr_dist_ctx.shape=}\")"
   ]
  },
  {
   "cell_type": "markdown",
   "metadata": {},
   "source": [
    "Build the Nyström reduced rank regression (N-RRR) model used for training. Important hyperparameters are:\n",
    " - The kernel, here a Gaussian (RBF) kernel with length-scale 0.5. You can use all kernels supported by scipy here!\n",
    " - The regularizer `tikhonov_reg`, should be a small positive number to ensure a stable solution\n",
    " - The rank of the model to be trained: this depends on the system being analyzed.\n",
    " - The number of Nyström centers. Increasing this parameter makes the model slower to train but also more accurate.\n",
    " \n",
    "Then we fit the estimator and make predictions on the test set."
   ]
  },
  {
   "cell_type": "code",
   "execution_count": null,
   "metadata": {
    "ExecuteTime": {
     "end_time": "2024-03-05T14:34:11.244110679Z",
     "start_time": "2024-03-05T14:34:11.221655287Z"
    }
   },
   "outputs": [],
   "source": [
    "kernel = RBF(length_scale=0.5)\n",
    "nys_rrr = NystroemKernel(\n",
    "    kernel=kernel,\n",
    "    reduced_rank=True,  # Set the estimator to RRR. If False the estimator is PCR.\n",
    "    tikhonov_reg=1e-7,\n",
    "    rank=5,\n",
    "    num_centers=600, \n",
    "    rng_seed=0\n",
    ")"
   ]
  },
  {
   "cell_type": "code",
   "execution_count": null,
   "metadata": {
    "ExecuteTime": {
     "end_time": "2024-03-05T14:34:15.609074002Z",
     "start_time": "2024-03-05T14:34:12.609203863Z"
    }
   },
   "outputs": [],
   "source": [
    "# Fit the Nystroem model\n",
    "nys_rrr.fit(tr_dist_ctx)\n",
    "# Predict on the test set and compute an error metric\n",
    "X_pred = nys_rrr.predict(ts_dist_ctx)  # Here we must pass the `X` part of the context\n",
    "X_true = ts_dist_ctx.lookforward(nys_rrr.lookback_len)  # This is the `Y` part of the test context\n",
    "rmse_onestep = np.sqrt(np.mean((X_pred - X_true)**2))\n",
    "print(f\"Trained Nystroem RRR model with {nys_rrr.num_centers} centers. \"\n",
    "      f\"Test RMSE on 1-step predictions = {rmse_onestep:.3f}\")"
   ]
  },
  {
   "cell_type": "markdown",
   "metadata": {},
   "source": [
    "## Spectral Analysis\n",
    "\n",
    "Given the Koopman operator we've learned with Nystroem RRR we can analyze the dynamical system.\n",
    "\n",
    "To do this we will use the **spectrum** of the operator: the eigenvalues and eigenvectors.\n",
    "\n",
    "Each eigenpair describes a different component of the dynamics. Eigenvalues provide information about the *relaxation time-scales* of each component, larger eigenvalues correspond to slower processes, while smaller ones correspond to faster processes. On the other hand eigenvectors describe how each component varies in space. A common way to use the eigenvectors is to provide a dimensionality reduction of the original (high-dimensional) states onto the **slowest dynamics** corresponding to the eigenvectors with highest eigenvalues.\n",
    "\n",
    "A special mention to the highest eigenpair which should have eigenvalue close to 1. This is the stationary dynamics, and is generally not used for spectral analysis."
   ]
  },
  {
   "cell_type": "markdown",
   "metadata": {},
   "source": [
    "First we use the `nys_rrr` object to compute the eigenvalues of the operator, and the eigenvectors.\n",
    "Note that since the Koopman operator is technically an *infinite dimensional operator* it doesn't have eigenvectors but **eigenfunctions**. For this reason, in order to have a concrete, finite-dimensional representation, the eigenfunctions must be evaluated on some data-points. Here we evaluate the right eigenfunctions on the subsampled test distances. Here it doesn't really matter if you're using the `X` or `Y` part of the data.\n",
    "\n",
    "Another thing to note is that the eigenvalues are returned in ascending order. We reverse the order to simplify the analysis later (since we're most interested in the highest eigenvalues!)"
   ]
  },
  {
   "cell_type": "code",
   "execution_count": null,
   "metadata": {
    "ExecuteTime": {
     "end_time": "2024-03-05T14:34:20.143658301Z",
     "start_time": "2024-03-05T14:34:19.011204588Z"
    }
   },
   "outputs": [],
   "source": [
    "from kooplearn.utils import topk\n",
    "evals, evec_right = nys_rrr.eig(eval_right_on=ts_dist_ctx)\n",
    "top_evals = topk(np.abs(evals), 4) # Take the Four largest eigenvalues in modulus\n",
    "evals = evals[top_evals.indices]\n",
    "evec_right = evec_right[:, top_evals.indices]"
   ]
  },
  {
   "cell_type": "markdown",
   "metadata": {},
   "source": [
    "Now we compute the time-scales implied by the eigenvalues. We have to take into account the fact that we've subsampled the data, and that we have generated trajectories such that the Koopman operator predicts Y from X where the pairs are `time_lag` time-steps apart. Knowing that the trajectories have a time-step of 1ps, we can compute the implied time-scales!\n",
    "\n",
    "Note that:\n",
    " - we exclude the top eigenvalue (which corresponds to the stationary distribution), since it theoretically has an infinite relaxation time-scale\n",
    " - the spectrum for this system decays very rapidly as there are only two or three slow components to the dynamics. Since the other components are much faster, their true eigenvalues are very close to 0. The learned estimator will have some small errors due to having access to a finite dataset, so these eigenvalues might be estimated to be slightly lower than zero which causes them to have an **undefined time-scale**."
   ]
  },
  {
   "cell_type": "code",
   "execution_count": null,
   "metadata": {
    "ExecuteTime": {
     "end_time": "2024-03-05T14:34:20.723338649Z",
     "start_time": "2024-03-05T14:34:20.703561042Z"
    }
   },
   "outputs": [],
   "source": [
    "tscales = -1 / np.log(evals.real.clip(1e-8, 1))\n",
    "tscales_real = tscales * time_lag * subsample\n",
    "print(f\"Stationary distribution eigenvalue: {evals[0].real:.3f}\")\n",
    "print(f\"Other eigenvalues: {evals[1:].real}\")\n",
    "print(f\"Implied time-scales: {tscales_real[1:]*1e-3} ns\")"
   ]
  },
  {
   "cell_type": "markdown",
   "metadata": {},
   "source": [
    "Finally, we're going to plot the first three eigenfunctions (excluding the stationary distribution) on the test data. We will superimpose the eigenfunctions, which in the plot below are represented with as the color, to the Ramachandran plot.\n",
    "Since we know that the Ramachandran plot provides a good clustering of the dynamics of the alanine dipeptide, we wish to see whether the color (eigenfunctions) also matches the clusters well.\n",
    "\n",
    "By matching each eigenfunction to an eigenvalue we will also learn which transition between different areas of the Ramachandran plot is slowest."
   ]
  },
  {
   "cell_type": "code",
   "execution_count": null,
   "metadata": {
    "ExecuteTime": {
     "end_time": "2024-03-05T14:34:25.660962703Z",
     "start_time": "2024-03-05T14:34:24.406552836Z"
    }
   },
   "outputs": [],
   "source": [
    "fig, axes = plt.subplots(ncols=3, figsize=(12, 5))\n",
    "cmap = plt.cm.coolwarm\n",
    "alpha = 0.2\n",
    "s = 5\n",
    "efun_vals = evec_right.real\n",
    "\n",
    "# It might be useful to play with the mid value and range of the\n",
    "# color-maps for each eigenfunction to get nicer visualizations.\n",
    "vcenters = [0, 0, 0]  # np.median(efun_vals, axis=0)\n",
    "halfranges = [0.01, 0.1, 0.02]  # efun_vals.std(axis=0)\n",
    "\n",
    "for i in range(len(axes)):\n",
    "    axes[i].scatter(\n",
    "        ts_dih_ctx.data[:, 0, 0], ts_dih_ctx.data[:, 0, 1],\n",
    "        c=efun_vals[:, i + 1], s=s, cmap=cmap, alpha=alpha,\n",
    "        norm=colors.CenteredNorm(vcenter=vcenters[i], halfrange=halfranges[i])\n",
    "    )\n",
    "    axes[i].set_title(f\"time-scale = {tscales_real[i + 1].real:.3f}ps\")\n",
    "    axes[i].set_xticks([-np.pi, 0, np.pi], [\"$-\\pi$\", \"$0$\", \"$\\pi$\"])\n",
    "    axes[i].set_xlabel(\"$\\phi$\")\n",
    "    axes[i].set_yticks([-np.pi, 0, np.pi])\n",
    "    if i == 0:\n",
    "        axes[i].set_yticklabels([\"$-\\pi$\", \"$0$\", \"$\\pi$\"])\n",
    "        axes[i].set_ylabel(\"$\\psi$\")\n",
    "    else:\n",
    "        axes[i].set_yticklabels([])\n",
    "    axes[i].set_aspect('equal')\n",
    "    axes[i].margins(0)"
   ]
  },
  {
   "cell_type": "markdown",
   "metadata": {},
   "source": [
    "A brief comment on the eigenfunction plot:\n",
    " - the first panel shows that the slowest transition is between the right and left parts of the Ramachandran plot (high to low $\\phi$).\n",
    " - the second panel shows that the second slowest transition is between $\\psi\\approx 0$ and $\\psi\\approx \\pi$.\n",
    " - the third panel seems to be a very noisy component which cannot be reliably interpreted."
   ]
  },
  {
   "cell_type": "markdown",
   "metadata": {},
   "source": [
    "## Consistency Analysis\n",
    "\n",
    "An important aspect of a spectral analysis is that it should remain consistent across different time-lags.\n",
    "\n",
    "We will analyze the implied time-scale (ITS) in terms of number of simulation steps (thus ignoring the real units of the simulation and the subsampling).\n",
    "\n",
    "As we train models with increasing time lags (the time lag is the distance in number of simulation steps between x and y pairs), the estimated eigenvalues will become smaller since the model's time-unit is the single time-lag, and relaxation becomes faster in terms of # of time-lags. However the ITS should remain relatively stable.\n",
    "\n",
    "As we increase the time lags even further, faster dynamics will have relaxation times which are faster than a single time-lag, hence the model won't be able to estimate those reliably.\n",
    "\n",
    "We will see that the 1st ITS increases rapidly as we start increasing the time lags. This behavior is well documented in similar models. At some point however it converges, much before it becomes too fast to be resolved.\n",
    "\n",
    "The 2nd ITS instead is much smaller, hence it won't be resolved with higher time-lags. However we find that it converges very quickly at small time-lags."
   ]
  },
  {
   "cell_type": "markdown",
   "metadata": {},
   "source": [
    "We first define a helper function to train a model and return its ITS at a specific time-lag"
   ]
  },
  {
   "cell_type": "code",
   "execution_count": null,
   "metadata": {
    "code_folding": [
     0
    ]
   },
   "outputs": [],
   "source": [
    "def train_model(time_lag: int, subsample: int):\n",
    "    tr_dist_ctx, ts_dist_ctx, _ = build_contexts(time_lag, subsample)\n",
    "    kernel = RBF(length_scale=0.5)\n",
    "    nys_rrr = NystroemKernel(\n",
    "        kernel=kernel,\n",
    "        reduced_rank=True,  # Set the estimator to RRR. If False the estimator is PCR.\n",
    "        tikhonov_reg=1e-7,\n",
    "        rank=5,\n",
    "        num_centers=300, \n",
    "        rng_seed=0\n",
    "    )\n",
    "    \n",
    "    nys_rrr.fit(tr_dist_ctx)\n",
    "    \n",
    "    X_pred = nys_rrr.predict(ts_dist_ctx)  # Here we must pass the `X` part of the context\n",
    "    X_true = ts_dist_ctx.lookforward(nys_rrr.lookback_len)# This is the `Y` part of the test context\n",
    "    rmse_onestep = np.sqrt(np.mean((X_pred - X_true)**2))\n",
    "\n",
    "    evals = nys_rrr.eig()\n",
    "    evals = evals[topk(np.abs(evals), 4).indices]\n",
    "\n",
    "    tscales = -1 / np.log(evals.real.clip(1e-8, 1))\n",
    "    tscales_real = tscales * time_lag\n",
    "    \n",
    "    return rmse_onestep, tscales_real"
   ]
  },
  {
   "cell_type": "markdown",
   "metadata": {},
   "source": [
    "Now we train one model per time-lag. Note that since the Nystroem method is very efficient we can quickly train many models even with many time-points (subsample=5 means training with 50k points)."
   ]
  },
  {
   "cell_type": "code",
   "execution_count": null,
   "metadata": {
    "scrolled": true
   },
   "outputs": [],
   "source": [
    "error_d = {}\n",
    "tscale_d = {}\n",
    "for time_lag in [1, 2, 5, 10, 20, 30, 40, 50, 60, 70, 80, 90, 100]:\n",
    "    error, tscale = train_model(time_lag, subsample=5)\n",
    "    error_d[time_lag] = error\n",
    "    tscale_d[time_lag] = tscale"
   ]
  },
  {
   "cell_type": "markdown",
   "metadata": {},
   "source": [
    "Simple plot of the RMSE for different time-lags"
   ]
  },
  {
   "cell_type": "code",
   "execution_count": null,
   "metadata": {},
   "outputs": [],
   "source": [
    "fig, ax = plt.subplots()\n",
    "ax.plot(error_d.keys(), error_d.values(), lw=3, marker='o')\n",
    "ax.set_xlabel(\"Time-lag [ps]\")\n",
    "ax.set_ylabel(\"RMSE\")\n",
    "ax.margins(x=0)"
   ]
  },
  {
   "cell_type": "code",
   "execution_count": null,
   "metadata": {},
   "outputs": [],
   "source": [
    "fig, ax = plt.subplots(ncols=2, figsize=(9, 4.5))\n",
    "time_lags = list(tscale_d.keys())\n",
    "ax[0].plot(time_lags, [tscale[1] for tscale in tscale_d.values()], lw=3, marker='o')\n",
    "ax[1].plot(time_lags, [tscale[2] for tscale in tscale_d.values()], lw=3, marker='o')\n",
    "ax[0].plot([0, 100], [0, 100], lw=3, c='k')\n",
    "ax[1].plot([0, 100], [0, 100], lw=3, c='k')\n",
    "ax[0].set_xlabel(\"Lag time (steps)\")\n",
    "ax[0].set_ylabel(\"ITS (steps)\")\n",
    "ax[1].set_xlabel(\"Lag time (steps)\")\n",
    "ax[1].set_ylabel(\"ITS (steps)\")\n",
    "ax[0].set_title(\"1st component\")\n",
    "ax[1].set_title(\"2nd component\")\n",
    "ax[0].margins(x=0)\n",
    "ax[1].margins(x=0)"
   ]
  },
  {
   "cell_type": "markdown",
   "metadata": {},
   "source": [
    "Note that if we correct for subsampling the first ITS is approximately 1000ps and the second is approximately 90ps."
   ]
  }
 ],
 "metadata": {
  "colab": {
   "provenance": []
  },
  "kernelspec": {
   "display_name": "Python 3 (ipykernel)",
   "language": "python",
   "name": "python3"
  },
  "language_info": {
   "codemirror_mode": {
    "name": "ipython",
    "version": 3
   },
   "file_extension": ".py",
   "mimetype": "text/x-python",
   "name": "python",
   "nbconvert_exporter": "python",
   "pygments_lexer": "ipython3",
   "version": "3.11.5"
  },
  "toc": {
   "base_numbering": 1,
   "nav_menu": {},
   "number_sections": true,
   "sideBar": true,
   "skip_h1_title": false,
   "title_cell": "Table of Contents",
   "title_sidebar": "Contents",
   "toc_cell": false,
   "toc_position": {},
   "toc_section_display": true,
   "toc_window_display": false
  },
  "widgets": {
   "application/vnd.jupyter.widget-state+json": {
    "19e0e58980bc45a6b72901a0ed8d617d": {
     "model_module": "@jupyter-widgets/controls",
     "model_module_version": "1.5.0",
     "model_name": "ProgressStyleModel",
     "state": {
      "_model_module": "@jupyter-widgets/controls",
      "_model_module_version": "1.5.0",
      "_model_name": "ProgressStyleModel",
      "_view_count": null,
      "_view_module": "@jupyter-widgets/base",
      "_view_module_version": "1.2.0",
      "_view_name": "StyleView",
      "bar_color": null,
      "description_width": ""
     }
    },
    "2318fb6617794c9689e6aeaf5371fc15": {
     "model_module": "@jupyter-widgets/base",
     "model_module_version": "1.2.0",
     "model_name": "LayoutModel",
     "state": {
      "_model_module": "@jupyter-widgets/base",
      "_model_module_version": "1.2.0",
      "_model_name": "LayoutModel",
      "_view_count": null,
      "_view_module": "@jupyter-widgets/base",
      "_view_module_version": "1.2.0",
      "_view_name": "LayoutView",
      "align_content": null,
      "align_items": null,
      "align_self": null,
      "border": null,
      "bottom": null,
      "display": null,
      "flex": null,
      "flex_flow": null,
      "grid_area": null,
      "grid_auto_columns": null,
      "grid_auto_flow": null,
      "grid_auto_rows": null,
      "grid_column": null,
      "grid_gap": null,
      "grid_row": null,
      "grid_template_areas": null,
      "grid_template_columns": null,
      "grid_template_rows": null,
      "height": null,
      "justify_content": null,
      "justify_items": null,
      "left": null,
      "margin": null,
      "max_height": null,
      "max_width": null,
      "min_height": null,
      "min_width": null,
      "object_fit": null,
      "object_position": null,
      "order": null,
      "overflow": null,
      "overflow_x": null,
      "overflow_y": null,
      "padding": null,
      "right": null,
      "top": null,
      "visibility": null,
      "width": null
     }
    },
    "2dd3af58d27145af86dcce0900385559": {
     "model_module": "@jupyter-widgets/base",
     "model_module_version": "1.2.0",
     "model_name": "LayoutModel",
     "state": {
      "_model_module": "@jupyter-widgets/base",
      "_model_module_version": "1.2.0",
      "_model_name": "LayoutModel",
      "_view_count": null,
      "_view_module": "@jupyter-widgets/base",
      "_view_module_version": "1.2.0",
      "_view_name": "LayoutView",
      "align_content": null,
      "align_items": null,
      "align_self": null,
      "border": null,
      "bottom": null,
      "display": null,
      "flex": null,
      "flex_flow": null,
      "grid_area": null,
      "grid_auto_columns": null,
      "grid_auto_flow": null,
      "grid_auto_rows": null,
      "grid_column": null,
      "grid_gap": null,
      "grid_row": null,
      "grid_template_areas": null,
      "grid_template_columns": null,
      "grid_template_rows": null,
      "height": null,
      "justify_content": null,
      "justify_items": null,
      "left": null,
      "margin": null,
      "max_height": null,
      "max_width": null,
      "min_height": null,
      "min_width": null,
      "object_fit": null,
      "object_position": null,
      "order": null,
      "overflow": null,
      "overflow_x": null,
      "overflow_y": null,
      "padding": null,
      "right": null,
      "top": null,
      "visibility": null,
      "width": null
     }
    },
    "81f93556778141d9bee673611bee5cda": {
     "model_module": "@jupyter-widgets/base",
     "model_module_version": "1.2.0",
     "model_name": "LayoutModel",
     "state": {
      "_model_module": "@jupyter-widgets/base",
      "_model_module_version": "1.2.0",
      "_model_name": "LayoutModel",
      "_view_count": null,
      "_view_module": "@jupyter-widgets/base",
      "_view_module_version": "1.2.0",
      "_view_name": "LayoutView",
      "align_content": null,
      "align_items": null,
      "align_self": null,
      "border": null,
      "bottom": null,
      "display": null,
      "flex": null,
      "flex_flow": null,
      "grid_area": null,
      "grid_auto_columns": null,
      "grid_auto_flow": null,
      "grid_auto_rows": null,
      "grid_column": null,
      "grid_gap": null,
      "grid_row": null,
      "grid_template_areas": null,
      "grid_template_columns": null,
      "grid_template_rows": null,
      "height": null,
      "justify_content": null,
      "justify_items": null,
      "left": null,
      "margin": null,
      "max_height": null,
      "max_width": null,
      "min_height": null,
      "min_width": null,
      "object_fit": null,
      "object_position": null,
      "order": null,
      "overflow": null,
      "overflow_x": null,
      "overflow_y": null,
      "padding": null,
      "right": null,
      "top": null,
      "visibility": null,
      "width": null
     }
    },
    "8dabcf63fc2545fe80eeb93f281b3bcb": {
     "model_module": "@jupyter-widgets/controls",
     "model_module_version": "1.5.0",
     "model_name": "DescriptionStyleModel",
     "state": {
      "_model_module": "@jupyter-widgets/controls",
      "_model_module_version": "1.5.0",
      "_model_name": "DescriptionStyleModel",
      "_view_count": null,
      "_view_module": "@jupyter-widgets/base",
      "_view_module_version": "1.2.0",
      "_view_name": "StyleView",
      "description_width": ""
     }
    },
    "9901c977873249919918c817992198ea": {
     "model_module": "@jupyter-widgets/controls",
     "model_module_version": "1.5.0",
     "model_name": "HTMLModel",
     "state": {
      "_dom_classes": [],
      "_model_module": "@jupyter-widgets/controls",
      "_model_module_version": "1.5.0",
      "_model_name": "HTMLModel",
      "_view_count": null,
      "_view_module": "@jupyter-widgets/controls",
      "_view_module_version": "1.5.0",
      "_view_name": "HTMLView",
      "description": "",
      "description_tooltip": null,
      "layout": "IPY_MODEL_f8cc31bfa6a14b378159dddd1449efaa",
      "placeholder": "​",
      "style": "IPY_MODEL_c0d59c678f1a4f8280d37ecd359b0770",
      "value": " 10/10 [06:12&lt;00:00, 84.17s/it]"
     }
    },
    "c0d59c678f1a4f8280d37ecd359b0770": {
     "model_module": "@jupyter-widgets/controls",
     "model_module_version": "1.5.0",
     "model_name": "DescriptionStyleModel",
     "state": {
      "_model_module": "@jupyter-widgets/controls",
      "_model_module_version": "1.5.0",
      "_model_name": "DescriptionStyleModel",
      "_view_count": null,
      "_view_module": "@jupyter-widgets/base",
      "_view_module_version": "1.2.0",
      "_view_name": "StyleView",
      "description_width": ""
     }
    },
    "d21255b746d649dc9e64e71b6cf5f24c": {
     "model_module": "@jupyter-widgets/controls",
     "model_module_version": "1.5.0",
     "model_name": "HBoxModel",
     "state": {
      "_dom_classes": [],
      "_model_module": "@jupyter-widgets/controls",
      "_model_module_version": "1.5.0",
      "_model_name": "HBoxModel",
      "_view_count": null,
      "_view_module": "@jupyter-widgets/controls",
      "_view_module_version": "1.5.0",
      "_view_name": "HBoxView",
      "box_style": "",
      "children": [
       "IPY_MODEL_dfc37a052efd48cab1be30f8edf3f5fe",
       "IPY_MODEL_e885056751f54a2ebaa9eb7a37d8f623",
       "IPY_MODEL_9901c977873249919918c817992198ea"
      ],
      "layout": "IPY_MODEL_81f93556778141d9bee673611bee5cda"
     }
    },
    "dfc37a052efd48cab1be30f8edf3f5fe": {
     "model_module": "@jupyter-widgets/controls",
     "model_module_version": "1.5.0",
     "model_name": "HTMLModel",
     "state": {
      "_dom_classes": [],
      "_model_module": "@jupyter-widgets/controls",
      "_model_module_version": "1.5.0",
      "_model_name": "HTMLModel",
      "_view_count": null,
      "_view_module": "@jupyter-widgets/controls",
      "_view_module_version": "1.5.0",
      "_view_name": "HTMLView",
      "description": "",
      "description_tooltip": null,
      "layout": "IPY_MODEL_2dd3af58d27145af86dcce0900385559",
      "placeholder": "​",
      "style": "IPY_MODEL_8dabcf63fc2545fe80eeb93f281b3bcb",
      "value": "Number of training points: 100%"
     }
    },
    "e885056751f54a2ebaa9eb7a37d8f623": {
     "model_module": "@jupyter-widgets/controls",
     "model_module_version": "1.5.0",
     "model_name": "FloatProgressModel",
     "state": {
      "_dom_classes": [],
      "_model_module": "@jupyter-widgets/controls",
      "_model_module_version": "1.5.0",
      "_model_name": "FloatProgressModel",
      "_view_count": null,
      "_view_module": "@jupyter-widgets/controls",
      "_view_module_version": "1.5.0",
      "_view_name": "ProgressView",
      "bar_style": "success",
      "description": "",
      "description_tooltip": null,
      "layout": "IPY_MODEL_2318fb6617794c9689e6aeaf5371fc15",
      "max": 10,
      "min": 0,
      "orientation": "horizontal",
      "style": "IPY_MODEL_19e0e58980bc45a6b72901a0ed8d617d",
      "value": 10
     }
    },
    "f8cc31bfa6a14b378159dddd1449efaa": {
     "model_module": "@jupyter-widgets/base",
     "model_module_version": "1.2.0",
     "model_name": "LayoutModel",
     "state": {
      "_model_module": "@jupyter-widgets/base",
      "_model_module_version": "1.2.0",
      "_model_name": "LayoutModel",
      "_view_count": null,
      "_view_module": "@jupyter-widgets/base",
      "_view_module_version": "1.2.0",
      "_view_name": "LayoutView",
      "align_content": null,
      "align_items": null,
      "align_self": null,
      "border": null,
      "bottom": null,
      "display": null,
      "flex": null,
      "flex_flow": null,
      "grid_area": null,
      "grid_auto_columns": null,
      "grid_auto_flow": null,
      "grid_auto_rows": null,
      "grid_column": null,
      "grid_gap": null,
      "grid_row": null,
      "grid_template_areas": null,
      "grid_template_columns": null,
      "grid_template_rows": null,
      "height": null,
      "justify_content": null,
      "justify_items": null,
      "left": null,
      "margin": null,
      "max_height": null,
      "max_width": null,
      "min_height": null,
      "min_width": null,
      "object_fit": null,
      "object_position": null,
      "order": null,
      "overflow": null,
      "overflow_x": null,
      "overflow_y": null,
      "padding": null,
      "right": null,
      "top": null,
      "visibility": null,
      "width": null
     }
    }
   }
  }
 },
 "nbformat": 4,
 "nbformat_minor": 1
}
