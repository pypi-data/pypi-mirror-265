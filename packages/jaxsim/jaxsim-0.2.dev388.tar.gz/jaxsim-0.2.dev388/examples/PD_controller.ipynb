{
 "cells": [
  {
   "cell_type": "markdown",
   "metadata": {},
   "source": [
    "# `JAXsim` Showcase: PD Controller\n",
    "\n",
    "<a target=\"_blank\" href=\"https://colab.research.google.com/github/ami-iit/jaxsim/blob/main/examples/PD_controller.ipynb\">\n",
    "  <img src=\"https://colab.research.google.com/assets/colab-badge.svg\" alt=\"Open In Colab\"/>\n",
    "</a>\n",
    "\n",
    "First, we install the necessary packages and import them."
   ]
  },
  {
   "cell_type": "code",
   "execution_count": null,
   "metadata": {},
   "outputs": [],
   "source": [
    "# @title Imports and setup\n",
    "from IPython.display import clear_output, HTML, display\n",
    "import sys\n",
    "\n",
    "IS_COLAB = \"google.colab\" in sys.modules\n",
    "\n",
    "# Install JAX and Gazebo\n",
    "if IS_COLAB:\n",
    "    !{sys.executable} -m pip install -U -q jaxsim\n",
    "    !apt -qq update && apt install -qq --no-install-recommends gazebo\n",
    "    clear_output()\n",
    "\n",
    "import jax\n",
    "import jax.numpy as jnp\n",
    "from jaxsim import logging\n",
    "\n",
    "logging.set_logging_level(logging.LoggingLevel.INFO)\n",
    "logging.info(f\"Running on {jax.devices()}\")"
   ]
  },
  {
   "cell_type": "markdown",
   "metadata": {},
   "source": [
    "We will use a simple cartpole model for this example. The cartpole model is a 2D model with a cart that can move horizontally and a pole that can rotate around the cart. The state of the cartpole is given by the position of the cart, the angle of the pole, the velocity of the cart, and the angular velocity of the pole. The control input is the horizontal force applied to the cart."
   ]
  },
  {
   "cell_type": "code",
   "execution_count": null,
   "metadata": {},
   "outputs": [],
   "source": [
    "# @title Fetch the URDF file\n",
    "import requests\n",
    "\n",
    "url = \"https://raw.githubusercontent.com/ami-iit/jaxsim/main/examples/assets/cartpole.urdf\"\n",
    "\n",
    "response = requests.get(url)\n",
    "if response.status_code == 200:\n",
    "    model_urdf_string = response.text\n",
    "else:\n",
    "    logging.error(\"Failed to fetch data\")"
   ]
  },
  {
   "cell_type": "markdown",
   "metadata": {},
   "source": [
    "JAXsim offers a simple high-level API in order to extract quantities needed in most robotic applications. "
   ]
  },
  {
   "cell_type": "code",
   "execution_count": null,
   "metadata": {},
   "outputs": [],
   "source": [
    "from jaxsim.high_level.model import Model\n",
    "\n",
    "model = Model.build_from_model_description(\n",
    "    model_description=model_urdf_string, is_urdf=True\n",
    ")"
   ]
  },
  {
   "cell_type": "markdown",
   "metadata": {},
   "source": [
    "Let's reset the cartpole to a random state."
   ]
  },
  {
   "cell_type": "code",
   "execution_count": null,
   "metadata": {},
   "outputs": [],
   "source": [
    "random_positions = jax.random.uniform(\n",
    "    minval=-1.0, maxval=1.0, shape=(model.dofs(),), key=jax.random.PRNGKey(0)\n",
    ")\n",
    "\n",
    "model.reset_joint_positions(positions=random_positions)"
   ]
  },
  {
   "cell_type": "markdown",
   "metadata": {},
   "source": [
    "The visualization is done using mujoco package, to be able to render easily the animations also on Google Colab. If you are not interested in the animation, execute but do not try to understand deeply this cell."
   ]
  },
  {
   "cell_type": "code",
   "execution_count": null,
   "metadata": {},
   "outputs": [],
   "source": [
    "# @title Set up MuJoCo renderer\n",
    "!{sys.executable} -m pip install -U -q mujoco\n",
    "!{sys.executable} -m pip install -q mediapy\n",
    "\n",
    "import mediapy as media\n",
    "import tempfile\n",
    "import xml.etree.ElementTree as ET\n",
    "import numpy as np\n",
    "\n",
    "import distutils.util\n",
    "import os\n",
    "import subprocess\n",
    "\n",
    "if IS_COLAB:\n",
    "    if subprocess.run(\"ffmpeg -version\", shell=True).returncode:\n",
    "        !command -v ffmpeg >/dev/null || (apt update && apt install -y ffmpeg)\n",
    "        clear_output()\n",
    "\n",
    "    if subprocess.run(\"nvidia-smi\").returncode:\n",
    "        raise RuntimeError(\n",
    "            \"Cannot communicate with GPU. \"\n",
    "            \"Make sure you are using a GPU Colab runtime. \"\n",
    "            \"Go to the Runtime menu and select Choose runtime type.\"\n",
    "        )\n",
    "\n",
    "    # Add an ICD config so that glvnd can pick up the Nvidia EGL driver.\n",
    "    # This is usually installed as part of an Nvidia driver package, but the Colab\n",
    "    # kernel doesn't install its driver via APT, and as a result the ICD is missing.\n",
    "    # (https://github.com/NVIDIA/libglvnd/blob/master/src/EGL/icd_enumeration.md)\n",
    "    NVIDIA_ICD_CONFIG_PATH = \"/usr/share/glvnd/egl_vendor.d/10_nvidia.json\"\n",
    "    if not os.path.exists(NVIDIA_ICD_CONFIG_PATH):\n",
    "        with open(NVIDIA_ICD_CONFIG_PATH, \"w\") as f:\n",
    "            f.write(\n",
    "                \"\"\"{\n",
    "      \"file_format_version\" : \"1.0.0\",\n",
    "      \"ICD\" : {\n",
    "         \"library_path\" : \"libEGL_nvidia.so.0\"\n",
    "     }\n",
    "  }\n",
    "  \"\"\"\n",
    "            )\n",
    "\n",
    "%env MUJOCO_GL=egl\n",
    "\n",
    "try:\n",
    "    import mujoco\n",
    "except Exception as e:\n",
    "    raise e from RuntimeError(\n",
    "        \"Something went wrong during installation. Check the shell output above \"\n",
    "        \"for more information.\\n\"\n",
    "        \"If using a hosted Colab runtime, make sure you enable GPU acceleration \"\n",
    "        'by going to the Runtime menu and selecting \"Choose runtime type\".'\n",
    "    )\n",
    "\n",
    "\n",
    "def load_mujoco_model_with_camera(xml_string, camera_pos, camera_xyaxes):\n",
    "    def to_mjcf_string(list_to_str):\n",
    "        return \" \".join(map(str, list_to_str))\n",
    "\n",
    "    mj_model_raw = mujoco.MjModel.from_xml_string(model_urdf_string)\n",
    "    path_temp_xml = tempfile.NamedTemporaryFile(mode=\"w+\")\n",
    "    mujoco.mj_saveLastXML(path_temp_xml.name, mj_model_raw)\n",
    "    # Add camera in mujoco model\n",
    "    tree = ET.parse(path_temp_xml)\n",
    "    for elem in tree.getroot().iter(\"worldbody\"):\n",
    "        worldbody_elem = elem\n",
    "    camera_elem = ET.Element(\"camera\")\n",
    "    # Set attributes\n",
    "    camera_elem.set(\"name\", \"side\")\n",
    "    camera_elem.set(\"pos\", to_mjcf_string(camera_pos))\n",
    "    camera_elem.set(\"xyaxes\", to_mjcf_string(camera_xyaxes))\n",
    "    camera_elem.set(\"mode\", \"fixed\")\n",
    "    worldbody_elem.append(camera_elem)\n",
    "\n",
    "    # Save new model\n",
    "    mujoco_xml_with_camera = ET.tostring(tree.getroot(), encoding=\"unicode\")\n",
    "    mj_model = mujoco.MjModel.from_xml_string(mujoco_xml_with_camera)\n",
    "    return mj_model\n",
    "\n",
    "\n",
    "def from_jaxsim_to_mujoco_pos(jaxsim_jointpos, mjmodel, jaxsimmodel):\n",
    "    mujocoqposaddr2jaxindex = {}\n",
    "    for jaxjnt in jaxsimmodel.joints():\n",
    "        jntname = jaxjnt.name()\n",
    "        mujocoqposaddr2jaxindex[mjmodel.joint(jntname).qposadr[0]] = jaxjnt.index() - 1\n",
    "\n",
    "    mujoco_jointpos = jaxsim_jointpos\n",
    "    for i in range(0, len(mujoco_jointpos)):\n",
    "        mujoco_jointpos[i] = jaxsim_jointpos[mujocoqposaddr2jaxindex[i]]\n",
    "\n",
    "    return mujoco_jointpos\n",
    "\n",
    "\n",
    "# To get a good camera location, you can use \"Copy camera\" functionality in MuJoCo GUI\n",
    "mj_model = load_mujoco_model_with_camera(\n",
    "    model_urdf_string,\n",
    "    [3.954, 3.533, 2.343],\n",
    "    [-0.594, 0.804, -0.000, -0.163, -0.120, 0.979],\n",
    ")\n",
    "renderer = mujoco.Renderer(mj_model, height=480, width=640)\n",
    "\n",
    "\n",
    "def get_image(camera, mujocojointpos) -> np.ndarray:\n",
    "    \"\"\"Renders the environment state.\"\"\"\n",
    "    # Copy joint data in mjdata state\n",
    "    d = mujoco.MjData(mj_model)\n",
    "    d.qpos = mujocojointpos\n",
    "\n",
    "    # Forward kinematics\n",
    "    mujoco.mj_forward(mj_model, d)\n",
    "\n",
    "    # use the mjData object to update the renderer\n",
    "    renderer.update_scene(d, camera=camera)\n",
    "    return renderer.render()"
   ]
  },
  {
   "cell_type": "markdown",
   "metadata": {},
   "source": [
    "Let's see how the model behaves when not controlled:"
   ]
  },
  {
   "cell_type": "code",
   "execution_count": null,
   "metadata": {},
   "outputs": [],
   "source": [
    "from jaxsim.simulation.ode_integration import IntegratorType\n",
    "\n",
    "sim_images = []\n",
    "timestep = 0.01\n",
    "for _ in range(300):\n",
    "    sim_images.append(\n",
    "        get_image(\n",
    "            \"side\",\n",
    "            from_jaxsim_to_mujoco_pos(\n",
    "                np.array(model.joint_positions()), mj_model, model\n",
    "            ),\n",
    "        )\n",
    "    )\n",
    "    model.integrate(\n",
    "        t0=0.0, tf=timestep, integrator_type=IntegratorType.EulerSemiImplicit\n",
    "    )\n",
    "\n",
    "media.show_video(sim_images, fps=1 / timestep)"
   ]
  },
  {
   "cell_type": "markdown",
   "metadata": {},
   "source": [
    "Let's now define the PD controller. We will use the following equations:\n",
    "\n",
    "\\begin{align} \n",
    "\\mathbf{M}\\ddot{s} + \\underbrace{\\mathbf{C}\\dot{s} + \\mathbf{G}}_{\\mathbf{H}} = \\tau \\\\\n",
    "\\tau = \\mathbf{H} - \\mathbf{K}_p(s - s_d) - \\mathbf{K}_d(\\dot{s} - \\dot{s}_d)\n",
    "\\end{align}\n",
    "\n",
    "where $\\mathbf{M}$ is the mass matrix, $\\mathbf{C}$ is the Coriolis matrix, $\\mathbf{G}$ is the gravity vector, $\\mathbf{K}_p$ is the proportional gain matrix, $\\mathbf{K}_d$ is the derivative gain matrix, $s$ is the position vector, $\\dot{s}$ is the velocity vector, $\\ddot{s}$ is the acceleration vector, and $s_d$ and $\\dot{s}_d$ are the desired position and velocity vectors, respectively."
   ]
  },
  {
   "cell_type": "code",
   "execution_count": null,
   "metadata": {},
   "outputs": [],
   "source": [
    "# Define the PD gains\n",
    "KP = 10.0\n",
    "KD = 6.0\n",
    "\n",
    "# Compute the gravity compensation term\n",
    "H = model.free_floating_bias_forces()[6:]\n",
    "\n",
    "\n",
    "def pd_controller(\n",
    "    q: jax.Array, q_d: jax.Array, q_dot: jax.Array, q_dot_d: jax.Array\n",
    ") -> jax.Array:\n",
    "    return H + KP * (q_d - q) + KD * (q_dot_d - q_dot)"
   ]
  },
  {
   "cell_type": "markdown",
   "metadata": {},
   "source": [
    "Now, we can use the `pd_controller` function to compute the torque to apply to the cartpole. Our aim is to stabilize the cartpole in the upright position, so we set the desired position `q_d` to 0 and the desired velocity `q_dot_d` to 0."
   ]
  },
  {
   "cell_type": "code",
   "execution_count": null,
   "metadata": {},
   "outputs": [],
   "source": [
    "sim_images = []\n",
    "timestep = 0.01\n",
    "\n",
    "for _ in range(300):\n",
    "    sim_images.append(\n",
    "        get_image(\n",
    "            \"side\",\n",
    "            from_jaxsim_to_mujoco_pos(\n",
    "                np.array(model.joint_positions()), mj_model, model\n",
    "            ),\n",
    "        )\n",
    "    )\n",
    "    model.set_joint_generalized_force_targets(\n",
    "        forces=pd_controller(\n",
    "            q=model.joint_positions(),\n",
    "            q_d=jnp.array([0.0, 0.0]),\n",
    "            q_dot=model.joint_velocities(),\n",
    "            q_dot_d=jnp.array([0.0, 0.0]),\n",
    "        )\n",
    "    )\n",
    "    model.integrate(\n",
    "        t0=0.0, tf=timestep, integrator_type=IntegratorType.EulerSemiImplicit\n",
    "    )\n",
    "\n",
    "media.show_video(sim_images, fps=1 / timestep)"
   ]
  }
 ],
 "metadata": {
  "accelerator": "GPU",
  "colab": {
   "gpuClass": "premium",
   "gpuType": "V100",
   "private_outputs": true,
   "provenance": [
    {
     "file_id": "1QsuS7EJhdPEHxxAu9XwozvA7eb4ZnlAb",
     "timestamp": 1701993737024
    }
   ],
   "toc_visible": true
  },
  "kernelspec": {
   "display_name": "Python 3 (ipykernel)",
   "language": "python",
   "name": "python3"
  },
  "language_info": {
   "codemirror_mode": {
    "name": "ipython",
    "version": 3
   },
   "file_extension": ".py",
   "mimetype": "text/x-python",
   "name": "python",
   "nbconvert_exporter": "python",
   "pygments_lexer": "ipython3",
   "version": "3.11.6"
  }
 },
 "nbformat": 4,
 "nbformat_minor": 4
}
